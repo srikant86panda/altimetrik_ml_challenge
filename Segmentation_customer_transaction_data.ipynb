{
 "cells": [
  {
   "cell_type": "markdown",
   "metadata": {},
   "source": [
    "## Pre Processing;\n",
    "1. Pre process file to trim start and end '\"'\n",
    "2. Impute missing column Description and Customer_ID\n",
    "3. AmountSpent = Unit Price*Total Units\n",
    "\n",
    "## Segmentation modeling\n",
    "1. Customer segmentation with total units price and number of units purchased with K-means\n",
    "2. Using RMF Analysis\n",
    "3. doc2vec with product description & doc2vec with product description & country\n",
    "4. Use Fast text or Bert for embed product description"
   ]
  },
  {
   "cell_type": "code",
   "execution_count": 3,
   "metadata": {},
   "outputs": [],
   "source": [
    "import os\n",
    "import re\n",
    "import glob\n",
    "import pandas as pd\n",
    "import numpy as np\n",
    "import seaborn as sns\n",
    "import matplotlib.pyplot as plt\n",
    "\n",
    "from sklearn.preprocessing import StandardScaler\n",
    "from sklearn.cluster import KMeans\n",
    "\n",
    "import util.pre_process as prep\n",
    "import util.doc2vec_training as trn\n",
    "\n",
    "import tensorflow as tf\n",
    "from tensorflow.contrib.tensorboard.plugins import projector\n",
    "tf.logging.set_verbosity(tf.logging.ERROR)\n",
    "\n",
    "%matplotlib inline"
   ]
  },
  {
   "cell_type": "code",
   "execution_count": 4,
   "metadata": {},
   "outputs": [
    {
     "data": {
      "text/plain": [
       "['data\\\\ML Data.txt', 'data\\\\ML Data_new.txt']"
      ]
     },
     "execution_count": 4,
     "metadata": {},
     "output_type": "execute_result"
    }
   ],
   "source": [
    "glob.glob('data/ML*.txt')"
   ]
  },
  {
   "cell_type": "code",
   "execution_count": 5,
   "metadata": {},
   "outputs": [],
   "source": [
    "source_file = 'data\\\\ML Data.txt'\n",
    "dest_file =  'data\\\\ML Data_new.txt'\n",
    "with open (source_file, \"r\") as infile:\n",
    "    all_lines = infile.readlines()\n",
    "with open (dest_file, \"w+\") as outfile:\n",
    "    _RE_COMBINE_ = re.compile(r'\"+')\n",
    "    lines = [_RE_COMBINE_.sub('\"', line.strip()[1:-1]) for line in all_lines]\n",
    "    outfile.writelines(\"%s\\n\" % l for l in lines)"
   ]
  },
  {
   "cell_type": "code",
   "execution_count": 6,
   "metadata": {},
   "outputs": [
    {
     "name": "stdout",
     "output_type": "stream",
     "text": [
      "(541909, 8)\n",
      "Index(['Invoice_Number', 'Product_Code', 'Description', 'Quantity',\n",
      "       'Invoice_Date', 'Unit_Price', 'Customer_ID', 'Country'],\n",
      "      dtype='object')\n"
     ]
    },
    {
     "data": {
      "text/html": [
       "<div>\n",
       "<style scoped>\n",
       "    .dataframe tbody tr th:only-of-type {\n",
       "        vertical-align: middle;\n",
       "    }\n",
       "\n",
       "    .dataframe tbody tr th {\n",
       "        vertical-align: top;\n",
       "    }\n",
       "\n",
       "    .dataframe thead th {\n",
       "        text-align: right;\n",
       "    }\n",
       "</style>\n",
       "<table border=\"1\" class=\"dataframe\">\n",
       "  <thead>\n",
       "    <tr style=\"text-align: right;\">\n",
       "      <th></th>\n",
       "      <th>Invoice_Number</th>\n",
       "      <th>Product_Code</th>\n",
       "      <th>Description</th>\n",
       "      <th>Quantity</th>\n",
       "      <th>Invoice_Date</th>\n",
       "      <th>Unit_Price</th>\n",
       "      <th>Customer_ID</th>\n",
       "      <th>Country</th>\n",
       "    </tr>\n",
       "  </thead>\n",
       "  <tbody>\n",
       "    <tr>\n",
       "      <th>0</th>\n",
       "      <td>536365</td>\n",
       "      <td>85123A</td>\n",
       "      <td>WHITE HANGING HEART T-LIGHT HOLDER</td>\n",
       "      <td>6</td>\n",
       "      <td>2010-12-01 08:26:00</td>\n",
       "      <td>2.55</td>\n",
       "      <td>17850</td>\n",
       "      <td>United Kingdom</td>\n",
       "    </tr>\n",
       "    <tr>\n",
       "      <th>1</th>\n",
       "      <td>536365</td>\n",
       "      <td>71053</td>\n",
       "      <td>WHITE METAL LANTERN</td>\n",
       "      <td>6</td>\n",
       "      <td>2010-12-01 08:26:00</td>\n",
       "      <td>3.39</td>\n",
       "      <td>17850</td>\n",
       "      <td>United Kingdom</td>\n",
       "    </tr>\n",
       "    <tr>\n",
       "      <th>2</th>\n",
       "      <td>536365</td>\n",
       "      <td>84406B</td>\n",
       "      <td>CREAM CUPID HEARTS COAT HANGER</td>\n",
       "      <td>8</td>\n",
       "      <td>2010-12-01 08:26:00</td>\n",
       "      <td>2.75</td>\n",
       "      <td>17850</td>\n",
       "      <td>United Kingdom</td>\n",
       "    </tr>\n",
       "    <tr>\n",
       "      <th>3</th>\n",
       "      <td>536365</td>\n",
       "      <td>84029G</td>\n",
       "      <td>KNITTED UNION FLAG HOT WATER BOTTLE</td>\n",
       "      <td>6</td>\n",
       "      <td>2010-12-01 08:26:00</td>\n",
       "      <td>3.39</td>\n",
       "      <td>17850</td>\n",
       "      <td>United Kingdom</td>\n",
       "    </tr>\n",
       "    <tr>\n",
       "      <th>4</th>\n",
       "      <td>536365</td>\n",
       "      <td>84029E</td>\n",
       "      <td>RED WOOLLY HOTTIE WHITE HEART.</td>\n",
       "      <td>6</td>\n",
       "      <td>2010-12-01 08:26:00</td>\n",
       "      <td>3.39</td>\n",
       "      <td>17850</td>\n",
       "      <td>United Kingdom</td>\n",
       "    </tr>\n",
       "  </tbody>\n",
       "</table>\n",
       "</div>"
      ],
      "text/plain": [
       "  Invoice_Number Product_Code                          Description  Quantity  \\\n",
       "0         536365       85123A   WHITE HANGING HEART T-LIGHT HOLDER         6   \n",
       "1         536365        71053                  WHITE METAL LANTERN         6   \n",
       "2         536365       84406B       CREAM CUPID HEARTS COAT HANGER         8   \n",
       "3         536365       84029G  KNITTED UNION FLAG HOT WATER BOTTLE         6   \n",
       "4         536365       84029E       RED WOOLLY HOTTIE WHITE HEART.         6   \n",
       "\n",
       "         Invoice_Date  Unit_Price Customer_ID         Country  \n",
       "0 2010-12-01 08:26:00        2.55       17850  United Kingdom  \n",
       "1 2010-12-01 08:26:00        3.39       17850  United Kingdom  \n",
       "2 2010-12-01 08:26:00        2.75       17850  United Kingdom  \n",
       "3 2010-12-01 08:26:00        3.39       17850  United Kingdom  \n",
       "4 2010-12-01 08:26:00        3.39       17850  United Kingdom  "
      ]
     },
     "metadata": {},
     "output_type": "display_data"
    }
   ],
   "source": [
    "df = pd.read_csv(dest_file, encoding='latin1', dtype = {'Invoice_Number':'string', 'Product_Code': 'string', 'Description': 'string', 'Quantity': 'int',\n",
    "       'Invoice_Date':'string', 'Unit_Price':'float', 'Customer_ID':'string', 'Country':'string'})\n",
    "df.Invoice_Date = pd.to_datetime(df.Invoice_Date)\n",
    "print(df.shape)\n",
    "print(df.columns)\n",
    "display(df.head())"
   ]
  },
  {
   "cell_type": "code",
   "execution_count": 7,
   "metadata": {},
   "outputs": [
    {
     "data": {
      "text/plain": [
       "Invoice_Number            string\n",
       "Product_Code              string\n",
       "Description               string\n",
       "Quantity                   int32\n",
       "Invoice_Date      datetime64[ns]\n",
       "Unit_Price               float64\n",
       "Customer_ID               string\n",
       "Country                   string\n",
       "dtype: object"
      ]
     },
     "execution_count": 7,
     "metadata": {},
     "output_type": "execute_result"
    }
   ],
   "source": [
    "df.dtypes"
   ]
  },
  {
   "cell_type": "code",
   "execution_count": 8,
   "metadata": {},
   "outputs": [
    {
     "data": {
      "text/html": [
       "<div>\n",
       "<style scoped>\n",
       "    .dataframe tbody tr th:only-of-type {\n",
       "        vertical-align: middle;\n",
       "    }\n",
       "\n",
       "    .dataframe tbody tr th {\n",
       "        vertical-align: top;\n",
       "    }\n",
       "\n",
       "    .dataframe thead th {\n",
       "        text-align: right;\n",
       "    }\n",
       "</style>\n",
       "<table border=\"1\" class=\"dataframe\">\n",
       "  <thead>\n",
       "    <tr style=\"text-align: right;\">\n",
       "      <th></th>\n",
       "      <th>Invoice_Number</th>\n",
       "      <th>Product_Code</th>\n",
       "      <th>Description</th>\n",
       "      <th>Invoice_Date</th>\n",
       "      <th>Customer_ID</th>\n",
       "      <th>Country</th>\n",
       "    </tr>\n",
       "  </thead>\n",
       "  <tbody>\n",
       "    <tr>\n",
       "      <th>count</th>\n",
       "      <td>541909</td>\n",
       "      <td>541909</td>\n",
       "      <td>540455</td>\n",
       "      <td>541909</td>\n",
       "      <td>406829</td>\n",
       "      <td>541909</td>\n",
       "    </tr>\n",
       "    <tr>\n",
       "      <th>unique</th>\n",
       "      <td>25900</td>\n",
       "      <td>4070</td>\n",
       "      <td>4223</td>\n",
       "      <td>23260</td>\n",
       "      <td>4372</td>\n",
       "      <td>38</td>\n",
       "    </tr>\n",
       "    <tr>\n",
       "      <th>top</th>\n",
       "      <td>573585</td>\n",
       "      <td>85123A</td>\n",
       "      <td>WHITE HANGING HEART T-LIGHT HOLDER</td>\n",
       "      <td>2011-10-31 14:41:00</td>\n",
       "      <td>17841</td>\n",
       "      <td>United Kingdom</td>\n",
       "    </tr>\n",
       "    <tr>\n",
       "      <th>freq</th>\n",
       "      <td>1114</td>\n",
       "      <td>2313</td>\n",
       "      <td>2369</td>\n",
       "      <td>1114</td>\n",
       "      <td>7983</td>\n",
       "      <td>495478</td>\n",
       "    </tr>\n",
       "    <tr>\n",
       "      <th>first</th>\n",
       "      <td>NaN</td>\n",
       "      <td>NaN</td>\n",
       "      <td>NaN</td>\n",
       "      <td>2010-12-01 08:26:00</td>\n",
       "      <td>NaN</td>\n",
       "      <td>NaN</td>\n",
       "    </tr>\n",
       "    <tr>\n",
       "      <th>last</th>\n",
       "      <td>NaN</td>\n",
       "      <td>NaN</td>\n",
       "      <td>NaN</td>\n",
       "      <td>2011-12-09 12:50:00</td>\n",
       "      <td>NaN</td>\n",
       "      <td>NaN</td>\n",
       "    </tr>\n",
       "  </tbody>\n",
       "</table>\n",
       "</div>"
      ],
      "text/plain": [
       "       Invoice_Number Product_Code                         Description  \\\n",
       "count          541909       541909                              540455   \n",
       "unique          25900         4070                                4223   \n",
       "top            573585       85123A  WHITE HANGING HEART T-LIGHT HOLDER   \n",
       "freq             1114         2313                                2369   \n",
       "first             NaN          NaN                                 NaN   \n",
       "last              NaN          NaN                                 NaN   \n",
       "\n",
       "               Invoice_Date Customer_ID         Country  \n",
       "count                541909      406829          541909  \n",
       "unique                23260        4372              38  \n",
       "top     2011-10-31 14:41:00       17841  United Kingdom  \n",
       "freq                   1114        7983          495478  \n",
       "first   2010-12-01 08:26:00         NaN             NaN  \n",
       "last    2011-12-09 12:50:00         NaN             NaN  "
      ]
     },
     "execution_count": 8,
     "metadata": {},
     "output_type": "execute_result"
    }
   ],
   "source": [
    "df.describe(exclude=[np.number])"
   ]
  },
  {
   "cell_type": "markdown",
   "metadata": {},
   "source": [
    "### Check for duplicate & remove"
   ]
  },
  {
   "cell_type": "code",
   "execution_count": 9,
   "metadata": {},
   "outputs": [
    {
     "name": "stdout",
     "output_type": "stream",
     "text": [
      "(536641, 8)\n"
     ]
    }
   ],
   "source": [
    "df.drop_duplicates(inplace=True)\n",
    "print(df.shape)"
   ]
  },
  {
   "cell_type": "markdown",
   "metadata": {},
   "source": [
    "### Check for occurance of None"
   ]
  },
  {
   "cell_type": "code",
   "execution_count": 10,
   "metadata": {},
   "outputs": [
    {
     "data": {
      "text/plain": [
       "Invoice_Number         0\n",
       "Product_Code           0\n",
       "Description         1454\n",
       "Quantity               0\n",
       "Invoice_Date           0\n",
       "Unit_Price             0\n",
       "Customer_ID       135037\n",
       "Country                0\n",
       "dtype: int64"
      ]
     },
     "execution_count": 10,
     "metadata": {},
     "output_type": "execute_result"
    }
   ],
   "source": [
    "df.isna().sum()"
   ]
  },
  {
   "cell_type": "markdown",
   "metadata": {},
   "source": [
    "### Univariate analysis of product quantity\n",
    "1. Number of transaction vs cancellation\n",
    "2. Number of transaction vs cancellation per country\n",
    "3. Remove cancellation transaction"
   ]
  },
  {
   "cell_type": "code",
   "execution_count": 11,
   "metadata": {},
   "outputs": [
    {
     "data": {
      "image/png": "[encoded data removed]",
      "text/plain": [
       "<Figure size 432x288 with 1 Axes>"
      ]
     },
     "metadata": {
      "needs_background": "light"
     },
     "output_type": "display_data"
    }
   ],
   "source": [
    "sns.distplot(df.Quantity)\n",
    "plt.xlim(-500, 1000)\n",
    "plt.show()"
   ]
  },
  {
   "cell_type": "code",
   "execution_count": 12,
   "metadata": {},
   "outputs": [
    {
     "data": {
      "text/html": [
       "<div>\n",
       "<style scoped>\n",
       "    .dataframe tbody tr th:only-of-type {\n",
       "        vertical-align: middle;\n",
       "    }\n",
       "\n",
       "    .dataframe tbody tr th {\n",
       "        vertical-align: top;\n",
       "    }\n",
       "\n",
       "    .dataframe thead th {\n",
       "        text-align: right;\n",
       "    }\n",
       "</style>\n",
       "<table border=\"1\" class=\"dataframe\">\n",
       "  <thead>\n",
       "    <tr style=\"text-align: right;\">\n",
       "      <th></th>\n",
       "      <th>Invoice_Number</th>\n",
       "      <th>Product_Code</th>\n",
       "      <th>Description</th>\n",
       "      <th>Quantity</th>\n",
       "      <th>Invoice_Date</th>\n",
       "      <th>Unit_Price</th>\n",
       "      <th>Customer_ID</th>\n",
       "      <th>Country</th>\n",
       "      <th>Cancellation</th>\n",
       "    </tr>\n",
       "  </thead>\n",
       "  <tbody>\n",
       "    <tr>\n",
       "      <th>141</th>\n",
       "      <td>C536379</td>\n",
       "      <td>D</td>\n",
       "      <td>Discount</td>\n",
       "      <td>-1</td>\n",
       "      <td>2010-12-01 09:41:00</td>\n",
       "      <td>27.50</td>\n",
       "      <td>14527</td>\n",
       "      <td>United Kingdom</td>\n",
       "      <td>True</td>\n",
       "    </tr>\n",
       "    <tr>\n",
       "      <th>154</th>\n",
       "      <td>C536383</td>\n",
       "      <td>35004C</td>\n",
       "      <td>SET OF 3 COLOURED  FLYING DUCKS</td>\n",
       "      <td>-1</td>\n",
       "      <td>2010-12-01 09:49:00</td>\n",
       "      <td>4.65</td>\n",
       "      <td>15311</td>\n",
       "      <td>United Kingdom</td>\n",
       "      <td>True</td>\n",
       "    </tr>\n",
       "    <tr>\n",
       "      <th>235</th>\n",
       "      <td>C536391</td>\n",
       "      <td>22556</td>\n",
       "      <td>PLASTERS IN TIN CIRCUS PARADE</td>\n",
       "      <td>-12</td>\n",
       "      <td>2010-12-01 10:24:00</td>\n",
       "      <td>1.65</td>\n",
       "      <td>17548</td>\n",
       "      <td>United Kingdom</td>\n",
       "      <td>True</td>\n",
       "    </tr>\n",
       "    <tr>\n",
       "      <th>236</th>\n",
       "      <td>C536391</td>\n",
       "      <td>21984</td>\n",
       "      <td>PACK OF 12 PINK PAISLEY TISSUES</td>\n",
       "      <td>-24</td>\n",
       "      <td>2010-12-01 10:24:00</td>\n",
       "      <td>0.29</td>\n",
       "      <td>17548</td>\n",
       "      <td>United Kingdom</td>\n",
       "      <td>True</td>\n",
       "    </tr>\n",
       "    <tr>\n",
       "      <th>237</th>\n",
       "      <td>C536391</td>\n",
       "      <td>21983</td>\n",
       "      <td>PACK OF 12 BLUE PAISLEY TISSUES</td>\n",
       "      <td>-24</td>\n",
       "      <td>2010-12-01 10:24:00</td>\n",
       "      <td>0.29</td>\n",
       "      <td>17548</td>\n",
       "      <td>United Kingdom</td>\n",
       "      <td>True</td>\n",
       "    </tr>\n",
       "  </tbody>\n",
       "</table>\n",
       "</div>"
      ],
      "text/plain": [
       "    Invoice_Number Product_Code                       Description  Quantity  \\\n",
       "141        C536379            D                          Discount        -1   \n",
       "154        C536383       35004C   SET OF 3 COLOURED  FLYING DUCKS        -1   \n",
       "235        C536391        22556    PLASTERS IN TIN CIRCUS PARADE        -12   \n",
       "236        C536391        21984  PACK OF 12 PINK PAISLEY TISSUES        -24   \n",
       "237        C536391        21983  PACK OF 12 BLUE PAISLEY TISSUES        -24   \n",
       "\n",
       "           Invoice_Date  Unit_Price Customer_ID         Country  Cancellation  \n",
       "141 2010-12-01 09:41:00       27.50       14527  United Kingdom          True  \n",
       "154 2010-12-01 09:49:00        4.65       15311  United Kingdom          True  \n",
       "235 2010-12-01 10:24:00        1.65       17548  United Kingdom          True  \n",
       "236 2010-12-01 10:24:00        0.29       17548  United Kingdom          True  \n",
       "237 2010-12-01 10:24:00        0.29       17548  United Kingdom          True  "
      ]
     },
     "execution_count": 12,
     "metadata": {},
     "output_type": "execute_result"
    }
   ],
   "source": [
    "df['Cancellation'] = df.Quantity<0\n",
    "df.loc[df.Cancellation==True].head()"
   ]
  },
  {
   "cell_type": "code",
   "execution_count": 13,
   "metadata": {},
   "outputs": [
    {
     "data": {
      "text/plain": [
       "<matplotlib.axes._subplots.AxesSubplot at 0x1c9f6f01488>"
      ]
     },
     "execution_count": 13,
     "metadata": {},
     "output_type": "execute_result"
    },
    {
     "data": {
      "image/png": "[encoded data removed]",
      "text/plain": [
       "<Figure size 432x288 with 1 Axes>"
      ]
     },
     "metadata": {
      "needs_background": "light"
     },
     "output_type": "display_data"
    }
   ],
   "source": [
    "temp_df = df.groupby([df.Cancellation])['Invoice_Number'].nunique().reset_index()\n",
    "sns.barplot(x='Cancellation',y='Invoice_Number', data=temp_df)"
   ]
  },
  {
   "cell_type": "code",
   "execution_count": 14,
   "metadata": {},
   "outputs": [
    {
     "data": {
      "image/png": "[encoded data removed]",
      "text/plain": [
       "<Figure size 1152x576 with 1 Axes>"
      ]
     },
     "metadata": {
      "needs_background": "light"
     },
     "output_type": "display_data"
    }
   ],
   "source": [
    "temp_df = df.groupby([df.Cancellation, df.Country])['Invoice_Number'].nunique().reset_index()\n",
    "\n",
    "temp_df = temp_df.pivot(index='Country', columns='Cancellation', values='Invoice_Number')\n",
    "temp_df.columns = temp_df.columns.map(lambda x: f'Cancellation_{x}')\n",
    "temp_df = temp_df.reset_index()\n",
    "temp_df = temp_df.fillna(0)\n",
    "temp_df['Success_Transac_Rate'] = ((temp_df.Cancellation_False-temp_df.Cancellation_True)/temp_df.Cancellation_False)*100\n",
    "plt.figure(figsize=(16, 8))\n",
    "sns.barplot(x='Country',y='Success_Transac_Rate', data=temp_df, order=temp_df.sort_values('Success_Transac_Rate', ascending=False).Country)\n",
    "locs, labels = plt.xticks()\n",
    "plt.setp(labels, rotation=90)\n",
    "plt.show()"
   ]
  },
  {
   "cell_type": "code",
   "execution_count": 15,
   "metadata": {},
   "outputs": [
    {
     "name": "stdout",
     "output_type": "stream",
     "text": [
      "(10587, 9)\n"
     ]
    },
    {
     "data": {
      "text/html": [
       "<div>\n",
       "<style scoped>\n",
       "    .dataframe tbody tr th:only-of-type {\n",
       "        vertical-align: middle;\n",
       "    }\n",
       "\n",
       "    .dataframe tbody tr th {\n",
       "        vertical-align: top;\n",
       "    }\n",
       "\n",
       "    .dataframe thead th {\n",
       "        text-align: right;\n",
       "    }\n",
       "</style>\n",
       "<table border=\"1\" class=\"dataframe\">\n",
       "  <thead>\n",
       "    <tr style=\"text-align: right;\">\n",
       "      <th></th>\n",
       "      <th>Invoice_Number</th>\n",
       "      <th>Product_Code</th>\n",
       "      <th>Description</th>\n",
       "      <th>Quantity</th>\n",
       "      <th>Invoice_Date</th>\n",
       "      <th>Unit_Price</th>\n",
       "      <th>Customer_ID</th>\n",
       "      <th>Country</th>\n",
       "      <th>Cancellation</th>\n",
       "    </tr>\n",
       "  </thead>\n",
       "  <tbody>\n",
       "    <tr>\n",
       "      <th>141</th>\n",
       "      <td>C536379</td>\n",
       "      <td>D</td>\n",
       "      <td>Discount</td>\n",
       "      <td>-1</td>\n",
       "      <td>2010-12-01 09:41:00</td>\n",
       "      <td>27.50</td>\n",
       "      <td>14527</td>\n",
       "      <td>United Kingdom</td>\n",
       "      <td>True</td>\n",
       "    </tr>\n",
       "    <tr>\n",
       "      <th>154</th>\n",
       "      <td>C536383</td>\n",
       "      <td>35004C</td>\n",
       "      <td>SET OF 3 COLOURED  FLYING DUCKS</td>\n",
       "      <td>-1</td>\n",
       "      <td>2010-12-01 09:49:00</td>\n",
       "      <td>4.65</td>\n",
       "      <td>15311</td>\n",
       "      <td>United Kingdom</td>\n",
       "      <td>True</td>\n",
       "    </tr>\n",
       "    <tr>\n",
       "      <th>235</th>\n",
       "      <td>C536391</td>\n",
       "      <td>22556</td>\n",
       "      <td>PLASTERS IN TIN CIRCUS PARADE</td>\n",
       "      <td>-12</td>\n",
       "      <td>2010-12-01 10:24:00</td>\n",
       "      <td>1.65</td>\n",
       "      <td>17548</td>\n",
       "      <td>United Kingdom</td>\n",
       "      <td>True</td>\n",
       "    </tr>\n",
       "    <tr>\n",
       "      <th>236</th>\n",
       "      <td>C536391</td>\n",
       "      <td>21984</td>\n",
       "      <td>PACK OF 12 PINK PAISLEY TISSUES</td>\n",
       "      <td>-24</td>\n",
       "      <td>2010-12-01 10:24:00</td>\n",
       "      <td>0.29</td>\n",
       "      <td>17548</td>\n",
       "      <td>United Kingdom</td>\n",
       "      <td>True</td>\n",
       "    </tr>\n",
       "    <tr>\n",
       "      <th>237</th>\n",
       "      <td>C536391</td>\n",
       "      <td>21983</td>\n",
       "      <td>PACK OF 12 BLUE PAISLEY TISSUES</td>\n",
       "      <td>-24</td>\n",
       "      <td>2010-12-01 10:24:00</td>\n",
       "      <td>0.29</td>\n",
       "      <td>17548</td>\n",
       "      <td>United Kingdom</td>\n",
       "      <td>True</td>\n",
       "    </tr>\n",
       "  </tbody>\n",
       "</table>\n",
       "</div>"
      ],
      "text/plain": [
       "    Invoice_Number Product_Code                       Description  Quantity  \\\n",
       "141        C536379            D                          Discount        -1   \n",
       "154        C536383       35004C   SET OF 3 COLOURED  FLYING DUCKS        -1   \n",
       "235        C536391        22556    PLASTERS IN TIN CIRCUS PARADE        -12   \n",
       "236        C536391        21984  PACK OF 12 PINK PAISLEY TISSUES        -24   \n",
       "237        C536391        21983  PACK OF 12 BLUE PAISLEY TISSUES        -24   \n",
       "\n",
       "           Invoice_Date  Unit_Price Customer_ID         Country  Cancellation  \n",
       "141 2010-12-01 09:41:00       27.50       14527  United Kingdom          True  \n",
       "154 2010-12-01 09:49:00        4.65       15311  United Kingdom          True  \n",
       "235 2010-12-01 10:24:00        1.65       17548  United Kingdom          True  \n",
       "236 2010-12-01 10:24:00        0.29       17548  United Kingdom          True  \n",
       "237 2010-12-01 10:24:00        0.29       17548  United Kingdom          True  "
      ]
     },
     "execution_count": 15,
     "metadata": {},
     "output_type": "execute_result"
    }
   ],
   "source": [
    "print(df.loc[df.Cancellation==True].shape)\n",
    "df.loc[df.Cancellation==True].head()"
   ]
  },
  {
   "cell_type": "code",
   "execution_count": 16,
   "metadata": {},
   "outputs": [
    {
     "name": "stdout",
     "output_type": "stream",
     "text": [
      "(526054, 9)\n"
     ]
    }
   ],
   "source": [
    "df = df.loc[df.Cancellation==False]\n",
    "print(df.shape)"
   ]
  },
  {
   "cell_type": "code",
   "execution_count": 17,
   "metadata": {},
   "outputs": [
    {
     "name": "stdout",
     "output_type": "stream",
     "text": [
      "(0, 9)\n"
     ]
    },
    {
     "data": {
      "text/html": [
       "<div>\n",
       "<style scoped>\n",
       "    .dataframe tbody tr th:only-of-type {\n",
       "        vertical-align: middle;\n",
       "    }\n",
       "\n",
       "    .dataframe tbody tr th {\n",
       "        vertical-align: top;\n",
       "    }\n",
       "\n",
       "    .dataframe thead th {\n",
       "        text-align: right;\n",
       "    }\n",
       "</style>\n",
       "<table border=\"1\" class=\"dataframe\">\n",
       "  <thead>\n",
       "    <tr style=\"text-align: right;\">\n",
       "      <th></th>\n",
       "      <th>Invoice_Number</th>\n",
       "      <th>Product_Code</th>\n",
       "      <th>Description</th>\n",
       "      <th>Quantity</th>\n",
       "      <th>Invoice_Date</th>\n",
       "      <th>Unit_Price</th>\n",
       "      <th>Customer_ID</th>\n",
       "      <th>Country</th>\n",
       "      <th>Cancellation</th>\n",
       "    </tr>\n",
       "  </thead>\n",
       "  <tbody>\n",
       "  </tbody>\n",
       "</table>\n",
       "</div>"
      ],
      "text/plain": [
       "Empty DataFrame\n",
       "Columns: [Invoice_Number, Product_Code, Description, Quantity, Invoice_Date, Unit_Price, Customer_ID, Country, Cancellation]\n",
       "Index: []"
      ]
     },
     "execution_count": 17,
     "metadata": {},
     "output_type": "execute_result"
    }
   ],
   "source": [
    "print(df.loc[df.Cancellation==True].shape)\n",
    "df.loc[df.Cancellation==True].head()"
   ]
  },
  {
   "cell_type": "markdown",
   "metadata": {},
   "source": [
    "### Univariate analysis Unit_Price\n",
    "1. Removing negative Unit_Price records"
   ]
  },
  {
   "cell_type": "code",
   "execution_count": 18,
   "metadata": {},
   "outputs": [
    {
     "name": "stdout",
     "output_type": "stream",
     "text": [
      "(524878, 9)\n"
     ]
    }
   ],
   "source": [
    "df = df.loc[df.Unit_Price>0]\n",
    "print(df.shape)"
   ]
  },
  {
   "cell_type": "markdown",
   "metadata": {},
   "source": [
    "### Imputing missing product description: \n",
    "1. With multi product description replace product description with the most the occurrence description\n",
    "2. Impute missing description for remaining blank product description"
   ]
  },
  {
   "cell_type": "code",
   "execution_count": 19,
   "metadata": {},
   "outputs": [
    {
     "data": {
      "text/plain": [
       "0"
      ]
     },
     "execution_count": 19,
     "metadata": {},
     "output_type": "execute_result"
    }
   ],
   "source": [
    "df.Description.isna().sum()"
   ]
  },
  {
   "cell_type": "code",
   "execution_count": 20,
   "metadata": {
    "scrolled": true
   },
   "outputs": [
    {
     "data": {
      "text/plain": [
       "Product_Code\n",
       "23236     4\n",
       "23196     4\n",
       "17107D    3\n",
       "22776     3\n",
       "23366     3\n",
       "         ..\n",
       "46776B    1\n",
       "46776A    1\n",
       "46775D    1\n",
       "46138B    1\n",
       "10002     1\n",
       "Name: Description, Length: 3922, dtype: int64"
      ]
     },
     "execution_count": 20,
     "metadata": {},
     "output_type": "execute_result"
    }
   ],
   "source": [
    "df.groupby(['Product_Code'])['Description'].nunique().sort_values(ascending=False)"
   ]
  },
  {
   "cell_type": "code",
   "execution_count": 21,
   "metadata": {},
   "outputs": [
    {
     "data": {
      "text/html": [
       "<div>\n",
       "<style scoped>\n",
       "    .dataframe tbody tr th:only-of-type {\n",
       "        vertical-align: middle;\n",
       "    }\n",
       "\n",
       "    .dataframe tbody tr th {\n",
       "        vertical-align: top;\n",
       "    }\n",
       "\n",
       "    .dataframe thead th {\n",
       "        text-align: right;\n",
       "    }\n",
       "</style>\n",
       "<table border=\"1\" class=\"dataframe\">\n",
       "  <thead>\n",
       "    <tr style=\"text-align: right;\">\n",
       "      <th></th>\n",
       "      <th>Product_Code</th>\n",
       "      <th>Description</th>\n",
       "    </tr>\n",
       "  </thead>\n",
       "  <tbody>\n",
       "    <tr>\n",
       "      <th>4160</th>\n",
       "      <td>m</td>\n",
       "      <td>Manual</td>\n",
       "    </tr>\n",
       "    <tr>\n",
       "      <th>4159</th>\n",
       "      <td>gift_0001_50</td>\n",
       "      <td>Dotcomgiftshop Gift Voucher £50.00</td>\n",
       "    </tr>\n",
       "    <tr>\n",
       "      <th>4158</th>\n",
       "      <td>gift_0001_40</td>\n",
       "      <td>Dotcomgiftshop Gift Voucher £40.00</td>\n",
       "    </tr>\n",
       "    <tr>\n",
       "      <th>4157</th>\n",
       "      <td>gift_0001_30</td>\n",
       "      <td>Dotcomgiftshop Gift Voucher £30.00</td>\n",
       "    </tr>\n",
       "    <tr>\n",
       "      <th>4156</th>\n",
       "      <td>gift_0001_20</td>\n",
       "      <td>Dotcomgiftshop Gift Voucher £20.00</td>\n",
       "    </tr>\n",
       "  </tbody>\n",
       "</table>\n",
       "</div>"
      ],
      "text/plain": [
       "      Product_Code                         Description\n",
       "4160             m                              Manual\n",
       "4159  gift_0001_50  Dotcomgiftshop Gift Voucher £50.00\n",
       "4158  gift_0001_40  Dotcomgiftshop Gift Voucher £40.00\n",
       "4157  gift_0001_30  Dotcomgiftshop Gift Voucher £30.00\n",
       "4156  gift_0001_20  Dotcomgiftshop Gift Voucher £20.00"
      ]
     },
     "execution_count": 21,
     "metadata": {},
     "output_type": "execute_result"
    }
   ],
   "source": [
    "product_desc_mapping_df = pd.DataFrame(df.groupby(['Product_Code', 'Description'])['Invoice_Number'].nunique().reset_index()).sort_values(['Product_Code', 'Invoice_Number'], ascending=False).groupby('Product_Code').head(1).drop('Invoice_Number', axis=1)\n",
    "product_desc_mapping_df.head()"
   ]
  },
  {
   "cell_type": "code",
   "execution_count": 22,
   "metadata": {},
   "outputs": [],
   "source": [
    "df = pd.merge(df.drop('Description', axis=1), product_desc_mapping_df, how='outer')\n",
    "df.loc[df.Description.isna(), 'Description'] = 'missing_description'"
   ]
  },
  {
   "cell_type": "code",
   "execution_count": 23,
   "metadata": {},
   "outputs": [
    {
     "data": {
      "text/plain": [
       "0"
      ]
     },
     "execution_count": 23,
     "metadata": {},
     "output_type": "execute_result"
    }
   ],
   "source": [
    "df.Description.isna().sum()"
   ]
  },
  {
   "cell_type": "code",
   "execution_count": 24,
   "metadata": {},
   "outputs": [
    {
     "data": {
      "text/plain": [
       "Product_Code\n",
       "m         1\n",
       "22429     1\n",
       "22427     1\n",
       "22426     1\n",
       "22425     1\n",
       "         ..\n",
       "44228     1\n",
       "44092C    1\n",
       "44092B    1\n",
       "44091A    1\n",
       "10002     1\n",
       "Name: Description, Length: 3922, dtype: int64"
      ]
     },
     "execution_count": 24,
     "metadata": {},
     "output_type": "execute_result"
    }
   ],
   "source": [
    "df.groupby(['Product_Code'])['Description'].nunique().sort_values(ascending=False)"
   ]
  },
  {
   "cell_type": "markdown",
   "metadata": {},
   "source": [
    "## Imputing missing Customer_ID:\n",
    "1. Checks to find if missing Customer_ID can be found with any matching invoice number.\n",
    "2. Check if any particular country exhibits missing Customer_ID.\n",
    "3. Impute missing customer id as unique customer as per their available transaction id"
   ]
  },
  {
   "cell_type": "code",
   "execution_count": 25,
   "metadata": {},
   "outputs": [
    {
     "data": {
      "text/plain": [
       "<StringArray>\n",
       "[<NA>]\n",
       "Length: 1, dtype: string"
      ]
     },
     "execution_count": 25,
     "metadata": {},
     "output_type": "execute_result"
    }
   ],
   "source": [
    "df.loc[df.Invoice_Number.isin(df.loc[df.Customer_ID.isna(), 'Invoice_Number'].unique())].Customer_ID.unique()"
   ]
  },
  {
   "cell_type": "code",
   "execution_count": 26,
   "metadata": {},
   "outputs": [
    {
     "data": {
      "text/plain": [
       "United Kingdom          0.914470\n",
       "Germany                 0.017194\n",
       "France                  0.015988\n",
       "EIRE                    0.015011\n",
       "Spain                   0.004723\n",
       "Netherlands             0.004494\n",
       "Belgium                 0.003869\n",
       "Switzerland             0.003730\n",
       "Portugal                0.002843\n",
       "Australia               0.002250\n",
       "Norway                  0.002040\n",
       "Italy                   0.001444\n",
       "Channel Islands         0.001423\n",
       "Finland                 0.001305\n",
       "Cyprus                  0.001149\n",
       "Sweden                  0.000857\n",
       "Unspecified             0.000842\n",
       "Austria                 0.000758\n",
       "Denmark                 0.000724\n",
       "Poland                  0.000629\n",
       "Japan                   0.000612\n",
       "Israel                  0.000556\n",
       "Hong Kong               0.000533\n",
       "Singapore               0.000423\n",
       "Iceland                 0.000347\n",
       "USA                     0.000341\n",
       "Canada                  0.000288\n",
       "Greece                  0.000276\n",
       "Malta                   0.000213\n",
       "United Arab Emirates    0.000130\n",
       "European Community      0.000114\n",
       "RSA                     0.000109\n",
       "Lebanon                 0.000086\n",
       "Lithuania               0.000067\n",
       "Brazil                  0.000061\n",
       "Czech Republic          0.000048\n",
       "Bahrain                 0.000034\n",
       "Saudi Arabia            0.000017\n",
       "Name: Country, dtype: float64"
      ]
     },
     "execution_count": 26,
     "metadata": {},
     "output_type": "execute_result"
    }
   ],
   "source": [
    "df.Country.value_counts()/len(df)"
   ]
  },
  {
   "cell_type": "code",
   "execution_count": 27,
   "metadata": {},
   "outputs": [
    {
     "data": {
      "text/plain": [
       "United Kingdom    0.249166\n",
       "EIRE              0.001244\n",
       "Hong Kong         0.000533\n",
       "Unspecified       0.000383\n",
       "Switzerland       0.000223\n",
       "France            0.000126\n",
       "Israel            0.000090\n",
       "Portugal          0.000074\n",
       "Bahrain           0.000002\n",
       "Name: Country, dtype: float64"
      ]
     },
     "execution_count": 27,
     "metadata": {},
     "output_type": "execute_result"
    }
   ],
   "source": [
    "df.loc[df.Customer_ID.isna(), 'Country'].value_counts()/len(df.Customer_ID.isna())"
   ]
  },
  {
   "cell_type": "code",
   "execution_count": 28,
   "metadata": {},
   "outputs": [
    {
     "data": {
      "text/html": [
       "<div>\n",
       "<style scoped>\n",
       "    .dataframe tbody tr th:only-of-type {\n",
       "        vertical-align: middle;\n",
       "    }\n",
       "\n",
       "    .dataframe tbody tr th {\n",
       "        vertical-align: top;\n",
       "    }\n",
       "\n",
       "    .dataframe thead th {\n",
       "        text-align: right;\n",
       "    }\n",
       "</style>\n",
       "<table border=\"1\" class=\"dataframe\">\n",
       "  <thead>\n",
       "    <tr style=\"text-align: right;\">\n",
       "      <th></th>\n",
       "      <th>Invoice_Number</th>\n",
       "      <th>Product_Code</th>\n",
       "      <th>Quantity</th>\n",
       "      <th>Invoice_Date</th>\n",
       "      <th>Unit_Price</th>\n",
       "      <th>Customer_ID</th>\n",
       "      <th>Country</th>\n",
       "      <th>Cancellation</th>\n",
       "      <th>Description</th>\n",
       "    </tr>\n",
       "  </thead>\n",
       "  <tbody>\n",
       "    <tr>\n",
       "      <th>142</th>\n",
       "      <td>538524</td>\n",
       "      <td>85123A</td>\n",
       "      <td>27</td>\n",
       "      <td>2010-12-13 09:35:00</td>\n",
       "      <td>5.91</td>\n",
       "      <td>&lt;NA&gt;</td>\n",
       "      <td>United Kingdom</td>\n",
       "      <td>False</td>\n",
       "      <td>WHITE HANGING HEART T-LIGHT HOLDER</td>\n",
       "    </tr>\n",
       "    <tr>\n",
       "      <th>146</th>\n",
       "      <td>538566</td>\n",
       "      <td>85123A</td>\n",
       "      <td>7</td>\n",
       "      <td>2010-12-13 11:21:00</td>\n",
       "      <td>5.91</td>\n",
       "      <td>&lt;NA&gt;</td>\n",
       "      <td>United Kingdom</td>\n",
       "      <td>False</td>\n",
       "      <td>WHITE HANGING HEART T-LIGHT HOLDER</td>\n",
       "    </tr>\n",
       "    <tr>\n",
       "      <th>199</th>\n",
       "      <td>539434</td>\n",
       "      <td>85123A</td>\n",
       "      <td>4</td>\n",
       "      <td>2010-12-17 14:41:00</td>\n",
       "      <td>5.91</td>\n",
       "      <td>&lt;NA&gt;</td>\n",
       "      <td>United Kingdom</td>\n",
       "      <td>False</td>\n",
       "      <td>WHITE HANGING HEART T-LIGHT HOLDER</td>\n",
       "    </tr>\n",
       "    <tr>\n",
       "      <th>200</th>\n",
       "      <td>539436</td>\n",
       "      <td>85123A</td>\n",
       "      <td>9</td>\n",
       "      <td>2010-12-17 14:49:00</td>\n",
       "      <td>5.91</td>\n",
       "      <td>&lt;NA&gt;</td>\n",
       "      <td>United Kingdom</td>\n",
       "      <td>False</td>\n",
       "      <td>WHITE HANGING HEART T-LIGHT HOLDER</td>\n",
       "    </tr>\n",
       "  </tbody>\n",
       "</table>\n",
       "</div>"
      ],
      "text/plain": [
       "    Invoice_Number Product_Code  Quantity        Invoice_Date  Unit_Price  \\\n",
       "142         538524       85123A        27 2010-12-13 09:35:00        5.91   \n",
       "146         538566       85123A         7 2010-12-13 11:21:00        5.91   \n",
       "199         539434       85123A         4 2010-12-17 14:41:00        5.91   \n",
       "200         539436       85123A         9 2010-12-17 14:49:00        5.91   \n",
       "\n",
       "    Customer_ID         Country  Cancellation  \\\n",
       "142        <NA>  United Kingdom         False   \n",
       "146        <NA>  United Kingdom         False   \n",
       "199        <NA>  United Kingdom         False   \n",
       "200        <NA>  United Kingdom         False   \n",
       "\n",
       "                            Description  \n",
       "142  WHITE HANGING HEART T-LIGHT HOLDER  \n",
       "146  WHITE HANGING HEART T-LIGHT HOLDER  \n",
       "199  WHITE HANGING HEART T-LIGHT HOLDER  \n",
       "200  WHITE HANGING HEART T-LIGHT HOLDER  "
      ]
     },
     "execution_count": 28,
     "metadata": {},
     "output_type": "execute_result"
    }
   ],
   "source": [
    "df.loc[df.Customer_ID.isna() & df.Country.isin(['United Kingdom']), :].iloc[12:16, :]"
   ]
  },
  {
   "cell_type": "code",
   "execution_count": 29,
   "metadata": {},
   "outputs": [
    {
     "data": {
      "text/html": [
       "<div>\n",
       "<style scoped>\n",
       "    .dataframe tbody tr th:only-of-type {\n",
       "        vertical-align: middle;\n",
       "    }\n",
       "\n",
       "    .dataframe tbody tr th {\n",
       "        vertical-align: top;\n",
       "    }\n",
       "\n",
       "    .dataframe thead th {\n",
       "        text-align: right;\n",
       "    }\n",
       "</style>\n",
       "<table border=\"1\" class=\"dataframe\">\n",
       "  <thead>\n",
       "    <tr style=\"text-align: right;\">\n",
       "      <th></th>\n",
       "      <th>Invoice_Number</th>\n",
       "      <th>Product_Code</th>\n",
       "      <th>Quantity</th>\n",
       "      <th>Invoice_Date</th>\n",
       "      <th>Unit_Price</th>\n",
       "      <th>Customer_ID</th>\n",
       "      <th>Country</th>\n",
       "      <th>Cancellation</th>\n",
       "      <th>Description</th>\n",
       "    </tr>\n",
       "  </thead>\n",
       "  <tbody>\n",
       "    <tr>\n",
       "      <th>12</th>\n",
       "      <td>536575</td>\n",
       "      <td>85123A</td>\n",
       "      <td>128</td>\n",
       "      <td>2010-12-01 16:01:00</td>\n",
       "      <td>2.55</td>\n",
       "      <td>13777</td>\n",
       "      <td>United Kingdom</td>\n",
       "      <td>False</td>\n",
       "      <td>WHITE HANGING HEART T-LIGHT HOLDER</td>\n",
       "    </tr>\n",
       "    <tr>\n",
       "      <th>13</th>\n",
       "      <td>536576</td>\n",
       "      <td>85123A</td>\n",
       "      <td>128</td>\n",
       "      <td>2010-12-01 16:11:00</td>\n",
       "      <td>2.55</td>\n",
       "      <td>13777</td>\n",
       "      <td>United Kingdom</td>\n",
       "      <td>False</td>\n",
       "      <td>WHITE HANGING HEART T-LIGHT HOLDER</td>\n",
       "    </tr>\n",
       "    <tr>\n",
       "      <th>14</th>\n",
       "      <td>536590</td>\n",
       "      <td>85123A</td>\n",
       "      <td>6</td>\n",
       "      <td>2010-12-01 16:52:00</td>\n",
       "      <td>2.95</td>\n",
       "      <td>13065</td>\n",
       "      <td>United Kingdom</td>\n",
       "      <td>False</td>\n",
       "      <td>WHITE HANGING HEART T-LIGHT HOLDER</td>\n",
       "    </tr>\n",
       "    <tr>\n",
       "      <th>15</th>\n",
       "      <td>536592</td>\n",
       "      <td>85123A</td>\n",
       "      <td>9</td>\n",
       "      <td>2010-12-01 17:06:00</td>\n",
       "      <td>5.91</td>\n",
       "      <td>missing_cust_id_536592</td>\n",
       "      <td>United Kingdom</td>\n",
       "      <td>False</td>\n",
       "      <td>WHITE HANGING HEART T-LIGHT HOLDER</td>\n",
       "    </tr>\n",
       "  </tbody>\n",
       "</table>\n",
       "</div>"
      ],
      "text/plain": [
       "   Invoice_Number Product_Code  Quantity        Invoice_Date  Unit_Price  \\\n",
       "12         536575       85123A       128 2010-12-01 16:01:00        2.55   \n",
       "13         536576       85123A       128 2010-12-01 16:11:00        2.55   \n",
       "14         536590       85123A         6 2010-12-01 16:52:00        2.95   \n",
       "15         536592       85123A         9 2010-12-01 17:06:00        5.91   \n",
       "\n",
       "               Customer_ID         Country  Cancellation  \\\n",
       "12                   13777  United Kingdom         False   \n",
       "13                   13777  United Kingdom         False   \n",
       "14                   13065  United Kingdom         False   \n",
       "15  missing_cust_id_536592  United Kingdom         False   \n",
       "\n",
       "                           Description  \n",
       "12  WHITE HANGING HEART T-LIGHT HOLDER  \n",
       "13  WHITE HANGING HEART T-LIGHT HOLDER  \n",
       "14  WHITE HANGING HEART T-LIGHT HOLDER  \n",
       "15  WHITE HANGING HEART T-LIGHT HOLDER  "
      ]
     },
     "execution_count": 29,
     "metadata": {},
     "output_type": "execute_result"
    }
   ],
   "source": [
    "df.loc[df.Customer_ID.isna(), 'Customer_ID'] = 'missing_cust_id_'+df.loc[df.Customer_ID.isna(), 'Invoice_Number']\n",
    "df.iloc[12:16, :]"
   ]
  },
  {
   "cell_type": "markdown",
   "metadata": {},
   "source": [
    "#### Doc2vec with product description"
   ]
  },
  {
   "cell_type": "code",
   "execution_count": 83,
   "metadata": {},
   "outputs": [
    {
     "data": {
      "text/html": [
       "<div>\n",
       "<style scoped>\n",
       "    .dataframe tbody tr th:only-of-type {\n",
       "        vertical-align: middle;\n",
       "    }\n",
       "\n",
       "    .dataframe tbody tr th {\n",
       "        vertical-align: top;\n",
       "    }\n",
       "\n",
       "    .dataframe thead th {\n",
       "        text-align: right;\n",
       "    }\n",
       "</style>\n",
       "<table border=\"1\" class=\"dataframe\">\n",
       "  <thead>\n",
       "    <tr style=\"text-align: right;\">\n",
       "      <th></th>\n",
       "      <th>Invoice_Number</th>\n",
       "      <th>Product_Code</th>\n",
       "      <th>Quantity</th>\n",
       "      <th>Invoice_Date</th>\n",
       "      <th>Unit_Price</th>\n",
       "      <th>Customer_ID</th>\n",
       "      <th>Country</th>\n",
       "      <th>Cancellation</th>\n",
       "      <th>Description</th>\n",
       "    </tr>\n",
       "  </thead>\n",
       "  <tbody>\n",
       "    <tr>\n",
       "      <th>0</th>\n",
       "      <td>536365</td>\n",
       "      <td>85123A</td>\n",
       "      <td>6</td>\n",
       "      <td>2010-12-01 08:26:00</td>\n",
       "      <td>2.55</td>\n",
       "      <td>17850</td>\n",
       "      <td>United Kingdom</td>\n",
       "      <td>False</td>\n",
       "      <td>WHITE HANGING HEART T-LIGHT HOLDER</td>\n",
       "    </tr>\n",
       "    <tr>\n",
       "      <th>1</th>\n",
       "      <td>536373</td>\n",
       "      <td>85123A</td>\n",
       "      <td>6</td>\n",
       "      <td>2010-12-01 09:02:00</td>\n",
       "      <td>2.55</td>\n",
       "      <td>17850</td>\n",
       "      <td>United Kingdom</td>\n",
       "      <td>False</td>\n",
       "      <td>WHITE HANGING HEART T-LIGHT HOLDER</td>\n",
       "    </tr>\n",
       "    <tr>\n",
       "      <th>2</th>\n",
       "      <td>536375</td>\n",
       "      <td>85123A</td>\n",
       "      <td>6</td>\n",
       "      <td>2010-12-01 09:32:00</td>\n",
       "      <td>2.55</td>\n",
       "      <td>17850</td>\n",
       "      <td>United Kingdom</td>\n",
       "      <td>False</td>\n",
       "      <td>WHITE HANGING HEART T-LIGHT HOLDER</td>\n",
       "    </tr>\n",
       "    <tr>\n",
       "      <th>3</th>\n",
       "      <td>536390</td>\n",
       "      <td>85123A</td>\n",
       "      <td>64</td>\n",
       "      <td>2010-12-01 10:19:00</td>\n",
       "      <td>2.55</td>\n",
       "      <td>17511</td>\n",
       "      <td>United Kingdom</td>\n",
       "      <td>False</td>\n",
       "      <td>WHITE HANGING HEART T-LIGHT HOLDER</td>\n",
       "    </tr>\n",
       "    <tr>\n",
       "      <th>4</th>\n",
       "      <td>536394</td>\n",
       "      <td>85123A</td>\n",
       "      <td>32</td>\n",
       "      <td>2010-12-01 10:39:00</td>\n",
       "      <td>2.55</td>\n",
       "      <td>13408</td>\n",
       "      <td>United Kingdom</td>\n",
       "      <td>False</td>\n",
       "      <td>WHITE HANGING HEART T-LIGHT HOLDER</td>\n",
       "    </tr>\n",
       "  </tbody>\n",
       "</table>\n",
       "</div>"
      ],
      "text/plain": [
       "  Invoice_Number Product_Code  Quantity        Invoice_Date  Unit_Price  \\\n",
       "0         536365       85123A         6 2010-12-01 08:26:00        2.55   \n",
       "1         536373       85123A         6 2010-12-01 09:02:00        2.55   \n",
       "2         536375       85123A         6 2010-12-01 09:32:00        2.55   \n",
       "3         536390       85123A        64 2010-12-01 10:19:00        2.55   \n",
       "4         536394       85123A        32 2010-12-01 10:39:00        2.55   \n",
       "\n",
       "  Customer_ID         Country  Cancellation  \\\n",
       "0       17850  United Kingdom         False   \n",
       "1       17850  United Kingdom         False   \n",
       "2       17850  United Kingdom         False   \n",
       "3       17511  United Kingdom         False   \n",
       "4       13408  United Kingdom         False   \n",
       "\n",
       "                          Description  \n",
       "0  WHITE HANGING HEART T-LIGHT HOLDER  \n",
       "1  WHITE HANGING HEART T-LIGHT HOLDER  \n",
       "2  WHITE HANGING HEART T-LIGHT HOLDER  \n",
       "3  WHITE HANGING HEART T-LIGHT HOLDER  \n",
       "4  WHITE HANGING HEART T-LIGHT HOLDER  "
      ]
     },
     "metadata": {},
     "output_type": "display_data"
    }
   ],
   "source": [
    "temp_df = df.copy()\n",
    "display(temp_df.head())"
   ]
  },
  {
   "cell_type": "code",
   "execution_count": 84,
   "metadata": {},
   "outputs": [
    {
     "name": "stdout",
     "output_type": "stream",
     "text": [
      "(3922, 2)\n"
     ]
    },
    {
     "data": {
      "text/html": [
       "<div>\n",
       "<style scoped>\n",
       "    .dataframe tbody tr th:only-of-type {\n",
       "        vertical-align: middle;\n",
       "    }\n",
       "\n",
       "    .dataframe tbody tr th {\n",
       "        vertical-align: top;\n",
       "    }\n",
       "\n",
       "    .dataframe thead th {\n",
       "        text-align: right;\n",
       "    }\n",
       "</style>\n",
       "<table border=\"1\" class=\"dataframe\">\n",
       "  <thead>\n",
       "    <tr style=\"text-align: right;\">\n",
       "      <th></th>\n",
       "      <th>Product_Code</th>\n",
       "      <th>Description</th>\n",
       "    </tr>\n",
       "  </thead>\n",
       "  <tbody>\n",
       "    <tr>\n",
       "      <th>0</th>\n",
       "      <td>10002</td>\n",
       "      <td>INFLATABLE POLITICAL GLOBE</td>\n",
       "    </tr>\n",
       "    <tr>\n",
       "      <th>1</th>\n",
       "      <td>10080</td>\n",
       "      <td>GROOVY CACTUS INFLATABLE</td>\n",
       "    </tr>\n",
       "    <tr>\n",
       "      <th>2</th>\n",
       "      <td>10120</td>\n",
       "      <td>DOGGY RUBBER</td>\n",
       "    </tr>\n",
       "    <tr>\n",
       "      <th>3</th>\n",
       "      <td>10123C</td>\n",
       "      <td>HEARTS WRAPPING TAPE</td>\n",
       "    </tr>\n",
       "    <tr>\n",
       "      <th>4</th>\n",
       "      <td>10124A</td>\n",
       "      <td>SPOTS ON RED BOOKCOVER TAPE</td>\n",
       "    </tr>\n",
       "  </tbody>\n",
       "</table>\n",
       "</div>"
      ],
      "text/plain": [
       "  Product_Code                  Description\n",
       "0        10002  INFLATABLE POLITICAL GLOBE \n",
       "1        10080     GROOVY CACTUS INFLATABLE\n",
       "2        10120                 DOGGY RUBBER\n",
       "3       10123C        HEARTS WRAPPING TAPE \n",
       "4       10124A  SPOTS ON RED BOOKCOVER TAPE"
      ]
     },
     "execution_count": 84,
     "metadata": {},
     "output_type": "execute_result"
    }
   ],
   "source": [
    "product_code_2_description_map = pd.DataFrame(temp_df.groupby(['Product_Code'])['Description'].unique()).reset_index()\n",
    "product_code_2_description_map['Description'] = product_code_2_description_map['Description'].apply(lambda x: x[0])\n",
    "print(product_code_2_description_map.shape)\n",
    "product_code_2_description_map.head()"
   ]
  },
  {
   "cell_type": "code",
   "execution_count": 85,
   "metadata": {},
   "outputs": [],
   "source": [
    "temp_df = pd.DataFrame(temp_df.groupby(['Customer_ID', 'Product_Code'])['Product_Code'].count()).rename({'Product_Code':'n_count'}, axis=1).reset_index().sort_values(['Customer_ID', 'n_count'], ascending=False).groupby(['Customer_ID']).head(5)\n",
    "temp_df = pd.merge(temp_df, product_code_2_description_map, on ='Product_Code')\n",
    "temp_df = pd.DataFrame(temp_df.groupby('Customer_ID')['Description'].unique()).reset_index()\n",
    "\n",
    "temp_df['static_user_profile'] = temp_df.Description.apply(lambda x: ' '.join(x))\n",
    "temp_df['static_user_profile'] = temp_df['static_user_profile'].str.replace(r\"[^A-Za-z0-9 ]+\", \" \")\n",
    "temp_df['static_user_profile'] = temp_df['static_user_profile'].str.replace(' +',' ',)\n",
    "\n",
    "temp_df['static_user_profile'] = prep.preprocess_text(temp_df.static_user_profile, lema_with_spacy=False, stop_word_removal=True)\n",
    "temp_df['static_user_profile'] = temp_df.static_user_profile.map(lambda x: ' '.join(x))\n",
    "temp_df['static_user_profile_len'] = temp_df['static_user_profile'].str.len()\n",
    "model_data = temp_df.copy()\n",
    "model_data.reset_index(drop=True, inplace=True)\n",
    "model_data.loc[:, 'static_user_profile_list'] = model_data.static_user_profile.map(lambda x: list(set(x.split(' '))))"
   ]
  },
  {
   "cell_type": "code",
   "execution_count": 86,
   "metadata": {},
   "outputs": [
    {
     "name": "stdout",
     "output_type": "stream",
     "text": [
      "train_corpus[0]:TaggedDocument(['jar', 'ceramic', 'medium', 'storage'], ['12346'])\n",
      "epochs:30, window:4, vector_size:128, ns_exponent:0.254610887, min_count:4\n",
      "model training\n",
      "Model Saved at: model/model_dm0_vector_size128_min_count4_epochs30_window4_ns_exponent0.254610887_alpha0.016691564_min_alpha0.000591644_hs1_seed1234.model\n",
      "n_correct_prediction: [0.     0.993  0.9975 1.     0.     1.     0.     0.     0.     0.\n",
      " 1.     0.     0.     0.     0.     0.     0.     0.     0.     0.\n",
      " 1.    ]\n"
     ]
    }
   ],
   "source": [
    "model_dir = 'model'\n",
    "model = trn.training(model_data, True, model_dir)    \n",
    "\n",
    "if model_data.shape[0] != len(model.docvecs.vectors_docs):\n",
    "    print('error')"
   ]
  },
  {
   "cell_type": "code",
   "execution_count": 93,
   "metadata": {},
   "outputs": [],
   "source": [
    "if not os.path.exists('projections'):\n",
    "    os.makedirs('projections')\n",
    "    \n",
    "with open(\"projections/metadata.tsv\", 'w+') as file_metadata:\n",
    "    for i in list(model.docvecs.doctags.keys()):\n",
    "        file_metadata.write(i + '\\n')"
   ]
  },
  {
   "cell_type": "code",
   "execution_count": 94,
   "metadata": {},
   "outputs": [
    {
     "name": "stderr",
     "output_type": "stream",
     "text": [
      "c:\\users\\srikant panda\\appdata\\local\\programs\\python\\python37\\lib\\site-packages\\tensorflow_core\\python\\client\\session.py:1750: UserWarning: An interactive session is already active. This can cause out-of-memory errors in some cases. You must explicitly call `InteractiveSession.close()` to release resources held by the other session(s).\n",
      "  warnings.warn('An interactive session is already active. This can '\n"
     ]
    },
    {
     "data": {
      "text/plain": [
       "'projections/model.ckpt-5766'"
      ]
     },
     "execution_count": 94,
     "metadata": {},
     "output_type": "execute_result"
    }
   ],
   "source": [
    "sess = tf.InteractiveSession()\n",
    "d2v = model.docvecs.vectors_docs\n",
    "with tf.device(\"/cpu:0\"):\n",
    "    embedding = tf.Variable(d2v, trainable=False, name='embedding')\n",
    "tf.global_variables_initializer().run()\n",
    "saver = tf.train.Saver()\n",
    "writer = tf.summary.FileWriter('projections', sess.graph)\n",
    "config = projector.ProjectorConfig()\n",
    "embed= config.embeddings.add()\n",
    "embed.tensor_name = 'embedding'\n",
    "embed.metadata_path = 'metadata.tsv'\n",
    "\n",
    "projector.visualize_embeddings(writer, config)\n",
    "\n",
    "saver.save(sess, 'projections/model.ckpt', global_step=len(d2v))"
   ]
  },
  {
   "cell_type": "code",
   "execution_count": 116,
   "metadata": {},
   "outputs": [
    {
     "name": "stdout",
     "output_type": "stream",
     "text": [
      "12438\n",
      "['FAWN BLUE HOT WATER BOTTLE' 'REGENCY CAKESTAND 3 TIER'\n",
      " 'BLUE HARMONICA IN BOX ' 'ROUND SNACK BOXES SET OF4 WOODLAND '\n",
      " 'STRAWBERRY CERAMIC TRINKET BOX']\n",
      "13663\n",
      "['RECYCLED ACAPULCO MAT GREEN' 'ASSORTED BOTTLE TOP  MAGNETS '\n",
      " 'FRIDGE MAGNETS US DINER ASSORTED' 'FRIDGE MAGNETS LA VIE EN ROSE'\n",
      " 'BAKING MOULD ROSE MILK CHOCOLATE']\n",
      "18037\n",
      "['36 PENCILS TUBE SKULLS' 'TOOL BOX SOFT TOY '\n",
      " 'BLUE POLKADOT GARDEN PARASOL' 'STRAWBERRY LUNCH BOX WITH CUTLERY'\n",
      " 'BOYS VINTAGE TIN SEASIDE BUCKET']\n"
     ]
    }
   ],
   "source": [
    "for i, v in model_data.loc[model_data.Customer_ID.isin(['18037', '13663', '12438'])].iterrows():\n",
    "    print(v['Customer_ID'])\n",
    "    print(v['Description'])"
   ]
  },
  {
   "cell_type": "code",
   "execution_count": 108,
   "metadata": {},
   "outputs": [
    {
     "name": "stdout",
     "output_type": "stream",
     "text": [
      "15660\n",
      "['DOORMAT RED RETROSPOT' 'LUNCH BAG CARS BLUE' 'LUNCH BAG SUKI DESIGN '\n",
      " 'ANTIQUE SILVER T-LIGHT GLASS' 'MULTI COLOUR SILVER T-LIGHT HOLDER']\n",
      "17613\n",
      "['RED HANGING HEART T-LIGHT HOLDER' 'WHITE HANGING HEART T-LIGHT HOLDER'\n",
      " 'ORGANISER WOOD ANTIQUE WHITE ' 'FLORAL FOLK STATIONERY SET'\n",
      " 'LARGE IVORY HEART WALL ORGANISER']\n",
      "17737\n",
      "['SET/5 RED RETROSPOT LID GLASS BOWLS' 'HEART OF WICKER LARGE'\n",
      " 'SPOTTY BUNTING' 'MULTI COLOUR SILVER T-LIGHT HOLDER'\n",
      " 'CARD HOLDER GINGHAM HEART']\n"
     ]
    }
   ],
   "source": [
    "for i, v in model_data.loc[model_data.Customer_ID.isin(['17613', '15660', '17737'])].iterrows():\n",
    "    print(v['Customer_ID'])\n",
    "    print(v['Description'])"
   ]
  },
  {
   "cell_type": "code",
   "execution_count": 89,
   "metadata": {},
   "outputs": [
    {
     "data": {
      "image/png": "[encoded data removed]",
      "text/plain": [
       "<Figure size 432x288 with 1 Axes>"
      ]
     },
     "metadata": {
      "needs_background": "light"
     },
     "output_type": "display_data"
    }
   ],
   "source": [
    "with_in_cluster_sum_squares_list = [] \n",
    "\n",
    "for i in range(1,11): #From 2-10 doing multiple random initializations can make a huge difference to find a better local optima\n",
    "    kmeans = KMeans(n_clusters = i, init ='k-means++',max_iter=300,n_init=10)\n",
    "    kmeans.fit(d2v)\n",
    "    with_in_cluster_sum_squares_list.append(kmeans.inertia_)\n",
    "\n",
    "sns.lineplot(x=range(1,11), y= with_in_cluster_sum_squares_list)\n",
    "plt.title('The Elbow Method')\n",
    "plt.xlabel('Revenue type customer clusters)')\n",
    "plt.ylabel('With in cluster sum of squers(WCSS)')\n",
    "plt.show()"
   ]
  },
  {
   "cell_type": "code",
   "execution_count": 90,
   "metadata": {},
   "outputs": [
    {
     "name": "stdout",
     "output_type": "stream",
     "text": [
      "6\n"
     ]
    },
    {
     "data": {
      "text/html": [
       "<div>\n",
       "<style scoped>\n",
       "    .dataframe tbody tr th:only-of-type {\n",
       "        vertical-align: middle;\n",
       "    }\n",
       "\n",
       "    .dataframe tbody tr th {\n",
       "        vertical-align: top;\n",
       "    }\n",
       "\n",
       "    .dataframe thead th {\n",
       "        text-align: right;\n",
       "    }\n",
       "</style>\n",
       "<table border=\"1\" class=\"dataframe\">\n",
       "  <thead>\n",
       "    <tr style=\"text-align: right;\">\n",
       "      <th></th>\n",
       "      <th>Customer_ID</th>\n",
       "      <th>Description</th>\n",
       "      <th>static_user_profile</th>\n",
       "      <th>static_user_profile_len</th>\n",
       "      <th>static_user_profile_list</th>\n",
       "      <th>Doc2vec_Cluster</th>\n",
       "    </tr>\n",
       "  </thead>\n",
       "  <tbody>\n",
       "    <tr>\n",
       "      <th>0</th>\n",
       "      <td>12346</td>\n",
       "      <td>[MEDIUM CERAMIC TOP STORAGE JAR]</td>\n",
       "      <td>medium ceramic storage jar</td>\n",
       "      <td>26</td>\n",
       "      <td>[jar, ceramic, medium, storage]</td>\n",
       "      <td>4</td>\n",
       "    </tr>\n",
       "    <tr>\n",
       "      <th>1</th>\n",
       "      <td>12347</td>\n",
       "      <td>[WOODLAND CHARLOTTE BAG, ALARM CLOCK BAKELIKE ...</td>\n",
       "      <td>woodland charlotte bag alarm clock bakelike re...</td>\n",
       "      <td>139</td>\n",
       "      <td>[light, playing, clock, charlotte, set, #d, al...</td>\n",
       "      <td>1</td>\n",
       "    </tr>\n",
       "    <tr>\n",
       "      <th>2</th>\n",
       "      <td>12348</td>\n",
       "      <td>[POSTAGE, PACK OF 60 PINK PAISLEY CAKE CASES, ...</td>\n",
       "      <td>postage pack ## pink paisley cake case pack ##...</td>\n",
       "      <td>112</td>\n",
       "      <td>[pink, pack, cake, paisley, skull, case, dough...</td>\n",
       "      <td>1</td>\n",
       "    </tr>\n",
       "    <tr>\n",
       "      <th>3</th>\n",
       "      <td>12349</td>\n",
       "      <td>[DOORMAT RED RETROSPOT, SET/5 RED RETROSPOT LI...</td>\n",
       "      <td>doormat red retrospot set # red retrospot lid ...</td>\n",
       "      <td>142</td>\n",
       "      <td>[lid, retrospot, metal, box, trinket, painted,...</td>\n",
       "      <td>5</td>\n",
       "    </tr>\n",
       "    <tr>\n",
       "      <th>4</th>\n",
       "      <td>12350</td>\n",
       "      <td>[BLUE POLKADOT PASSPORT COVER, BLUE POLKADOT L...</td>\n",
       "      <td>blue polkadot passport cover blue polkadot lug...</td>\n",
       "      <td>126</td>\n",
       "      <td>[passport, luggage, tag, polkadot, union, jack...</td>\n",
       "      <td>5</td>\n",
       "    </tr>\n",
       "  </tbody>\n",
       "</table>\n",
       "</div>"
      ],
      "text/plain": [
       "  Customer_ID                                        Description  \\\n",
       "0       12346                   [MEDIUM CERAMIC TOP STORAGE JAR]   \n",
       "1       12347  [WOODLAND CHARLOTTE BAG, ALARM CLOCK BAKELIKE ...   \n",
       "2       12348  [POSTAGE, PACK OF 60 PINK PAISLEY CAKE CASES, ...   \n",
       "3       12349  [DOORMAT RED RETROSPOT, SET/5 RED RETROSPOT LI...   \n",
       "4       12350  [BLUE POLKADOT PASSPORT COVER, BLUE POLKADOT L...   \n",
       "\n",
       "                                 static_user_profile  static_user_profile_len  \\\n",
       "0                         medium ceramic storage jar                       26   \n",
       "1  woodland charlotte bag alarm clock bakelike re...                      139   \n",
       "2  postage pack ## pink paisley cake case pack ##...                      112   \n",
       "3  doormat red retrospot set # red retrospot lid ...                      142   \n",
       "4  blue polkadot passport cover blue polkadot lug...                      126   \n",
       "\n",
       "                            static_user_profile_list  Doc2vec_Cluster  \n",
       "0                    [jar, ceramic, medium, storage]                4  \n",
       "1  [light, playing, clock, charlotte, set, #d, al...                1  \n",
       "2  [pink, pack, cake, paisley, skull, case, dough...                1  \n",
       "3  [lid, retrospot, metal, box, trinket, painted,...                5  \n",
       "4  [passport, luggage, tag, polkadot, union, jack...                5  "
      ]
     },
     "execution_count": 90,
     "metadata": {},
     "output_type": "execute_result"
    }
   ],
   "source": [
    "kmeans = KMeans(n_clusters = 6, init = 'k-means++')\n",
    "kmeans.fit(d2v)\n",
    "model_data['Doc2vec_Cluster'] = kmeans.predict(d2v)\n",
    "\n",
    "print(model_data.Doc2vec_Cluster.nunique())\n",
    "\n",
    "model_data.head()"
   ]
  },
  {
   "cell_type": "code",
   "execution_count": 92,
   "metadata": {},
   "outputs": [
    {
     "name": "stdout",
     "output_type": "stream",
     "text": [
      "**********\n",
      "0\n",
      "**********\n",
      "green polkadot bowl party time pencil eraser blue polkadot bowl heart calculator swirly circular rubber bag\n",
      "----------\n",
      "brocade ring purse postage ## pencil small tube red retrospot party metal sign ## pencil small tube skull\n",
      "----------\n",
      "**********\n",
      "1\n",
      "**********\n",
      "woodland charlotte bag alarm clock bakelike red red toadstool led night light airline bag vintage jet set brown #d dog picture playing card\n",
      "----------\n",
      "postage pack ## pink paisley cake case pack ## skull cake case ## cake case vintage christmas doughnut lip gloss\n",
      "----------\n",
      "**********\n",
      "2\n",
      "**********\n",
      "red floral feltcraft shoulder bag pink floral feltcraft shoulder bag feltcraft cushion owl white tall porcelain t light holder lantern cream gazebo\n",
      "----------\n",
      "red retrospot mini case assorted colour mini case large cake stand hanging strawbery mini cake stand hanging strawbery assorted tutti frutti small purse\n",
      "----------\n",
      "**********\n",
      "3\n",
      "**********\n",
      "red retrospot bowl pink polkadot bowl blue polkadot bowl assorted colour mini case lunch bag red retrospot\n",
      "----------\n",
      "edwardian parasol red red retrospot bowl pink polkadot bowl edwardian parasol black edwardian parasol pink\n",
      "----------\n",
      "**********\n",
      "4\n",
      "**********\n",
      "medium ceramic storage jar\n",
      "----------\n",
      "ceramic cake bowl hanging cake ceramic cake stand hanging cake novelty biscuit cake stand # tier mini cake stand hanging cake\n",
      "----------\n",
      "**********\n",
      "5\n",
      "**********\n",
      "doormat red retrospot set # red retrospot lid glass bowl painted metal pear assorted set # red spotty paper cup sweetheart ceramic trinket box\n",
      "----------\n",
      "blue polkadot passport cover blue polkadot luggage tag union jack flag passport cover chocolate calculator bathroom metal sign\n",
      "----------\n"
     ]
    }
   ],
   "source": [
    "for i in range(6):\n",
    "    print('*'*10)\n",
    "    print(i)\n",
    "    print('*'*10)\n",
    "    for i, v in model_data.loc[model_data.Doc2vec_Cluster==i, ['Description', 'static_user_profile']].head(2).iterrows():\n",
    "        print(v['static_user_profile'])\n",
    "        print('-'*10)"
   ]
  }
 ],
 "metadata": {
  "kernelspec": {
   "display_name": "Python 3",
   "language": "python",
   "name": "python3"
  },
  "language_info": {
   "codemirror_mode": {
    "name": "ipython",
    "version": 3
   },
   "file_extension": ".py",
   "mimetype": "text/x-python",
   "name": "python",
   "nbconvert_exporter": "python",
   "pygments_lexer": "ipython3",
   "version": "3.7.7"
  }
 },
 "nbformat": 4,
 "nbformat_minor": 4
}
