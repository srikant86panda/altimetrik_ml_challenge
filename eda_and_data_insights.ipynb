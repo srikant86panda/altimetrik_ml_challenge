{
 "cells": [
  {
   "cell_type": "markdown",
   "metadata": {},
   "source": [
    "## Data Preprocessing\n",
    "1. Pre-process file to trim start and end '\"', replace '\"\"' with '\"' making it ready to be read as pandas data frame.\n",
    "2. Checking and removing duplicate rows.\n",
    "3. Impute column 'Description': Modify product code with multiple descriptions with most occurrence product code description. Rest impute 'missing_description' for None description.\n",
    "4. Impute column 'Customer_ID': Imputing Customer_ID failed with no common transaction id with and without Customer_ID. impute 'missing_cust_id_{invoice number}' for None Customer_ID making all None transaction unique and individual transactions.\n",
    "5. Identify the cancellation transaction from order quantity with a negative value and remove then from customer segmentation.\n",
    "6. Calculate Amount_Spent as Quantity * Unit_Price.\n",
    "\n",
    "## EDA\n",
    "1. Top-n customer with the highest money spent\n",
    "2. Top-n customer with the highest number of order\n",
    "3. Top-n countries with most order\n",
    "4. Top-n countries with the most revenue\n",
    "5. Top-5 countries with top-3 customer id as per the total number of order\n",
    "6. Number of orders per year\n",
    "6. Number of orders per month\n",
    "7. Number of orders per date\n",
    "8. Number of orders per day\n",
    "8. Number of order per hour\n",
    "9. Top-n product code with most order\n",
    "10. Top-n product code with the most revenue\n",
    "11. Unit price univariate plot\n",
    "12. Product code analysis with different countries\n",
    "13. number of the unique customer with different countries\n",
    "14. number of unique product code with different countries\n",
    "15. Univariate analysis for number of transaction from individual customers\n",
    "\n",
    "## Data Insights\n",
    "1. Among all transactions around 20% of transactions are of cancellation.\n",
    "2. Most of the countries have a successful transaction rate in between 65% to 85%, Chec Republic has the worst successful transaction rate. Successful Transaction Rate is defined as below:\n",
    "Successful Transaction Rate = ([TotalCheckout-TotalCancellation]/[TotalCheckout]))*100\n",
    "3. Most numbers of transactions are from United Kingdom followed by Germany & France\n",
    "4. Most revenue is from United Kingdom followed by Netherland which has fewer unique transactions then Germany & France.\n",
    "5. Most of the transactions are from the year 2011 with few from 2010.\n",
    "6. A number of transactions are greater in second half of the year than the first half.\n",
    "7. A number of transactions are higher towards the beginning of the month them towards the end of the month.\n",
    "8. No transaction on Saturday could be weekly off on that day.\n",
    "9. 12 p.m. lunchtime seems to be attracting more unique transactions & majority of transactions on a given day are between 8 a.m. to 7 p.m.\n",
    "10. Number of Transaction for Products are not identical from the United Kingdom to other top 9 countries.\n",
    "11. United Kingdom has the most number of unique users.\n",
    "12. Number of unique products having transactions in the United Kingdom is higher than that of other countries.\n",
    "13. Lot of customers have transacted in between 50-200 times with the platform"
   ]
  },
  {
   "cell_type": "code",
   "execution_count": 2,
   "metadata": {},
   "outputs": [],
   "source": [
    "import re\n",
    "import glob\n",
    "import pandas as pd\n",
    "import numpy as np\n",
    "import seaborn as sns\n",
    "import matplotlib.pyplot as plt\n",
    "\n",
    "%matplotlib inline"
   ]
  },
  {
   "cell_type": "code",
   "execution_count": 3,
   "metadata": {},
   "outputs": [
    {
     "data": {
      "text/plain": [
       "['data\\\\ML Data.txt', 'data\\\\ML Data_new.txt']"
      ]
     },
     "execution_count": 3,
     "metadata": {},
     "output_type": "execute_result"
    }
   ],
   "source": [
    "glob.glob('data/ML*.txt')"
   ]
  },
  {
   "cell_type": "code",
   "execution_count": 4,
   "metadata": {},
   "outputs": [],
   "source": [
    "source_file = 'data\\\\ML Data.txt'\n",
    "dest_file =  'data\\\\ML Data_new.txt'\n",
    "with open (source_file, \"r\") as infile:\n",
    "    all_lines = infile.readlines()\n",
    "with open (dest_file, \"w+\") as outfile:\n",
    "    _RE_COMBINE_ = re.compile(r'\"+')\n",
    "    lines = [_RE_COMBINE_.sub('\"', line.strip()[1:-1]) for line in all_lines]\n",
    "    outfile.writelines(\"%s\\n\" % l for l in lines)"
   ]
  },
  {
   "cell_type": "code",
   "execution_count": 5,
   "metadata": {},
   "outputs": [
    {
     "name": "stdout",
     "output_type": "stream",
     "text": [
      "(541909, 8)\n",
      "Index(['Invoice_Number', 'Product_Code', 'Description', 'Quantity',\n",
      "       'Invoice_Date', 'Unit_Price', 'Customer_ID', 'Country'],\n",
      "      dtype='object')\n"
     ]
    },
    {
     "data": {
      "text/html": [
       "<div>\n",
       "<style scoped>\n",
       "    .dataframe tbody tr th:only-of-type {\n",
       "        vertical-align: middle;\n",
       "    }\n",
       "\n",
       "    .dataframe tbody tr th {\n",
       "        vertical-align: top;\n",
       "    }\n",
       "\n",
       "    .dataframe thead th {\n",
       "        text-align: right;\n",
       "    }\n",
       "</style>\n",
       "<table border=\"1\" class=\"dataframe\">\n",
       "  <thead>\n",
       "    <tr style=\"text-align: right;\">\n",
       "      <th></th>\n",
       "      <th>Invoice_Number</th>\n",
       "      <th>Product_Code</th>\n",
       "      <th>Description</th>\n",
       "      <th>Quantity</th>\n",
       "      <th>Invoice_Date</th>\n",
       "      <th>Unit_Price</th>\n",
       "      <th>Customer_ID</th>\n",
       "      <th>Country</th>\n",
       "    </tr>\n",
       "  </thead>\n",
       "  <tbody>\n",
       "    <tr>\n",
       "      <th>0</th>\n",
       "      <td>536365</td>\n",
       "      <td>85123A</td>\n",
       "      <td>WHITE HANGING HEART T-LIGHT HOLDER</td>\n",
       "      <td>6</td>\n",
       "      <td>2010-12-01 08:26:00</td>\n",
       "      <td>2.55</td>\n",
       "      <td>17850</td>\n",
       "      <td>United Kingdom</td>\n",
       "    </tr>\n",
       "    <tr>\n",
       "      <th>1</th>\n",
       "      <td>536365</td>\n",
       "      <td>71053</td>\n",
       "      <td>WHITE METAL LANTERN</td>\n",
       "      <td>6</td>\n",
       "      <td>2010-12-01 08:26:00</td>\n",
       "      <td>3.39</td>\n",
       "      <td>17850</td>\n",
       "      <td>United Kingdom</td>\n",
       "    </tr>\n",
       "    <tr>\n",
       "      <th>2</th>\n",
       "      <td>536365</td>\n",
       "      <td>84406B</td>\n",
       "      <td>CREAM CUPID HEARTS COAT HANGER</td>\n",
       "      <td>8</td>\n",
       "      <td>2010-12-01 08:26:00</td>\n",
       "      <td>2.75</td>\n",
       "      <td>17850</td>\n",
       "      <td>United Kingdom</td>\n",
       "    </tr>\n",
       "    <tr>\n",
       "      <th>3</th>\n",
       "      <td>536365</td>\n",
       "      <td>84029G</td>\n",
       "      <td>KNITTED UNION FLAG HOT WATER BOTTLE</td>\n",
       "      <td>6</td>\n",
       "      <td>2010-12-01 08:26:00</td>\n",
       "      <td>3.39</td>\n",
       "      <td>17850</td>\n",
       "      <td>United Kingdom</td>\n",
       "    </tr>\n",
       "    <tr>\n",
       "      <th>4</th>\n",
       "      <td>536365</td>\n",
       "      <td>84029E</td>\n",
       "      <td>RED WOOLLY HOTTIE WHITE HEART.</td>\n",
       "      <td>6</td>\n",
       "      <td>2010-12-01 08:26:00</td>\n",
       "      <td>3.39</td>\n",
       "      <td>17850</td>\n",
       "      <td>United Kingdom</td>\n",
       "    </tr>\n",
       "  </tbody>\n",
       "</table>\n",
       "</div>"
      ],
      "text/plain": [
       "  Invoice_Number Product_Code                          Description  Quantity  \\\n",
       "0         536365       85123A   WHITE HANGING HEART T-LIGHT HOLDER         6   \n",
       "1         536365        71053                  WHITE METAL LANTERN         6   \n",
       "2         536365       84406B       CREAM CUPID HEARTS COAT HANGER         8   \n",
       "3         536365       84029G  KNITTED UNION FLAG HOT WATER BOTTLE         6   \n",
       "4         536365       84029E       RED WOOLLY HOTTIE WHITE HEART.         6   \n",
       "\n",
       "         Invoice_Date  Unit_Price Customer_ID         Country  \n",
       "0 2010-12-01 08:26:00        2.55       17850  United Kingdom  \n",
       "1 2010-12-01 08:26:00        3.39       17850  United Kingdom  \n",
       "2 2010-12-01 08:26:00        2.75       17850  United Kingdom  \n",
       "3 2010-12-01 08:26:00        3.39       17850  United Kingdom  \n",
       "4 2010-12-01 08:26:00        3.39       17850  United Kingdom  "
      ]
     },
     "metadata": {},
     "output_type": "display_data"
    }
   ],
   "source": [
    "df = pd.read_csv(dest_file, encoding='latin1', dtype = {'Invoice_Number':'string', 'Product_Code': 'string', 'Description': 'string', 'Quantity': 'int',\n",
    "       'Invoice_Date':'string', 'Unit_Price':'float', 'Customer_ID':'string', 'Country':'string'})\n",
    "df.Invoice_Date = pd.to_datetime(df.Invoice_Date)\n",
    "print(df.shape)\n",
    "print(df.columns)\n",
    "display(df.head())"
   ]
  },
  {
   "cell_type": "code",
   "execution_count": 6,
   "metadata": {},
   "outputs": [
    {
     "data": {
      "text/plain": [
       "Invoice_Number            string\n",
       "Product_Code              string\n",
       "Description               string\n",
       "Quantity                   int32\n",
       "Invoice_Date      datetime64[ns]\n",
       "Unit_Price               float64\n",
       "Customer_ID               string\n",
       "Country                   string\n",
       "dtype: object"
      ]
     },
     "execution_count": 6,
     "metadata": {},
     "output_type": "execute_result"
    }
   ],
   "source": [
    "df.dtypes"
   ]
  },
  {
   "cell_type": "code",
   "execution_count": 7,
   "metadata": {},
   "outputs": [
    {
     "data": {
      "text/html": [
       "<div>\n",
       "<style scoped>\n",
       "    .dataframe tbody tr th:only-of-type {\n",
       "        vertical-align: middle;\n",
       "    }\n",
       "\n",
       "    .dataframe tbody tr th {\n",
       "        vertical-align: top;\n",
       "    }\n",
       "\n",
       "    .dataframe thead th {\n",
       "        text-align: right;\n",
       "    }\n",
       "</style>\n",
       "<table border=\"1\" class=\"dataframe\">\n",
       "  <thead>\n",
       "    <tr style=\"text-align: right;\">\n",
       "      <th></th>\n",
       "      <th>Invoice_Number</th>\n",
       "      <th>Product_Code</th>\n",
       "      <th>Description</th>\n",
       "      <th>Invoice_Date</th>\n",
       "      <th>Customer_ID</th>\n",
       "      <th>Country</th>\n",
       "    </tr>\n",
       "  </thead>\n",
       "  <tbody>\n",
       "    <tr>\n",
       "      <th>count</th>\n",
       "      <td>541909</td>\n",
       "      <td>541909</td>\n",
       "      <td>540455</td>\n",
       "      <td>541909</td>\n",
       "      <td>406829</td>\n",
       "      <td>541909</td>\n",
       "    </tr>\n",
       "    <tr>\n",
       "      <th>unique</th>\n",
       "      <td>25900</td>\n",
       "      <td>4070</td>\n",
       "      <td>4223</td>\n",
       "      <td>23260</td>\n",
       "      <td>4372</td>\n",
       "      <td>38</td>\n",
       "    </tr>\n",
       "    <tr>\n",
       "      <th>top</th>\n",
       "      <td>573585</td>\n",
       "      <td>85123A</td>\n",
       "      <td>WHITE HANGING HEART T-LIGHT HOLDER</td>\n",
       "      <td>2011-10-31 14:41:00</td>\n",
       "      <td>17841</td>\n",
       "      <td>United Kingdom</td>\n",
       "    </tr>\n",
       "    <tr>\n",
       "      <th>freq</th>\n",
       "      <td>1114</td>\n",
       "      <td>2313</td>\n",
       "      <td>2369</td>\n",
       "      <td>1114</td>\n",
       "      <td>7983</td>\n",
       "      <td>495478</td>\n",
       "    </tr>\n",
       "    <tr>\n",
       "      <th>first</th>\n",
       "      <td>NaN</td>\n",
       "      <td>NaN</td>\n",
       "      <td>NaN</td>\n",
       "      <td>2010-12-01 08:26:00</td>\n",
       "      <td>NaN</td>\n",
       "      <td>NaN</td>\n",
       "    </tr>\n",
       "    <tr>\n",
       "      <th>last</th>\n",
       "      <td>NaN</td>\n",
       "      <td>NaN</td>\n",
       "      <td>NaN</td>\n",
       "      <td>2011-12-09 12:50:00</td>\n",
       "      <td>NaN</td>\n",
       "      <td>NaN</td>\n",
       "    </tr>\n",
       "  </tbody>\n",
       "</table>\n",
       "</div>"
      ],
      "text/plain": [
       "       Invoice_Number Product_Code                         Description  \\\n",
       "count          541909       541909                              540455   \n",
       "unique          25900         4070                                4223   \n",
       "top            573585       85123A  WHITE HANGING HEART T-LIGHT HOLDER   \n",
       "freq             1114         2313                                2369   \n",
       "first             NaN          NaN                                 NaN   \n",
       "last              NaN          NaN                                 NaN   \n",
       "\n",
       "               Invoice_Date Customer_ID         Country  \n",
       "count                541909      406829          541909  \n",
       "unique                23260        4372              38  \n",
       "top     2011-10-31 14:41:00       17841  United Kingdom  \n",
       "freq                   1114        7983          495478  \n",
       "first   2010-12-01 08:26:00         NaN             NaN  \n",
       "last    2011-12-09 12:50:00         NaN             NaN  "
      ]
     },
     "execution_count": 7,
     "metadata": {},
     "output_type": "execute_result"
    }
   ],
   "source": [
    "df.describe(exclude=[np.number])"
   ]
  },
  {
   "cell_type": "markdown",
   "metadata": {},
   "source": [
    "### Check for duplicate & remove"
   ]
  },
  {
   "cell_type": "code",
   "execution_count": 8,
   "metadata": {},
   "outputs": [
    {
     "name": "stdout",
     "output_type": "stream",
     "text": [
      "(536641, 8)\n"
     ]
    }
   ],
   "source": [
    "df.drop_duplicates(inplace=True)\n",
    "print(df.shape)"
   ]
  },
  {
   "cell_type": "markdown",
   "metadata": {},
   "source": [
    "### Check for occurance of None"
   ]
  },
  {
   "cell_type": "code",
   "execution_count": 9,
   "metadata": {},
   "outputs": [
    {
     "data": {
      "text/plain": [
       "Invoice_Number         0\n",
       "Product_Code           0\n",
       "Description         1454\n",
       "Quantity               0\n",
       "Invoice_Date           0\n",
       "Unit_Price             0\n",
       "Customer_ID       135037\n",
       "Country                0\n",
       "dtype: int64"
      ]
     },
     "execution_count": 9,
     "metadata": {},
     "output_type": "execute_result"
    }
   ],
   "source": [
    "df.isna().sum()"
   ]
  },
  {
   "cell_type": "markdown",
   "metadata": {},
   "source": [
    "### Univariate analysis of product quantity\n",
    "1. Number of transaction vs cancellation\n",
    "2. Number of transaction vs cancellation per country\n",
    "3. Remove cancellation transaction"
   ]
  },
  {
   "cell_type": "code",
   "execution_count": 10,
   "metadata": {},
   "outputs": [
    {
     "data": {
      "image/png": "[encoded data removed]",
      "text/plain": [
       "<Figure size 432x288 with 1 Axes>"
      ]
     },
     "metadata": {
      "needs_background": "light"
     },
     "output_type": "display_data"
    }
   ],
   "source": [
    "sns.distplot(df.Quantity)\n",
    "plt.xlim(-500, 1000)\n",
    "plt.show()"
   ]
  },
  {
   "cell_type": "code",
   "execution_count": 11,
   "metadata": {},
   "outputs": [
    {
     "data": {
      "text/html": [
       "<div>\n",
       "<style scoped>\n",
       "    .dataframe tbody tr th:only-of-type {\n",
       "        vertical-align: middle;\n",
       "    }\n",
       "\n",
       "    .dataframe tbody tr th {\n",
       "        vertical-align: top;\n",
       "    }\n",
       "\n",
       "    .dataframe thead th {\n",
       "        text-align: right;\n",
       "    }\n",
       "</style>\n",
       "<table border=\"1\" class=\"dataframe\">\n",
       "  <thead>\n",
       "    <tr style=\"text-align: right;\">\n",
       "      <th></th>\n",
       "      <th>Invoice_Number</th>\n",
       "      <th>Product_Code</th>\n",
       "      <th>Description</th>\n",
       "      <th>Quantity</th>\n",
       "      <th>Invoice_Date</th>\n",
       "      <th>Unit_Price</th>\n",
       "      <th>Customer_ID</th>\n",
       "      <th>Country</th>\n",
       "      <th>Cancellation</th>\n",
       "    </tr>\n",
       "  </thead>\n",
       "  <tbody>\n",
       "    <tr>\n",
       "      <th>141</th>\n",
       "      <td>C536379</td>\n",
       "      <td>D</td>\n",
       "      <td>Discount</td>\n",
       "      <td>-1</td>\n",
       "      <td>2010-12-01 09:41:00</td>\n",
       "      <td>27.50</td>\n",
       "      <td>14527</td>\n",
       "      <td>United Kingdom</td>\n",
       "      <td>True</td>\n",
       "    </tr>\n",
       "    <tr>\n",
       "      <th>154</th>\n",
       "      <td>C536383</td>\n",
       "      <td>35004C</td>\n",
       "      <td>SET OF 3 COLOURED  FLYING DUCKS</td>\n",
       "      <td>-1</td>\n",
       "      <td>2010-12-01 09:49:00</td>\n",
       "      <td>4.65</td>\n",
       "      <td>15311</td>\n",
       "      <td>United Kingdom</td>\n",
       "      <td>True</td>\n",
       "    </tr>\n",
       "    <tr>\n",
       "      <th>235</th>\n",
       "      <td>C536391</td>\n",
       "      <td>22556</td>\n",
       "      <td>PLASTERS IN TIN CIRCUS PARADE</td>\n",
       "      <td>-12</td>\n",
       "      <td>2010-12-01 10:24:00</td>\n",
       "      <td>1.65</td>\n",
       "      <td>17548</td>\n",
       "      <td>United Kingdom</td>\n",
       "      <td>True</td>\n",
       "    </tr>\n",
       "    <tr>\n",
       "      <th>236</th>\n",
       "      <td>C536391</td>\n",
       "      <td>21984</td>\n",
       "      <td>PACK OF 12 PINK PAISLEY TISSUES</td>\n",
       "      <td>-24</td>\n",
       "      <td>2010-12-01 10:24:00</td>\n",
       "      <td>0.29</td>\n",
       "      <td>17548</td>\n",
       "      <td>United Kingdom</td>\n",
       "      <td>True</td>\n",
       "    </tr>\n",
       "    <tr>\n",
       "      <th>237</th>\n",
       "      <td>C536391</td>\n",
       "      <td>21983</td>\n",
       "      <td>PACK OF 12 BLUE PAISLEY TISSUES</td>\n",
       "      <td>-24</td>\n",
       "      <td>2010-12-01 10:24:00</td>\n",
       "      <td>0.29</td>\n",
       "      <td>17548</td>\n",
       "      <td>United Kingdom</td>\n",
       "      <td>True</td>\n",
       "    </tr>\n",
       "  </tbody>\n",
       "</table>\n",
       "</div>"
      ],
      "text/plain": [
       "    Invoice_Number Product_Code                       Description  Quantity  \\\n",
       "141        C536379            D                          Discount        -1   \n",
       "154        C536383       35004C   SET OF 3 COLOURED  FLYING DUCKS        -1   \n",
       "235        C536391        22556    PLASTERS IN TIN CIRCUS PARADE        -12   \n",
       "236        C536391        21984  PACK OF 12 PINK PAISLEY TISSUES        -24   \n",
       "237        C536391        21983  PACK OF 12 BLUE PAISLEY TISSUES        -24   \n",
       "\n",
       "           Invoice_Date  Unit_Price Customer_ID         Country  Cancellation  \n",
       "141 2010-12-01 09:41:00       27.50       14527  United Kingdom          True  \n",
       "154 2010-12-01 09:49:00        4.65       15311  United Kingdom          True  \n",
       "235 2010-12-01 10:24:00        1.65       17548  United Kingdom          True  \n",
       "236 2010-12-01 10:24:00        0.29       17548  United Kingdom          True  \n",
       "237 2010-12-01 10:24:00        0.29       17548  United Kingdom          True  "
      ]
     },
     "execution_count": 11,
     "metadata": {},
     "output_type": "execute_result"
    }
   ],
   "source": [
    "df['Cancellation'] = df.Quantity<0\n",
    "df.loc[df.Cancellation==True].head()"
   ]
  },
  {
   "cell_type": "code",
   "execution_count": 12,
   "metadata": {},
   "outputs": [
    {
     "data": {
      "text/plain": [
       "<matplotlib.axes._subplots.AxesSubplot at 0x17cc86168c8>"
      ]
     },
     "execution_count": 12,
     "metadata": {},
     "output_type": "execute_result"
    },
    {
     "data": {
      "image/png": "[encoded data removed]",
      "text/plain": [
       "<Figure size 432x288 with 1 Axes>"
      ]
     },
     "metadata": {
      "needs_background": "light"
     },
     "output_type": "display_data"
    }
   ],
   "source": [
    "temp_df = df.groupby([df.Cancellation])['Invoice_Number'].nunique().reset_index()\n",
    "sns.barplot(x='Cancellation',y='Invoice_Number', data=temp_df)"
   ]
  },
  {
   "cell_type": "code",
   "execution_count": 13,
   "metadata": {},
   "outputs": [
    {
     "data": {
      "text/plain": [
       "0    0.800309\n",
       "1    0.199691\n",
       "Name: Invoice_Number, dtype: float64"
      ]
     },
     "execution_count": 13,
     "metadata": {},
     "output_type": "execute_result"
    }
   ],
   "source": [
    "temp_df['Invoice_Number']/sum(temp_df['Invoice_Number'])"
   ]
  },
  {
   "cell_type": "code",
   "execution_count": 14,
   "metadata": {},
   "outputs": [
    {
     "data": {
      "image/png": "[encoded data removed]",
      "text/plain": [
       "<Figure size 1152x576 with 1 Axes>"
      ]
     },
     "metadata": {
      "needs_background": "light"
     },
     "output_type": "display_data"
    }
   ],
   "source": [
    "temp_df = df.groupby([df.Cancellation, df.Country])['Invoice_Number'].nunique().reset_index()\n",
    "\n",
    "temp_df = temp_df.pivot(index='Country', columns='Cancellation', values='Invoice_Number')\n",
    "temp_df.columns = temp_df.columns.map(lambda x: f'Cancellation_{x}')\n",
    "temp_df = temp_df.reset_index()\n",
    "temp_df = temp_df.fillna(0)\n",
    "temp_df['Success_Transac_Rate'] = ((temp_df.Cancellation_False-temp_df.Cancellation_True)/temp_df.Cancellation_False)*100\n",
    "plt.figure(figsize=(16, 8))\n",
    "sns.barplot(x='Country',y='Success_Transac_Rate', data=temp_df, order=temp_df.sort_values('Success_Transac_Rate', ascending=False).Country)\n",
    "locs, labels = plt.xticks()\n",
    "plt.setp(labels, rotation=90)\n",
    "plt.show()"
   ]
  },
  {
   "cell_type": "code",
   "execution_count": 15,
   "metadata": {},
   "outputs": [
    {
     "name": "stdout",
     "output_type": "stream",
     "text": [
      "(10587, 9)\n"
     ]
    },
    {
     "data": {
      "text/html": [
       "<div>\n",
       "<style scoped>\n",
       "    .dataframe tbody tr th:only-of-type {\n",
       "        vertical-align: middle;\n",
       "    }\n",
       "\n",
       "    .dataframe tbody tr th {\n",
       "        vertical-align: top;\n",
       "    }\n",
       "\n",
       "    .dataframe thead th {\n",
       "        text-align: right;\n",
       "    }\n",
       "</style>\n",
       "<table border=\"1\" class=\"dataframe\">\n",
       "  <thead>\n",
       "    <tr style=\"text-align: right;\">\n",
       "      <th></th>\n",
       "      <th>Invoice_Number</th>\n",
       "      <th>Product_Code</th>\n",
       "      <th>Description</th>\n",
       "      <th>Quantity</th>\n",
       "      <th>Invoice_Date</th>\n",
       "      <th>Unit_Price</th>\n",
       "      <th>Customer_ID</th>\n",
       "      <th>Country</th>\n",
       "      <th>Cancellation</th>\n",
       "    </tr>\n",
       "  </thead>\n",
       "  <tbody>\n",
       "    <tr>\n",
       "      <th>141</th>\n",
       "      <td>C536379</td>\n",
       "      <td>D</td>\n",
       "      <td>Discount</td>\n",
       "      <td>-1</td>\n",
       "      <td>2010-12-01 09:41:00</td>\n",
       "      <td>27.50</td>\n",
       "      <td>14527</td>\n",
       "      <td>United Kingdom</td>\n",
       "      <td>True</td>\n",
       "    </tr>\n",
       "    <tr>\n",
       "      <th>154</th>\n",
       "      <td>C536383</td>\n",
       "      <td>35004C</td>\n",
       "      <td>SET OF 3 COLOURED  FLYING DUCKS</td>\n",
       "      <td>-1</td>\n",
       "      <td>2010-12-01 09:49:00</td>\n",
       "      <td>4.65</td>\n",
       "      <td>15311</td>\n",
       "      <td>United Kingdom</td>\n",
       "      <td>True</td>\n",
       "    </tr>\n",
       "    <tr>\n",
       "      <th>235</th>\n",
       "      <td>C536391</td>\n",
       "      <td>22556</td>\n",
       "      <td>PLASTERS IN TIN CIRCUS PARADE</td>\n",
       "      <td>-12</td>\n",
       "      <td>2010-12-01 10:24:00</td>\n",
       "      <td>1.65</td>\n",
       "      <td>17548</td>\n",
       "      <td>United Kingdom</td>\n",
       "      <td>True</td>\n",
       "    </tr>\n",
       "    <tr>\n",
       "      <th>236</th>\n",
       "      <td>C536391</td>\n",
       "      <td>21984</td>\n",
       "      <td>PACK OF 12 PINK PAISLEY TISSUES</td>\n",
       "      <td>-24</td>\n",
       "      <td>2010-12-01 10:24:00</td>\n",
       "      <td>0.29</td>\n",
       "      <td>17548</td>\n",
       "      <td>United Kingdom</td>\n",
       "      <td>True</td>\n",
       "    </tr>\n",
       "    <tr>\n",
       "      <th>237</th>\n",
       "      <td>C536391</td>\n",
       "      <td>21983</td>\n",
       "      <td>PACK OF 12 BLUE PAISLEY TISSUES</td>\n",
       "      <td>-24</td>\n",
       "      <td>2010-12-01 10:24:00</td>\n",
       "      <td>0.29</td>\n",
       "      <td>17548</td>\n",
       "      <td>United Kingdom</td>\n",
       "      <td>True</td>\n",
       "    </tr>\n",
       "  </tbody>\n",
       "</table>\n",
       "</div>"
      ],
      "text/plain": [
       "    Invoice_Number Product_Code                       Description  Quantity  \\\n",
       "141        C536379            D                          Discount        -1   \n",
       "154        C536383       35004C   SET OF 3 COLOURED  FLYING DUCKS        -1   \n",
       "235        C536391        22556    PLASTERS IN TIN CIRCUS PARADE        -12   \n",
       "236        C536391        21984  PACK OF 12 PINK PAISLEY TISSUES        -24   \n",
       "237        C536391        21983  PACK OF 12 BLUE PAISLEY TISSUES        -24   \n",
       "\n",
       "           Invoice_Date  Unit_Price Customer_ID         Country  Cancellation  \n",
       "141 2010-12-01 09:41:00       27.50       14527  United Kingdom          True  \n",
       "154 2010-12-01 09:49:00        4.65       15311  United Kingdom          True  \n",
       "235 2010-12-01 10:24:00        1.65       17548  United Kingdom          True  \n",
       "236 2010-12-01 10:24:00        0.29       17548  United Kingdom          True  \n",
       "237 2010-12-01 10:24:00        0.29       17548  United Kingdom          True  "
      ]
     },
     "execution_count": 15,
     "metadata": {},
     "output_type": "execute_result"
    }
   ],
   "source": [
    "print(df.loc[df.Cancellation==True].shape)\n",
    "df.loc[df.Cancellation==True].head()"
   ]
  },
  {
   "cell_type": "code",
   "execution_count": 16,
   "metadata": {},
   "outputs": [
    {
     "name": "stdout",
     "output_type": "stream",
     "text": [
      "(526054, 9)\n"
     ]
    }
   ],
   "source": [
    "df = df.loc[df.Cancellation==False]\n",
    "print(df.shape)"
   ]
  },
  {
   "cell_type": "code",
   "execution_count": 17,
   "metadata": {},
   "outputs": [
    {
     "name": "stdout",
     "output_type": "stream",
     "text": [
      "(0, 9)\n"
     ]
    },
    {
     "data": {
      "text/html": [
       "<div>\n",
       "<style scoped>\n",
       "    .dataframe tbody tr th:only-of-type {\n",
       "        vertical-align: middle;\n",
       "    }\n",
       "\n",
       "    .dataframe tbody tr th {\n",
       "        vertical-align: top;\n",
       "    }\n",
       "\n",
       "    .dataframe thead th {\n",
       "        text-align: right;\n",
       "    }\n",
       "</style>\n",
       "<table border=\"1\" class=\"dataframe\">\n",
       "  <thead>\n",
       "    <tr style=\"text-align: right;\">\n",
       "      <th></th>\n",
       "      <th>Invoice_Number</th>\n",
       "      <th>Product_Code</th>\n",
       "      <th>Description</th>\n",
       "      <th>Quantity</th>\n",
       "      <th>Invoice_Date</th>\n",
       "      <th>Unit_Price</th>\n",
       "      <th>Customer_ID</th>\n",
       "      <th>Country</th>\n",
       "      <th>Cancellation</th>\n",
       "    </tr>\n",
       "  </thead>\n",
       "  <tbody>\n",
       "  </tbody>\n",
       "</table>\n",
       "</div>"
      ],
      "text/plain": [
       "Empty DataFrame\n",
       "Columns: [Invoice_Number, Product_Code, Description, Quantity, Invoice_Date, Unit_Price, Customer_ID, Country, Cancellation]\n",
       "Index: []"
      ]
     },
     "execution_count": 17,
     "metadata": {},
     "output_type": "execute_result"
    }
   ],
   "source": [
    "print(df.loc[df.Cancellation==True].shape)\n",
    "df.loc[df.Cancellation==True].head()"
   ]
  },
  {
   "cell_type": "markdown",
   "metadata": {},
   "source": [
    "### Imputing missing product description: \n",
    "1. With multi product description replace product description with the most the occurrence description\n",
    "2. Impute missing description for remaining blank product description"
   ]
  },
  {
   "cell_type": "code",
   "execution_count": 18,
   "metadata": {},
   "outputs": [
    {
     "data": {
      "text/plain": [
       "592"
      ]
     },
     "execution_count": 18,
     "metadata": {},
     "output_type": "execute_result"
    }
   ],
   "source": [
    "df.Description.isna().sum()"
   ]
  },
  {
   "cell_type": "code",
   "execution_count": 19,
   "metadata": {
    "scrolled": true
   },
   "outputs": [
    {
     "data": {
      "text/plain": [
       "Product_Code\n",
       "20713     6\n",
       "23084     6\n",
       "23209     4\n",
       "21181     4\n",
       "23131     4\n",
       "         ..\n",
       "35951     0\n",
       "62095B    0\n",
       "20950     0\n",
       "72803B    0\n",
       "84971L    0\n",
       "Name: Description, Length: 3941, dtype: int64"
      ]
     },
     "execution_count": 19,
     "metadata": {},
     "output_type": "execute_result"
    }
   ],
   "source": [
    "df.groupby(['Product_Code'])['Description'].nunique().sort_values(ascending=False)"
   ]
  },
  {
   "cell_type": "code",
   "execution_count": 20,
   "metadata": {},
   "outputs": [
    {
     "data": {
      "text/html": [
       "<div>\n",
       "<style scoped>\n",
       "    .dataframe tbody tr th:only-of-type {\n",
       "        vertical-align: middle;\n",
       "    }\n",
       "\n",
       "    .dataframe tbody tr th {\n",
       "        vertical-align: top;\n",
       "    }\n",
       "\n",
       "    .dataframe thead th {\n",
       "        text-align: right;\n",
       "    }\n",
       "</style>\n",
       "<table border=\"1\" class=\"dataframe\">\n",
       "  <thead>\n",
       "    <tr style=\"text-align: right;\">\n",
       "      <th></th>\n",
       "      <th>Product_Code</th>\n",
       "      <th>Description</th>\n",
       "    </tr>\n",
       "  </thead>\n",
       "  <tbody>\n",
       "    <tr>\n",
       "      <th>4318</th>\n",
       "      <td>m</td>\n",
       "      <td>Manual</td>\n",
       "    </tr>\n",
       "    <tr>\n",
       "      <th>4317</th>\n",
       "      <td>gift_0001_50</td>\n",
       "      <td>Dotcomgiftshop Gift Voucher £50.00</td>\n",
       "    </tr>\n",
       "    <tr>\n",
       "      <th>4316</th>\n",
       "      <td>gift_0001_40</td>\n",
       "      <td>Dotcomgiftshop Gift Voucher £40.00</td>\n",
       "    </tr>\n",
       "    <tr>\n",
       "      <th>4315</th>\n",
       "      <td>gift_0001_30</td>\n",
       "      <td>Dotcomgiftshop Gift Voucher £30.00</td>\n",
       "    </tr>\n",
       "    <tr>\n",
       "      <th>4313</th>\n",
       "      <td>gift_0001_20</td>\n",
       "      <td>Dotcomgiftshop Gift Voucher £20.00</td>\n",
       "    </tr>\n",
       "  </tbody>\n",
       "</table>\n",
       "</div>"
      ],
      "text/plain": [
       "      Product_Code                         Description\n",
       "4318             m                              Manual\n",
       "4317  gift_0001_50  Dotcomgiftshop Gift Voucher £50.00\n",
       "4316  gift_0001_40  Dotcomgiftshop Gift Voucher £40.00\n",
       "4315  gift_0001_30  Dotcomgiftshop Gift Voucher £30.00\n",
       "4313  gift_0001_20  Dotcomgiftshop Gift Voucher £20.00"
      ]
     },
     "execution_count": 20,
     "metadata": {},
     "output_type": "execute_result"
    }
   ],
   "source": [
    "product_desc_mapping_df = pd.DataFrame(df.groupby(['Product_Code', 'Description'])['Invoice_Number'].nunique().reset_index()).sort_values(['Product_Code', 'Invoice_Number'], ascending=False).groupby('Product_Code').head(1).drop('Invoice_Number', axis=1)\n",
    "product_desc_mapping_df.head()"
   ]
  },
  {
   "cell_type": "code",
   "execution_count": 21,
   "metadata": {},
   "outputs": [],
   "source": [
    "df = pd.merge(df.drop('Description', axis=1), product_desc_mapping_df, how='outer')\n",
    "df.loc[df.Description.isna(), 'Description'] = 'missing_description'"
   ]
  },
  {
   "cell_type": "code",
   "execution_count": 22,
   "metadata": {},
   "outputs": [
    {
     "data": {
      "text/plain": [
       "0"
      ]
     },
     "execution_count": 22,
     "metadata": {},
     "output_type": "execute_result"
    }
   ],
   "source": [
    "df.Description.isna().sum()"
   ]
  },
  {
   "cell_type": "code",
   "execution_count": 23,
   "metadata": {},
   "outputs": [
    {
     "data": {
      "text/plain": [
       "Product_Code\n",
       "m         1\n",
       "22432     1\n",
       "22430     1\n",
       "22429     1\n",
       "22428     1\n",
       "         ..\n",
       "44242A    1\n",
       "44236     1\n",
       "44235     1\n",
       "44234     1\n",
       "10002     1\n",
       "Name: Description, Length: 3941, dtype: int64"
      ]
     },
     "execution_count": 23,
     "metadata": {},
     "output_type": "execute_result"
    }
   ],
   "source": [
    "df.groupby(['Product_Code'])['Description'].nunique().sort_values(ascending=False)"
   ]
  },
  {
   "cell_type": "markdown",
   "metadata": {},
   "source": [
    "## Imputing missing Customer_ID:\n",
    "1. Checks to find if missing Customer_ID can be found with any matching invoice number.\n",
    "2. Check if any particular country exhibits missing Customer_ID.\n",
    "3. Impute missing customer id as unique customer as per their available transaction id"
   ]
  },
  {
   "cell_type": "code",
   "execution_count": 24,
   "metadata": {},
   "outputs": [
    {
     "data": {
      "text/plain": [
       "<StringArray>\n",
       "[<NA>]\n",
       "Length: 1, dtype: string"
      ]
     },
     "execution_count": 24,
     "metadata": {},
     "output_type": "execute_result"
    }
   ],
   "source": [
    "df.loc[df.Invoice_Number.isin(df.loc[df.Customer_ID.isna(), 'Invoice_Number'].unique())].Customer_ID.unique()"
   ]
  },
  {
   "cell_type": "code",
   "execution_count": 25,
   "metadata": {},
   "outputs": [
    {
     "data": {
      "text/plain": [
       "United Kingdom          0.914627\n",
       "Germany                 0.017160\n",
       "France                  0.015955\n",
       "EIRE                    0.014985\n",
       "Spain                   0.004714\n",
       "Netherlands             0.004492\n",
       "Belgium                 0.003861\n",
       "Switzerland             0.003724\n",
       "Portugal                0.002836\n",
       "Australia               0.002251\n",
       "Norway                  0.002038\n",
       "Italy                   0.001441\n",
       "Channel Islands         0.001420\n",
       "Finland                 0.001302\n",
       "Cyprus                  0.001146\n",
       "Sweden                  0.000855\n",
       "Unspecified             0.000840\n",
       "Austria                 0.000757\n",
       "Denmark                 0.000722\n",
       "Poland                  0.000627\n",
       "Japan                   0.000610\n",
       "Israel                  0.000555\n",
       "Hong Kong               0.000532\n",
       "Singapore               0.000422\n",
       "Iceland                 0.000346\n",
       "USA                     0.000340\n",
       "Canada                  0.000287\n",
       "Greece                  0.000276\n",
       "Malta                   0.000213\n",
       "United Arab Emirates    0.000129\n",
       "European Community      0.000114\n",
       "RSA                     0.000110\n",
       "Lebanon                 0.000086\n",
       "Lithuania               0.000067\n",
       "Brazil                  0.000061\n",
       "Czech Republic          0.000048\n",
       "Bahrain                 0.000034\n",
       "Saudi Arabia            0.000017\n",
       "Name: Country, dtype: float64"
      ]
     },
     "execution_count": 25,
     "metadata": {},
     "output_type": "execute_result"
    }
   ],
   "source": [
    "df.Country.value_counts()/len(df)"
   ]
  },
  {
   "cell_type": "code",
   "execution_count": 26,
   "metadata": {},
   "outputs": [
    {
     "data": {
      "text/plain": [
       "United Kingdom    0.250765\n",
       "EIRE              0.001245\n",
       "Hong Kong         0.000532\n",
       "Unspecified       0.000382\n",
       "Switzerland       0.000222\n",
       "France            0.000125\n",
       "Israel            0.000089\n",
       "Portugal          0.000074\n",
       "Bahrain           0.000002\n",
       "Name: Country, dtype: float64"
      ]
     },
     "execution_count": 26,
     "metadata": {},
     "output_type": "execute_result"
    }
   ],
   "source": [
    "df.loc[df.Customer_ID.isna(), 'Country'].value_counts()/len(df.Customer_ID.isna())"
   ]
  },
  {
   "cell_type": "code",
   "execution_count": 27,
   "metadata": {},
   "outputs": [
    {
     "data": {
      "text/html": [
       "<div>\n",
       "<style scoped>\n",
       "    .dataframe tbody tr th:only-of-type {\n",
       "        vertical-align: middle;\n",
       "    }\n",
       "\n",
       "    .dataframe tbody tr th {\n",
       "        vertical-align: top;\n",
       "    }\n",
       "\n",
       "    .dataframe thead th {\n",
       "        text-align: right;\n",
       "    }\n",
       "</style>\n",
       "<table border=\"1\" class=\"dataframe\">\n",
       "  <thead>\n",
       "    <tr style=\"text-align: right;\">\n",
       "      <th></th>\n",
       "      <th>Invoice_Number</th>\n",
       "      <th>Product_Code</th>\n",
       "      <th>Quantity</th>\n",
       "      <th>Invoice_Date</th>\n",
       "      <th>Unit_Price</th>\n",
       "      <th>Customer_ID</th>\n",
       "      <th>Country</th>\n",
       "      <th>Cancellation</th>\n",
       "      <th>Description</th>\n",
       "    </tr>\n",
       "  </thead>\n",
       "  <tbody>\n",
       "    <tr>\n",
       "      <th>11</th>\n",
       "      <td>536544</td>\n",
       "      <td>85123A</td>\n",
       "      <td>4</td>\n",
       "      <td>2010-12-01 14:32:00</td>\n",
       "      <td>5.91</td>\n",
       "      <td>&lt;NA&gt;</td>\n",
       "      <td>United Kingdom</td>\n",
       "      <td>False</td>\n",
       "      <td>WHITE HANGING HEART T-LIGHT HOLDER</td>\n",
       "    </tr>\n",
       "    <tr>\n",
       "      <th>15</th>\n",
       "      <td>536592</td>\n",
       "      <td>85123A</td>\n",
       "      <td>9</td>\n",
       "      <td>2010-12-01 17:06:00</td>\n",
       "      <td>5.91</td>\n",
       "      <td>&lt;NA&gt;</td>\n",
       "      <td>United Kingdom</td>\n",
       "      <td>False</td>\n",
       "      <td>WHITE HANGING HEART T-LIGHT HOLDER</td>\n",
       "    </tr>\n",
       "    <tr>\n",
       "      <th>39</th>\n",
       "      <td>536876</td>\n",
       "      <td>85123A</td>\n",
       "      <td>5</td>\n",
       "      <td>2010-12-03 11:36:00</td>\n",
       "      <td>5.91</td>\n",
       "      <td>&lt;NA&gt;</td>\n",
       "      <td>United Kingdom</td>\n",
       "      <td>False</td>\n",
       "      <td>WHITE HANGING HEART T-LIGHT HOLDER</td>\n",
       "    </tr>\n",
       "    <tr>\n",
       "      <th>56</th>\n",
       "      <td>537237</td>\n",
       "      <td>85123A</td>\n",
       "      <td>2</td>\n",
       "      <td>2010-12-06 09:58:00</td>\n",
       "      <td>5.91</td>\n",
       "      <td>&lt;NA&gt;</td>\n",
       "      <td>United Kingdom</td>\n",
       "      <td>False</td>\n",
       "      <td>WHITE HANGING HEART T-LIGHT HOLDER</td>\n",
       "    </tr>\n",
       "    <tr>\n",
       "      <th>58</th>\n",
       "      <td>537240</td>\n",
       "      <td>85123A</td>\n",
       "      <td>9</td>\n",
       "      <td>2010-12-06 10:08:00</td>\n",
       "      <td>5.91</td>\n",
       "      <td>&lt;NA&gt;</td>\n",
       "      <td>United Kingdom</td>\n",
       "      <td>False</td>\n",
       "      <td>WHITE HANGING HEART T-LIGHT HOLDER</td>\n",
       "    </tr>\n",
       "    <tr>\n",
       "      <th>...</th>\n",
       "      <td>...</td>\n",
       "      <td>...</td>\n",
       "      <td>...</td>\n",
       "      <td>...</td>\n",
       "      <td>...</td>\n",
       "      <td>...</td>\n",
       "      <td>...</td>\n",
       "      <td>...</td>\n",
       "      <td>...</td>\n",
       "    </tr>\n",
       "    <tr>\n",
       "      <th>526046</th>\n",
       "      <td>581492</td>\n",
       "      <td>23561</td>\n",
       "      <td>1</td>\n",
       "      <td>2011-12-09 10:03:00</td>\n",
       "      <td>5.79</td>\n",
       "      <td>&lt;NA&gt;</td>\n",
       "      <td>United Kingdom</td>\n",
       "      <td>False</td>\n",
       "      <td>SET OF 6 RIBBONS PARTY</td>\n",
       "    </tr>\n",
       "    <tr>\n",
       "      <th>526048</th>\n",
       "      <td>579187</td>\n",
       "      <td>23609</td>\n",
       "      <td>1</td>\n",
       "      <td>2011-11-28 15:31:00</td>\n",
       "      <td>2.91</td>\n",
       "      <td>&lt;NA&gt;</td>\n",
       "      <td>United Kingdom</td>\n",
       "      <td>False</td>\n",
       "      <td>SET 10 CARDS SNOWY ROBIN 17099</td>\n",
       "    </tr>\n",
       "    <tr>\n",
       "      <th>526049</th>\n",
       "      <td>579297</td>\n",
       "      <td>85179a</td>\n",
       "      <td>1</td>\n",
       "      <td>2011-11-29 11:23:00</td>\n",
       "      <td>2.46</td>\n",
       "      <td>&lt;NA&gt;</td>\n",
       "      <td>United Kingdom</td>\n",
       "      <td>False</td>\n",
       "      <td>GREEN BITTY LIGHT CHAIN</td>\n",
       "    </tr>\n",
       "    <tr>\n",
       "      <th>526050</th>\n",
       "      <td>579512</td>\n",
       "      <td>23617</td>\n",
       "      <td>2</td>\n",
       "      <td>2011-11-29 16:47:00</td>\n",
       "      <td>2.91</td>\n",
       "      <td>&lt;NA&gt;</td>\n",
       "      <td>United Kingdom</td>\n",
       "      <td>False</td>\n",
       "      <td>SET 10 CARDS SWIRLY XMAS TREE 17104</td>\n",
       "    </tr>\n",
       "    <tr>\n",
       "      <th>526052</th>\n",
       "      <td>581238</td>\n",
       "      <td>47591b</td>\n",
       "      <td>1</td>\n",
       "      <td>2011-12-08 10:53:00</td>\n",
       "      <td>4.13</td>\n",
       "      <td>&lt;NA&gt;</td>\n",
       "      <td>United Kingdom</td>\n",
       "      <td>False</td>\n",
       "      <td>SCOTTIES CHILDRENS APRON</td>\n",
       "    </tr>\n",
       "  </tbody>\n",
       "</table>\n",
       "<p>131916 rows × 9 columns</p>\n",
       "</div>"
      ],
      "text/plain": [
       "       Invoice_Number Product_Code  Quantity        Invoice_Date  Unit_Price  \\\n",
       "11             536544       85123A         4 2010-12-01 14:32:00        5.91   \n",
       "15             536592       85123A         9 2010-12-01 17:06:00        5.91   \n",
       "39             536876       85123A         5 2010-12-03 11:36:00        5.91   \n",
       "56             537237       85123A         2 2010-12-06 09:58:00        5.91   \n",
       "58             537240       85123A         9 2010-12-06 10:08:00        5.91   \n",
       "...               ...          ...       ...                 ...         ...   \n",
       "526046         581492        23561         1 2011-12-09 10:03:00        5.79   \n",
       "526048         579187        23609         1 2011-11-28 15:31:00        2.91   \n",
       "526049         579297       85179a         1 2011-11-29 11:23:00        2.46   \n",
       "526050         579512        23617         2 2011-11-29 16:47:00        2.91   \n",
       "526052         581238       47591b         1 2011-12-08 10:53:00        4.13   \n",
       "\n",
       "       Customer_ID         Country  Cancellation  \\\n",
       "11            <NA>  United Kingdom         False   \n",
       "15            <NA>  United Kingdom         False   \n",
       "39            <NA>  United Kingdom         False   \n",
       "56            <NA>  United Kingdom         False   \n",
       "58            <NA>  United Kingdom         False   \n",
       "...            ...             ...           ...   \n",
       "526046        <NA>  United Kingdom         False   \n",
       "526048        <NA>  United Kingdom         False   \n",
       "526049        <NA>  United Kingdom         False   \n",
       "526050        <NA>  United Kingdom         False   \n",
       "526052        <NA>  United Kingdom         False   \n",
       "\n",
       "                                Description  \n",
       "11       WHITE HANGING HEART T-LIGHT HOLDER  \n",
       "15       WHITE HANGING HEART T-LIGHT HOLDER  \n",
       "39       WHITE HANGING HEART T-LIGHT HOLDER  \n",
       "56       WHITE HANGING HEART T-LIGHT HOLDER  \n",
       "58       WHITE HANGING HEART T-LIGHT HOLDER  \n",
       "...                                     ...  \n",
       "526046               SET OF 6 RIBBONS PARTY  \n",
       "526048       SET 10 CARDS SNOWY ROBIN 17099  \n",
       "526049              GREEN BITTY LIGHT CHAIN  \n",
       "526050  SET 10 CARDS SWIRLY XMAS TREE 17104  \n",
       "526052             SCOTTIES CHILDRENS APRON  \n",
       "\n",
       "[131916 rows x 9 columns]"
      ]
     },
     "execution_count": 27,
     "metadata": {},
     "output_type": "execute_result"
    }
   ],
   "source": [
    "df.loc[df.Customer_ID.isna() & df.Country.isin(['United Kingdom']), :]"
   ]
  },
  {
   "cell_type": "code",
   "execution_count": 28,
   "metadata": {},
   "outputs": [
    {
     "data": {
      "text/html": [
       "<div>\n",
       "<style scoped>\n",
       "    .dataframe tbody tr th:only-of-type {\n",
       "        vertical-align: middle;\n",
       "    }\n",
       "\n",
       "    .dataframe tbody tr th {\n",
       "        vertical-align: top;\n",
       "    }\n",
       "\n",
       "    .dataframe thead th {\n",
       "        text-align: right;\n",
       "    }\n",
       "</style>\n",
       "<table border=\"1\" class=\"dataframe\">\n",
       "  <thead>\n",
       "    <tr style=\"text-align: right;\">\n",
       "      <th></th>\n",
       "      <th>Invoice_Number</th>\n",
       "      <th>Product_Code</th>\n",
       "      <th>Quantity</th>\n",
       "      <th>Invoice_Date</th>\n",
       "      <th>Unit_Price</th>\n",
       "      <th>Customer_ID</th>\n",
       "      <th>Country</th>\n",
       "      <th>Cancellation</th>\n",
       "      <th>Description</th>\n",
       "    </tr>\n",
       "  </thead>\n",
       "  <tbody>\n",
       "    <tr>\n",
       "      <th>0</th>\n",
       "      <td>536365</td>\n",
       "      <td>85123A</td>\n",
       "      <td>6</td>\n",
       "      <td>2010-12-01 08:26:00</td>\n",
       "      <td>2.55</td>\n",
       "      <td>17850</td>\n",
       "      <td>United Kingdom</td>\n",
       "      <td>False</td>\n",
       "      <td>WHITE HANGING HEART T-LIGHT HOLDER</td>\n",
       "    </tr>\n",
       "    <tr>\n",
       "      <th>1</th>\n",
       "      <td>536373</td>\n",
       "      <td>85123A</td>\n",
       "      <td>6</td>\n",
       "      <td>2010-12-01 09:02:00</td>\n",
       "      <td>2.55</td>\n",
       "      <td>17850</td>\n",
       "      <td>United Kingdom</td>\n",
       "      <td>False</td>\n",
       "      <td>WHITE HANGING HEART T-LIGHT HOLDER</td>\n",
       "    </tr>\n",
       "    <tr>\n",
       "      <th>2</th>\n",
       "      <td>536375</td>\n",
       "      <td>85123A</td>\n",
       "      <td>6</td>\n",
       "      <td>2010-12-01 09:32:00</td>\n",
       "      <td>2.55</td>\n",
       "      <td>17850</td>\n",
       "      <td>United Kingdom</td>\n",
       "      <td>False</td>\n",
       "      <td>WHITE HANGING HEART T-LIGHT HOLDER</td>\n",
       "    </tr>\n",
       "    <tr>\n",
       "      <th>3</th>\n",
       "      <td>536390</td>\n",
       "      <td>85123A</td>\n",
       "      <td>64</td>\n",
       "      <td>2010-12-01 10:19:00</td>\n",
       "      <td>2.55</td>\n",
       "      <td>17511</td>\n",
       "      <td>United Kingdom</td>\n",
       "      <td>False</td>\n",
       "      <td>WHITE HANGING HEART T-LIGHT HOLDER</td>\n",
       "    </tr>\n",
       "    <tr>\n",
       "      <th>4</th>\n",
       "      <td>536394</td>\n",
       "      <td>85123A</td>\n",
       "      <td>32</td>\n",
       "      <td>2010-12-01 10:39:00</td>\n",
       "      <td>2.55</td>\n",
       "      <td>13408</td>\n",
       "      <td>United Kingdom</td>\n",
       "      <td>False</td>\n",
       "      <td>WHITE HANGING HEART T-LIGHT HOLDER</td>\n",
       "    </tr>\n",
       "    <tr>\n",
       "      <th>5</th>\n",
       "      <td>536396</td>\n",
       "      <td>85123A</td>\n",
       "      <td>6</td>\n",
       "      <td>2010-12-01 10:51:00</td>\n",
       "      <td>2.55</td>\n",
       "      <td>17850</td>\n",
       "      <td>United Kingdom</td>\n",
       "      <td>False</td>\n",
       "      <td>WHITE HANGING HEART T-LIGHT HOLDER</td>\n",
       "    </tr>\n",
       "    <tr>\n",
       "      <th>6</th>\n",
       "      <td>536401</td>\n",
       "      <td>85123A</td>\n",
       "      <td>4</td>\n",
       "      <td>2010-12-01 11:21:00</td>\n",
       "      <td>2.95</td>\n",
       "      <td>15862</td>\n",
       "      <td>United Kingdom</td>\n",
       "      <td>False</td>\n",
       "      <td>WHITE HANGING HEART T-LIGHT HOLDER</td>\n",
       "    </tr>\n",
       "    <tr>\n",
       "      <th>7</th>\n",
       "      <td>536406</td>\n",
       "      <td>85123A</td>\n",
       "      <td>8</td>\n",
       "      <td>2010-12-01 11:33:00</td>\n",
       "      <td>2.55</td>\n",
       "      <td>17850</td>\n",
       "      <td>United Kingdom</td>\n",
       "      <td>False</td>\n",
       "      <td>WHITE HANGING HEART T-LIGHT HOLDER</td>\n",
       "    </tr>\n",
       "    <tr>\n",
       "      <th>8</th>\n",
       "      <td>536502</td>\n",
       "      <td>85123A</td>\n",
       "      <td>6</td>\n",
       "      <td>2010-12-01 12:36:00</td>\n",
       "      <td>2.95</td>\n",
       "      <td>16552</td>\n",
       "      <td>United Kingdom</td>\n",
       "      <td>False</td>\n",
       "      <td>WHITE HANGING HEART T-LIGHT HOLDER</td>\n",
       "    </tr>\n",
       "    <tr>\n",
       "      <th>9</th>\n",
       "      <td>536520</td>\n",
       "      <td>85123A</td>\n",
       "      <td>3</td>\n",
       "      <td>2010-12-01 12:43:00</td>\n",
       "      <td>2.95</td>\n",
       "      <td>14729</td>\n",
       "      <td>United Kingdom</td>\n",
       "      <td>False</td>\n",
       "      <td>WHITE HANGING HEART T-LIGHT HOLDER</td>\n",
       "    </tr>\n",
       "    <tr>\n",
       "      <th>10</th>\n",
       "      <td>536542</td>\n",
       "      <td>85123A</td>\n",
       "      <td>32</td>\n",
       "      <td>2010-12-01 14:11:00</td>\n",
       "      <td>2.95</td>\n",
       "      <td>16456</td>\n",
       "      <td>United Kingdom</td>\n",
       "      <td>False</td>\n",
       "      <td>WHITE HANGING HEART T-LIGHT HOLDER</td>\n",
       "    </tr>\n",
       "    <tr>\n",
       "      <th>11</th>\n",
       "      <td>536544</td>\n",
       "      <td>85123A</td>\n",
       "      <td>4</td>\n",
       "      <td>2010-12-01 14:32:00</td>\n",
       "      <td>5.91</td>\n",
       "      <td>missing_cust_id_536544</td>\n",
       "      <td>United Kingdom</td>\n",
       "      <td>False</td>\n",
       "      <td>WHITE HANGING HEART T-LIGHT HOLDER</td>\n",
       "    </tr>\n",
       "    <tr>\n",
       "      <th>12</th>\n",
       "      <td>536575</td>\n",
       "      <td>85123A</td>\n",
       "      <td>128</td>\n",
       "      <td>2010-12-01 16:01:00</td>\n",
       "      <td>2.55</td>\n",
       "      <td>13777</td>\n",
       "      <td>United Kingdom</td>\n",
       "      <td>False</td>\n",
       "      <td>WHITE HANGING HEART T-LIGHT HOLDER</td>\n",
       "    </tr>\n",
       "    <tr>\n",
       "      <th>13</th>\n",
       "      <td>536576</td>\n",
       "      <td>85123A</td>\n",
       "      <td>128</td>\n",
       "      <td>2010-12-01 16:11:00</td>\n",
       "      <td>2.55</td>\n",
       "      <td>13777</td>\n",
       "      <td>United Kingdom</td>\n",
       "      <td>False</td>\n",
       "      <td>WHITE HANGING HEART T-LIGHT HOLDER</td>\n",
       "    </tr>\n",
       "  </tbody>\n",
       "</table>\n",
       "</div>"
      ],
      "text/plain": [
       "   Invoice_Number Product_Code  Quantity        Invoice_Date  Unit_Price  \\\n",
       "0          536365       85123A         6 2010-12-01 08:26:00        2.55   \n",
       "1          536373       85123A         6 2010-12-01 09:02:00        2.55   \n",
       "2          536375       85123A         6 2010-12-01 09:32:00        2.55   \n",
       "3          536390       85123A        64 2010-12-01 10:19:00        2.55   \n",
       "4          536394       85123A        32 2010-12-01 10:39:00        2.55   \n",
       "5          536396       85123A         6 2010-12-01 10:51:00        2.55   \n",
       "6          536401       85123A         4 2010-12-01 11:21:00        2.95   \n",
       "7          536406       85123A         8 2010-12-01 11:33:00        2.55   \n",
       "8          536502       85123A         6 2010-12-01 12:36:00        2.95   \n",
       "9          536520       85123A         3 2010-12-01 12:43:00        2.95   \n",
       "10         536542       85123A        32 2010-12-01 14:11:00        2.95   \n",
       "11         536544       85123A         4 2010-12-01 14:32:00        5.91   \n",
       "12         536575       85123A       128 2010-12-01 16:01:00        2.55   \n",
       "13         536576       85123A       128 2010-12-01 16:11:00        2.55   \n",
       "\n",
       "               Customer_ID         Country  Cancellation  \\\n",
       "0                    17850  United Kingdom         False   \n",
       "1                    17850  United Kingdom         False   \n",
       "2                    17850  United Kingdom         False   \n",
       "3                    17511  United Kingdom         False   \n",
       "4                    13408  United Kingdom         False   \n",
       "5                    17850  United Kingdom         False   \n",
       "6                    15862  United Kingdom         False   \n",
       "7                    17850  United Kingdom         False   \n",
       "8                    16552  United Kingdom         False   \n",
       "9                    14729  United Kingdom         False   \n",
       "10                   16456  United Kingdom         False   \n",
       "11  missing_cust_id_536544  United Kingdom         False   \n",
       "12                   13777  United Kingdom         False   \n",
       "13                   13777  United Kingdom         False   \n",
       "\n",
       "                           Description  \n",
       "0   WHITE HANGING HEART T-LIGHT HOLDER  \n",
       "1   WHITE HANGING HEART T-LIGHT HOLDER  \n",
       "2   WHITE HANGING HEART T-LIGHT HOLDER  \n",
       "3   WHITE HANGING HEART T-LIGHT HOLDER  \n",
       "4   WHITE HANGING HEART T-LIGHT HOLDER  \n",
       "5   WHITE HANGING HEART T-LIGHT HOLDER  \n",
       "6   WHITE HANGING HEART T-LIGHT HOLDER  \n",
       "7   WHITE HANGING HEART T-LIGHT HOLDER  \n",
       "8   WHITE HANGING HEART T-LIGHT HOLDER  \n",
       "9   WHITE HANGING HEART T-LIGHT HOLDER  \n",
       "10  WHITE HANGING HEART T-LIGHT HOLDER  \n",
       "11  WHITE HANGING HEART T-LIGHT HOLDER  \n",
       "12  WHITE HANGING HEART T-LIGHT HOLDER  \n",
       "13  WHITE HANGING HEART T-LIGHT HOLDER  "
      ]
     },
     "execution_count": 28,
     "metadata": {},
     "output_type": "execute_result"
    }
   ],
   "source": [
    "df.loc[df.Customer_ID.isna(), 'Customer_ID'] = 'missing_cust_id_'+df.loc[df.Customer_ID.isna(), 'Invoice_Number']\n",
    "df.head(14)"
   ]
  },
  {
   "cell_type": "markdown",
   "metadata": {},
   "source": [
    "### Amount Spent= Quantity * Unit_price"
   ]
  },
  {
   "cell_type": "code",
   "execution_count": 29,
   "metadata": {},
   "outputs": [],
   "source": [
    "df.loc[:, 'Amount_Spent'] = df.Quantity * df.Unit_Price"
   ]
  },
  {
   "cell_type": "markdown",
   "metadata": {},
   "source": [
    "### Top-n customer with highest money spent"
   ]
  },
  {
   "cell_type": "code",
   "execution_count": 30,
   "metadata": {
    "scrolled": true
   },
   "outputs": [
    {
     "data": {
      "text/plain": [
       "<matplotlib.axes._subplots.AxesSubplot at 0x17cbde55b88>"
      ]
     },
     "execution_count": 30,
     "metadata": {},
     "output_type": "execute_result"
    },
    {
     "data": {
      "image/png": "[encoded data removed]",
      "text/plain": [
       "<Figure size 432x288 with 1 Axes>"
      ]
     },
     "metadata": {
      "needs_background": "light"
     },
     "output_type": "display_data"
    }
   ],
   "source": [
    "temp_df = df.groupby(['Customer_ID'])['Amount_Spent'].sum().sort_values(ascending=False).iloc[0:10].reset_index()\n",
    "sns.barplot(x='Customer_ID', y=\"Amount_Spent\", data=temp_df, order=temp_df.sort_values('Amount_Spent', ascending=False).Customer_ID)"
   ]
  },
  {
   "cell_type": "markdown",
   "metadata": {},
   "source": [
    "### Top-n customer with highest number of order"
   ]
  },
  {
   "cell_type": "code",
   "execution_count": 31,
   "metadata": {},
   "outputs": [
    {
     "data": {
      "text/plain": [
       "<matplotlib.axes._subplots.AxesSubplot at 0x17cc88d7588>"
      ]
     },
     "execution_count": 31,
     "metadata": {},
     "output_type": "execute_result"
    },
    {
     "data": {
      "image/png": "[encoded data removed]",
      "text/plain": [
       "<Figure size 432x288 with 1 Axes>"
      ]
     },
     "metadata": {
      "needs_background": "light"
     },
     "output_type": "display_data"
    }
   ],
   "source": [
    "temp_df = df.groupby(['Customer_ID'])['Invoice_Number'].nunique().sort_values(ascending=False).iloc[0:10].reset_index()\n",
    "sns.barplot(x='Customer_ID', y=\"Invoice_Number\", data=temp_df, order=temp_df.sort_values('Invoice_Number', ascending=False).Customer_ID)"
   ]
  },
  {
   "cell_type": "markdown",
   "metadata": {},
   "source": [
    "### Top-n countries with most order"
   ]
  },
  {
   "cell_type": "code",
   "execution_count": 32,
   "metadata": {},
   "outputs": [
    {
     "data": {
      "image/png": "[encoded data removed]",
      "text/plain": [
       "<Figure size 432x288 with 1 Axes>"
      ]
     },
     "metadata": {
      "needs_background": "light"
     },
     "output_type": "display_data"
    }
   ],
   "source": [
    "temp_df = df.groupby(['Country'])['Invoice_Number'].nunique().sort_values(ascending=False).iloc[0:10].reset_index()\n",
    "sns.barplot(y='Country', x=\"Invoice_Number\", data=temp_df)\n",
    "plt.show()"
   ]
  },
  {
   "cell_type": "markdown",
   "metadata": {},
   "source": [
    "### Top-n countries with most revenue"
   ]
  },
  {
   "cell_type": "code",
   "execution_count": 33,
   "metadata": {},
   "outputs": [
    {
     "data": {
      "image/png": "[encoded data removed]",
      "text/plain": [
       "<Figure size 432x288 with 1 Axes>"
      ]
     },
     "metadata": {
      "needs_background": "light"
     },
     "output_type": "display_data"
    }
   ],
   "source": [
    "temp_df = df.groupby(['Country'])['Amount_Spent'].sum().sort_values(ascending=False).iloc[0:10].reset_index()\n",
    "sns.barplot(y='Country', x=\"Amount_Spent\", data=temp_df)\n",
    "plt.show()"
   ]
  },
  {
   "cell_type": "markdown",
   "metadata": {},
   "source": [
    "## Top-5 countries with top-3 customer id as per total number of order"
   ]
  },
  {
   "cell_type": "code",
   "execution_count": 34,
   "metadata": {},
   "outputs": [
    {
     "data": {
      "image/png": "[encoded data removed]",
      "text/plain": [
       "<Figure size 1152x432 with 1 Axes>"
      ]
     },
     "metadata": {
      "needs_background": "light"
     },
     "output_type": "display_data"
    }
   ],
   "source": [
    "temp_df = df.loc[df.Country.isin(df.Country.value_counts().iloc[0:5].index.to_list())].groupby(['Country', 'Customer_ID']).count().reset_index().sort_values(['Country', 'Invoice_Number'], ascending=False).groupby('Country').head(3)\n",
    "plt.figure(figsize=(16, 6))\n",
    "sns.barplot(x='Customer_ID', y=\"Invoice_Number\", hue='Country', data=temp_df, order=temp_df.sort_values(['Country','Invoice_Number'], ascending=False).Customer_ID)\n",
    "plt.show()"
   ]
  },
  {
   "cell_type": "markdown",
   "metadata": {},
   "source": [
    "### Number of orders per year"
   ]
  },
  {
   "cell_type": "code",
   "execution_count": 35,
   "metadata": {},
   "outputs": [
    {
     "data": {
      "image/png": "[encoded data removed]",
      "text/plain": [
       "<Figure size 432x288 with 1 Axes>"
      ]
     },
     "metadata": {
      "needs_background": "light"
     },
     "output_type": "display_data"
    }
   ],
   "source": [
    "df['year'] = df.Invoice_Date.dt.year\n",
    "temp_df = pd.DataFrame(df.groupby(['year'])['Invoice_Number'].nunique()).reset_index()\n",
    "sns.barplot(y='Invoice_Number', x=\"year\", data=temp_df)\n",
    "plt.show()"
   ]
  },
  {
   "cell_type": "markdown",
   "metadata": {},
   "source": [
    "### Number of orders per month"
   ]
  },
  {
   "cell_type": "code",
   "execution_count": 36,
   "metadata": {},
   "outputs": [
    {
     "data": {
      "image/png": "[encoded data removed]",
      "text/plain": [
       "<Figure size 432x288 with 1 Axes>"
      ]
     },
     "metadata": {
      "needs_background": "light"
     },
     "output_type": "display_data"
    }
   ],
   "source": [
    "df['month'] = df.Invoice_Date.dt.month\n",
    "temp_df = pd.DataFrame(df.groupby(['month'])['Invoice_Number'].nunique()).reset_index()\n",
    "sns.barplot(y='Invoice_Number', x=\"month\", data=temp_df)\n",
    "plt.show()"
   ]
  },
  {
   "cell_type": "markdown",
   "metadata": {},
   "source": [
    "### Number of orders per date"
   ]
  },
  {
   "cell_type": "code",
   "execution_count": 37,
   "metadata": {},
   "outputs": [
    {
     "data": {
      "image/png": "[encoded data removed]",
      "text/plain": [
       "<Figure size 720x360 with 1 Axes>"
      ]
     },
     "metadata": {
      "needs_background": "light"
     },
     "output_type": "display_data"
    }
   ],
   "source": [
    "df['day'] = df.Invoice_Date.dt.day\n",
    "plt.figure(figsize=(10, 5))\n",
    "\n",
    "temp_df = pd.DataFrame(df.groupby(['day'])['Invoice_Number'].nunique()).reset_index()\n",
    "sns.barplot(y='Invoice_Number', x='day', data=temp_df)\n",
    "plt.show()"
   ]
  },
  {
   "cell_type": "markdown",
   "metadata": {},
   "source": [
    "### Number of orders per day"
   ]
  },
  {
   "cell_type": "code",
   "execution_count": 38,
   "metadata": {},
   "outputs": [
    {
     "data": {
      "image/png": "[encoded data removed]",
      "text/plain": [
       "<Figure size 720x360 with 1 Axes>"
      ]
     },
     "metadata": {
      "needs_background": "light"
     },
     "output_type": "display_data"
    }
   ],
   "source": [
    "df['day_name'] = df.Invoice_Date.dt.day_name()\n",
    "plt.figure(figsize=(10, 5))\n",
    "\n",
    "temp_df = pd.DataFrame(df.groupby(['day_name'])['Invoice_Number'].nunique()).reset_index()\n",
    "sns.barplot(y='Invoice_Number', x='day_name', data=temp_df, order=['Sunday', 'Monday', 'Tuesday', 'Wednesday', 'Thursday', 'Friday', 'Saturday'])\n",
    "plt.show()"
   ]
  },
  {
   "cell_type": "markdown",
   "metadata": {},
   "source": [
    "### Number of order per hour"
   ]
  },
  {
   "cell_type": "code",
   "execution_count": 39,
   "metadata": {},
   "outputs": [
    {
     "data": {
      "image/png": "[encoded data removed]",
      "text/plain": [
       "<Figure size 720x360 with 1 Axes>"
      ]
     },
     "metadata": {
      "needs_background": "light"
     },
     "output_type": "display_data"
    }
   ],
   "source": [
    "df['hour_of_day'] = df.Invoice_Date.dt.hour\n",
    "plt.figure(figsize=(10, 5))\n",
    "\n",
    "temp_df = pd.DataFrame(df.groupby(['hour_of_day'])['Invoice_Number'].nunique()).reset_index()\n",
    "sns.barplot(y='Invoice_Number', x='hour_of_day', data=temp_df, order=range(24))\n",
    "plt.show()"
   ]
  },
  {
   "cell_type": "markdown",
   "metadata": {},
   "source": [
    "### Unit price univeriate plot\n",
    "1. Check for outlier\n",
    "2. Using suitable treatment try reducing effect of the outlier."
   ]
  },
  {
   "cell_type": "code",
   "execution_count": 40,
   "metadata": {
    "scrolled": true
   },
   "outputs": [
    {
     "data": {
      "image/png": "[encoded data removed]",
      "text/plain": [
       "<Figure size 720x360 with 1 Axes>"
      ]
     },
     "metadata": {
      "needs_background": "light"
     },
     "output_type": "display_data"
    },
    {
     "data": {
      "image/png": "[encoded data removed]",
      "text/plain": [
       "<Figure size 720x360 with 1 Axes>"
      ]
     },
     "metadata": {
      "needs_background": "light"
     },
     "output_type": "display_data"
    }
   ],
   "source": [
    "def list_mean(x):\n",
    "    try:\n",
    "        return sum(x) / len(x)\n",
    "    except:\n",
    "        print(x)\n",
    "        return 0\n",
    "    \n",
    "temp_df = pd.DataFrame(df.groupby(['Product_Code'])['Unit_Price'].unique()).reset_index()\n",
    "temp_df['Mean_Unit_Price'] = temp_df.Unit_Price.apply(lambda x: list_mean(x))\n",
    "plt.figure(figsize=(10, 5))\n",
    "sns.boxplot(temp_df.Mean_Unit_Price)\n",
    "plt.show()\n",
    "plt.figure(figsize=(10, 5))\n",
    "sns.boxplot(temp_df.loc[temp_df.Mean_Unit_Price<1000, 'Mean_Unit_Price'])\n",
    "plt.show()"
   ]
  },
  {
   "cell_type": "code",
   "execution_count": 41,
   "metadata": {},
   "outputs": [
    {
     "name": "stderr",
     "output_type": "stream",
     "text": [
      "c:\\users\\srikant panda\\appdata\\local\\programs\\python\\python37\\lib\\site-packages\\pandas\\core\\series.py:679: RuntimeWarning: divide by zero encountered in log\n",
      "  result = getattr(ufunc, method)(*inputs, **kwargs)\n",
      "c:\\users\\srikant panda\\appdata\\local\\programs\\python\\python37\\lib\\site-packages\\pandas\\core\\series.py:679: RuntimeWarning: invalid value encountered in log\n",
      "  result = getattr(ufunc, method)(*inputs, **kwargs)\n"
     ]
    },
    {
     "data": {
      "image/png": "[encoded data removed]",
      "text/plain": [
       "<Figure size 720x360 with 1 Axes>"
      ]
     },
     "metadata": {
      "needs_background": "light"
     },
     "output_type": "display_data"
    }
   ],
   "source": [
    "def list_mean(x):\n",
    "    try:\n",
    "        return sum(x) / len(x)\n",
    "    except:\n",
    "        print(x)\n",
    "        return 0\n",
    "\n",
    "df['Unit_Price_Norm'] = np.log(df['Unit_Price'])\n",
    "temp_df = pd.DataFrame(df.groupby(['Product_Code'])['Unit_Price_Norm'].unique()).reset_index()\n",
    "temp_df['Mean_Unit_Price_Norm'] = temp_df.Unit_Price_Norm.apply(lambda x: list_mean(x))\n",
    "plt.figure(figsize=(10, 5))\n",
    "sns.boxplot(temp_df.Mean_Unit_Price_Norm)\n",
    "plt.show()"
   ]
  },
  {
   "cell_type": "markdown",
   "metadata": {},
   "source": [
    "### Top-n product code most order"
   ]
  },
  {
   "cell_type": "code",
   "execution_count": 42,
   "metadata": {},
   "outputs": [
    {
     "data": {
      "image/png": "[encoded data removed]",
      "text/plain": [
       "<Figure size 432x288 with 1 Axes>"
      ]
     },
     "metadata": {
      "needs_background": "light"
     },
     "output_type": "display_data"
    }
   ],
   "source": [
    "temp_df = df.groupby(['Product_Code'])['Invoice_Number'].count().sort_values(ascending=False).iloc[0:10].reset_index()\n",
    "sns.barplot(y='Product_Code', x=\"Invoice_Number\", data=temp_df)\n",
    "plt.show()"
   ]
  },
  {
   "cell_type": "markdown",
   "metadata": {},
   "source": [
    "### Top-n product code most revenue"
   ]
  },
  {
   "cell_type": "code",
   "execution_count": 43,
   "metadata": {},
   "outputs": [
    {
     "data": {
      "image/png": "[encoded data removed]",
      "text/plain": [
       "<Figure size 432x288 with 1 Axes>"
      ]
     },
     "metadata": {
      "needs_background": "light"
     },
     "output_type": "display_data"
    }
   ],
   "source": [
    "temp_df = df.groupby(['Product_Code'])['Amount_Spent'].sum().sort_values(ascending=False).iloc[0:10].reset_index()\n",
    "sns.barplot(y='Product_Code', x=\"Amount_Spent\", data=temp_df)\n",
    "plt.show()"
   ]
  },
  {
   "cell_type": "markdown",
   "metadata": {},
   "source": [
    "### Product code analysis with different countries"
   ]
  },
  {
   "cell_type": "code",
   "execution_count": 44,
   "metadata": {},
   "outputs": [
    {
     "data": {
      "text/html": [
       "<style  type=\"text/css\" >\n",
       "    #T_864d2962_d08a_11ea_ae62_ace2d36c1609row0_col1 {\n",
       "            width:  10em;\n",
       "             height:  80%;\n",
       "            background:  linear-gradient(90deg,#d65f5f 100.0%, transparent 100.0%);\n",
       "        }    #T_864d2962_d08a_11ea_ae62_ace2d36c1609row0_col2 {\n",
       "            width:  10em;\n",
       "             height:  80%;\n",
       "        }    #T_864d2962_d08a_11ea_ae62_ace2d36c1609row0_col3 {\n",
       "            width:  10em;\n",
       "             height:  80%;\n",
       "            background:  linear-gradient(90deg,#d65f5f 3.4%, transparent 3.4%);\n",
       "        }    #T_864d2962_d08a_11ea_ae62_ace2d36c1609row0_col4 {\n",
       "            width:  10em;\n",
       "             height:  80%;\n",
       "            background:  linear-gradient(90deg,#d65f5f 62.9%, transparent 62.9%);\n",
       "        }    #T_864d2962_d08a_11ea_ae62_ace2d36c1609row0_col5 {\n",
       "            width:  10em;\n",
       "             height:  80%;\n",
       "            background:  linear-gradient(90deg,#d65f5f 47.6%, transparent 47.6%);\n",
       "        }    #T_864d2962_d08a_11ea_ae62_ace2d36c1609row0_col6 {\n",
       "            width:  10em;\n",
       "             height:  80%;\n",
       "            background:  linear-gradient(90deg,#d65f5f 38.5%, transparent 38.5%);\n",
       "        }    #T_864d2962_d08a_11ea_ae62_ace2d36c1609row0_col8 {\n",
       "            width:  10em;\n",
       "             height:  80%;\n",
       "            background:  linear-gradient(90deg,#d65f5f 27.3%, transparent 27.3%);\n",
       "        }    #T_864d2962_d08a_11ea_ae62_ace2d36c1609row0_col9 {\n",
       "            width:  10em;\n",
       "             height:  80%;\n",
       "            background:  linear-gradient(90deg,#d65f5f 7.7%, transparent 7.7%);\n",
       "        }    #T_864d2962_d08a_11ea_ae62_ace2d36c1609row0_col10 {\n",
       "            width:  10em;\n",
       "             height:  80%;\n",
       "        }    #T_864d2962_d08a_11ea_ae62_ace2d36c1609row1_col1 {\n",
       "            width:  10em;\n",
       "             height:  80%;\n",
       "            background:  linear-gradient(90deg,#d65f5f 81.0%, transparent 81.0%);\n",
       "        }    #T_864d2962_d08a_11ea_ae62_ace2d36c1609row1_col2 {\n",
       "            width:  10em;\n",
       "             height:  80%;\n",
       "            background:  linear-gradient(90deg,#d65f5f 56.5%, transparent 56.5%);\n",
       "        }    #T_864d2962_d08a_11ea_ae62_ace2d36c1609row1_col3 {\n",
       "            width:  10em;\n",
       "             height:  80%;\n",
       "            background:  linear-gradient(90deg,#d65f5f 64.4%, transparent 64.4%);\n",
       "        }    #T_864d2962_d08a_11ea_ae62_ace2d36c1609row1_col4 {\n",
       "            width:  10em;\n",
       "             height:  80%;\n",
       "            background:  linear-gradient(90deg,#d65f5f 18.6%, transparent 18.6%);\n",
       "        }    #T_864d2962_d08a_11ea_ae62_ace2d36c1609row1_col5 {\n",
       "            width:  10em;\n",
       "             height:  80%;\n",
       "            background:  linear-gradient(90deg,#d65f5f 19.0%, transparent 19.0%);\n",
       "        }    #T_864d2962_d08a_11ea_ae62_ace2d36c1609row1_col6 {\n",
       "            width:  10em;\n",
       "             height:  80%;\n",
       "            background:  linear-gradient(90deg,#d65f5f 100.0%, transparent 100.0%);\n",
       "        }    #T_864d2962_d08a_11ea_ae62_ace2d36c1609row1_col7 {\n",
       "            width:  10em;\n",
       "             height:  80%;\n",
       "            background:  linear-gradient(90deg,#d65f5f 64.3%, transparent 64.3%);\n",
       "        }    #T_864d2962_d08a_11ea_ae62_ace2d36c1609row1_col8 {\n",
       "            width:  10em;\n",
       "             height:  80%;\n",
       "            background:  linear-gradient(90deg,#d65f5f 18.2%, transparent 18.2%);\n",
       "        }    #T_864d2962_d08a_11ea_ae62_ace2d36c1609row1_col9 {\n",
       "            width:  10em;\n",
       "             height:  80%;\n",
       "            background:  linear-gradient(90deg,#d65f5f 53.8%, transparent 53.8%);\n",
       "        }    #T_864d2962_d08a_11ea_ae62_ace2d36c1609row1_col10 {\n",
       "            width:  10em;\n",
       "             height:  80%;\n",
       "            background:  linear-gradient(90deg,#d65f5f 37.5%, transparent 37.5%);\n",
       "        }    #T_864d2962_d08a_11ea_ae62_ace2d36c1609row2_col1 {\n",
       "            width:  10em;\n",
       "             height:  80%;\n",
       "            background:  linear-gradient(90deg,#d65f5f 57.6%, transparent 57.6%);\n",
       "        }    #T_864d2962_d08a_11ea_ae62_ace2d36c1609row2_col2 {\n",
       "            width:  10em;\n",
       "             height:  80%;\n",
       "            background:  linear-gradient(90deg,#d65f5f 100.0%, transparent 100.0%);\n",
       "        }    #T_864d2962_d08a_11ea_ae62_ace2d36c1609row2_col3 {\n",
       "            width:  10em;\n",
       "             height:  80%;\n",
       "            background:  linear-gradient(90deg,#d65f5f 81.4%, transparent 81.4%);\n",
       "        }    #T_864d2962_d08a_11ea_ae62_ace2d36c1609row2_col4 {\n",
       "            width:  10em;\n",
       "             height:  80%;\n",
       "            background:  linear-gradient(90deg,#d65f5f 100.0%, transparent 100.0%);\n",
       "        }    #T_864d2962_d08a_11ea_ae62_ace2d36c1609row2_col5 {\n",
       "            width:  10em;\n",
       "             height:  80%;\n",
       "            background:  linear-gradient(90deg,#d65f5f 100.0%, transparent 100.0%);\n",
       "        }    #T_864d2962_d08a_11ea_ae62_ace2d36c1609row2_col6 {\n",
       "            width:  10em;\n",
       "             height:  80%;\n",
       "            background:  linear-gradient(90deg,#d65f5f 61.5%, transparent 61.5%);\n",
       "        }    #T_864d2962_d08a_11ea_ae62_ace2d36c1609row2_col7 {\n",
       "            width:  10em;\n",
       "             height:  80%;\n",
       "            background:  linear-gradient(90deg,#d65f5f 100.0%, transparent 100.0%);\n",
       "        }    #T_864d2962_d08a_11ea_ae62_ace2d36c1609row2_col8 {\n",
       "            width:  10em;\n",
       "             height:  80%;\n",
       "            background:  linear-gradient(90deg,#d65f5f 100.0%, transparent 100.0%);\n",
       "        }    #T_864d2962_d08a_11ea_ae62_ace2d36c1609row2_col9 {\n",
       "            width:  10em;\n",
       "             height:  80%;\n",
       "            background:  linear-gradient(90deg,#d65f5f 30.8%, transparent 30.8%);\n",
       "        }    #T_864d2962_d08a_11ea_ae62_ace2d36c1609row2_col10 {\n",
       "            width:  10em;\n",
       "             height:  80%;\n",
       "            background:  linear-gradient(90deg,#d65f5f 62.5%, transparent 62.5%);\n",
       "        }    #T_864d2962_d08a_11ea_ae62_ace2d36c1609row3_col1 {\n",
       "            width:  10em;\n",
       "             height:  80%;\n",
       "            background:  linear-gradient(90deg,#d65f5f 48.9%, transparent 48.9%);\n",
       "        }    #T_864d2962_d08a_11ea_ae62_ace2d36c1609row3_col2 {\n",
       "            width:  10em;\n",
       "             height:  80%;\n",
       "            background:  linear-gradient(90deg,#d65f5f 6.5%, transparent 6.5%);\n",
       "        }    #T_864d2962_d08a_11ea_ae62_ace2d36c1609row3_col3 {\n",
       "            width:  10em;\n",
       "             height:  80%;\n",
       "            background:  linear-gradient(90deg,#d65f5f 35.6%, transparent 35.6%);\n",
       "        }    #T_864d2962_d08a_11ea_ae62_ace2d36c1609row3_col4 {\n",
       "            width:  10em;\n",
       "             height:  80%;\n",
       "            background:  linear-gradient(90deg,#d65f5f 27.1%, transparent 27.1%);\n",
       "        }    #T_864d2962_d08a_11ea_ae62_ace2d36c1609row3_col5 {\n",
       "            width:  10em;\n",
       "             height:  80%;\n",
       "            background:  linear-gradient(90deg,#d65f5f 33.3%, transparent 33.3%);\n",
       "        }    #T_864d2962_d08a_11ea_ae62_ace2d36c1609row3_col6 {\n",
       "            width:  10em;\n",
       "             height:  80%;\n",
       "        }    #T_864d2962_d08a_11ea_ae62_ace2d36c1609row3_col7 {\n",
       "            width:  10em;\n",
       "             height:  80%;\n",
       "            background:  linear-gradient(90deg,#d65f5f 7.1%, transparent 7.1%);\n",
       "        }    #T_864d2962_d08a_11ea_ae62_ace2d36c1609row3_col8 {\n",
       "            width:  10em;\n",
       "             height:  80%;\n",
       "            background:  linear-gradient(90deg,#d65f5f 36.4%, transparent 36.4%);\n",
       "        }    #T_864d2962_d08a_11ea_ae62_ace2d36c1609row3_col10 {\n",
       "            width:  10em;\n",
       "             height:  80%;\n",
       "            background:  linear-gradient(90deg,#d65f5f 87.5%, transparent 87.5%);\n",
       "        }    #T_864d2962_d08a_11ea_ae62_ace2d36c1609row4_col1 {\n",
       "            width:  10em;\n",
       "             height:  80%;\n",
       "            background:  linear-gradient(90deg,#d65f5f 30.6%, transparent 30.6%);\n",
       "        }    #T_864d2962_d08a_11ea_ae62_ace2d36c1609row4_col2 {\n",
       "            width:  10em;\n",
       "             height:  80%;\n",
       "            background:  linear-gradient(90deg,#d65f5f 30.6%, transparent 30.6%);\n",
       "        }    #T_864d2962_d08a_11ea_ae62_ace2d36c1609row4_col3 {\n",
       "            width:  10em;\n",
       "             height:  80%;\n",
       "            background:  linear-gradient(90deg,#d65f5f 100.0%, transparent 100.0%);\n",
       "        }    #T_864d2962_d08a_11ea_ae62_ace2d36c1609row4_col4 {\n",
       "            width:  10em;\n",
       "             height:  80%;\n",
       "            background:  linear-gradient(90deg,#d65f5f 20.0%, transparent 20.0%);\n",
       "        }    #T_864d2962_d08a_11ea_ae62_ace2d36c1609row4_col5 {\n",
       "            width:  10em;\n",
       "             height:  80%;\n",
       "            background:  linear-gradient(90deg,#d65f5f 33.3%, transparent 33.3%);\n",
       "        }    #T_864d2962_d08a_11ea_ae62_ace2d36c1609row4_col6 {\n",
       "            width:  10em;\n",
       "             height:  80%;\n",
       "            background:  linear-gradient(90deg,#d65f5f 69.2%, transparent 69.2%);\n",
       "        }    #T_864d2962_d08a_11ea_ae62_ace2d36c1609row4_col7 {\n",
       "            width:  10em;\n",
       "             height:  80%;\n",
       "            background:  linear-gradient(90deg,#d65f5f 78.6%, transparent 78.6%);\n",
       "        }    #T_864d2962_d08a_11ea_ae62_ace2d36c1609row4_col8 {\n",
       "            width:  10em;\n",
       "             height:  80%;\n",
       "            background:  linear-gradient(90deg,#d65f5f 45.5%, transparent 45.5%);\n",
       "        }    #T_864d2962_d08a_11ea_ae62_ace2d36c1609row4_col9 {\n",
       "            width:  10em;\n",
       "             height:  80%;\n",
       "            background:  linear-gradient(90deg,#d65f5f 100.0%, transparent 100.0%);\n",
       "        }    #T_864d2962_d08a_11ea_ae62_ace2d36c1609row4_col10 {\n",
       "            width:  10em;\n",
       "             height:  80%;\n",
       "            background:  linear-gradient(90deg,#d65f5f 87.5%, transparent 87.5%);\n",
       "        }    #T_864d2962_d08a_11ea_ae62_ace2d36c1609row5_col1 {\n",
       "            width:  10em;\n",
       "             height:  80%;\n",
       "            background:  linear-gradient(90deg,#d65f5f 29.0%, transparent 29.0%);\n",
       "        }    #T_864d2962_d08a_11ea_ae62_ace2d36c1609row5_col2 {\n",
       "            width:  10em;\n",
       "             height:  80%;\n",
       "            background:  linear-gradient(90deg,#d65f5f 16.1%, transparent 16.1%);\n",
       "        }    #T_864d2962_d08a_11ea_ae62_ace2d36c1609row5_col3 {\n",
       "            width:  10em;\n",
       "             height:  80%;\n",
       "            background:  linear-gradient(90deg,#d65f5f 27.1%, transparent 27.1%);\n",
       "        }    #T_864d2962_d08a_11ea_ae62_ace2d36c1609row5_col4 {\n",
       "            width:  10em;\n",
       "             height:  80%;\n",
       "            background:  linear-gradient(90deg,#d65f5f 25.7%, transparent 25.7%);\n",
       "        }    #T_864d2962_d08a_11ea_ae62_ace2d36c1609row5_col5 {\n",
       "            width:  10em;\n",
       "             height:  80%;\n",
       "            background:  linear-gradient(90deg,#d65f5f 52.4%, transparent 52.4%);\n",
       "        }    #T_864d2962_d08a_11ea_ae62_ace2d36c1609row5_col6 {\n",
       "            width:  10em;\n",
       "             height:  80%;\n",
       "            background:  linear-gradient(90deg,#d65f5f 7.7%, transparent 7.7%);\n",
       "        }    #T_864d2962_d08a_11ea_ae62_ace2d36c1609row5_col7 {\n",
       "            width:  10em;\n",
       "             height:  80%;\n",
       "        }    #T_864d2962_d08a_11ea_ae62_ace2d36c1609row5_col8 {\n",
       "            width:  10em;\n",
       "             height:  80%;\n",
       "            background:  linear-gradient(90deg,#d65f5f 36.4%, transparent 36.4%);\n",
       "        }    #T_864d2962_d08a_11ea_ae62_ace2d36c1609row5_col9 {\n",
       "            width:  10em;\n",
       "             height:  80%;\n",
       "            background:  linear-gradient(90deg,#d65f5f 23.1%, transparent 23.1%);\n",
       "        }    #T_864d2962_d08a_11ea_ae62_ace2d36c1609row6_col1 {\n",
       "            width:  10em;\n",
       "             height:  80%;\n",
       "            background:  linear-gradient(90deg,#d65f5f 22.5%, transparent 22.5%);\n",
       "        }    #T_864d2962_d08a_11ea_ae62_ace2d36c1609row6_col2 {\n",
       "            width:  10em;\n",
       "             height:  80%;\n",
       "            background:  linear-gradient(90deg,#d65f5f 16.1%, transparent 16.1%);\n",
       "        }    #T_864d2962_d08a_11ea_ae62_ace2d36c1609row6_col3 {\n",
       "            width:  10em;\n",
       "             height:  80%;\n",
       "            background:  linear-gradient(90deg,#d65f5f 33.9%, transparent 33.9%);\n",
       "        }    #T_864d2962_d08a_11ea_ae62_ace2d36c1609row6_col4 {\n",
       "            width:  10em;\n",
       "             height:  80%;\n",
       "            background:  linear-gradient(90deg,#d65f5f 47.1%, transparent 47.1%);\n",
       "        }    #T_864d2962_d08a_11ea_ae62_ace2d36c1609row6_col5 {\n",
       "            width:  10em;\n",
       "             height:  80%;\n",
       "            background:  linear-gradient(90deg,#d65f5f 47.6%, transparent 47.6%);\n",
       "        }    #T_864d2962_d08a_11ea_ae62_ace2d36c1609row6_col6 {\n",
       "            width:  10em;\n",
       "             height:  80%;\n",
       "        }    #T_864d2962_d08a_11ea_ae62_ace2d36c1609row6_col7 {\n",
       "            width:  10em;\n",
       "             height:  80%;\n",
       "        }    #T_864d2962_d08a_11ea_ae62_ace2d36c1609row6_col8 {\n",
       "            width:  10em;\n",
       "             height:  80%;\n",
       "        }    #T_864d2962_d08a_11ea_ae62_ace2d36c1609row7_col1 {\n",
       "            width:  10em;\n",
       "             height:  80%;\n",
       "            background:  linear-gradient(90deg,#d65f5f 15.9%, transparent 15.9%);\n",
       "        }    #T_864d2962_d08a_11ea_ae62_ace2d36c1609row7_col2 {\n",
       "            width:  10em;\n",
       "             height:  80%;\n",
       "            background:  linear-gradient(90deg,#d65f5f 41.9%, transparent 41.9%);\n",
       "        }    #T_864d2962_d08a_11ea_ae62_ace2d36c1609row7_col3 {\n",
       "            width:  10em;\n",
       "             height:  80%;\n",
       "            background:  linear-gradient(90deg,#d65f5f 11.9%, transparent 11.9%);\n",
       "        }    #T_864d2962_d08a_11ea_ae62_ace2d36c1609row7_col4 {\n",
       "            width:  10em;\n",
       "             height:  80%;\n",
       "            background:  linear-gradient(90deg,#d65f5f 42.9%, transparent 42.9%);\n",
       "        }    #T_864d2962_d08a_11ea_ae62_ace2d36c1609row7_col5 {\n",
       "            width:  10em;\n",
       "             height:  80%;\n",
       "            background:  linear-gradient(90deg,#d65f5f 28.6%, transparent 28.6%);\n",
       "        }    #T_864d2962_d08a_11ea_ae62_ace2d36c1609row7_col6 {\n",
       "            width:  10em;\n",
       "             height:  80%;\n",
       "            background:  linear-gradient(90deg,#d65f5f 23.1%, transparent 23.1%);\n",
       "        }    #T_864d2962_d08a_11ea_ae62_ace2d36c1609row7_col7 {\n",
       "            width:  10em;\n",
       "             height:  80%;\n",
       "            background:  linear-gradient(90deg,#d65f5f 35.7%, transparent 35.7%);\n",
       "        }    #T_864d2962_d08a_11ea_ae62_ace2d36c1609row7_col9 {\n",
       "            width:  10em;\n",
       "             height:  80%;\n",
       "            background:  linear-gradient(90deg,#d65f5f 30.8%, transparent 30.8%);\n",
       "        }    #T_864d2962_d08a_11ea_ae62_ace2d36c1609row7_col10 {\n",
       "            width:  10em;\n",
       "             height:  80%;\n",
       "            background:  linear-gradient(90deg,#d65f5f 100.0%, transparent 100.0%);\n",
       "        }    #T_864d2962_d08a_11ea_ae62_ace2d36c1609row8_col1 {\n",
       "            width:  10em;\n",
       "             height:  80%;\n",
       "            background:  linear-gradient(90deg,#d65f5f 15.4%, transparent 15.4%);\n",
       "        }    #T_864d2962_d08a_11ea_ae62_ace2d36c1609row8_col2 {\n",
       "            width:  10em;\n",
       "             height:  80%;\n",
       "            background:  linear-gradient(90deg,#d65f5f 16.1%, transparent 16.1%);\n",
       "        }    #T_864d2962_d08a_11ea_ae62_ace2d36c1609row8_col3 {\n",
       "            width:  10em;\n",
       "             height:  80%;\n",
       "            background:  linear-gradient(90deg,#d65f5f 20.3%, transparent 20.3%);\n",
       "        }    #T_864d2962_d08a_11ea_ae62_ace2d36c1609row8_col4 {\n",
       "            width:  10em;\n",
       "             height:  80%;\n",
       "            background:  linear-gradient(90deg,#d65f5f 8.6%, transparent 8.6%);\n",
       "        }    #T_864d2962_d08a_11ea_ae62_ace2d36c1609row8_col5 {\n",
       "            width:  10em;\n",
       "             height:  80%;\n",
       "            background:  linear-gradient(90deg,#d65f5f 19.0%, transparent 19.0%);\n",
       "        }    #T_864d2962_d08a_11ea_ae62_ace2d36c1609row8_col6 {\n",
       "            width:  10em;\n",
       "             height:  80%;\n",
       "            background:  linear-gradient(90deg,#d65f5f 38.5%, transparent 38.5%);\n",
       "        }    #T_864d2962_d08a_11ea_ae62_ace2d36c1609row8_col7 {\n",
       "            width:  10em;\n",
       "             height:  80%;\n",
       "        }    #T_864d2962_d08a_11ea_ae62_ace2d36c1609row8_col8 {\n",
       "            width:  10em;\n",
       "             height:  80%;\n",
       "            background:  linear-gradient(90deg,#d65f5f 9.1%, transparent 9.1%);\n",
       "        }    #T_864d2962_d08a_11ea_ae62_ace2d36c1609row8_col10 {\n",
       "            width:  10em;\n",
       "             height:  80%;\n",
       "            background:  linear-gradient(90deg,#d65f5f 37.5%, transparent 37.5%);\n",
       "        }    #T_864d2962_d08a_11ea_ae62_ace2d36c1609row9_col1 {\n",
       "            width:  10em;\n",
       "             height:  80%;\n",
       "            background:  linear-gradient(90deg,#d65f5f 13.6%, transparent 13.6%);\n",
       "        }    #T_864d2962_d08a_11ea_ae62_ace2d36c1609row9_col2 {\n",
       "            width:  10em;\n",
       "             height:  80%;\n",
       "        }    #T_864d2962_d08a_11ea_ae62_ace2d36c1609row9_col3 {\n",
       "            width:  10em;\n",
       "             height:  80%;\n",
       "        }    #T_864d2962_d08a_11ea_ae62_ace2d36c1609row9_col4 {\n",
       "            width:  10em;\n",
       "             height:  80%;\n",
       "            background:  linear-gradient(90deg,#d65f5f 18.6%, transparent 18.6%);\n",
       "        }    #T_864d2962_d08a_11ea_ae62_ace2d36c1609row9_col5 {\n",
       "            width:  10em;\n",
       "             height:  80%;\n",
       "        }    #T_864d2962_d08a_11ea_ae62_ace2d36c1609row9_col7 {\n",
       "            width:  10em;\n",
       "             height:  80%;\n",
       "            background:  linear-gradient(90deg,#d65f5f 7.1%, transparent 7.1%);\n",
       "        }    #T_864d2962_d08a_11ea_ae62_ace2d36c1609row9_col9 {\n",
       "            width:  10em;\n",
       "             height:  80%;\n",
       "            background:  linear-gradient(90deg,#d65f5f 30.8%, transparent 30.8%);\n",
       "        }    #T_864d2962_d08a_11ea_ae62_ace2d36c1609row9_col10 {\n",
       "            width:  10em;\n",
       "             height:  80%;\n",
       "        }    #T_864d2962_d08a_11ea_ae62_ace2d36c1609row10_col1 {\n",
       "            width:  10em;\n",
       "             height:  80%;\n",
       "            background:  linear-gradient(90deg,#d65f5f 13.3%, transparent 13.3%);\n",
       "        }    #T_864d2962_d08a_11ea_ae62_ace2d36c1609row10_col2 {\n",
       "            width:  10em;\n",
       "             height:  80%;\n",
       "            background:  linear-gradient(90deg,#d65f5f 14.5%, transparent 14.5%);\n",
       "        }    #T_864d2962_d08a_11ea_ae62_ace2d36c1609row10_col3 {\n",
       "            width:  10em;\n",
       "             height:  80%;\n",
       "            background:  linear-gradient(90deg,#d65f5f 42.4%, transparent 42.4%);\n",
       "        }    #T_864d2962_d08a_11ea_ae62_ace2d36c1609row10_col4 {\n",
       "            width:  10em;\n",
       "             height:  80%;\n",
       "            background:  linear-gradient(90deg,#d65f5f 7.1%, transparent 7.1%);\n",
       "        }    #T_864d2962_d08a_11ea_ae62_ace2d36c1609row10_col5 {\n",
       "            width:  10em;\n",
       "             height:  80%;\n",
       "            background:  linear-gradient(90deg,#d65f5f 33.3%, transparent 33.3%);\n",
       "        }    #T_864d2962_d08a_11ea_ae62_ace2d36c1609row10_col6 {\n",
       "            width:  10em;\n",
       "             height:  80%;\n",
       "            background:  linear-gradient(90deg,#d65f5f 69.2%, transparent 69.2%);\n",
       "        }    #T_864d2962_d08a_11ea_ae62_ace2d36c1609row10_col7 {\n",
       "            width:  10em;\n",
       "             height:  80%;\n",
       "            background:  linear-gradient(90deg,#d65f5f 21.4%, transparent 21.4%);\n",
       "        }    #T_864d2962_d08a_11ea_ae62_ace2d36c1609row10_col8 {\n",
       "            width:  10em;\n",
       "             height:  80%;\n",
       "            background:  linear-gradient(90deg,#d65f5f 9.1%, transparent 9.1%);\n",
       "        }    #T_864d2962_d08a_11ea_ae62_ace2d36c1609row10_col9 {\n",
       "            width:  10em;\n",
       "             height:  80%;\n",
       "            background:  linear-gradient(90deg,#d65f5f 76.9%, transparent 76.9%);\n",
       "        }    #T_864d2962_d08a_11ea_ae62_ace2d36c1609row10_col10 {\n",
       "            width:  10em;\n",
       "             height:  80%;\n",
       "            background:  linear-gradient(90deg,#d65f5f 25.0%, transparent 25.0%);\n",
       "        }    #T_864d2962_d08a_11ea_ae62_ace2d36c1609row11_col1 {\n",
       "            width:  10em;\n",
       "             height:  80%;\n",
       "            background:  linear-gradient(90deg,#d65f5f 9.8%, transparent 9.8%);\n",
       "        }    #T_864d2962_d08a_11ea_ae62_ace2d36c1609row11_col2 {\n",
       "            width:  10em;\n",
       "             height:  80%;\n",
       "        }    #T_864d2962_d08a_11ea_ae62_ace2d36c1609row11_col3 {\n",
       "            width:  10em;\n",
       "             height:  80%;\n",
       "            background:  linear-gradient(90deg,#d65f5f 1.7%, transparent 1.7%);\n",
       "        }    #T_864d2962_d08a_11ea_ae62_ace2d36c1609row11_col4 {\n",
       "            width:  10em;\n",
       "             height:  80%;\n",
       "            background:  linear-gradient(90deg,#d65f5f 20.0%, transparent 20.0%);\n",
       "        }    #T_864d2962_d08a_11ea_ae62_ace2d36c1609row11_col5 {\n",
       "            width:  10em;\n",
       "             height:  80%;\n",
       "            background:  linear-gradient(90deg,#d65f5f 14.3%, transparent 14.3%);\n",
       "        }    #T_864d2962_d08a_11ea_ae62_ace2d36c1609row11_col8 {\n",
       "            width:  10em;\n",
       "             height:  80%;\n",
       "            background:  linear-gradient(90deg,#d65f5f 27.3%, transparent 27.3%);\n",
       "        }    #T_864d2962_d08a_11ea_ae62_ace2d36c1609row11_col9 {\n",
       "            width:  10em;\n",
       "             height:  80%;\n",
       "        }    #T_864d2962_d08a_11ea_ae62_ace2d36c1609row12_col1 {\n",
       "            width:  10em;\n",
       "             height:  80%;\n",
       "            background:  linear-gradient(90deg,#d65f5f 8.8%, transparent 8.8%);\n",
       "        }    #T_864d2962_d08a_11ea_ae62_ace2d36c1609row12_col2 {\n",
       "            width:  10em;\n",
       "             height:  80%;\n",
       "            background:  linear-gradient(90deg,#d65f5f 24.2%, transparent 24.2%);\n",
       "        }    #T_864d2962_d08a_11ea_ae62_ace2d36c1609row12_col3 {\n",
       "            width:  10em;\n",
       "             height:  80%;\n",
       "            background:  linear-gradient(90deg,#d65f5f 23.7%, transparent 23.7%);\n",
       "        }    #T_864d2962_d08a_11ea_ae62_ace2d36c1609row12_col4 {\n",
       "            width:  10em;\n",
       "             height:  80%;\n",
       "        }    #T_864d2962_d08a_11ea_ae62_ace2d36c1609row12_col5 {\n",
       "            width:  10em;\n",
       "             height:  80%;\n",
       "            background:  linear-gradient(90deg,#d65f5f 9.5%, transparent 9.5%);\n",
       "        }    #T_864d2962_d08a_11ea_ae62_ace2d36c1609row12_col6 {\n",
       "            width:  10em;\n",
       "             height:  80%;\n",
       "            background:  linear-gradient(90deg,#d65f5f 53.8%, transparent 53.8%);\n",
       "        }    #T_864d2962_d08a_11ea_ae62_ace2d36c1609row12_col7 {\n",
       "            width:  10em;\n",
       "             height:  80%;\n",
       "            background:  linear-gradient(90deg,#d65f5f 7.1%, transparent 7.1%);\n",
       "        }    #T_864d2962_d08a_11ea_ae62_ace2d36c1609row12_col9 {\n",
       "            width:  10em;\n",
       "             height:  80%;\n",
       "            background:  linear-gradient(90deg,#d65f5f 30.8%, transparent 30.8%);\n",
       "        }    #T_864d2962_d08a_11ea_ae62_ace2d36c1609row12_col10 {\n",
       "            width:  10em;\n",
       "             height:  80%;\n",
       "        }    #T_864d2962_d08a_11ea_ae62_ace2d36c1609row13_col1 {\n",
       "            width:  10em;\n",
       "             height:  80%;\n",
       "            background:  linear-gradient(90deg,#d65f5f 7.6%, transparent 7.6%);\n",
       "        }    #T_864d2962_d08a_11ea_ae62_ace2d36c1609row13_col2 {\n",
       "            width:  10em;\n",
       "             height:  80%;\n",
       "            background:  linear-gradient(90deg,#d65f5f 61.3%, transparent 61.3%);\n",
       "        }    #T_864d2962_d08a_11ea_ae62_ace2d36c1609row13_col3 {\n",
       "            width:  10em;\n",
       "             height:  80%;\n",
       "            background:  linear-gradient(90deg,#d65f5f 66.1%, transparent 66.1%);\n",
       "        }    #T_864d2962_d08a_11ea_ae62_ace2d36c1609row13_col4 {\n",
       "            width:  10em;\n",
       "             height:  80%;\n",
       "            background:  linear-gradient(90deg,#d65f5f 44.3%, transparent 44.3%);\n",
       "        }    #T_864d2962_d08a_11ea_ae62_ace2d36c1609row13_col5 {\n",
       "            width:  10em;\n",
       "             height:  80%;\n",
       "            background:  linear-gradient(90deg,#d65f5f 47.6%, transparent 47.6%);\n",
       "        }    #T_864d2962_d08a_11ea_ae62_ace2d36c1609row13_col6 {\n",
       "            width:  10em;\n",
       "             height:  80%;\n",
       "            background:  linear-gradient(90deg,#d65f5f 92.3%, transparent 92.3%);\n",
       "        }    #T_864d2962_d08a_11ea_ae62_ace2d36c1609row13_col7 {\n",
       "            width:  10em;\n",
       "             height:  80%;\n",
       "            background:  linear-gradient(90deg,#d65f5f 78.6%, transparent 78.6%);\n",
       "        }    #T_864d2962_d08a_11ea_ae62_ace2d36c1609row13_col8 {\n",
       "            width:  10em;\n",
       "             height:  80%;\n",
       "            background:  linear-gradient(90deg,#d65f5f 63.6%, transparent 63.6%);\n",
       "        }    #T_864d2962_d08a_11ea_ae62_ace2d36c1609row13_col9 {\n",
       "            width:  10em;\n",
       "             height:  80%;\n",
       "            background:  linear-gradient(90deg,#d65f5f 46.2%, transparent 46.2%);\n",
       "        }    #T_864d2962_d08a_11ea_ae62_ace2d36c1609row13_col10 {\n",
       "            width:  10em;\n",
       "             height:  80%;\n",
       "            background:  linear-gradient(90deg,#d65f5f 12.5%, transparent 12.5%);\n",
       "        }    #T_864d2962_d08a_11ea_ae62_ace2d36c1609row14_col1 {\n",
       "            width:  10em;\n",
       "             height:  80%;\n",
       "            background:  linear-gradient(90deg,#d65f5f 6.5%, transparent 6.5%);\n",
       "        }    #T_864d2962_d08a_11ea_ae62_ace2d36c1609row14_col2 {\n",
       "            width:  10em;\n",
       "             height:  80%;\n",
       "            background:  linear-gradient(90deg,#d65f5f 3.2%, transparent 3.2%);\n",
       "        }    #T_864d2962_d08a_11ea_ae62_ace2d36c1609row14_col3 {\n",
       "            width:  10em;\n",
       "             height:  80%;\n",
       "            background:  linear-gradient(90deg,#d65f5f 8.5%, transparent 8.5%);\n",
       "        }    #T_864d2962_d08a_11ea_ae62_ace2d36c1609row14_col4 {\n",
       "            width:  10em;\n",
       "             height:  80%;\n",
       "            background:  linear-gradient(90deg,#d65f5f 17.1%, transparent 17.1%);\n",
       "        }    #T_864d2962_d08a_11ea_ae62_ace2d36c1609row14_col5 {\n",
       "            width:  10em;\n",
       "             height:  80%;\n",
       "            background:  linear-gradient(90deg,#d65f5f 14.3%, transparent 14.3%);\n",
       "        }    #T_864d2962_d08a_11ea_ae62_ace2d36c1609row14_col6 {\n",
       "            width:  10em;\n",
       "             height:  80%;\n",
       "        }    #T_864d2962_d08a_11ea_ae62_ace2d36c1609row14_col8 {\n",
       "            width:  10em;\n",
       "             height:  80%;\n",
       "        }    #T_864d2962_d08a_11ea_ae62_ace2d36c1609row14_col10 {\n",
       "            width:  10em;\n",
       "             height:  80%;\n",
       "            background:  linear-gradient(90deg,#d65f5f 25.0%, transparent 25.0%);\n",
       "        }    #T_864d2962_d08a_11ea_ae62_ace2d36c1609row15_col1 {\n",
       "            width:  10em;\n",
       "             height:  80%;\n",
       "            background:  linear-gradient(90deg,#d65f5f 6.3%, transparent 6.3%);\n",
       "        }    #T_864d2962_d08a_11ea_ae62_ace2d36c1609row15_col2 {\n",
       "            width:  10em;\n",
       "             height:  80%;\n",
       "            background:  linear-gradient(90deg,#d65f5f 29.0%, transparent 29.0%);\n",
       "        }    #T_864d2962_d08a_11ea_ae62_ace2d36c1609row15_col3 {\n",
       "            width:  10em;\n",
       "             height:  80%;\n",
       "            background:  linear-gradient(90deg,#d65f5f 47.5%, transparent 47.5%);\n",
       "        }    #T_864d2962_d08a_11ea_ae62_ace2d36c1609row15_col4 {\n",
       "            width:  10em;\n",
       "             height:  80%;\n",
       "            background:  linear-gradient(90deg,#d65f5f 11.4%, transparent 11.4%);\n",
       "        }    #T_864d2962_d08a_11ea_ae62_ace2d36c1609row15_col5 {\n",
       "            width:  10em;\n",
       "             height:  80%;\n",
       "            background:  linear-gradient(90deg,#d65f5f 23.8%, transparent 23.8%);\n",
       "        }    #T_864d2962_d08a_11ea_ae62_ace2d36c1609row15_col6 {\n",
       "            width:  10em;\n",
       "             height:  80%;\n",
       "            background:  linear-gradient(90deg,#d65f5f 38.5%, transparent 38.5%);\n",
       "        }    #T_864d2962_d08a_11ea_ae62_ace2d36c1609row15_col7 {\n",
       "            width:  10em;\n",
       "             height:  80%;\n",
       "            background:  linear-gradient(90deg,#d65f5f 35.7%, transparent 35.7%);\n",
       "        }    #T_864d2962_d08a_11ea_ae62_ace2d36c1609row15_col8 {\n",
       "            width:  10em;\n",
       "             height:  80%;\n",
       "        }    #T_864d2962_d08a_11ea_ae62_ace2d36c1609row15_col9 {\n",
       "            width:  10em;\n",
       "             height:  80%;\n",
       "            background:  linear-gradient(90deg,#d65f5f 46.2%, transparent 46.2%);\n",
       "        }    #T_864d2962_d08a_11ea_ae62_ace2d36c1609row15_col10 {\n",
       "            width:  10em;\n",
       "             height:  80%;\n",
       "            background:  linear-gradient(90deg,#d65f5f 25.0%, transparent 25.0%);\n",
       "        }    #T_864d2962_d08a_11ea_ae62_ace2d36c1609row16_col1 {\n",
       "            width:  10em;\n",
       "             height:  80%;\n",
       "            background:  linear-gradient(90deg,#d65f5f 5.8%, transparent 5.8%);\n",
       "        }    #T_864d2962_d08a_11ea_ae62_ace2d36c1609row16_col2 {\n",
       "            width:  10em;\n",
       "             height:  80%;\n",
       "            background:  linear-gradient(90deg,#d65f5f 17.7%, transparent 17.7%);\n",
       "        }    #T_864d2962_d08a_11ea_ae62_ace2d36c1609row16_col3 {\n",
       "            width:  10em;\n",
       "             height:  80%;\n",
       "            background:  linear-gradient(90deg,#d65f5f 22.0%, transparent 22.0%);\n",
       "        }    #T_864d2962_d08a_11ea_ae62_ace2d36c1609row16_col4 {\n",
       "            width:  10em;\n",
       "             height:  80%;\n",
       "            background:  linear-gradient(90deg,#d65f5f 1.4%, transparent 1.4%);\n",
       "        }    #T_864d2962_d08a_11ea_ae62_ace2d36c1609row16_col5 {\n",
       "            width:  10em;\n",
       "             height:  80%;\n",
       "            background:  linear-gradient(90deg,#d65f5f 4.8%, transparent 4.8%);\n",
       "        }    #T_864d2962_d08a_11ea_ae62_ace2d36c1609row16_col6 {\n",
       "            width:  10em;\n",
       "             height:  80%;\n",
       "            background:  linear-gradient(90deg,#d65f5f 7.7%, transparent 7.7%);\n",
       "        }    #T_864d2962_d08a_11ea_ae62_ace2d36c1609row16_col7 {\n",
       "            width:  10em;\n",
       "             height:  80%;\n",
       "            background:  linear-gradient(90deg,#d65f5f 21.4%, transparent 21.4%);\n",
       "        }    #T_864d2962_d08a_11ea_ae62_ace2d36c1609row16_col8 {\n",
       "            width:  10em;\n",
       "             height:  80%;\n",
       "            background:  linear-gradient(90deg,#d65f5f 9.1%, transparent 9.1%);\n",
       "        }    #T_864d2962_d08a_11ea_ae62_ace2d36c1609row16_col9 {\n",
       "            width:  10em;\n",
       "             height:  80%;\n",
       "            background:  linear-gradient(90deg,#d65f5f 30.8%, transparent 30.8%);\n",
       "        }    #T_864d2962_d08a_11ea_ae62_ace2d36c1609row16_col10 {\n",
       "            width:  10em;\n",
       "             height:  80%;\n",
       "        }    #T_864d2962_d08a_11ea_ae62_ace2d36c1609row17_col1 {\n",
       "            width:  10em;\n",
       "             height:  80%;\n",
       "            background:  linear-gradient(90deg,#d65f5f 5.6%, transparent 5.6%);\n",
       "        }    #T_864d2962_d08a_11ea_ae62_ace2d36c1609row17_col2 {\n",
       "            width:  10em;\n",
       "             height:  80%;\n",
       "            background:  linear-gradient(90deg,#d65f5f 12.9%, transparent 12.9%);\n",
       "        }    #T_864d2962_d08a_11ea_ae62_ace2d36c1609row17_col3 {\n",
       "            width:  10em;\n",
       "             height:  80%;\n",
       "            background:  linear-gradient(90deg,#d65f5f 3.4%, transparent 3.4%);\n",
       "        }    #T_864d2962_d08a_11ea_ae62_ace2d36c1609row17_col4 {\n",
       "            width:  10em;\n",
       "             height:  80%;\n",
       "            background:  linear-gradient(90deg,#d65f5f 7.1%, transparent 7.1%);\n",
       "        }    #T_864d2962_d08a_11ea_ae62_ace2d36c1609row17_col5 {\n",
       "            width:  10em;\n",
       "             height:  80%;\n",
       "        }    #T_864d2962_d08a_11ea_ae62_ace2d36c1609row17_col6 {\n",
       "            width:  10em;\n",
       "             height:  80%;\n",
       "            background:  linear-gradient(90deg,#d65f5f 15.4%, transparent 15.4%);\n",
       "        }    #T_864d2962_d08a_11ea_ae62_ace2d36c1609row17_col8 {\n",
       "            width:  10em;\n",
       "             height:  80%;\n",
       "        }    #T_864d2962_d08a_11ea_ae62_ace2d36c1609row17_col9 {\n",
       "            width:  10em;\n",
       "             height:  80%;\n",
       "            background:  linear-gradient(90deg,#d65f5f 76.9%, transparent 76.9%);\n",
       "        }    #T_864d2962_d08a_11ea_ae62_ace2d36c1609row17_col10 {\n",
       "            width:  10em;\n",
       "             height:  80%;\n",
       "        }    #T_864d2962_d08a_11ea_ae62_ace2d36c1609row18_col1 {\n",
       "            width:  10em;\n",
       "             height:  80%;\n",
       "            background:  linear-gradient(90deg,#d65f5f 0.5%, transparent 0.5%);\n",
       "        }    #T_864d2962_d08a_11ea_ae62_ace2d36c1609row18_col2 {\n",
       "            width:  10em;\n",
       "             height:  80%;\n",
       "            background:  linear-gradient(90deg,#d65f5f 9.7%, transparent 9.7%);\n",
       "        }    #T_864d2962_d08a_11ea_ae62_ace2d36c1609row18_col3 {\n",
       "            width:  10em;\n",
       "             height:  80%;\n",
       "            background:  linear-gradient(90deg,#d65f5f 1.7%, transparent 1.7%);\n",
       "        }    #T_864d2962_d08a_11ea_ae62_ace2d36c1609row18_col4 {\n",
       "            width:  10em;\n",
       "             height:  80%;\n",
       "            background:  linear-gradient(90deg,#d65f5f 7.1%, transparent 7.1%);\n",
       "        }    #T_864d2962_d08a_11ea_ae62_ace2d36c1609row18_col5 {\n",
       "            width:  10em;\n",
       "             height:  80%;\n",
       "            background:  linear-gradient(90deg,#d65f5f 9.5%, transparent 9.5%);\n",
       "        }    #T_864d2962_d08a_11ea_ae62_ace2d36c1609row19_col1 {\n",
       "            width:  10em;\n",
       "             height:  80%;\n",
       "        }    #T_864d2962_d08a_11ea_ae62_ace2d36c1609row19_col2 {\n",
       "            width:  10em;\n",
       "             height:  80%;\n",
       "            background:  linear-gradient(90deg,#d65f5f 16.1%, transparent 16.1%);\n",
       "        }    #T_864d2962_d08a_11ea_ae62_ace2d36c1609row19_col3 {\n",
       "            width:  10em;\n",
       "             height:  80%;\n",
       "            background:  linear-gradient(90deg,#d65f5f 16.9%, transparent 16.9%);\n",
       "        }    #T_864d2962_d08a_11ea_ae62_ace2d36c1609row19_col4 {\n",
       "            width:  10em;\n",
       "             height:  80%;\n",
       "            background:  linear-gradient(90deg,#d65f5f 18.6%, transparent 18.6%);\n",
       "        }    #T_864d2962_d08a_11ea_ae62_ace2d36c1609row19_col5 {\n",
       "            width:  10em;\n",
       "             height:  80%;\n",
       "            background:  linear-gradient(90deg,#d65f5f 23.8%, transparent 23.8%);\n",
       "        }    #T_864d2962_d08a_11ea_ae62_ace2d36c1609row19_col6 {\n",
       "            width:  10em;\n",
       "             height:  80%;\n",
       "            background:  linear-gradient(90deg,#d65f5f 30.8%, transparent 30.8%);\n",
       "        }    #T_864d2962_d08a_11ea_ae62_ace2d36c1609row19_col7 {\n",
       "            width:  10em;\n",
       "             height:  80%;\n",
       "            background:  linear-gradient(90deg,#d65f5f 21.4%, transparent 21.4%);\n",
       "        }    #T_864d2962_d08a_11ea_ae62_ace2d36c1609row19_col8 {\n",
       "            width:  10em;\n",
       "             height:  80%;\n",
       "            background:  linear-gradient(90deg,#d65f5f 45.5%, transparent 45.5%);\n",
       "        }    #T_864d2962_d08a_11ea_ae62_ace2d36c1609row19_col9 {\n",
       "            width:  10em;\n",
       "             height:  80%;\n",
       "            background:  linear-gradient(90deg,#d65f5f 84.6%, transparent 84.6%);\n",
       "        }    #T_864d2962_d08a_11ea_ae62_ace2d36c1609row19_col10 {\n",
       "            width:  10em;\n",
       "             height:  80%;\n",
       "            background:  linear-gradient(90deg,#d65f5f 25.0%, transparent 25.0%);\n",
       "        }</style><table id=\"T_864d2962_d08a_11ea_ae62_ace2d36c1609\" ><thead>    <tr>        <th class=\"blank level0\" ></th>        <th class=\"col_heading level0 col0\" >Product_Code</th>        <th class=\"col_heading level0 col1\" >Occ_United Kingdom</th>        <th class=\"col_heading level0 col2\" >Occ_Germany</th>        <th class=\"col_heading level0 col3\" >Occ_France</th>        <th class=\"col_heading level0 col4\" >Occ_EIRE</th>        <th class=\"col_heading level0 col5\" >Occ_Spain</th>        <th class=\"col_heading level0 col6\" >Occ_Netherlands</th>        <th class=\"col_heading level0 col7\" >Occ_Belgium</th>        <th class=\"col_heading level0 col8\" >Occ_Switzerland</th>        <th class=\"col_heading level0 col9\" >Occ_Portugal</th>        <th class=\"col_heading level0 col10\" >Occ_Australia</th>    </tr></thead><tbody>\n",
       "                <tr>\n",
       "                        <th id=\"T_864d2962_d08a_11ea_ae62_ace2d36c1609level0_row0\" class=\"row_heading level0 row0\" >0</th>\n",
       "                        <td id=\"T_864d2962_d08a_11ea_ae62_ace2d36c1609row0_col0\" class=\"data row0 col0\" >85123A</td>\n",
       "                        <td id=\"T_864d2962_d08a_11ea_ae62_ace2d36c1609row0_col1\" class=\"data row0 col1\" >0.004496</td>\n",
       "                        <td id=\"T_864d2962_d08a_11ea_ae62_ace2d36c1609row0_col2\" class=\"data row0 col2\" >0.000111</td>\n",
       "                        <td id=\"T_864d2962_d08a_11ea_ae62_ace2d36c1609row0_col3\" class=\"data row0 col3\" >0.000357</td>\n",
       "                        <td id=\"T_864d2962_d08a_11ea_ae62_ace2d36c1609row0_col4\" class=\"data row0 col4\" >0.005835</td>\n",
       "                        <td id=\"T_864d2962_d08a_11ea_ae62_ace2d36c1609row0_col5\" class=\"data row0 col5\" >0.004435</td>\n",
       "                        <td id=\"T_864d2962_d08a_11ea_ae62_ace2d36c1609row0_col6\" class=\"data row0 col6\" >0.002539</td>\n",
       "                        <td id=\"T_864d2962_d08a_11ea_ae62_ace2d36c1609row0_col7\" class=\"data row0 col7\" >nan</td>\n",
       "                        <td id=\"T_864d2962_d08a_11ea_ae62_ace2d36c1609row0_col8\" class=\"data row0 col8\" >0.002042</td>\n",
       "                        <td id=\"T_864d2962_d08a_11ea_ae62_ace2d36c1609row0_col9\" class=\"data row0 col9\" >0.001340</td>\n",
       "                        <td id=\"T_864d2962_d08a_11ea_ae62_ace2d36c1609row0_col10\" class=\"data row0 col10\" >0.000845</td>\n",
       "            </tr>\n",
       "            <tr>\n",
       "                        <th id=\"T_864d2962_d08a_11ea_ae62_ace2d36c1609level0_row1\" class=\"row_heading level0 row1\" >1</th>\n",
       "                        <td id=\"T_864d2962_d08a_11ea_ae62_ace2d36c1609row1_col0\" class=\"data row1 col0\" >85099B</td>\n",
       "                        <td id=\"T_864d2962_d08a_11ea_ae62_ace2d36c1609row1_col1\" class=\"data row1 col1\" >0.004067</td>\n",
       "                        <td id=\"T_864d2962_d08a_11ea_ae62_ace2d36c1609row1_col2\" class=\"data row1 col2\" >0.003988</td>\n",
       "                        <td id=\"T_864d2962_d08a_11ea_ae62_ace2d36c1609row1_col3\" class=\"data row1 col3\" >0.004647</td>\n",
       "                        <td id=\"T_864d2962_d08a_11ea_ae62_ace2d36c1609row1_col4\" class=\"data row1 col4\" >0.001903</td>\n",
       "                        <td id=\"T_864d2962_d08a_11ea_ae62_ace2d36c1609row1_col5\" class=\"data row1 col5\" >0.002016</td>\n",
       "                        <td id=\"T_864d2962_d08a_11ea_ae62_ace2d36c1609row1_col6\" class=\"data row1 col6\" >0.005925</td>\n",
       "                        <td id=\"T_864d2962_d08a_11ea_ae62_ace2d36c1609row1_col7\" class=\"data row1 col7\" >0.004924</td>\n",
       "                        <td id=\"T_864d2962_d08a_11ea_ae62_ace2d36c1609row1_col8\" class=\"data row1 col8\" >0.001531</td>\n",
       "                        <td id=\"T_864d2962_d08a_11ea_ae62_ace2d36c1609row1_col9\" class=\"data row1 col9\" >0.005362</td>\n",
       "                        <td id=\"T_864d2962_d08a_11ea_ae62_ace2d36c1609row1_col10\" class=\"data row1 col10\" >0.003378</td>\n",
       "            </tr>\n",
       "            <tr>\n",
       "                        <th id=\"T_864d2962_d08a_11ea_ae62_ace2d36c1609level0_row2\" class=\"row_heading level0 row2\" >2</th>\n",
       "                        <td id=\"T_864d2962_d08a_11ea_ae62_ace2d36c1609row2_col0\" class=\"data row2 col0\" >22423</td>\n",
       "                        <td id=\"T_864d2962_d08a_11ea_ae62_ace2d36c1609row2_col1\" class=\"data row2 col1\" >0.003537</td>\n",
       "                        <td id=\"T_864d2962_d08a_11ea_ae62_ace2d36c1609row2_col2\" class=\"data row2 col2\" >0.006979</td>\n",
       "                        <td id=\"T_864d2962_d08a_11ea_ae62_ace2d36c1609row2_col3\" class=\"data row2 col3\" >0.005838</td>\n",
       "                        <td id=\"T_864d2962_d08a_11ea_ae62_ace2d36c1609row2_col4\" class=\"data row2 col4\" >0.009134</td>\n",
       "                        <td id=\"T_864d2962_d08a_11ea_ae62_ace2d36c1609row2_col5\" class=\"data row2 col5\" >0.008871</td>\n",
       "                        <td id=\"T_864d2962_d08a_11ea_ae62_ace2d36c1609row2_col6\" class=\"data row2 col6\" >0.003809</td>\n",
       "                        <td id=\"T_864d2962_d08a_11ea_ae62_ace2d36c1609row2_col7\" class=\"data row2 col7\" >0.007386</td>\n",
       "                        <td id=\"T_864d2962_d08a_11ea_ae62_ace2d36c1609row2_col8\" class=\"data row2 col8\" >0.006126</td>\n",
       "                        <td id=\"T_864d2962_d08a_11ea_ae62_ace2d36c1609row2_col9\" class=\"data row2 col9\" >0.003351</td>\n",
       "                        <td id=\"T_864d2962_d08a_11ea_ae62_ace2d36c1609row2_col10\" class=\"data row2 col10\" >0.005068</td>\n",
       "            </tr>\n",
       "            <tr>\n",
       "                        <th id=\"T_864d2962_d08a_11ea_ae62_ace2d36c1609level0_row3\" class=\"row_heading level0 row3\" >3</th>\n",
       "                        <td id=\"T_864d2962_d08a_11ea_ae62_ace2d36c1609row3_col0\" class=\"data row3 col0\" >47566</td>\n",
       "                        <td id=\"T_864d2962_d08a_11ea_ae62_ace2d36c1609row3_col1\" class=\"data row3 col1\" >0.003342</td>\n",
       "                        <td id=\"T_864d2962_d08a_11ea_ae62_ace2d36c1609row3_col2\" class=\"data row3 col2\" >0.000554</td>\n",
       "                        <td id=\"T_864d2962_d08a_11ea_ae62_ace2d36c1609row3_col3\" class=\"data row3 col3\" >0.002621</td>\n",
       "                        <td id=\"T_864d2962_d08a_11ea_ae62_ace2d36c1609row3_col4\" class=\"data row3 col4\" >0.002664</td>\n",
       "                        <td id=\"T_864d2962_d08a_11ea_ae62_ace2d36c1609row3_col5\" class=\"data row3 col5\" >0.003226</td>\n",
       "                        <td id=\"T_864d2962_d08a_11ea_ae62_ace2d36c1609row3_col6\" class=\"data row3 col6\" >0.000423</td>\n",
       "                        <td id=\"T_864d2962_d08a_11ea_ae62_ace2d36c1609row3_col7\" class=\"data row3 col7\" >0.000985</td>\n",
       "                        <td id=\"T_864d2962_d08a_11ea_ae62_ace2d36c1609row3_col8\" class=\"data row3 col8\" >0.002552</td>\n",
       "                        <td id=\"T_864d2962_d08a_11ea_ae62_ace2d36c1609row3_col9\" class=\"data row3 col9\" >nan</td>\n",
       "                        <td id=\"T_864d2962_d08a_11ea_ae62_ace2d36c1609row3_col10\" class=\"data row3 col10\" >0.006757</td>\n",
       "            </tr>\n",
       "            <tr>\n",
       "                        <th id=\"T_864d2962_d08a_11ea_ae62_ace2d36c1609level0_row4\" class=\"row_heading level0 row4\" >4</th>\n",
       "                        <td id=\"T_864d2962_d08a_11ea_ae62_ace2d36c1609row4_col0\" class=\"data row4 col0\" >20725</td>\n",
       "                        <td id=\"T_864d2962_d08a_11ea_ae62_ace2d36c1609row4_col1\" class=\"data row4 col1\" >0.002928</td>\n",
       "                        <td id=\"T_864d2962_d08a_11ea_ae62_ace2d36c1609row4_col2\" class=\"data row4 col2\" >0.002216</td>\n",
       "                        <td id=\"T_864d2962_d08a_11ea_ae62_ace2d36c1609row4_col3\" class=\"data row4 col3\" >0.007149</td>\n",
       "                        <td id=\"T_864d2962_d08a_11ea_ae62_ace2d36c1609row4_col4\" class=\"data row4 col4\" >0.002030</td>\n",
       "                        <td id=\"T_864d2962_d08a_11ea_ae62_ace2d36c1609row4_col5\" class=\"data row4 col5\" >0.003226</td>\n",
       "                        <td id=\"T_864d2962_d08a_11ea_ae62_ace2d36c1609row4_col6\" class=\"data row4 col6\" >0.004232</td>\n",
       "                        <td id=\"T_864d2962_d08a_11ea_ae62_ace2d36c1609row4_col7\" class=\"data row4 col7\" >0.005908</td>\n",
       "                        <td id=\"T_864d2962_d08a_11ea_ae62_ace2d36c1609row4_col8\" class=\"data row4 col8\" >0.003063</td>\n",
       "                        <td id=\"T_864d2962_d08a_11ea_ae62_ace2d36c1609row4_col9\" class=\"data row4 col9\" >0.009383</td>\n",
       "                        <td id=\"T_864d2962_d08a_11ea_ae62_ace2d36c1609row4_col10\" class=\"data row4 col10\" >0.006757</td>\n",
       "            </tr>\n",
       "            <tr>\n",
       "                        <th id=\"T_864d2962_d08a_11ea_ae62_ace2d36c1609level0_row5\" class=\"row_heading level0 row5\" >5</th>\n",
       "                        <td id=\"T_864d2962_d08a_11ea_ae62_ace2d36c1609row5_col0\" class=\"data row5 col0\" >84879</td>\n",
       "                        <td id=\"T_864d2962_d08a_11ea_ae62_ace2d36c1609row5_col1\" class=\"data row5 col1\" >0.002893</td>\n",
       "                        <td id=\"T_864d2962_d08a_11ea_ae62_ace2d36c1609row5_col2\" class=\"data row5 col2\" >0.001219</td>\n",
       "                        <td id=\"T_864d2962_d08a_11ea_ae62_ace2d36c1609row5_col3\" class=\"data row5 col3\" >0.002025</td>\n",
       "                        <td id=\"T_864d2962_d08a_11ea_ae62_ace2d36c1609row5_col4\" class=\"data row5 col4\" >0.002537</td>\n",
       "                        <td id=\"T_864d2962_d08a_11ea_ae62_ace2d36c1609row5_col5\" class=\"data row5 col5\" >0.004839</td>\n",
       "                        <td id=\"T_864d2962_d08a_11ea_ae62_ace2d36c1609row5_col6\" class=\"data row5 col6\" >0.000846</td>\n",
       "                        <td id=\"T_864d2962_d08a_11ea_ae62_ace2d36c1609row5_col7\" class=\"data row5 col7\" >0.000492</td>\n",
       "                        <td id=\"T_864d2962_d08a_11ea_ae62_ace2d36c1609row5_col8\" class=\"data row5 col8\" >0.002552</td>\n",
       "                        <td id=\"T_864d2962_d08a_11ea_ae62_ace2d36c1609row5_col9\" class=\"data row5 col9\" >0.002681</td>\n",
       "                        <td id=\"T_864d2962_d08a_11ea_ae62_ace2d36c1609row5_col10\" class=\"data row5 col10\" >nan</td>\n",
       "            </tr>\n",
       "            <tr>\n",
       "                        <th id=\"T_864d2962_d08a_11ea_ae62_ace2d36c1609level0_row6\" class=\"row_heading level0 row6\" >6</th>\n",
       "                        <td id=\"T_864d2962_d08a_11ea_ae62_ace2d36c1609row6_col0\" class=\"data row6 col0\" >22197</td>\n",
       "                        <td id=\"T_864d2962_d08a_11ea_ae62_ace2d36c1609row6_col1\" class=\"data row6 col1\" >0.002746</td>\n",
       "                        <td id=\"T_864d2962_d08a_11ea_ae62_ace2d36c1609row6_col2\" class=\"data row6 col2\" >0.001219</td>\n",
       "                        <td id=\"T_864d2962_d08a_11ea_ae62_ace2d36c1609row6_col3\" class=\"data row6 col3\" >0.002502</td>\n",
       "                        <td id=\"T_864d2962_d08a_11ea_ae62_ace2d36c1609row6_col4\" class=\"data row6 col4\" >0.004440</td>\n",
       "                        <td id=\"T_864d2962_d08a_11ea_ae62_ace2d36c1609row6_col5\" class=\"data row6 col5\" >0.004435</td>\n",
       "                        <td id=\"T_864d2962_d08a_11ea_ae62_ace2d36c1609row6_col6\" class=\"data row6 col6\" >0.000423</td>\n",
       "                        <td id=\"T_864d2962_d08a_11ea_ae62_ace2d36c1609row6_col7\" class=\"data row6 col7\" >0.000492</td>\n",
       "                        <td id=\"T_864d2962_d08a_11ea_ae62_ace2d36c1609row6_col8\" class=\"data row6 col8\" >0.000510</td>\n",
       "                        <td id=\"T_864d2962_d08a_11ea_ae62_ace2d36c1609row6_col9\" class=\"data row6 col9\" >nan</td>\n",
       "                        <td id=\"T_864d2962_d08a_11ea_ae62_ace2d36c1609row6_col10\" class=\"data row6 col10\" >nan</td>\n",
       "            </tr>\n",
       "            <tr>\n",
       "                        <th id=\"T_864d2962_d08a_11ea_ae62_ace2d36c1609level0_row7\" class=\"row_heading level0 row7\" >7</th>\n",
       "                        <td id=\"T_864d2962_d08a_11ea_ae62_ace2d36c1609row7_col0\" class=\"data row7 col0\" >22720</td>\n",
       "                        <td id=\"T_864d2962_d08a_11ea_ae62_ace2d36c1609row7_col1\" class=\"data row7 col1\" >0.002598</td>\n",
       "                        <td id=\"T_864d2962_d08a_11ea_ae62_ace2d36c1609row7_col2\" class=\"data row7 col2\" >0.002991</td>\n",
       "                        <td id=\"T_864d2962_d08a_11ea_ae62_ace2d36c1609row7_col3\" class=\"data row7 col3\" >0.000953</td>\n",
       "                        <td id=\"T_864d2962_d08a_11ea_ae62_ace2d36c1609row7_col4\" class=\"data row7 col4\" >0.004059</td>\n",
       "                        <td id=\"T_864d2962_d08a_11ea_ae62_ace2d36c1609row7_col5\" class=\"data row7 col5\" >0.002823</td>\n",
       "                        <td id=\"T_864d2962_d08a_11ea_ae62_ace2d36c1609row7_col6\" class=\"data row7 col6\" >0.001693</td>\n",
       "                        <td id=\"T_864d2962_d08a_11ea_ae62_ace2d36c1609row7_col7\" class=\"data row7 col7\" >0.002954</td>\n",
       "                        <td id=\"T_864d2962_d08a_11ea_ae62_ace2d36c1609row7_col8\" class=\"data row7 col8\" >nan</td>\n",
       "                        <td id=\"T_864d2962_d08a_11ea_ae62_ace2d36c1609row7_col9\" class=\"data row7 col9\" >0.003351</td>\n",
       "                        <td id=\"T_864d2962_d08a_11ea_ae62_ace2d36c1609row7_col10\" class=\"data row7 col10\" >0.007601</td>\n",
       "            </tr>\n",
       "            <tr>\n",
       "                        <th id=\"T_864d2962_d08a_11ea_ae62_ace2d36c1609level0_row8\" class=\"row_heading level0 row8\" >8</th>\n",
       "                        <td id=\"T_864d2962_d08a_11ea_ae62_ace2d36c1609row8_col0\" class=\"data row8 col0\" >20727</td>\n",
       "                        <td id=\"T_864d2962_d08a_11ea_ae62_ace2d36c1609row8_col1\" class=\"data row8 col1\" >0.002586</td>\n",
       "                        <td id=\"T_864d2962_d08a_11ea_ae62_ace2d36c1609row8_col2\" class=\"data row8 col2\" >0.001219</td>\n",
       "                        <td id=\"T_864d2962_d08a_11ea_ae62_ace2d36c1609row8_col3\" class=\"data row8 col3\" >0.001549</td>\n",
       "                        <td id=\"T_864d2962_d08a_11ea_ae62_ace2d36c1609row8_col4\" class=\"data row8 col4\" >0.001015</td>\n",
       "                        <td id=\"T_864d2962_d08a_11ea_ae62_ace2d36c1609row8_col5\" class=\"data row8 col5\" >0.002016</td>\n",
       "                        <td id=\"T_864d2962_d08a_11ea_ae62_ace2d36c1609row8_col6\" class=\"data row8 col6\" >0.002539</td>\n",
       "                        <td id=\"T_864d2962_d08a_11ea_ae62_ace2d36c1609row8_col7\" class=\"data row8 col7\" >0.000492</td>\n",
       "                        <td id=\"T_864d2962_d08a_11ea_ae62_ace2d36c1609row8_col8\" class=\"data row8 col8\" >0.001021</td>\n",
       "                        <td id=\"T_864d2962_d08a_11ea_ae62_ace2d36c1609row8_col9\" class=\"data row8 col9\" >nan</td>\n",
       "                        <td id=\"T_864d2962_d08a_11ea_ae62_ace2d36c1609row8_col10\" class=\"data row8 col10\" >0.003378</td>\n",
       "            </tr>\n",
       "            <tr>\n",
       "                        <th id=\"T_864d2962_d08a_11ea_ae62_ace2d36c1609level0_row9\" class=\"row_heading level0 row9\" >9</th>\n",
       "                        <td id=\"T_864d2962_d08a_11ea_ae62_ace2d36c1609row9_col0\" class=\"data row9 col0\" >22457</td>\n",
       "                        <td id=\"T_864d2962_d08a_11ea_ae62_ace2d36c1609row9_col1\" class=\"data row9 col1\" >0.002546</td>\n",
       "                        <td id=\"T_864d2962_d08a_11ea_ae62_ace2d36c1609row9_col2\" class=\"data row9 col2\" >0.000111</td>\n",
       "                        <td id=\"T_864d2962_d08a_11ea_ae62_ace2d36c1609row9_col3\" class=\"data row9 col3\" >0.000119</td>\n",
       "                        <td id=\"T_864d2962_d08a_11ea_ae62_ace2d36c1609row9_col4\" class=\"data row9 col4\" >0.001903</td>\n",
       "                        <td id=\"T_864d2962_d08a_11ea_ae62_ace2d36c1609row9_col5\" class=\"data row9 col5\" >0.000403</td>\n",
       "                        <td id=\"T_864d2962_d08a_11ea_ae62_ace2d36c1609row9_col6\" class=\"data row9 col6\" >nan</td>\n",
       "                        <td id=\"T_864d2962_d08a_11ea_ae62_ace2d36c1609row9_col7\" class=\"data row9 col7\" >0.000985</td>\n",
       "                        <td id=\"T_864d2962_d08a_11ea_ae62_ace2d36c1609row9_col8\" class=\"data row9 col8\" >nan</td>\n",
       "                        <td id=\"T_864d2962_d08a_11ea_ae62_ace2d36c1609row9_col9\" class=\"data row9 col9\" >0.003351</td>\n",
       "                        <td id=\"T_864d2962_d08a_11ea_ae62_ace2d36c1609row9_col10\" class=\"data row9 col10\" >0.000845</td>\n",
       "            </tr>\n",
       "            <tr>\n",
       "                        <th id=\"T_864d2962_d08a_11ea_ae62_ace2d36c1609level0_row10\" class=\"row_heading level0 row10\" >10</th>\n",
       "                        <td id=\"T_864d2962_d08a_11ea_ae62_ace2d36c1609row10_col0\" class=\"data row10 col0\" >22383</td>\n",
       "                        <td id=\"T_864d2962_d08a_11ea_ae62_ace2d36c1609row10_col1\" class=\"data row10 col1\" >0.002538</td>\n",
       "                        <td id=\"T_864d2962_d08a_11ea_ae62_ace2d36c1609row10_col2\" class=\"data row10 col2\" >0.001108</td>\n",
       "                        <td id=\"T_864d2962_d08a_11ea_ae62_ace2d36c1609row10_col3\" class=\"data row10 col3\" >0.003098</td>\n",
       "                        <td id=\"T_864d2962_d08a_11ea_ae62_ace2d36c1609row10_col4\" class=\"data row10 col4\" >0.000888</td>\n",
       "                        <td id=\"T_864d2962_d08a_11ea_ae62_ace2d36c1609row10_col5\" class=\"data row10 col5\" >0.003226</td>\n",
       "                        <td id=\"T_864d2962_d08a_11ea_ae62_ace2d36c1609row10_col6\" class=\"data row10 col6\" >0.004232</td>\n",
       "                        <td id=\"T_864d2962_d08a_11ea_ae62_ace2d36c1609row10_col7\" class=\"data row10 col7\" >0.001969</td>\n",
       "                        <td id=\"T_864d2962_d08a_11ea_ae62_ace2d36c1609row10_col8\" class=\"data row10 col8\" >0.001021</td>\n",
       "                        <td id=\"T_864d2962_d08a_11ea_ae62_ace2d36c1609row10_col9\" class=\"data row10 col9\" >0.007373</td>\n",
       "                        <td id=\"T_864d2962_d08a_11ea_ae62_ace2d36c1609row10_col10\" class=\"data row10 col10\" >0.002534</td>\n",
       "            </tr>\n",
       "            <tr>\n",
       "                        <th id=\"T_864d2962_d08a_11ea_ae62_ace2d36c1609level0_row11\" class=\"row_heading level0 row11\" >11</th>\n",
       "                        <td id=\"T_864d2962_d08a_11ea_ae62_ace2d36c1609row11_col0\" class=\"data row11 col0\" >22469</td>\n",
       "                        <td id=\"T_864d2962_d08a_11ea_ae62_ace2d36c1609row11_col1\" class=\"data row11 col1\" >0.002459</td>\n",
       "                        <td id=\"T_864d2962_d08a_11ea_ae62_ace2d36c1609row11_col2\" class=\"data row11 col2\" >0.000111</td>\n",
       "                        <td id=\"T_864d2962_d08a_11ea_ae62_ace2d36c1609row11_col3\" class=\"data row11 col3\" >0.000238</td>\n",
       "                        <td id=\"T_864d2962_d08a_11ea_ae62_ace2d36c1609row11_col4\" class=\"data row11 col4\" >0.002030</td>\n",
       "                        <td id=\"T_864d2962_d08a_11ea_ae62_ace2d36c1609row11_col5\" class=\"data row11 col5\" >0.001613</td>\n",
       "                        <td id=\"T_864d2962_d08a_11ea_ae62_ace2d36c1609row11_col6\" class=\"data row11 col6\" >nan</td>\n",
       "                        <td id=\"T_864d2962_d08a_11ea_ae62_ace2d36c1609row11_col7\" class=\"data row11 col7\" >nan</td>\n",
       "                        <td id=\"T_864d2962_d08a_11ea_ae62_ace2d36c1609row11_col8\" class=\"data row11 col8\" >0.002042</td>\n",
       "                        <td id=\"T_864d2962_d08a_11ea_ae62_ace2d36c1609row11_col9\" class=\"data row11 col9\" >0.000670</td>\n",
       "                        <td id=\"T_864d2962_d08a_11ea_ae62_ace2d36c1609row11_col10\" class=\"data row11 col10\" >nan</td>\n",
       "            </tr>\n",
       "            <tr>\n",
       "                        <th id=\"T_864d2962_d08a_11ea_ae62_ace2d36c1609level0_row12\" class=\"row_heading level0 row12\" >12</th>\n",
       "                        <td id=\"T_864d2962_d08a_11ea_ae62_ace2d36c1609row12_col0\" class=\"data row12 col0\" >22386</td>\n",
       "                        <td id=\"T_864d2962_d08a_11ea_ae62_ace2d36c1609row12_col1\" class=\"data row12 col1\" >0.002438</td>\n",
       "                        <td id=\"T_864d2962_d08a_11ea_ae62_ace2d36c1609row12_col2\" class=\"data row12 col2\" >0.001772</td>\n",
       "                        <td id=\"T_864d2962_d08a_11ea_ae62_ace2d36c1609row12_col3\" class=\"data row12 col3\" >0.001787</td>\n",
       "                        <td id=\"T_864d2962_d08a_11ea_ae62_ace2d36c1609row12_col4\" class=\"data row12 col4\" >0.000254</td>\n",
       "                        <td id=\"T_864d2962_d08a_11ea_ae62_ace2d36c1609row12_col5\" class=\"data row12 col5\" >0.001210</td>\n",
       "                        <td id=\"T_864d2962_d08a_11ea_ae62_ace2d36c1609row12_col6\" class=\"data row12 col6\" >0.003386</td>\n",
       "                        <td id=\"T_864d2962_d08a_11ea_ae62_ace2d36c1609row12_col7\" class=\"data row12 col7\" >0.000985</td>\n",
       "                        <td id=\"T_864d2962_d08a_11ea_ae62_ace2d36c1609row12_col8\" class=\"data row12 col8\" >nan</td>\n",
       "                        <td id=\"T_864d2962_d08a_11ea_ae62_ace2d36c1609row12_col9\" class=\"data row12 col9\" >0.003351</td>\n",
       "                        <td id=\"T_864d2962_d08a_11ea_ae62_ace2d36c1609row12_col10\" class=\"data row12 col10\" >0.000845</td>\n",
       "            </tr>\n",
       "            <tr>\n",
       "                        <th id=\"T_864d2962_d08a_11ea_ae62_ace2d36c1609level0_row13\" class=\"row_heading level0 row13\" >13</th>\n",
       "                        <td id=\"T_864d2962_d08a_11ea_ae62_ace2d36c1609row13_col0\" class=\"data row13 col0\" >21212</td>\n",
       "                        <td id=\"T_864d2962_d08a_11ea_ae62_ace2d36c1609row13_col1\" class=\"data row13 col1\" >0.002411</td>\n",
       "                        <td id=\"T_864d2962_d08a_11ea_ae62_ace2d36c1609row13_col2\" class=\"data row13 col2\" >0.004320</td>\n",
       "                        <td id=\"T_864d2962_d08a_11ea_ae62_ace2d36c1609row13_col3\" class=\"data row13 col3\" >0.004766</td>\n",
       "                        <td id=\"T_864d2962_d08a_11ea_ae62_ace2d36c1609row13_col4\" class=\"data row13 col4\" >0.004186</td>\n",
       "                        <td id=\"T_864d2962_d08a_11ea_ae62_ace2d36c1609row13_col5\" class=\"data row13 col5\" >0.004435</td>\n",
       "                        <td id=\"T_864d2962_d08a_11ea_ae62_ace2d36c1609row13_col6\" class=\"data row13 col6\" >0.005501</td>\n",
       "                        <td id=\"T_864d2962_d08a_11ea_ae62_ace2d36c1609row13_col7\" class=\"data row13 col7\" >0.005908</td>\n",
       "                        <td id=\"T_864d2962_d08a_11ea_ae62_ace2d36c1609row13_col8\" class=\"data row13 col8\" >0.004084</td>\n",
       "                        <td id=\"T_864d2962_d08a_11ea_ae62_ace2d36c1609row13_col9\" class=\"data row13 col9\" >0.004692</td>\n",
       "                        <td id=\"T_864d2962_d08a_11ea_ae62_ace2d36c1609row13_col10\" class=\"data row13 col10\" >0.001689</td>\n",
       "            </tr>\n",
       "            <tr>\n",
       "                        <th id=\"T_864d2962_d08a_11ea_ae62_ace2d36c1609level0_row14\" class=\"row_heading level0 row14\" >14</th>\n",
       "                        <td id=\"T_864d2962_d08a_11ea_ae62_ace2d36c1609row14_col0\" class=\"data row14 col0\" >22086</td>\n",
       "                        <td id=\"T_864d2962_d08a_11ea_ae62_ace2d36c1609row14_col1\" class=\"data row14 col1\" >0.002386</td>\n",
       "                        <td id=\"T_864d2962_d08a_11ea_ae62_ace2d36c1609row14_col2\" class=\"data row14 col2\" >0.000332</td>\n",
       "                        <td id=\"T_864d2962_d08a_11ea_ae62_ace2d36c1609row14_col3\" class=\"data row14 col3\" >0.000715</td>\n",
       "                        <td id=\"T_864d2962_d08a_11ea_ae62_ace2d36c1609row14_col4\" class=\"data row14 col4\" >0.001776</td>\n",
       "                        <td id=\"T_864d2962_d08a_11ea_ae62_ace2d36c1609row14_col5\" class=\"data row14 col5\" >0.001613</td>\n",
       "                        <td id=\"T_864d2962_d08a_11ea_ae62_ace2d36c1609row14_col6\" class=\"data row14 col6\" >0.000423</td>\n",
       "                        <td id=\"T_864d2962_d08a_11ea_ae62_ace2d36c1609row14_col7\" class=\"data row14 col7\" >nan</td>\n",
       "                        <td id=\"T_864d2962_d08a_11ea_ae62_ace2d36c1609row14_col8\" class=\"data row14 col8\" >0.000510</td>\n",
       "                        <td id=\"T_864d2962_d08a_11ea_ae62_ace2d36c1609row14_col9\" class=\"data row14 col9\" >nan</td>\n",
       "                        <td id=\"T_864d2962_d08a_11ea_ae62_ace2d36c1609row14_col10\" class=\"data row14 col10\" >0.002534</td>\n",
       "            </tr>\n",
       "            <tr>\n",
       "                        <th id=\"T_864d2962_d08a_11ea_ae62_ace2d36c1609level0_row15\" class=\"row_heading level0 row15\" >15</th>\n",
       "                        <td id=\"T_864d2962_d08a_11ea_ae62_ace2d36c1609row15_col0\" class=\"data row15 col0\" >23203</td>\n",
       "                        <td id=\"T_864d2962_d08a_11ea_ae62_ace2d36c1609row15_col1\" class=\"data row15 col1\" >0.002380</td>\n",
       "                        <td id=\"T_864d2962_d08a_11ea_ae62_ace2d36c1609row15_col2\" class=\"data row15 col2\" >0.002105</td>\n",
       "                        <td id=\"T_864d2962_d08a_11ea_ae62_ace2d36c1609row15_col3\" class=\"data row15 col3\" >0.003455</td>\n",
       "                        <td id=\"T_864d2962_d08a_11ea_ae62_ace2d36c1609row15_col4\" class=\"data row15 col4\" >0.001269</td>\n",
       "                        <td id=\"T_864d2962_d08a_11ea_ae62_ace2d36c1609row15_col5\" class=\"data row15 col5\" >0.002419</td>\n",
       "                        <td id=\"T_864d2962_d08a_11ea_ae62_ace2d36c1609row15_col6\" class=\"data row15 col6\" >0.002539</td>\n",
       "                        <td id=\"T_864d2962_d08a_11ea_ae62_ace2d36c1609row15_col7\" class=\"data row15 col7\" >0.002954</td>\n",
       "                        <td id=\"T_864d2962_d08a_11ea_ae62_ace2d36c1609row15_col8\" class=\"data row15 col8\" >0.000510</td>\n",
       "                        <td id=\"T_864d2962_d08a_11ea_ae62_ace2d36c1609row15_col9\" class=\"data row15 col9\" >0.004692</td>\n",
       "                        <td id=\"T_864d2962_d08a_11ea_ae62_ace2d36c1609row15_col10\" class=\"data row15 col10\" >0.002534</td>\n",
       "            </tr>\n",
       "            <tr>\n",
       "                        <th id=\"T_864d2962_d08a_11ea_ae62_ace2d36c1609level0_row16\" class=\"row_heading level0 row16\" >16</th>\n",
       "                        <td id=\"T_864d2962_d08a_11ea_ae62_ace2d36c1609row16_col0\" class=\"data row16 col0\" >21931</td>\n",
       "                        <td id=\"T_864d2962_d08a_11ea_ae62_ace2d36c1609row16_col1\" class=\"data row16 col1\" >0.002369</td>\n",
       "                        <td id=\"T_864d2962_d08a_11ea_ae62_ace2d36c1609row16_col2\" class=\"data row16 col2\" >0.001329</td>\n",
       "                        <td id=\"T_864d2962_d08a_11ea_ae62_ace2d36c1609row16_col3\" class=\"data row16 col3\" >0.001668</td>\n",
       "                        <td id=\"T_864d2962_d08a_11ea_ae62_ace2d36c1609row16_col4\" class=\"data row16 col4\" >0.000381</td>\n",
       "                        <td id=\"T_864d2962_d08a_11ea_ae62_ace2d36c1609row16_col5\" class=\"data row16 col5\" >0.000806</td>\n",
       "                        <td id=\"T_864d2962_d08a_11ea_ae62_ace2d36c1609row16_col6\" class=\"data row16 col6\" >0.000846</td>\n",
       "                        <td id=\"T_864d2962_d08a_11ea_ae62_ace2d36c1609row16_col7\" class=\"data row16 col7\" >0.001969</td>\n",
       "                        <td id=\"T_864d2962_d08a_11ea_ae62_ace2d36c1609row16_col8\" class=\"data row16 col8\" >0.001021</td>\n",
       "                        <td id=\"T_864d2962_d08a_11ea_ae62_ace2d36c1609row16_col9\" class=\"data row16 col9\" >0.003351</td>\n",
       "                        <td id=\"T_864d2962_d08a_11ea_ae62_ace2d36c1609row16_col10\" class=\"data row16 col10\" >0.000845</td>\n",
       "            </tr>\n",
       "            <tr>\n",
       "                        <th id=\"T_864d2962_d08a_11ea_ae62_ace2d36c1609level0_row17\" class=\"row_heading level0 row17\" >17</th>\n",
       "                        <td id=\"T_864d2962_d08a_11ea_ae62_ace2d36c1609row17_col0\" class=\"data row17 col0\" >22411</td>\n",
       "                        <td id=\"T_864d2962_d08a_11ea_ae62_ace2d36c1609row17_col1\" class=\"data row17 col1\" >0.002365</td>\n",
       "                        <td id=\"T_864d2962_d08a_11ea_ae62_ace2d36c1609row17_col2\" class=\"data row17 col2\" >0.000997</td>\n",
       "                        <td id=\"T_864d2962_d08a_11ea_ae62_ace2d36c1609row17_col3\" class=\"data row17 col3\" >0.000357</td>\n",
       "                        <td id=\"T_864d2962_d08a_11ea_ae62_ace2d36c1609row17_col4\" class=\"data row17 col4\" >0.000888</td>\n",
       "                        <td id=\"T_864d2962_d08a_11ea_ae62_ace2d36c1609row17_col5\" class=\"data row17 col5\" >0.000403</td>\n",
       "                        <td id=\"T_864d2962_d08a_11ea_ae62_ace2d36c1609row17_col6\" class=\"data row17 col6\" >0.001270</td>\n",
       "                        <td id=\"T_864d2962_d08a_11ea_ae62_ace2d36c1609row17_col7\" class=\"data row17 col7\" >nan</td>\n",
       "                        <td id=\"T_864d2962_d08a_11ea_ae62_ace2d36c1609row17_col8\" class=\"data row17 col8\" >0.000510</td>\n",
       "                        <td id=\"T_864d2962_d08a_11ea_ae62_ace2d36c1609row17_col9\" class=\"data row17 col9\" >0.007373</td>\n",
       "                        <td id=\"T_864d2962_d08a_11ea_ae62_ace2d36c1609row17_col10\" class=\"data row17 col10\" >0.000845</td>\n",
       "            </tr>\n",
       "            <tr>\n",
       "                        <th id=\"T_864d2962_d08a_11ea_ae62_ace2d36c1609level0_row18\" class=\"row_heading level0 row18\" >18</th>\n",
       "                        <td id=\"T_864d2962_d08a_11ea_ae62_ace2d36c1609row18_col0\" class=\"data row18 col0\" >82482</td>\n",
       "                        <td id=\"T_864d2962_d08a_11ea_ae62_ace2d36c1609row18_col1\" class=\"data row18 col1\" >0.002249</td>\n",
       "                        <td id=\"T_864d2962_d08a_11ea_ae62_ace2d36c1609row18_col2\" class=\"data row18 col2\" >0.000775</td>\n",
       "                        <td id=\"T_864d2962_d08a_11ea_ae62_ace2d36c1609row18_col3\" class=\"data row18 col3\" >0.000238</td>\n",
       "                        <td id=\"T_864d2962_d08a_11ea_ae62_ace2d36c1609row18_col4\" class=\"data row18 col4\" >0.000888</td>\n",
       "                        <td id=\"T_864d2962_d08a_11ea_ae62_ace2d36c1609row18_col5\" class=\"data row18 col5\" >0.001210</td>\n",
       "                        <td id=\"T_864d2962_d08a_11ea_ae62_ace2d36c1609row18_col6\" class=\"data row18 col6\" >nan</td>\n",
       "                        <td id=\"T_864d2962_d08a_11ea_ae62_ace2d36c1609row18_col7\" class=\"data row18 col7\" >nan</td>\n",
       "                        <td id=\"T_864d2962_d08a_11ea_ae62_ace2d36c1609row18_col8\" class=\"data row18 col8\" >nan</td>\n",
       "                        <td id=\"T_864d2962_d08a_11ea_ae62_ace2d36c1609row18_col9\" class=\"data row18 col9\" >nan</td>\n",
       "                        <td id=\"T_864d2962_d08a_11ea_ae62_ace2d36c1609row18_col10\" class=\"data row18 col10\" >nan</td>\n",
       "            </tr>\n",
       "            <tr>\n",
       "                        <th id=\"T_864d2962_d08a_11ea_ae62_ace2d36c1609level0_row19\" class=\"row_heading level0 row19\" >19</th>\n",
       "                        <td id=\"T_864d2962_d08a_11ea_ae62_ace2d36c1609row19_col0\" class=\"data row19 col0\" >20728</td>\n",
       "                        <td id=\"T_864d2962_d08a_11ea_ae62_ace2d36c1609row19_col1\" class=\"data row19 col1\" >0.002238</td>\n",
       "                        <td id=\"T_864d2962_d08a_11ea_ae62_ace2d36c1609row19_col2\" class=\"data row19 col2\" >0.001219</td>\n",
       "                        <td id=\"T_864d2962_d08a_11ea_ae62_ace2d36c1609row19_col3\" class=\"data row19 col3\" >0.001311</td>\n",
       "                        <td id=\"T_864d2962_d08a_11ea_ae62_ace2d36c1609row19_col4\" class=\"data row19 col4\" >0.001903</td>\n",
       "                        <td id=\"T_864d2962_d08a_11ea_ae62_ace2d36c1609row19_col5\" class=\"data row19 col5\" >0.002419</td>\n",
       "                        <td id=\"T_864d2962_d08a_11ea_ae62_ace2d36c1609row19_col6\" class=\"data row19 col6\" >0.002116</td>\n",
       "                        <td id=\"T_864d2962_d08a_11ea_ae62_ace2d36c1609row19_col7\" class=\"data row19 col7\" >0.001969</td>\n",
       "                        <td id=\"T_864d2962_d08a_11ea_ae62_ace2d36c1609row19_col8\" class=\"data row19 col8\" >0.003063</td>\n",
       "                        <td id=\"T_864d2962_d08a_11ea_ae62_ace2d36c1609row19_col9\" class=\"data row19 col9\" >0.008043</td>\n",
       "                        <td id=\"T_864d2962_d08a_11ea_ae62_ace2d36c1609row19_col10\" class=\"data row19 col10\" >0.002534</td>\n",
       "            </tr>\n",
       "    </tbody></table>"
      ],
      "text/plain": [
       "<pandas.io.formats.style.Styler at 0x17cc8b10c08>"
      ]
     },
     "metadata": {},
     "output_type": "display_data"
    }
   ],
   "source": [
    "temp_df = pd.DataFrame()\n",
    "for i in df.Country.value_counts().iloc[0:10].index.to_list():\n",
    "    if len(temp_df)==0:\n",
    "        temp_df = df.loc[df.Country==i, 'Product_Code'].value_counts(normalize=True).reset_index().rename({'index': 'Product_Code', 'Product_Code':f'Occ_{i}'}, axis=1)\n",
    "    else:\n",
    "        temp_df = pd.merge(temp_df, df.loc[df.Country==i, 'Product_Code'].value_counts(normalize=True).reset_index().rename({'index': 'Product_Code', 'Product_Code':f'Occ_{i}'}, axis=1), on = 'Product_Code', how='outer')\n",
    "display(temp_df.head(20).style.bar(color='#d65f5f'))"
   ]
  },
  {
   "cell_type": "markdown",
   "metadata": {},
   "source": [
    "### Number of unique customer with different countries"
   ]
  },
  {
   "cell_type": "code",
   "execution_count": 45,
   "metadata": {},
   "outputs": [
    {
     "data": {
      "image/png": "[encoded data removed]",
      "text/plain": [
       "<Figure size 432x288 with 1 Axes>"
      ]
     },
     "metadata": {
      "needs_background": "light"
     },
     "output_type": "display_data"
    }
   ],
   "source": [
    "temp_df = df.groupby(['Country'])['Customer_ID'].nunique().sort_values(ascending=False).iloc[0:10].reset_index()\n",
    "sns.barplot(y='Country', x=\"Customer_ID\", data=temp_df)\n",
    "plt.show()"
   ]
  },
  {
   "cell_type": "markdown",
   "metadata": {},
   "source": [
    "### Number of unique product code with different countries"
   ]
  },
  {
   "cell_type": "code",
   "execution_count": 46,
   "metadata": {},
   "outputs": [
    {
     "data": {
      "image/png": "[encoded data removed]",
      "text/plain": [
       "<Figure size 432x288 with 1 Axes>"
      ]
     },
     "metadata": {
      "needs_background": "light"
     },
     "output_type": "display_data"
    }
   ],
   "source": [
    "temp_df = df.groupby(['Country'])['Product_Code'].nunique().sort_values(ascending=False).iloc[0:10].reset_index()\n",
    "sns.barplot(y='Country', x=\"Product_Code\", data=temp_df)\n",
    "plt.show()"
   ]
  },
  {
   "cell_type": "markdown",
   "metadata": {},
   "source": [
    "### Distribution of unique transaction from customers"
   ]
  },
  {
   "cell_type": "code",
   "execution_count": 48,
   "metadata": {},
   "outputs": [
    {
     "data": {
      "text/plain": [
       "<matplotlib.axes._subplots.AxesSubplot at 0x17ccca56908>"
      ]
     },
     "execution_count": 48,
     "metadata": {},
     "output_type": "execute_result"
    },
    {
     "data": {
      "image/png": "[encoded data removed]",
      "text/plain": [
       "<Figure size 432x288 with 1 Axes>"
      ]
     },
     "metadata": {
      "needs_background": "light"
     },
     "output_type": "display_data"
    }
   ],
   "source": [
    "temp_df = df.groupby(['Customer_ID'])['Invoice_Number'].nunique().sort_values(ascending=False).iloc[0:10].reset_index()\n",
    "sns.distplot(temp_df.Invoice_Number)"
   ]
  }
 ],
 "metadata": {
  "kernelspec": {
   "display_name": "Python 3",
   "language": "python",
   "name": "python3"
  },
  "language_info": {
   "codemirror_mode": {
    "name": "ipython",
    "version": 3
   },
   "file_extension": ".py",
   "mimetype": "text/x-python",
   "name": "python",
   "nbconvert_exporter": "python",
   "pygments_lexer": "ipython3",
   "version": "3.7.7"
  }
 },
 "nbformat": 4,
 "nbformat_minor": 4
}
