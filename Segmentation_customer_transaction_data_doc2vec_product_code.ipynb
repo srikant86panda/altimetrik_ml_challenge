{
 "cells": [
  {
   "cell_type": "markdown",
   "metadata": {},
   "source": [
    "## Pre Processing;\n",
    "1. Pre process file to trim start and end '\"'\n",
    "2. Impute missing column Description and Customer_ID\n",
    "3. AmountSpent = Unit Price*Total Units\n",
    "\n",
    "## Segmentation modeling\n",
    "1. Customer segmentation with total units price and number of units purchased with K-means\n",
    "2. Using RMF Analysis\n",
    "3. doc2vec with product description & doc2vec with product description & country\n",
    "4. Use Fast text or Bert for embed product description"
   ]
  },
  {
   "cell_type": "code",
   "execution_count": 2,
   "metadata": {},
   "outputs": [],
   "source": [
    "import os\n",
    "import re\n",
    "import glob\n",
    "import pandas as pd\n",
    "import numpy as np\n",
    "import seaborn as sns\n",
    "import matplotlib.pyplot as plt\n",
    "\n",
    "from sklearn.preprocessing import StandardScaler\n",
    "from sklearn.cluster import KMeans\n",
    "\n",
    "import util.pre_process as prep\n",
    "import util.doc2vec_training as trn\n",
    "\n",
    "import tensorflow as tf\n",
    "from tensorflow.contrib.tensorboard.plugins import projector\n",
    "tf.logging.set_verbosity(tf.logging.ERROR)\n",
    "\n",
    "%matplotlib inline"
   ]
  },
  {
   "cell_type": "code",
   "execution_count": 3,
   "metadata": {},
   "outputs": [
    {
     "data": {
      "text/plain": [
       "['data\\\\ML Data.txt', 'data\\\\ML Data_new.txt']"
      ]
     },
     "execution_count": 3,
     "metadata": {},
     "output_type": "execute_result"
    }
   ],
   "source": [
    "glob.glob('data/ML*.txt')"
   ]
  },
  {
   "cell_type": "code",
   "execution_count": 4,
   "metadata": {},
   "outputs": [
    {
     "name": "stdout",
     "output_type": "stream",
     "text": [
      "(541909, 8)\n",
      "Index(['Invoice_Number', 'Product_Code', 'Description', 'Quantity',\n",
      "       'Invoice_Date', 'Unit_Price', 'Customer_ID', 'Country'],\n",
      "      dtype='object')\n"
     ]
    },
    {
     "data": {
      "text/html": [
       "<div>\n",
       "<style scoped>\n",
       "    .dataframe tbody tr th:only-of-type {\n",
       "        vertical-align: middle;\n",
       "    }\n",
       "\n",
       "    .dataframe tbody tr th {\n",
       "        vertical-align: top;\n",
       "    }\n",
       "\n",
       "    .dataframe thead th {\n",
       "        text-align: right;\n",
       "    }\n",
       "</style>\n",
       "<table border=\"1\" class=\"dataframe\">\n",
       "  <thead>\n",
       "    <tr style=\"text-align: right;\">\n",
       "      <th></th>\n",
       "      <th>Invoice_Number</th>\n",
       "      <th>Product_Code</th>\n",
       "      <th>Description</th>\n",
       "      <th>Quantity</th>\n",
       "      <th>Invoice_Date</th>\n",
       "      <th>Unit_Price</th>\n",
       "      <th>Customer_ID</th>\n",
       "      <th>Country</th>\n",
       "    </tr>\n",
       "  </thead>\n",
       "  <tbody>\n",
       "    <tr>\n",
       "      <th>0</th>\n",
       "      <td>536365</td>\n",
       "      <td>85123A</td>\n",
       "      <td>WHITE HANGING HEART T-LIGHT HOLDER</td>\n",
       "      <td>6</td>\n",
       "      <td>2010-12-01 08:26:00</td>\n",
       "      <td>2.55</td>\n",
       "      <td>17850</td>\n",
       "      <td>United Kingdom</td>\n",
       "    </tr>\n",
       "    <tr>\n",
       "      <th>1</th>\n",
       "      <td>536365</td>\n",
       "      <td>71053</td>\n",
       "      <td>WHITE METAL LANTERN</td>\n",
       "      <td>6</td>\n",
       "      <td>2010-12-01 08:26:00</td>\n",
       "      <td>3.39</td>\n",
       "      <td>17850</td>\n",
       "      <td>United Kingdom</td>\n",
       "    </tr>\n",
       "    <tr>\n",
       "      <th>2</th>\n",
       "      <td>536365</td>\n",
       "      <td>84406B</td>\n",
       "      <td>CREAM CUPID HEARTS COAT HANGER</td>\n",
       "      <td>8</td>\n",
       "      <td>2010-12-01 08:26:00</td>\n",
       "      <td>2.75</td>\n",
       "      <td>17850</td>\n",
       "      <td>United Kingdom</td>\n",
       "    </tr>\n",
       "    <tr>\n",
       "      <th>3</th>\n",
       "      <td>536365</td>\n",
       "      <td>84029G</td>\n",
       "      <td>KNITTED UNION FLAG HOT WATER BOTTLE</td>\n",
       "      <td>6</td>\n",
       "      <td>2010-12-01 08:26:00</td>\n",
       "      <td>3.39</td>\n",
       "      <td>17850</td>\n",
       "      <td>United Kingdom</td>\n",
       "    </tr>\n",
       "    <tr>\n",
       "      <th>4</th>\n",
       "      <td>536365</td>\n",
       "      <td>84029E</td>\n",
       "      <td>RED WOOLLY HOTTIE WHITE HEART.</td>\n",
       "      <td>6</td>\n",
       "      <td>2010-12-01 08:26:00</td>\n",
       "      <td>3.39</td>\n",
       "      <td>17850</td>\n",
       "      <td>United Kingdom</td>\n",
       "    </tr>\n",
       "  </tbody>\n",
       "</table>\n",
       "</div>"
      ],
      "text/plain": [
       "  Invoice_Number Product_Code                          Description  Quantity  \\\n",
       "0         536365       85123A   WHITE HANGING HEART T-LIGHT HOLDER         6   \n",
       "1         536365        71053                  WHITE METAL LANTERN         6   \n",
       "2         536365       84406B       CREAM CUPID HEARTS COAT HANGER         8   \n",
       "3         536365       84029G  KNITTED UNION FLAG HOT WATER BOTTLE         6   \n",
       "4         536365       84029E       RED WOOLLY HOTTIE WHITE HEART.         6   \n",
       "\n",
       "         Invoice_Date  Unit_Price Customer_ID         Country  \n",
       "0 2010-12-01 08:26:00        2.55       17850  United Kingdom  \n",
       "1 2010-12-01 08:26:00        3.39       17850  United Kingdom  \n",
       "2 2010-12-01 08:26:00        2.75       17850  United Kingdom  \n",
       "3 2010-12-01 08:26:00        3.39       17850  United Kingdom  \n",
       "4 2010-12-01 08:26:00        3.39       17850  United Kingdom  "
      ]
     },
     "metadata": {},
     "output_type": "display_data"
    }
   ],
   "source": [
    "source_file = 'data\\\\ML Data.txt'\n",
    "PATTERN = re.compile(r'''((?:[^,\"]|\"[^\"]*\"|'[^']*')+|(?=,,)|(?=,$)|(?=^,))''')\n",
    "\n",
    "df = pd.read_csv(source_file, encoding='latin1')\n",
    "cols = PATTERN.split(df.columns[0])[1::2]\n",
    "\n",
    "df[cols] = pd.DataFrame(df.iloc[:,0].apply(lambda x: PATTERN.split(x)[1::2]).tolist(), index= df.index)\n",
    "df.Invoice_Date = pd.to_datetime(df.Invoice_Date)\n",
    "df.Quantity = pd.to_numeric(df.Quantity)\n",
    "df.Unit_Price =  pd.to_numeric(df.Unit_Price)\n",
    "df = df.drop(df.columns[0], axis=1)\n",
    "print(df.shape)\n",
    "print(df.columns)\n",
    "display(df.head())"
   ]
  },
  {
   "cell_type": "code",
   "execution_count": 5,
   "metadata": {},
   "outputs": [
    {
     "data": {
      "text/plain": [
       "Invoice_Number            object\n",
       "Product_Code              object\n",
       "Description               object\n",
       "Quantity                   int64\n",
       "Invoice_Date      datetime64[ns]\n",
       "Unit_Price               float64\n",
       "Customer_ID               object\n",
       "Country                   object\n",
       "dtype: object"
      ]
     },
     "execution_count": 5,
     "metadata": {},
     "output_type": "execute_result"
    }
   ],
   "source": [
    "df.dtypes"
   ]
  },
  {
   "cell_type": "code",
   "execution_count": 6,
   "metadata": {},
   "outputs": [
    {
     "data": {
      "text/html": [
       "<div>\n",
       "<style scoped>\n",
       "    .dataframe tbody tr th:only-of-type {\n",
       "        vertical-align: middle;\n",
       "    }\n",
       "\n",
       "    .dataframe tbody tr th {\n",
       "        vertical-align: top;\n",
       "    }\n",
       "\n",
       "    .dataframe thead th {\n",
       "        text-align: right;\n",
       "    }\n",
       "</style>\n",
       "<table border=\"1\" class=\"dataframe\">\n",
       "  <thead>\n",
       "    <tr style=\"text-align: right;\">\n",
       "      <th></th>\n",
       "      <th>Invoice_Number</th>\n",
       "      <th>Product_Code</th>\n",
       "      <th>Description</th>\n",
       "      <th>Invoice_Date</th>\n",
       "      <th>Customer_ID</th>\n",
       "      <th>Country</th>\n",
       "    </tr>\n",
       "  </thead>\n",
       "  <tbody>\n",
       "    <tr>\n",
       "      <th>count</th>\n",
       "      <td>541909</td>\n",
       "      <td>541909</td>\n",
       "      <td>541909</td>\n",
       "      <td>541909</td>\n",
       "      <td>541909</td>\n",
       "      <td>541909</td>\n",
       "    </tr>\n",
       "    <tr>\n",
       "      <th>unique</th>\n",
       "      <td>25900</td>\n",
       "      <td>4070</td>\n",
       "      <td>4224</td>\n",
       "      <td>23260</td>\n",
       "      <td>4373</td>\n",
       "      <td>38</td>\n",
       "    </tr>\n",
       "    <tr>\n",
       "      <th>top</th>\n",
       "      <td>573585</td>\n",
       "      <td>85123A</td>\n",
       "      <td>WHITE HANGING HEART T-LIGHT HOLDER</td>\n",
       "      <td>2011-10-31 14:41:00</td>\n",
       "      <td></td>\n",
       "      <td>United Kingdom</td>\n",
       "    </tr>\n",
       "    <tr>\n",
       "      <th>freq</th>\n",
       "      <td>1114</td>\n",
       "      <td>2313</td>\n",
       "      <td>2369</td>\n",
       "      <td>1114</td>\n",
       "      <td>135080</td>\n",
       "      <td>495478</td>\n",
       "    </tr>\n",
       "    <tr>\n",
       "      <th>first</th>\n",
       "      <td>NaN</td>\n",
       "      <td>NaN</td>\n",
       "      <td>NaN</td>\n",
       "      <td>2010-12-01 08:26:00</td>\n",
       "      <td>NaN</td>\n",
       "      <td>NaN</td>\n",
       "    </tr>\n",
       "    <tr>\n",
       "      <th>last</th>\n",
       "      <td>NaN</td>\n",
       "      <td>NaN</td>\n",
       "      <td>NaN</td>\n",
       "      <td>2011-12-09 12:50:00</td>\n",
       "      <td>NaN</td>\n",
       "      <td>NaN</td>\n",
       "    </tr>\n",
       "  </tbody>\n",
       "</table>\n",
       "</div>"
      ],
      "text/plain": [
       "       Invoice_Number Product_Code                         Description  \\\n",
       "count          541909       541909                              541909   \n",
       "unique          25900         4070                                4224   \n",
       "top            573585       85123A  WHITE HANGING HEART T-LIGHT HOLDER   \n",
       "freq             1114         2313                                2369   \n",
       "first             NaN          NaN                                 NaN   \n",
       "last              NaN          NaN                                 NaN   \n",
       "\n",
       "               Invoice_Date Customer_ID         Country  \n",
       "count                541909      541909          541909  \n",
       "unique                23260        4373              38  \n",
       "top     2011-10-31 14:41:00              United Kingdom  \n",
       "freq                   1114      135080          495478  \n",
       "first   2010-12-01 08:26:00         NaN             NaN  \n",
       "last    2011-12-09 12:50:00         NaN             NaN  "
      ]
     },
     "execution_count": 6,
     "metadata": {},
     "output_type": "execute_result"
    }
   ],
   "source": [
    "df.describe(exclude=[np.number])"
   ]
  },
  {
   "cell_type": "code",
   "execution_count": 7,
   "metadata": {},
   "outputs": [
    {
     "data": {
      "text/html": [
       "<div>\n",
       "<style scoped>\n",
       "    .dataframe tbody tr th:only-of-type {\n",
       "        vertical-align: middle;\n",
       "    }\n",
       "\n",
       "    .dataframe tbody tr th {\n",
       "        vertical-align: top;\n",
       "    }\n",
       "\n",
       "    .dataframe thead th {\n",
       "        text-align: right;\n",
       "    }\n",
       "</style>\n",
       "<table border=\"1\" class=\"dataframe\">\n",
       "  <thead>\n",
       "    <tr style=\"text-align: right;\">\n",
       "      <th></th>\n",
       "      <th>Quantity</th>\n",
       "      <th>Unit_Price</th>\n",
       "    </tr>\n",
       "  </thead>\n",
       "  <tbody>\n",
       "    <tr>\n",
       "      <th>count</th>\n",
       "      <td>541909.000000</td>\n",
       "      <td>541909.000000</td>\n",
       "    </tr>\n",
       "    <tr>\n",
       "      <th>mean</th>\n",
       "      <td>9.552250</td>\n",
       "      <td>4.611114</td>\n",
       "    </tr>\n",
       "    <tr>\n",
       "      <th>std</th>\n",
       "      <td>218.081158</td>\n",
       "      <td>96.759853</td>\n",
       "    </tr>\n",
       "    <tr>\n",
       "      <th>min</th>\n",
       "      <td>-80995.000000</td>\n",
       "      <td>-11062.060000</td>\n",
       "    </tr>\n",
       "    <tr>\n",
       "      <th>25%</th>\n",
       "      <td>1.000000</td>\n",
       "      <td>1.250000</td>\n",
       "    </tr>\n",
       "    <tr>\n",
       "      <th>50%</th>\n",
       "      <td>3.000000</td>\n",
       "      <td>2.080000</td>\n",
       "    </tr>\n",
       "    <tr>\n",
       "      <th>75%</th>\n",
       "      <td>10.000000</td>\n",
       "      <td>4.130000</td>\n",
       "    </tr>\n",
       "    <tr>\n",
       "      <th>max</th>\n",
       "      <td>80995.000000</td>\n",
       "      <td>38970.000000</td>\n",
       "    </tr>\n",
       "  </tbody>\n",
       "</table>\n",
       "</div>"
      ],
      "text/plain": [
       "            Quantity     Unit_Price\n",
       "count  541909.000000  541909.000000\n",
       "mean        9.552250       4.611114\n",
       "std       218.081158      96.759853\n",
       "min    -80995.000000  -11062.060000\n",
       "25%         1.000000       1.250000\n",
       "50%         3.000000       2.080000\n",
       "75%        10.000000       4.130000\n",
       "max     80995.000000   38970.000000"
      ]
     },
     "execution_count": 7,
     "metadata": {},
     "output_type": "execute_result"
    }
   ],
   "source": [
    "df.describe(include=[np.number])"
   ]
  },
  {
   "cell_type": "markdown",
   "metadata": {},
   "source": [
    "### Check for duplicate & remove"
   ]
  },
  {
   "cell_type": "code",
   "execution_count": 8,
   "metadata": {},
   "outputs": [
    {
     "name": "stdout",
     "output_type": "stream",
     "text": [
      "(536641, 8)\n"
     ]
    }
   ],
   "source": [
    "df.drop_duplicates(inplace=True)\n",
    "print(df.shape)"
   ]
  },
  {
   "cell_type": "markdown",
   "metadata": {},
   "source": [
    "### Check for occurance of None"
   ]
  },
  {
   "cell_type": "code",
   "execution_count": 9,
   "metadata": {},
   "outputs": [
    {
     "data": {
      "text/plain": [
       "Invoice_Number    0\n",
       "Product_Code      0\n",
       "Description       0\n",
       "Quantity          0\n",
       "Invoice_Date      0\n",
       "Unit_Price        0\n",
       "Customer_ID       0\n",
       "Country           0\n",
       "dtype: int64"
      ]
     },
     "execution_count": 9,
     "metadata": {},
     "output_type": "execute_result"
    }
   ],
   "source": [
    "df.isna().sum()"
   ]
  },
  {
   "cell_type": "markdown",
   "metadata": {},
   "source": [
    "### Univariate analysis of product quantity\n",
    "1. Number of transaction vs cancellation\n",
    "2. Number of transaction vs cancellation per country\n",
    "3. Remove cancellation transaction"
   ]
  },
  {
   "cell_type": "code",
   "execution_count": 10,
   "metadata": {},
   "outputs": [
    {
     "data": {
      "image/png": "[encoded data removed]",
      "text/plain": [
       "<Figure size 432x288 with 1 Axes>"
      ]
     },
     "metadata": {
      "needs_background": "light"
     },
     "output_type": "display_data"
    }
   ],
   "source": [
    "sns.distplot(df.Quantity)\n",
    "plt.xlim(-500, 1000)\n",
    "plt.show()"
   ]
  },
  {
   "cell_type": "code",
   "execution_count": 11,
   "metadata": {},
   "outputs": [
    {
     "data": {
      "text/html": [
       "<div>\n",
       "<style scoped>\n",
       "    .dataframe tbody tr th:only-of-type {\n",
       "        vertical-align: middle;\n",
       "    }\n",
       "\n",
       "    .dataframe tbody tr th {\n",
       "        vertical-align: top;\n",
       "    }\n",
       "\n",
       "    .dataframe thead th {\n",
       "        text-align: right;\n",
       "    }\n",
       "</style>\n",
       "<table border=\"1\" class=\"dataframe\">\n",
       "  <thead>\n",
       "    <tr style=\"text-align: right;\">\n",
       "      <th></th>\n",
       "      <th>Invoice_Number</th>\n",
       "      <th>Product_Code</th>\n",
       "      <th>Description</th>\n",
       "      <th>Quantity</th>\n",
       "      <th>Invoice_Date</th>\n",
       "      <th>Unit_Price</th>\n",
       "      <th>Customer_ID</th>\n",
       "      <th>Country</th>\n",
       "      <th>Cancellation</th>\n",
       "    </tr>\n",
       "  </thead>\n",
       "  <tbody>\n",
       "    <tr>\n",
       "      <th>141</th>\n",
       "      <td>C536379</td>\n",
       "      <td>D</td>\n",
       "      <td>Discount</td>\n",
       "      <td>-1</td>\n",
       "      <td>2010-12-01 09:41:00</td>\n",
       "      <td>27.50</td>\n",
       "      <td>14527</td>\n",
       "      <td>United Kingdom</td>\n",
       "      <td>True</td>\n",
       "    </tr>\n",
       "    <tr>\n",
       "      <th>154</th>\n",
       "      <td>C536383</td>\n",
       "      <td>35004C</td>\n",
       "      <td>SET OF 3 COLOURED  FLYING DUCKS</td>\n",
       "      <td>-1</td>\n",
       "      <td>2010-12-01 09:49:00</td>\n",
       "      <td>4.65</td>\n",
       "      <td>15311</td>\n",
       "      <td>United Kingdom</td>\n",
       "      <td>True</td>\n",
       "    </tr>\n",
       "    <tr>\n",
       "      <th>235</th>\n",
       "      <td>C536391</td>\n",
       "      <td>22556</td>\n",
       "      <td>PLASTERS IN TIN CIRCUS PARADE</td>\n",
       "      <td>-12</td>\n",
       "      <td>2010-12-01 10:24:00</td>\n",
       "      <td>1.65</td>\n",
       "      <td>17548</td>\n",
       "      <td>United Kingdom</td>\n",
       "      <td>True</td>\n",
       "    </tr>\n",
       "    <tr>\n",
       "      <th>236</th>\n",
       "      <td>C536391</td>\n",
       "      <td>21984</td>\n",
       "      <td>PACK OF 12 PINK PAISLEY TISSUES</td>\n",
       "      <td>-24</td>\n",
       "      <td>2010-12-01 10:24:00</td>\n",
       "      <td>0.29</td>\n",
       "      <td>17548</td>\n",
       "      <td>United Kingdom</td>\n",
       "      <td>True</td>\n",
       "    </tr>\n",
       "    <tr>\n",
       "      <th>237</th>\n",
       "      <td>C536391</td>\n",
       "      <td>21983</td>\n",
       "      <td>PACK OF 12 BLUE PAISLEY TISSUES</td>\n",
       "      <td>-24</td>\n",
       "      <td>2010-12-01 10:24:00</td>\n",
       "      <td>0.29</td>\n",
       "      <td>17548</td>\n",
       "      <td>United Kingdom</td>\n",
       "      <td>True</td>\n",
       "    </tr>\n",
       "  </tbody>\n",
       "</table>\n",
       "</div>"
      ],
      "text/plain": [
       "    Invoice_Number Product_Code                       Description  Quantity  \\\n",
       "141        C536379            D                          Discount        -1   \n",
       "154        C536383       35004C   SET OF 3 COLOURED  FLYING DUCKS        -1   \n",
       "235        C536391        22556    PLASTERS IN TIN CIRCUS PARADE        -12   \n",
       "236        C536391        21984  PACK OF 12 PINK PAISLEY TISSUES        -24   \n",
       "237        C536391        21983  PACK OF 12 BLUE PAISLEY TISSUES        -24   \n",
       "\n",
       "           Invoice_Date  Unit_Price Customer_ID         Country  Cancellation  \n",
       "141 2010-12-01 09:41:00       27.50       14527  United Kingdom          True  \n",
       "154 2010-12-01 09:49:00        4.65       15311  United Kingdom          True  \n",
       "235 2010-12-01 10:24:00        1.65       17548  United Kingdom          True  \n",
       "236 2010-12-01 10:24:00        0.29       17548  United Kingdom          True  \n",
       "237 2010-12-01 10:24:00        0.29       17548  United Kingdom          True  "
      ]
     },
     "execution_count": 11,
     "metadata": {},
     "output_type": "execute_result"
    }
   ],
   "source": [
    "df['Cancellation'] = df.Quantity<0\n",
    "df.loc[df.Cancellation==True].head()"
   ]
  },
  {
   "cell_type": "code",
   "execution_count": 12,
   "metadata": {},
   "outputs": [
    {
     "data": {
      "text/plain": [
       "<matplotlib.axes._subplots.AxesSubplot at 0x23201c44488>"
      ]
     },
     "execution_count": 12,
     "metadata": {},
     "output_type": "execute_result"
    },
    {
     "data": {
      "image/png": "[encoded data removed]",
      "text/plain": [
       "<Figure size 432x288 with 1 Axes>"
      ]
     },
     "metadata": {
      "needs_background": "light"
     },
     "output_type": "display_data"
    }
   ],
   "source": [
    "temp_df = df.groupby([df.Cancellation])['Invoice_Number'].nunique().reset_index()\n",
    "sns.barplot(x='Cancellation',y='Invoice_Number', data=temp_df)"
   ]
  },
  {
   "cell_type": "code",
   "execution_count": 13,
   "metadata": {},
   "outputs": [
    {
     "data": {
      "image/png": "[encoded data removed]",
      "text/plain": [
       "<Figure size 1152x576 with 1 Axes>"
      ]
     },
     "metadata": {
      "needs_background": "light"
     },
     "output_type": "display_data"
    }
   ],
   "source": [
    "temp_df = df.groupby([df.Cancellation, df.Country])['Invoice_Number'].nunique().reset_index()\n",
    "\n",
    "temp_df = temp_df.pivot(index='Country', columns='Cancellation', values='Invoice_Number')\n",
    "temp_df.columns = temp_df.columns.map(lambda x: f'Cancellation_{x}')\n",
    "temp_df = temp_df.reset_index()\n",
    "temp_df = temp_df.fillna(0)\n",
    "temp_df['Success_Transac_Rate'] = ((temp_df.Cancellation_False-temp_df.Cancellation_True)/temp_df.Cancellation_False)*100\n",
    "plt.figure(figsize=(16, 8))\n",
    "sns.barplot(x='Country',y='Success_Transac_Rate', data=temp_df, order=temp_df.sort_values('Success_Transac_Rate', ascending=False).Country)\n",
    "locs, labels = plt.xticks()\n",
    "plt.setp(labels, rotation=90)\n",
    "plt.show()"
   ]
  },
  {
   "cell_type": "code",
   "execution_count": 14,
   "metadata": {},
   "outputs": [
    {
     "name": "stdout",
     "output_type": "stream",
     "text": [
      "(10587, 9)\n"
     ]
    },
    {
     "data": {
      "text/html": [
       "<div>\n",
       "<style scoped>\n",
       "    .dataframe tbody tr th:only-of-type {\n",
       "        vertical-align: middle;\n",
       "    }\n",
       "\n",
       "    .dataframe tbody tr th {\n",
       "        vertical-align: top;\n",
       "    }\n",
       "\n",
       "    .dataframe thead th {\n",
       "        text-align: right;\n",
       "    }\n",
       "</style>\n",
       "<table border=\"1\" class=\"dataframe\">\n",
       "  <thead>\n",
       "    <tr style=\"text-align: right;\">\n",
       "      <th></th>\n",
       "      <th>Invoice_Number</th>\n",
       "      <th>Product_Code</th>\n",
       "      <th>Description</th>\n",
       "      <th>Quantity</th>\n",
       "      <th>Invoice_Date</th>\n",
       "      <th>Unit_Price</th>\n",
       "      <th>Customer_ID</th>\n",
       "      <th>Country</th>\n",
       "      <th>Cancellation</th>\n",
       "    </tr>\n",
       "  </thead>\n",
       "  <tbody>\n",
       "    <tr>\n",
       "      <th>141</th>\n",
       "      <td>C536379</td>\n",
       "      <td>D</td>\n",
       "      <td>Discount</td>\n",
       "      <td>-1</td>\n",
       "      <td>2010-12-01 09:41:00</td>\n",
       "      <td>27.50</td>\n",
       "      <td>14527</td>\n",
       "      <td>United Kingdom</td>\n",
       "      <td>True</td>\n",
       "    </tr>\n",
       "    <tr>\n",
       "      <th>154</th>\n",
       "      <td>C536383</td>\n",
       "      <td>35004C</td>\n",
       "      <td>SET OF 3 COLOURED  FLYING DUCKS</td>\n",
       "      <td>-1</td>\n",
       "      <td>2010-12-01 09:49:00</td>\n",
       "      <td>4.65</td>\n",
       "      <td>15311</td>\n",
       "      <td>United Kingdom</td>\n",
       "      <td>True</td>\n",
       "    </tr>\n",
       "    <tr>\n",
       "      <th>235</th>\n",
       "      <td>C536391</td>\n",
       "      <td>22556</td>\n",
       "      <td>PLASTERS IN TIN CIRCUS PARADE</td>\n",
       "      <td>-12</td>\n",
       "      <td>2010-12-01 10:24:00</td>\n",
       "      <td>1.65</td>\n",
       "      <td>17548</td>\n",
       "      <td>United Kingdom</td>\n",
       "      <td>True</td>\n",
       "    </tr>\n",
       "    <tr>\n",
       "      <th>236</th>\n",
       "      <td>C536391</td>\n",
       "      <td>21984</td>\n",
       "      <td>PACK OF 12 PINK PAISLEY TISSUES</td>\n",
       "      <td>-24</td>\n",
       "      <td>2010-12-01 10:24:00</td>\n",
       "      <td>0.29</td>\n",
       "      <td>17548</td>\n",
       "      <td>United Kingdom</td>\n",
       "      <td>True</td>\n",
       "    </tr>\n",
       "    <tr>\n",
       "      <th>237</th>\n",
       "      <td>C536391</td>\n",
       "      <td>21983</td>\n",
       "      <td>PACK OF 12 BLUE PAISLEY TISSUES</td>\n",
       "      <td>-24</td>\n",
       "      <td>2010-12-01 10:24:00</td>\n",
       "      <td>0.29</td>\n",
       "      <td>17548</td>\n",
       "      <td>United Kingdom</td>\n",
       "      <td>True</td>\n",
       "    </tr>\n",
       "  </tbody>\n",
       "</table>\n",
       "</div>"
      ],
      "text/plain": [
       "    Invoice_Number Product_Code                       Description  Quantity  \\\n",
       "141        C536379            D                          Discount        -1   \n",
       "154        C536383       35004C   SET OF 3 COLOURED  FLYING DUCKS        -1   \n",
       "235        C536391        22556    PLASTERS IN TIN CIRCUS PARADE        -12   \n",
       "236        C536391        21984  PACK OF 12 PINK PAISLEY TISSUES        -24   \n",
       "237        C536391        21983  PACK OF 12 BLUE PAISLEY TISSUES        -24   \n",
       "\n",
       "           Invoice_Date  Unit_Price Customer_ID         Country  Cancellation  \n",
       "141 2010-12-01 09:41:00       27.50       14527  United Kingdom          True  \n",
       "154 2010-12-01 09:49:00        4.65       15311  United Kingdom          True  \n",
       "235 2010-12-01 10:24:00        1.65       17548  United Kingdom          True  \n",
       "236 2010-12-01 10:24:00        0.29       17548  United Kingdom          True  \n",
       "237 2010-12-01 10:24:00        0.29       17548  United Kingdom          True  "
      ]
     },
     "execution_count": 14,
     "metadata": {},
     "output_type": "execute_result"
    }
   ],
   "source": [
    "print(df.loc[df.Cancellation==True].shape)\n",
    "df.loc[df.Cancellation==True].head()"
   ]
  },
  {
   "cell_type": "code",
   "execution_count": 15,
   "metadata": {},
   "outputs": [
    {
     "name": "stdout",
     "output_type": "stream",
     "text": [
      "(526054, 9)\n"
     ]
    }
   ],
   "source": [
    "df = df.loc[df.Cancellation==False]\n",
    "print(df.shape)"
   ]
  },
  {
   "cell_type": "code",
   "execution_count": 16,
   "metadata": {},
   "outputs": [
    {
     "name": "stdout",
     "output_type": "stream",
     "text": [
      "(0, 9)\n"
     ]
    },
    {
     "data": {
      "text/html": [
       "<div>\n",
       "<style scoped>\n",
       "    .dataframe tbody tr th:only-of-type {\n",
       "        vertical-align: middle;\n",
       "    }\n",
       "\n",
       "    .dataframe tbody tr th {\n",
       "        vertical-align: top;\n",
       "    }\n",
       "\n",
       "    .dataframe thead th {\n",
       "        text-align: right;\n",
       "    }\n",
       "</style>\n",
       "<table border=\"1\" class=\"dataframe\">\n",
       "  <thead>\n",
       "    <tr style=\"text-align: right;\">\n",
       "      <th></th>\n",
       "      <th>Invoice_Number</th>\n",
       "      <th>Product_Code</th>\n",
       "      <th>Description</th>\n",
       "      <th>Quantity</th>\n",
       "      <th>Invoice_Date</th>\n",
       "      <th>Unit_Price</th>\n",
       "      <th>Customer_ID</th>\n",
       "      <th>Country</th>\n",
       "      <th>Cancellation</th>\n",
       "    </tr>\n",
       "  </thead>\n",
       "  <tbody>\n",
       "  </tbody>\n",
       "</table>\n",
       "</div>"
      ],
      "text/plain": [
       "Empty DataFrame\n",
       "Columns: [Invoice_Number, Product_Code, Description, Quantity, Invoice_Date, Unit_Price, Customer_ID, Country, Cancellation]\n",
       "Index: []"
      ]
     },
     "execution_count": 16,
     "metadata": {},
     "output_type": "execute_result"
    }
   ],
   "source": [
    "print(df.loc[df.Cancellation==True].shape)\n",
    "df.loc[df.Cancellation==True].head()"
   ]
  },
  {
   "cell_type": "markdown",
   "metadata": {},
   "source": [
    "### Univariate analysis Unit_Price\n",
    "1. Removing negative Unit_Price records"
   ]
  },
  {
   "cell_type": "code",
   "execution_count": 17,
   "metadata": {},
   "outputs": [
    {
     "name": "stdout",
     "output_type": "stream",
     "text": [
      "(524878, 9)\n"
     ]
    }
   ],
   "source": [
    "df = df.loc[df.Unit_Price>0]\n",
    "print(df.shape)"
   ]
  },
  {
   "cell_type": "markdown",
   "metadata": {},
   "source": [
    "### Imputing missing product description: \n",
    "1. With multi product description replace product description with the most the occurrence description\n",
    "2. Impute missing description for remaining blank product description"
   ]
  },
  {
   "cell_type": "code",
   "execution_count": 18,
   "metadata": {},
   "outputs": [
    {
     "data": {
      "text/plain": [
       "0"
      ]
     },
     "execution_count": 18,
     "metadata": {},
     "output_type": "execute_result"
    }
   ],
   "source": [
    "df.Description.isna().sum()"
   ]
  },
  {
   "cell_type": "code",
   "execution_count": 19,
   "metadata": {
    "scrolled": true
   },
   "outputs": [
    {
     "data": {
      "text/plain": [
       "Product_Code\n",
       "23236     4\n",
       "23196     4\n",
       "17107D    3\n",
       "22776     3\n",
       "23366     3\n",
       "         ..\n",
       "46776B    1\n",
       "46776A    1\n",
       "46775D    1\n",
       "46138B    1\n",
       "10002     1\n",
       "Name: Description, Length: 3922, dtype: int64"
      ]
     },
     "execution_count": 19,
     "metadata": {},
     "output_type": "execute_result"
    }
   ],
   "source": [
    "df.groupby(['Product_Code'])['Description'].nunique().sort_values(ascending=False)"
   ]
  },
  {
   "cell_type": "code",
   "execution_count": 20,
   "metadata": {},
   "outputs": [
    {
     "data": {
      "text/html": [
       "<div>\n",
       "<style scoped>\n",
       "    .dataframe tbody tr th:only-of-type {\n",
       "        vertical-align: middle;\n",
       "    }\n",
       "\n",
       "    .dataframe tbody tr th {\n",
       "        vertical-align: top;\n",
       "    }\n",
       "\n",
       "    .dataframe thead th {\n",
       "        text-align: right;\n",
       "    }\n",
       "</style>\n",
       "<table border=\"1\" class=\"dataframe\">\n",
       "  <thead>\n",
       "    <tr style=\"text-align: right;\">\n",
       "      <th></th>\n",
       "      <th>Product_Code</th>\n",
       "      <th>Description</th>\n",
       "    </tr>\n",
       "  </thead>\n",
       "  <tbody>\n",
       "    <tr>\n",
       "      <th>4160</th>\n",
       "      <td>m</td>\n",
       "      <td>Manual</td>\n",
       "    </tr>\n",
       "    <tr>\n",
       "      <th>4159</th>\n",
       "      <td>gift_0001_50</td>\n",
       "      <td>Dotcomgiftshop Gift Voucher £50.00</td>\n",
       "    </tr>\n",
       "    <tr>\n",
       "      <th>4158</th>\n",
       "      <td>gift_0001_40</td>\n",
       "      <td>Dotcomgiftshop Gift Voucher £40.00</td>\n",
       "    </tr>\n",
       "    <tr>\n",
       "      <th>4157</th>\n",
       "      <td>gift_0001_30</td>\n",
       "      <td>Dotcomgiftshop Gift Voucher £30.00</td>\n",
       "    </tr>\n",
       "    <tr>\n",
       "      <th>4156</th>\n",
       "      <td>gift_0001_20</td>\n",
       "      <td>Dotcomgiftshop Gift Voucher £20.00</td>\n",
       "    </tr>\n",
       "  </tbody>\n",
       "</table>\n",
       "</div>"
      ],
      "text/plain": [
       "      Product_Code                         Description\n",
       "4160             m                              Manual\n",
       "4159  gift_0001_50  Dotcomgiftshop Gift Voucher £50.00\n",
       "4158  gift_0001_40  Dotcomgiftshop Gift Voucher £40.00\n",
       "4157  gift_0001_30  Dotcomgiftshop Gift Voucher £30.00\n",
       "4156  gift_0001_20  Dotcomgiftshop Gift Voucher £20.00"
      ]
     },
     "execution_count": 20,
     "metadata": {},
     "output_type": "execute_result"
    }
   ],
   "source": [
    "product_desc_mapping_df = pd.DataFrame(df.groupby(['Product_Code', 'Description'])['Invoice_Number'].nunique().reset_index()).sort_values(['Product_Code', 'Invoice_Number'], ascending=False).groupby('Product_Code').head(1).drop('Invoice_Number', axis=1)\n",
    "product_desc_mapping_df.head()"
   ]
  },
  {
   "cell_type": "code",
   "execution_count": 21,
   "metadata": {},
   "outputs": [],
   "source": [
    "df = pd.merge(df.drop('Description', axis=1), product_desc_mapping_df, how='outer')\n",
    "df.loc[df.Description.isna(), 'Description'] = 'missing_description'"
   ]
  },
  {
   "cell_type": "code",
   "execution_count": 22,
   "metadata": {},
   "outputs": [
    {
     "data": {
      "text/plain": [
       "0"
      ]
     },
     "execution_count": 22,
     "metadata": {},
     "output_type": "execute_result"
    }
   ],
   "source": [
    "df.Description.isna().sum()"
   ]
  },
  {
   "cell_type": "code",
   "execution_count": 23,
   "metadata": {},
   "outputs": [
    {
     "data": {
      "text/plain": [
       "Product_Code\n",
       "m         1\n",
       "22429     1\n",
       "22427     1\n",
       "22426     1\n",
       "22425     1\n",
       "         ..\n",
       "44228     1\n",
       "44092C    1\n",
       "44092B    1\n",
       "44091A    1\n",
       "10002     1\n",
       "Name: Description, Length: 3922, dtype: int64"
      ]
     },
     "execution_count": 23,
     "metadata": {},
     "output_type": "execute_result"
    }
   ],
   "source": [
    "df.groupby(['Product_Code'])['Description'].nunique().sort_values(ascending=False)"
   ]
  },
  {
   "cell_type": "markdown",
   "metadata": {},
   "source": [
    "## Imputing missing Customer_ID:\n",
    "1. Checks to find if missing Customer_ID can be found with any matching invoice number.\n",
    "2. Check if any particular country exhibits missing Customer_ID.\n",
    "3. Impute missing customer id as unique customer as per their available transaction id"
   ]
  },
  {
   "cell_type": "code",
   "execution_count": 24,
   "metadata": {},
   "outputs": [
    {
     "data": {
      "text/plain": [
       "array([], dtype=object)"
      ]
     },
     "execution_count": 24,
     "metadata": {},
     "output_type": "execute_result"
    }
   ],
   "source": [
    "df.loc[df.Invoice_Number.isin(df.loc[df.Customer_ID.isna(), 'Invoice_Number'].unique())].Customer_ID.unique()"
   ]
  },
  {
   "cell_type": "code",
   "execution_count": 25,
   "metadata": {},
   "outputs": [
    {
     "data": {
      "text/plain": [
       "United Kingdom          0.914470\n",
       "Germany                 0.017194\n",
       "France                  0.015988\n",
       "EIRE                    0.015011\n",
       "Spain                   0.004723\n",
       "Netherlands             0.004494\n",
       "Belgium                 0.003869\n",
       "Switzerland             0.003730\n",
       "Portugal                0.002843\n",
       "Australia               0.002250\n",
       "Norway                  0.002040\n",
       "Italy                   0.001444\n",
       "Channel Islands         0.001423\n",
       "Finland                 0.001305\n",
       "Cyprus                  0.001149\n",
       "Sweden                  0.000857\n",
       "Unspecified             0.000842\n",
       "Austria                 0.000758\n",
       "Denmark                 0.000724\n",
       "Poland                  0.000629\n",
       "Japan                   0.000612\n",
       "Israel                  0.000556\n",
       "Hong Kong               0.000533\n",
       "Singapore               0.000423\n",
       "Iceland                 0.000347\n",
       "USA                     0.000341\n",
       "Canada                  0.000288\n",
       "Greece                  0.000276\n",
       "Malta                   0.000213\n",
       "United Arab Emirates    0.000130\n",
       "European Community      0.000114\n",
       "RSA                     0.000109\n",
       "Lebanon                 0.000086\n",
       "Lithuania               0.000067\n",
       "Brazil                  0.000061\n",
       "Czech Republic          0.000048\n",
       "Bahrain                 0.000034\n",
       "Saudi Arabia            0.000017\n",
       "Name: Country, dtype: float64"
      ]
     },
     "execution_count": 25,
     "metadata": {},
     "output_type": "execute_result"
    }
   ],
   "source": [
    "df.Country.value_counts()/len(df)"
   ]
  },
  {
   "cell_type": "code",
   "execution_count": 26,
   "metadata": {},
   "outputs": [
    {
     "data": {
      "text/plain": [
       "Series([], Name: Country, dtype: float64)"
      ]
     },
     "execution_count": 26,
     "metadata": {},
     "output_type": "execute_result"
    }
   ],
   "source": [
    "df.loc[df.Customer_ID.isna(), 'Country'].value_counts()/len(df.Customer_ID.isna())"
   ]
  },
  {
   "cell_type": "code",
   "execution_count": 28,
   "metadata": {},
   "outputs": [
    {
     "data": {
      "text/html": [
       "<div>\n",
       "<style scoped>\n",
       "    .dataframe tbody tr th:only-of-type {\n",
       "        vertical-align: middle;\n",
       "    }\n",
       "\n",
       "    .dataframe tbody tr th {\n",
       "        vertical-align: top;\n",
       "    }\n",
       "\n",
       "    .dataframe thead th {\n",
       "        text-align: right;\n",
       "    }\n",
       "</style>\n",
       "<table border=\"1\" class=\"dataframe\">\n",
       "  <thead>\n",
       "    <tr style=\"text-align: right;\">\n",
       "      <th></th>\n",
       "      <th>Invoice_Number</th>\n",
       "      <th>Product_Code</th>\n",
       "      <th>Quantity</th>\n",
       "      <th>Invoice_Date</th>\n",
       "      <th>Unit_Price</th>\n",
       "      <th>Customer_ID</th>\n",
       "      <th>Country</th>\n",
       "      <th>Cancellation</th>\n",
       "      <th>Description</th>\n",
       "    </tr>\n",
       "  </thead>\n",
       "  <tbody>\n",
       "    <tr>\n",
       "      <th>12</th>\n",
       "      <td>536575</td>\n",
       "      <td>85123A</td>\n",
       "      <td>128</td>\n",
       "      <td>2010-12-01 16:01:00</td>\n",
       "      <td>2.55</td>\n",
       "      <td>13777</td>\n",
       "      <td>United Kingdom</td>\n",
       "      <td>False</td>\n",
       "      <td>WHITE HANGING HEART T-LIGHT HOLDER</td>\n",
       "    </tr>\n",
       "    <tr>\n",
       "      <th>13</th>\n",
       "      <td>536576</td>\n",
       "      <td>85123A</td>\n",
       "      <td>128</td>\n",
       "      <td>2010-12-01 16:11:00</td>\n",
       "      <td>2.55</td>\n",
       "      <td>13777</td>\n",
       "      <td>United Kingdom</td>\n",
       "      <td>False</td>\n",
       "      <td>WHITE HANGING HEART T-LIGHT HOLDER</td>\n",
       "    </tr>\n",
       "    <tr>\n",
       "      <th>14</th>\n",
       "      <td>536590</td>\n",
       "      <td>85123A</td>\n",
       "      <td>6</td>\n",
       "      <td>2010-12-01 16:52:00</td>\n",
       "      <td>2.95</td>\n",
       "      <td>13065</td>\n",
       "      <td>United Kingdom</td>\n",
       "      <td>False</td>\n",
       "      <td>WHITE HANGING HEART T-LIGHT HOLDER</td>\n",
       "    </tr>\n",
       "    <tr>\n",
       "      <th>15</th>\n",
       "      <td>536592</td>\n",
       "      <td>85123A</td>\n",
       "      <td>9</td>\n",
       "      <td>2010-12-01 17:06:00</td>\n",
       "      <td>5.91</td>\n",
       "      <td>NaN</td>\n",
       "      <td>United Kingdom</td>\n",
       "      <td>False</td>\n",
       "      <td>WHITE HANGING HEART T-LIGHT HOLDER</td>\n",
       "    </tr>\n",
       "  </tbody>\n",
       "</table>\n",
       "</div>"
      ],
      "text/plain": [
       "   Invoice_Number Product_Code  Quantity        Invoice_Date  Unit_Price  \\\n",
       "12         536575       85123A       128 2010-12-01 16:01:00        2.55   \n",
       "13         536576       85123A       128 2010-12-01 16:11:00        2.55   \n",
       "14         536590       85123A         6 2010-12-01 16:52:00        2.95   \n",
       "15         536592       85123A         9 2010-12-01 17:06:00        5.91   \n",
       "\n",
       "   Customer_ID         Country  Cancellation  \\\n",
       "12       13777  United Kingdom         False   \n",
       "13       13777  United Kingdom         False   \n",
       "14       13065  United Kingdom         False   \n",
       "15         NaN  United Kingdom         False   \n",
       "\n",
       "                           Description  \n",
       "12  WHITE HANGING HEART T-LIGHT HOLDER  \n",
       "13  WHITE HANGING HEART T-LIGHT HOLDER  \n",
       "14  WHITE HANGING HEART T-LIGHT HOLDER  \n",
       "15  WHITE HANGING HEART T-LIGHT HOLDER  "
      ]
     },
     "execution_count": 28,
     "metadata": {},
     "output_type": "execute_result"
    }
   ],
   "source": [
    "df.loc[((df.Customer_ID=='') | (df.Customer_ID.isna())), 'Customer_ID'] = 'missing_cust_id_'+df.loc[df.Customer_ID.isna(), 'Invoice_Number']\n",
    "df.iloc[12:16, :]"
   ]
  },
  {
   "cell_type": "markdown",
   "metadata": {},
   "source": [
    "#### Doc2vec with user all Product_Code"
   ]
  },
  {
   "cell_type": "code",
   "execution_count": 29,
   "metadata": {},
   "outputs": [
    {
     "data": {
      "text/html": [
       "<div>\n",
       "<style scoped>\n",
       "    .dataframe tbody tr th:only-of-type {\n",
       "        vertical-align: middle;\n",
       "    }\n",
       "\n",
       "    .dataframe tbody tr th {\n",
       "        vertical-align: top;\n",
       "    }\n",
       "\n",
       "    .dataframe thead th {\n",
       "        text-align: right;\n",
       "    }\n",
       "</style>\n",
       "<table border=\"1\" class=\"dataframe\">\n",
       "  <thead>\n",
       "    <tr style=\"text-align: right;\">\n",
       "      <th></th>\n",
       "      <th>Invoice_Number</th>\n",
       "      <th>Product_Code</th>\n",
       "      <th>Quantity</th>\n",
       "      <th>Invoice_Date</th>\n",
       "      <th>Unit_Price</th>\n",
       "      <th>Customer_ID</th>\n",
       "      <th>Country</th>\n",
       "      <th>Cancellation</th>\n",
       "      <th>Description</th>\n",
       "    </tr>\n",
       "  </thead>\n",
       "  <tbody>\n",
       "    <tr>\n",
       "      <th>0</th>\n",
       "      <td>536365</td>\n",
       "      <td>85123A</td>\n",
       "      <td>6</td>\n",
       "      <td>2010-12-01 08:26:00</td>\n",
       "      <td>2.55</td>\n",
       "      <td>17850</td>\n",
       "      <td>United Kingdom</td>\n",
       "      <td>False</td>\n",
       "      <td>WHITE HANGING HEART T-LIGHT HOLDER</td>\n",
       "    </tr>\n",
       "    <tr>\n",
       "      <th>1</th>\n",
       "      <td>536373</td>\n",
       "      <td>85123A</td>\n",
       "      <td>6</td>\n",
       "      <td>2010-12-01 09:02:00</td>\n",
       "      <td>2.55</td>\n",
       "      <td>17850</td>\n",
       "      <td>United Kingdom</td>\n",
       "      <td>False</td>\n",
       "      <td>WHITE HANGING HEART T-LIGHT HOLDER</td>\n",
       "    </tr>\n",
       "    <tr>\n",
       "      <th>2</th>\n",
       "      <td>536375</td>\n",
       "      <td>85123A</td>\n",
       "      <td>6</td>\n",
       "      <td>2010-12-01 09:32:00</td>\n",
       "      <td>2.55</td>\n",
       "      <td>17850</td>\n",
       "      <td>United Kingdom</td>\n",
       "      <td>False</td>\n",
       "      <td>WHITE HANGING HEART T-LIGHT HOLDER</td>\n",
       "    </tr>\n",
       "    <tr>\n",
       "      <th>3</th>\n",
       "      <td>536390</td>\n",
       "      <td>85123A</td>\n",
       "      <td>64</td>\n",
       "      <td>2010-12-01 10:19:00</td>\n",
       "      <td>2.55</td>\n",
       "      <td>17511</td>\n",
       "      <td>United Kingdom</td>\n",
       "      <td>False</td>\n",
       "      <td>WHITE HANGING HEART T-LIGHT HOLDER</td>\n",
       "    </tr>\n",
       "    <tr>\n",
       "      <th>4</th>\n",
       "      <td>536394</td>\n",
       "      <td>85123A</td>\n",
       "      <td>32</td>\n",
       "      <td>2010-12-01 10:39:00</td>\n",
       "      <td>2.55</td>\n",
       "      <td>13408</td>\n",
       "      <td>United Kingdom</td>\n",
       "      <td>False</td>\n",
       "      <td>WHITE HANGING HEART T-LIGHT HOLDER</td>\n",
       "    </tr>\n",
       "  </tbody>\n",
       "</table>\n",
       "</div>"
      ],
      "text/plain": [
       "  Invoice_Number Product_Code  Quantity        Invoice_Date  Unit_Price  \\\n",
       "0         536365       85123A         6 2010-12-01 08:26:00        2.55   \n",
       "1         536373       85123A         6 2010-12-01 09:02:00        2.55   \n",
       "2         536375       85123A         6 2010-12-01 09:32:00        2.55   \n",
       "3         536390       85123A        64 2010-12-01 10:19:00        2.55   \n",
       "4         536394       85123A        32 2010-12-01 10:39:00        2.55   \n",
       "\n",
       "  Customer_ID         Country  Cancellation  \\\n",
       "0       17850  United Kingdom         False   \n",
       "1       17850  United Kingdom         False   \n",
       "2       17850  United Kingdom         False   \n",
       "3       17511  United Kingdom         False   \n",
       "4       13408  United Kingdom         False   \n",
       "\n",
       "                          Description  \n",
       "0  WHITE HANGING HEART T-LIGHT HOLDER  \n",
       "1  WHITE HANGING HEART T-LIGHT HOLDER  \n",
       "2  WHITE HANGING HEART T-LIGHT HOLDER  \n",
       "3  WHITE HANGING HEART T-LIGHT HOLDER  \n",
       "4  WHITE HANGING HEART T-LIGHT HOLDER  "
      ]
     },
     "metadata": {},
     "output_type": "display_data"
    }
   ],
   "source": [
    "temp_df = df.copy()\n",
    "display(temp_df.head())"
   ]
  },
  {
   "cell_type": "code",
   "execution_count": 30,
   "metadata": {},
   "outputs": [
    {
     "name": "stdout",
     "output_type": "stream",
     "text": [
      "3922\n",
      "(3922, 2)\n"
     ]
    },
    {
     "data": {
      "text/html": [
       "<div>\n",
       "<style scoped>\n",
       "    .dataframe tbody tr th:only-of-type {\n",
       "        vertical-align: middle;\n",
       "    }\n",
       "\n",
       "    .dataframe tbody tr th {\n",
       "        vertical-align: top;\n",
       "    }\n",
       "\n",
       "    .dataframe thead th {\n",
       "        text-align: right;\n",
       "    }\n",
       "</style>\n",
       "<table border=\"1\" class=\"dataframe\">\n",
       "  <thead>\n",
       "    <tr style=\"text-align: right;\">\n",
       "      <th></th>\n",
       "      <th>Product_Code</th>\n",
       "      <th>Description</th>\n",
       "    </tr>\n",
       "  </thead>\n",
       "  <tbody>\n",
       "    <tr>\n",
       "      <th>0</th>\n",
       "      <td>10002</td>\n",
       "      <td>INFLATABLE POLITICAL GLOBE</td>\n",
       "    </tr>\n",
       "    <tr>\n",
       "      <th>1</th>\n",
       "      <td>10080</td>\n",
       "      <td>GROOVY CACTUS INFLATABLE</td>\n",
       "    </tr>\n",
       "    <tr>\n",
       "      <th>2</th>\n",
       "      <td>10120</td>\n",
       "      <td>DOGGY RUBBER</td>\n",
       "    </tr>\n",
       "    <tr>\n",
       "      <th>3</th>\n",
       "      <td>10123C</td>\n",
       "      <td>HEARTS WRAPPING TAPE</td>\n",
       "    </tr>\n",
       "    <tr>\n",
       "      <th>4</th>\n",
       "      <td>10124A</td>\n",
       "      <td>SPOTS ON RED BOOKCOVER TAPE</td>\n",
       "    </tr>\n",
       "  </tbody>\n",
       "</table>\n",
       "</div>"
      ],
      "text/plain": [
       "  Product_Code                  Description\n",
       "0        10002  INFLATABLE POLITICAL GLOBE \n",
       "1        10080     GROOVY CACTUS INFLATABLE\n",
       "2        10120                 DOGGY RUBBER\n",
       "3       10123C        HEARTS WRAPPING TAPE \n",
       "4       10124A  SPOTS ON RED BOOKCOVER TAPE"
      ]
     },
     "execution_count": 30,
     "metadata": {},
     "output_type": "execute_result"
    }
   ],
   "source": [
    "product_code_2_description_map_dict = {}\n",
    "product_code_2_description_map = pd.DataFrame(temp_df.groupby(['Product_Code'])['Description'].unique()).reset_index()\n",
    "product_code_2_description_map['Description'] = product_code_2_description_map['Description'].apply(lambda x: x[0])\n",
    "for index, row in product_code_2_description_map.iterrows():\n",
    "    product_code_2_description_map_dict[row['Product_Code']] =  row['Description']\n",
    "print(len(product_code_2_description_map_dict))\n",
    "print(product_code_2_description_map.shape)\n",
    "product_code_2_description_map.head()"
   ]
  },
  {
   "cell_type": "code",
   "execution_count": 31,
   "metadata": {},
   "outputs": [
    {
     "data": {
      "text/plain": [
       "4008"
      ]
     },
     "execution_count": 31,
     "metadata": {},
     "output_type": "execute_result"
    }
   ],
   "source": [
    "selected_Customer_ID = list(temp_df.groupby(['Customer_ID'])['Product_Code'].nunique().loc[temp_df.groupby(['Customer_ID'])['Product_Code'].nunique()>5].index)\n",
    "len(selected_Customer_ID)"
   ]
  },
  {
   "cell_type": "code",
   "execution_count": 32,
   "metadata": {},
   "outputs": [
    {
     "data": {
      "text/html": [
       "<div>\n",
       "<style scoped>\n",
       "    .dataframe tbody tr th:only-of-type {\n",
       "        vertical-align: middle;\n",
       "    }\n",
       "\n",
       "    .dataframe tbody tr th {\n",
       "        vertical-align: top;\n",
       "    }\n",
       "\n",
       "    .dataframe thead th {\n",
       "        text-align: right;\n",
       "    }\n",
       "</style>\n",
       "<table border=\"1\" class=\"dataframe\">\n",
       "  <thead>\n",
       "    <tr style=\"text-align: right;\">\n",
       "      <th></th>\n",
       "      <th>Customer_ID</th>\n",
       "      <th>Product_Code</th>\n",
       "      <th>static_user_profile_list</th>\n",
       "    </tr>\n",
       "  </thead>\n",
       "  <tbody>\n",
       "    <tr>\n",
       "      <th>0</th>\n",
       "      <td>12347</td>\n",
       "      <td>[84969, 22728, 22727, 22726, 21791, 21035, 217...</td>\n",
       "      <td>[84969, 22728, 22727, 22726, 21791, 21035, 217...</td>\n",
       "    </tr>\n",
       "    <tr>\n",
       "      <th>1</th>\n",
       "      <td>12348</td>\n",
       "      <td>[POST, 21977, 84991, 21980, 21213, 84992, 2295...</td>\n",
       "      <td>[POST, 21977, 84991, 21980, 21213, 84992, 2295...</td>\n",
       "    </tr>\n",
       "    <tr>\n",
       "      <th>2</th>\n",
       "      <td>12349</td>\n",
       "      <td>[22960, 22326, POST, 21533, 21411, 85014B, 850...</td>\n",
       "      <td>[22960, 22326, POST, 21533, 21411, 85014B, 850...</td>\n",
       "    </tr>\n",
       "    <tr>\n",
       "      <th>3</th>\n",
       "      <td>12350</td>\n",
       "      <td>[POST, 21832, 21915, 22620, 21866, 22557, 2255...</td>\n",
       "      <td>[POST, 21832, 21915, 22620, 21866, 22557, 2255...</td>\n",
       "    </tr>\n",
       "    <tr>\n",
       "      <th>4</th>\n",
       "      <td>12352</td>\n",
       "      <td>[21754, 21755, 21756, 21731, POST, 22646, 2278...</td>\n",
       "      <td>[21754, 21755, 21756, 21731, POST, 22646, 2278...</td>\n",
       "    </tr>\n",
       "  </tbody>\n",
       "</table>\n",
       "</div>"
      ],
      "text/plain": [
       "  Customer_ID                                       Product_Code  \\\n",
       "0       12347  [84969, 22728, 22727, 22726, 21791, 21035, 217...   \n",
       "1       12348  [POST, 21977, 84991, 21980, 21213, 84992, 2295...   \n",
       "2       12349  [22960, 22326, POST, 21533, 21411, 85014B, 850...   \n",
       "3       12350  [POST, 21832, 21915, 22620, 21866, 22557, 2255...   \n",
       "4       12352  [21754, 21755, 21756, 21731, POST, 22646, 2278...   \n",
       "\n",
       "                            static_user_profile_list  \n",
       "0  [84969, 22728, 22727, 22726, 21791, 21035, 217...  \n",
       "1  [POST, 21977, 84991, 21980, 21213, 84992, 2295...  \n",
       "2  [22960, 22326, POST, 21533, 21411, 85014B, 850...  \n",
       "3  [POST, 21832, 21915, 22620, 21866, 22557, 2255...  \n",
       "4  [21754, 21755, 21756, 21731, POST, 22646, 2278...  "
      ]
     },
     "execution_count": 32,
     "metadata": {},
     "output_type": "execute_result"
    }
   ],
   "source": [
    "temp_df = temp_df.loc[temp_df.Customer_ID.isin(selected_Customer_ID)]\n",
    "temp_df = pd.DataFrame(temp_df.groupby('Customer_ID')['Product_Code'].unique()).reset_index()\n",
    "temp_df['static_user_profile_list'] = temp_df.Product_Code\n",
    "model_data = temp_df\n",
    "temp_df.head()"
   ]
  },
  {
   "cell_type": "code",
   "execution_count": 33,
   "metadata": {},
   "outputs": [
    {
     "name": "stdout",
     "output_type": "stream",
     "text": [
      "train_corpus[0]:TaggedDocument(['84969' '22728' '22727' '22726' '21791' '21035' '21731' '22492' '84997B'\n",
      " '84997C' '21975' '84991' '22774' '22771' '47580' '21832' '22195' '22196'\n",
      " '22729' '20966' '84625C' '84625A' '22772' '22773' '22805' '22417' '84992'\n",
      " '22371' '85116' '22775' '21976' '21154' '17021' '22945' '22423' '84558A'\n",
      " '22376' '22372' '84997D' '21041' '22699' '22697' '22561' '22494' '22134'\n",
      " '22375' '22422' '22432' '22497' '22550' '47559B' '85178' '20719' '22212'\n",
      " '51014C' '22725' '71477' '20780' '47567B' '84559A' '84559B' '85232D'\n",
      " '20665' '22131' '22374' '21064' '22821' '21578' '22621' '85167B' '22252'\n",
      " '20782' '21265' '21171' '22698' '16008' '21636' '22992' '23177' '23076'\n",
      " '23146' '23147' '23162' '23175' '23174' '23173' '23172' '23171' '23170'\n",
      " '23084' '23308' '23271' '23316' '23297' '23422' '23421' '23420' '23503'\n",
      " '23506' '23508' '23480' '23497' '23552'], ['12347'])\n",
      "epochs:30, window:4, vector_size:64, ns_exponent:0.254610887, min_count:4\n",
      "model training\n",
      "Model Saved at: model_pc/model_dm0_vector_size64_min_count4_epochs30_window4_ns_exponent0.254610887_alpha0.016691564_min_alpha0.000591644_hs1_seed1234.model\n",
      "n_correct_prediction: [0.     0.9995 1.     1.     0.     1.     0.     0.     0.     0.\n",
      " 1.     0.     0.     0.     0.     0.     0.     0.     0.     0.\n",
      " 1.    ]\n"
     ]
    }
   ],
   "source": [
    "model_dir = 'model_pc'\n",
    "model = trn.training(temp_df, True, model_dir, epochs=30)    \n",
    "\n",
    "if model_data.shape[0] != len(model.docvecs.vectors_docs):\n",
    "    print('error')"
   ]
  },
  {
   "cell_type": "code",
   "execution_count": 34,
   "metadata": {},
   "outputs": [],
   "source": [
    "projection_dir = 'projections_pc'\n",
    "if not os.path.exists(projection_dir):\n",
    "    os.makedirs(projection_dir)\n",
    "    \n",
    "with open(f\"{projection_dir}/metadata.tsv\", 'w+') as file_metadata:\n",
    "    for i in list(model.docvecs.doctags.keys()):\n",
    "        file_metadata.write(i + '\\n')"
   ]
  },
  {
   "cell_type": "code",
   "execution_count": 35,
   "metadata": {},
   "outputs": [
    {
     "data": {
      "text/plain": [
       "'projections/model.ckpt-4008'"
      ]
     },
     "execution_count": 35,
     "metadata": {},
     "output_type": "execute_result"
    }
   ],
   "source": [
    "sess = tf.InteractiveSession()\n",
    "d2v = model.docvecs.vectors_docs\n",
    "with tf.device(\"/cpu:0\"):\n",
    "    embedding = tf.Variable(d2v, trainable=False, name='embedding')\n",
    "tf.global_variables_initializer().run()\n",
    "saver = tf.train.Saver()\n",
    "writer = tf.summary.FileWriter('projections', sess.graph)\n",
    "config = projector.ProjectorConfig()\n",
    "embed= config.embeddings.add()\n",
    "embed.tensor_name = 'embedding'\n",
    "embed.metadata_path = 'metadata.tsv'\n",
    "\n",
    "projector.visualize_embeddings(writer, config)\n",
    "\n",
    "saver.save(sess, 'projections/model.ckpt', global_step=len(d2v))"
   ]
  },
  {
   "cell_type": "code",
   "execution_count": 38,
   "metadata": {},
   "outputs": [
    {
     "data": {
      "image/png": "[encoded data removed]",
      "text/plain": [
       "<Figure size 432x288 with 1 Axes>"
      ]
     },
     "metadata": {
      "needs_background": "light"
     },
     "output_type": "display_data"
    }
   ],
   "source": [
    "with_in_cluster_sum_squares_list = [] \n",
    "\n",
    "for i in range(1,11): #From 2-10 doing multiple random initializations can make a huge difference to find a better local optima\n",
    "    kmeans = KMeans(n_clusters = i, init ='k-means++',max_iter=300,n_init=10)\n",
    "    kmeans.fit(d2v)\n",
    "    with_in_cluster_sum_squares_list.append(kmeans.inertia_)\n",
    "\n",
    "sns.lineplot(x=range(1,11), y= with_in_cluster_sum_squares_list)\n",
    "plt.title('The Elbow Method')\n",
    "plt.xlabel('Revenue type customer clusters)')\n",
    "plt.ylabel('With in cluster sum of squers(WCSS)')\n",
    "plt.show()"
   ]
  },
  {
   "cell_type": "code",
   "execution_count": 41,
   "metadata": {},
   "outputs": [
    {
     "name": "stdout",
     "output_type": "stream",
     "text": [
      "5\n"
     ]
    },
    {
     "data": {
      "text/html": [
       "<div>\n",
       "<style scoped>\n",
       "    .dataframe tbody tr th:only-of-type {\n",
       "        vertical-align: middle;\n",
       "    }\n",
       "\n",
       "    .dataframe tbody tr th {\n",
       "        vertical-align: top;\n",
       "    }\n",
       "\n",
       "    .dataframe thead th {\n",
       "        text-align: right;\n",
       "    }\n",
       "</style>\n",
       "<table border=\"1\" class=\"dataframe\">\n",
       "  <thead>\n",
       "    <tr style=\"text-align: right;\">\n",
       "      <th></th>\n",
       "      <th>Customer_ID</th>\n",
       "      <th>Product_Code</th>\n",
       "      <th>static_user_profile_list</th>\n",
       "      <th>Doc2vec_Cluster</th>\n",
       "    </tr>\n",
       "  </thead>\n",
       "  <tbody>\n",
       "    <tr>\n",
       "      <th>0</th>\n",
       "      <td>12347</td>\n",
       "      <td>[84969, 22728, 22727, 22726, 21791, 21035, 217...</td>\n",
       "      <td>[84969, 22728, 22727, 22726, 21791, 21035, 217...</td>\n",
       "      <td>2</td>\n",
       "    </tr>\n",
       "    <tr>\n",
       "      <th>1</th>\n",
       "      <td>12348</td>\n",
       "      <td>[POST, 21977, 84991, 21980, 21213, 84992, 2295...</td>\n",
       "      <td>[POST, 21977, 84991, 21980, 21213, 84992, 2295...</td>\n",
       "      <td>4</td>\n",
       "    </tr>\n",
       "    <tr>\n",
       "      <th>2</th>\n",
       "      <td>12349</td>\n",
       "      <td>[22960, 22326, POST, 21533, 21411, 85014B, 850...</td>\n",
       "      <td>[22960, 22326, POST, 21533, 21411, 85014B, 850...</td>\n",
       "      <td>3</td>\n",
       "    </tr>\n",
       "    <tr>\n",
       "      <th>3</th>\n",
       "      <td>12350</td>\n",
       "      <td>[POST, 21832, 21915, 22620, 21866, 22557, 2255...</td>\n",
       "      <td>[POST, 21832, 21915, 22620, 21866, 22557, 2255...</td>\n",
       "      <td>2</td>\n",
       "    </tr>\n",
       "    <tr>\n",
       "      <th>4</th>\n",
       "      <td>12352</td>\n",
       "      <td>[21754, 21755, 21756, 21731, POST, 22646, 2278...</td>\n",
       "      <td>[21754, 21755, 21756, 21731, POST, 22646, 2278...</td>\n",
       "      <td>0</td>\n",
       "    </tr>\n",
       "  </tbody>\n",
       "</table>\n",
       "</div>"
      ],
      "text/plain": [
       "  Customer_ID                                       Product_Code  \\\n",
       "0       12347  [84969, 22728, 22727, 22726, 21791, 21035, 217...   \n",
       "1       12348  [POST, 21977, 84991, 21980, 21213, 84992, 2295...   \n",
       "2       12349  [22960, 22326, POST, 21533, 21411, 85014B, 850...   \n",
       "3       12350  [POST, 21832, 21915, 22620, 21866, 22557, 2255...   \n",
       "4       12352  [21754, 21755, 21756, 21731, POST, 22646, 2278...   \n",
       "\n",
       "                            static_user_profile_list  Doc2vec_Cluster  \n",
       "0  [84969, 22728, 22727, 22726, 21791, 21035, 217...                2  \n",
       "1  [POST, 21977, 84991, 21980, 21213, 84992, 2295...                4  \n",
       "2  [22960, 22326, POST, 21533, 21411, 85014B, 850...                3  \n",
       "3  [POST, 21832, 21915, 22620, 21866, 22557, 2255...                2  \n",
       "4  [21754, 21755, 21756, 21731, POST, 22646, 2278...                0  "
      ]
     },
     "execution_count": 41,
     "metadata": {},
     "output_type": "execute_result"
    }
   ],
   "source": [
    "kmeans = KMeans(n_clusters = 5, init = 'k-means++')\n",
    "kmeans.fit(d2v)\n",
    "model_data['Doc2vec_Cluster'] = kmeans.predict(d2v)\n",
    "\n",
    "print(model_data.Doc2vec_Cluster.nunique())\n",
    "\n",
    "model_data.head()"
   ]
  },
  {
   "cell_type": "code",
   "execution_count": 42,
   "metadata": {},
   "outputs": [
    {
     "name": "stdout",
     "output_type": "stream",
     "text": [
      "**********\n",
      "0\n",
      "**********\n",
      "['HOME BUILDING BLOCK WORD', 'LOVE BUILDING BLOCK WORD', 'BATH BUILDING BLOCK WORD', 'RED TOADSTOOL LED NIGHT LIGHT', 'POSTAGE', 'CERAMIC STRAWBERRY CAKE MONEY BANK', 'LIGHT GARLAND BUTTERFILES PINK', 'WOODEN OWLS LIGHT GARLAND ', 'DELUXE SEWING KIT ', 'SMALL GLASS HEART TRINKET POT', 'STRAWBERRY CERAMIC TRINKET BOX', 'PINK DOUGHNUT TRINKET POT ', 'SET OF 4 ENGLISH ROSE COASTERS', 'METAL SIGN TAKE IT OR LEAVE IT ', 'BLUE HARMONICA IN BOX ', 'VICTORIAN GLASS HANGING T-LIGHT', 'DOLLY GIRL LUNCH BOX', 'CERAMIC HEART FAIRY CAKE MONEY BANK', 'REGENCY CAKESTAND 3 TIER', 'LANTERN CREAM GAZEBO ', 'IVORY KITCHEN SCALES', 'CHILDS BREAKFAST SET DOLLY GIRL ', 'CHILDS BREAKFAST SET SPACEBOY ', 'MINT KITCHEN SCALES', 'WELCOME  WOODEN BLOCK LETTERS', 'PINK HEART SHAPE EGG FRYING PAN', 'ANTIQUE GLASS PEDESTAL BOWL', 'FAIRY CAKE BIRTHDAY CANDLE SET', 'HOLIDAY FUN LUDO', 'VINTAGE CREAM DOG FOOD CONTAINER', 'Manual', 'CERAMIC CAKE DESIGN SPOTTED MUG', 'BIG DOUGHNUT FRIDGE MAGNETS', 'PINK BABY BUNTING', 'DOORMAT WELCOME TO OUR HOME', 'WOODEN HAPPY BIRTHDAY GARLAND', 'BAKING SET SPACEBOY DESIGN', 'BLUE STRIPE CERAMIC DRAWER KNOB', 'PINK DOG BOWL', 'CAT BOWL VINTAGE CREAM', 'SET OF 6 SPICE TINS PANTRY DESIGN', 'SET OF 3 CAKE TINS PANTRY DESIGN ', 'BAKING SET 9 PIECE RETROSPOT ', 'PANTRY SCRUBBING BRUSH', 'SET OF 4 PANTRY JELLY MOULDS', 'PANTRY ROLLING PIN', 'PANTRY WASHING UP BRUSH', 'PANTRY PASTRY BRUSH', 'OPEN CLOSED METAL SIGN', 'SPOTTY BUNTING', 'PETIT TRAY CHIC', 'GLASS BON BON JAR', 'ZINC HEART FLOWER T-LIGHT HOLDER', 'SET OF TEA COFFEE SUGAR TINS PANTRY', 'SET OF 3 REGENCY CAKE TINS', 'PANTRY MAGNETIC  SHOPPING LIST', 'WOODLAND BUNNIES LOLLY MAKERS', 'SET 12 COLOUR PENCILS SPACEBOY ', 'SET 12 COLOUR PENCILS DOLLY GIRL ']\n",
      "----------\n",
      "['VANILLA SCENT CANDLE JEWELLED BOX', 'REGENCY CAKESTAND 3 TIER', 'ROSES REGENCY TEACUP AND SAUCER ', 'GREEN REGENCY TEACUP AND SAUCER', 'STRAWBERRY FAIRY CAKE TEAPOT', 'NOVELTY BISCUITS CAKE STAND 3 TIER', 'ROSE SCENT CANDLE IN JEWELLED BOX', 'OCEAN SCENT CANDLE IN JEWELLED BOX', 'GROW A FLYTRAP OR SUNFLOWER IN TIN', 'S/4 PINK FLOWER CANDLES IN BOWL', 'PINK REGENCY TEACUP AND SAUCER', 'DOUGHNUT LIP GLOSS ', 'ICE CREAM SUNDAE LIP GLOSS']\n",
      "----------\n",
      "**********\n",
      "1\n",
      "**********\n",
      "['VINTAGE HEADS AND TAILS CARD GAME ', 'RETROSPOT TEA SET CERAMIC 11 PC ', 'HAND OVER THE CHOCOLATE   SIGN ', 'SET OF 3 BUTTERFLY COOKIE CUTTERS', 'SET OF 3 HEART COOKIE CUTTERS', 'PACK 3 BOXES BIRD PANNETONE ', 'PACK 3 BOXES CHRISTMAS PANNETONE', 'RIBBON REEL MAKING SNOWMEN ', 'RIBBON REEL CHRISTMAS SOCK BAUBLE', 'RIBBON REEL CHRISTMAS PRESENT ', 'RETROSPOT PARTY BAG + STICKER SET', 'PACK OF 6 HANDBAG GIFT BOXES', 'ENAMEL MEASURING JUG CREAM', 'PACK OF 6 PANNETONE GIFT BOXES', 'CAKE PLATE LOVEBIRD WHITE', 'PEACE WOODEN BLOCK LETTERS', 'PAPER BUNTING RETROSPOT', 'RED BABY BUNTING ', 'PINK BABY BUNTING', 'BAKING SET SPACEBOY DESIGN', 'PAPER BUNTING VINTAGE PAISLEY', 'PARTY BUNTING', 'BAKING SET 9 PIECE RETROSPOT ', 'SPOTTY BUNTING', 'SILVER BELLS TABLE DECORATION', 'SILVER HEARTS TABLE DECORATION', 'SILVER STARS TABLE DECORATION', 'HEART SHAPED HOLLY WREATH', 'DRAWER KNOB CRACKLE GLAZE IVORY', 'DRAWER KNOB CERAMIC BLACK']\n",
      "----------\n",
      "['MINI JIGSAW SPACEBOY', \"PAPER CHAIN KIT 50'S CHRISTMAS \", 'WOODEN PICTURE FRAME WHITE FINISH', 'RETROSPOT TEA SET CERAMIC 11 PC ', 'RETROSPOT HEART HOT WATER BOTTLE', '3 STRIPEY MICE FELTCRAFT', 'SET OF 6 SOLDIER SKITTLES', 'TRADITIONAL WOODEN SKIPPING ROPE', 'CHICK GREY HOT WATER BOTTLE', 'LOVEBIRD HANGING DECORATION WHITE ', '4 TRADITIONAL SPINNING TOPS', 'AGED GLASS SILVER T-LIGHT HOLDER', 'CHRISTMAS CRAFT LITTLE FRIENDS', 'WICKER WREATH SMALL', 'FELTCRAFT 6 FLOWER FRIENDS', 'GINGHAM HEART DECORATION', 'ROTATING LEAVES T-LIGHT HOLDER', 'METAL SIGN EMPIRE TEA', 'MAKE YOUR OWN MONSOON CARD KIT', 'WOODEN HEART CHRISTMAS SCANDINAVIAN', 'CARD HOLDER GINGHAM HEART', '12 PENCILS SMALL TUBE SKULL', '12 PENCIL SMALL TUBE WOODLAND', 'TOADSTOOL MONEY BOX', 'CHRISTMAS RETROSPOT ANGEL WOOD', 'SMALL HANGING IVORY/RED WOOD BIRD', 'RED GINGHAM ROSE JEWELLERY BOX', 'WOODLAND CHARLOTTE BAG', 'RED RETROSPOT CHARLOTTE BAG', '12 PENCILS SMALL TUBE RED RETROSPOT', 'POLYESTER FILLER PAD 40x40cm', 'GLITTER HEART DECORATION', 'WICKER WREATH LARGE', 'WOODEN STAR CHRISTMAS SCANDINAVIAN', 'BASKET OF TOADSTOOLS', 'MEMO BOARD RETROSPOT  DESIGN', 'FELT TOADSTOOL  SMALL', 'CHRISTMAS TREE PAINTED ZINC ', 'GLITTER CHRISTMAS STAR ', 'LONDON BUS COFFEE MUG', 'QUEENS GUARD COFFEE MUG', 'RED/CREAM STRIPE CUSHION COVER ', 'BEADED CRYSTAL HEART BLUE  LARGE', 'SET 6 PAPER TABLE LANTERN HEARTS ', 'JINGLE BELL HEART DECORATION', 'WHITE ROCKING HORSE HAND PAINTED', 'RED ROCKING HORSE HAND PAINTED', 'SMALL WHITE HEART OF WICKER', 'SET OF 3 WOODEN TREE DECORATIONS', 'SET OF 3 WOODEN STOCKING DECORATION', 'IVORY WICKER HEART SMALL', 'LE JARDIN BOTANIQUE CUSHION COVER', 'BELLE JARDINIERE CUSHION COVER', 'SET 12 COLOUR PENCILS SPACEBOY ', 'SET 36 COLOUR PENCILS LOVE LONDON', 'HEART MINI PORTRAIT FRAME', 'PAPER BUNTING PAISLEY PARK']\n",
      "----------\n",
      "**********\n",
      "2\n",
      "**********\n",
      "['BOX OF 6 ASSORTED COLOUR TEASPOONS', 'ALARM CLOCK BAKELIKE PINK', 'ALARM CLOCK BAKELIKE RED ', 'ALARM CLOCK BAKELIKE GREEN', 'VINTAGE HEADS AND TAILS CARD GAME ', 'SET/2 RED RETROSPOT TEA TOWELS ', 'RED TOADSTOOL LED NIGHT LIGHT', 'MINI PAINT SET VINTAGE ', 'CHILDRENS CUTLERY RETROSPOT RED ', 'CHILDRENS CUTLERY POLKADOT BLUE', 'PACK OF 60 DINOSAUR CAKE CASES', '60 TEATIME FAIRY CAKE CASES', 'RED DRAWER KNOB ACRYLIC EDWARDIAN', 'CLEAR DRAWER KNOB ACRYLIC EDWARDIAN', 'TEA TIME DES TEA COSY', 'CHOCOLATE CALCULATOR', 'LARGE HEART MEASURING SPOONS', 'SMALL HEART MEASURING SPOONS', 'ALARM CLOCK BAKELIKE ORANGE', 'SANDWICH BATH SPONGE', 'BLUE NEW BAROQUE CANDLESTICK CANDLE', 'PINK NEW BAROQUECANDLESTICK CANDLE', 'PINK DRAWER KNOB ACRYLIC EDWARDIAN', 'GREEN DRAWER KNOB ACRYLIC EDWARDIAN', 'BLUE DRAWER KNOB ACRYLIC EDWARDIAN', 'PACK OF 60 SPACEBOY CAKE CASES', '72 SWEETHEART FAIRY CAKE CASES', 'AIRLINE BAG VINTAGE TOKYO 78', 'BLACK CANDELABRA T-LIGHT HOLDER', 'PURPLE DRAWERKNOB ACRYLIC EDWARDIAN', 'PACK OF 60 MUSHROOM CAKE CASES', 'RED RETROSPOT OVEN GLOVE ', 'NAMASTE SWAGAT INCENSE', 'CHRISTMAS METAL TAGS ASSORTED ', 'REGENCY CAKESTAND 3 TIER', '3D DOG PICTURE PLAYING CARDS', 'AIRLINE BAG VINTAGE JET SET WHITE', 'AIRLINE BAG VINTAGE WORLD CHAMPION ', 'CHILDRENS CUTLERY POLKADOT PINK', 'RED RETROSPOT OVEN GLOVE DOUBLE', 'ROSES REGENCY TEACUP AND SAUCER ', 'GREEN REGENCY TEACUP AND SAUCER', 'WOODEN SCHOOL COLOURING SET', 'EMERGENCY FIRST AID TIN ', 'MINI LADLE LOVE HEART RED ', 'AIRLINE BAG VINTAGE JET SET BROWN', 'TOOTHPASTE TUBE PEN', 'WATERING CAN PINK BUNNY', 'SET OF 2 TINS VINTAGE BATHROOM ', 'HOLIDAY FUN LUDO', 'TEA TIME OVEN GLOVE', 'VICTORIAN SEWING KIT', 'WOODLAND CHARLOTTE BAG', 'FOUR HOOK  WHITE LOVEBIRDS', '\"FEATHER PEN,COAL BLACK\"', 'ALARM CLOCK BAKELIKE CHOCOLATE', 'COLOUR GLASS. STAR T-LIGHT HOLDER', 'BLACK EAR MUFF HEADPHONES', 'TEA TIME KITCHEN APRON', '3D SHEET OF DOG STICKERS', '3D SHEET OF CAT STICKERS', 'SET/3 DECOUPAGE STACKING TINS', 'RED RETROSPOT PURSE ', 'FOOD CONTAINER SET 3 LOVE HEART ', 'AIRLINE BAG VINTAGE JET SET RED', 'BOOM BOX SPEAKER BOYS', 'GIFT BAG PSYCHEDELIC APPLES', 'WOODLAND DESIGN  COTTON TOTE BAG', 'TRADITIONAL KNITTING NANCY', 'BLACK GRAND BAROQUE PHOTO FRAME', 'BIRDCAGE DECORATION TEALIGHT HOLDER', 'CAMOUFLAGE EAR MUFF HEADPHONES', 'PINK GOOSE FEATHER TREE 60CM', 'BATHROOM METAL SIGN ', 'PINK REGENCY TEACUP AND SAUCER', 'SMALL FOLDING SCISSOR(POINTED EDGE)', 'MADRAS NOTEBOOK MEDIUM', 'REVOLVER WOODEN RULER ', 'TREASURE ISLAND BOOK BOX', 'ICE CREAM SUNDAE LIP GLOSS', 'TRIPLE HOOK ANTIQUE IVORY ROSE', 'SINGLE ANTIQUE ROSE HOOK IVORY', 'REGENCY TEA STRAINER', 'REGENCY MILK JUG PINK ', 'REGENCY SUGAR BOWL GREEN', 'REGENCY TEAPOT ROSES ', 'REGENCY TEA PLATE PINK', 'REGENCY TEA PLATE GREEN ', 'REGENCY TEA PLATE ROSES ', 'RABBIT NIGHT LIGHT', 'SET OF 60 VINTAGE LEAF CAKE CASES ', 'CHRISTMAS TABLE SILVER CANDLE SPIKE', 'RED REFECTORY CLOCK ', 'SET 40 HEART SHAPE PETIT FOUR CASES', 'PANTRY HOOK BALLOON WHISK ', 'PANTRY HOOK SPATULA', 'PANTRY HOOK TEA STRAINER ', 'PLAYING CARDS KEEP CALM & CARRY ON', 'MINI PLAYING CARDS SPACEBOY ', 'MINI PLAYING CARDS DOLLY GIRL ', 'MINI LIGHTS WOODLAND MUSHROOMS', 'CLASSIC CHROME BICYCLE BELL ', 'BICYCLE PUNCTURE REPAIR KIT ']\n",
      "----------\n",
      "['POSTAGE', 'CHOCOLATE CALCULATOR', 'RED  HARMONICA IN BOX ', '4 TRADITIONAL SPINNING TOPS', 'UNION JACK FLAG LUGGAGE TAG', 'PLASTERS IN TIN VINTAGE PAISLEY ', 'PLASTERS IN TIN SPACEBOY', 'TEA BAG PLATE RED RETROSPOT', 'PINK/PURPLE RETRO RADIO', 'RETRO MOD TRAY', 'UNION JACK FLAG PASSPORT COVER ', 'CHOCOLATE THIS WAY METAL SIGN', 'RETRO PLASTIC ELEPHANT TRAY', 'BLUE POLKADOT PASSPORT COVER', 'METAL SIGN NEIGHBOURHOOD WITCH ', 'BLUE POLKADOT LUGGAGE TAG ', 'BATHROOM METAL SIGN ']\n",
      "----------\n",
      "**********\n",
      "3\n",
      "**********\n",
      "['JAM MAKING SET WITH JARS', 'ROUND SNACK BOXES SET OF4 WOODLAND ', 'POSTAGE', 'RETROSPOT LARGE MILK JUG', 'GINGHAM HEART  DOORSTOP RED', 'RED RETROSPOT UMBRELLA', 'BLACK/BLUE POLKADOT UMBRELLA', 'LARGE HEART MEASURING SPOONS', 'SET/6 RED SPOTTY PAPER CUPS', 'DOORMAT FAIRY CAKE', 'STRAWBERRY CERAMIC TRINKET BOX', 'PINK DOUGHNUT TRINKET POT ', 'GROW YOUR OWN BASIL IN ENAMEL MUG', 'SET/5 RED RETROSPOT LID GLASS BOWLS', 'DOORMAT RED RETROSPOT', 'DOORMAT HEARTS', 'PLASTERS IN TIN SKULLS', 'PLASTERS IN TIN VINTAGE PAISLEY ', 'PLASTERS IN TIN WOODLAND ANIMALS', 'CERAMIC STRAWBERRY DESIGN MUG', 'RETROSPOT PARTY BAG + STICKER SET', 'REGENCY CAKESTAND 3 TIER', 'ENGLISH ROSE SPIRIT LEVEL ', 'WRAP RED APPLES ', 'PLASTERS IN TIN CIRCUS PARADE ', 'PLASTERS IN TIN STRONGMAN', 'RECIPE BOX PANTRY YELLOW DESIGN', '20 DOLLY PEGS RETROSPOT', 'CHRISTMAS RETROSPOT ANGEL WOOD', 'DOORMAT ENGLISH ROSE ', 'RAIN PONCHO RETROSPOT', 'SMALL WHITE RETROSPOT MUG IN BOX ', 'ENAMEL WATERING CAN CREAM', 'SWEETHEART CERAMIC TRINKET BOX', 'RED HEART SHAPE LOVE BUCKET ', 'PINK  HEART SHAPE LOVE BUCKET ', 'CERAMIC CAKE DESIGN SPOTTED MUG', 'PAINTED METAL PEARS ASSORTED', 'DOORMAT WELCOME TO OUR HOME', 'FRENCH ENAMEL CANDLEHOLDER', 'BROCANTE SHELF WITH HOOKS', 'SMALL RED RETROSPOT MUG IN BOX ', 'FOOD CONTAINER SET 3 LOVE HEART ', 'RED RETROSPOT SUGAR JAM BOWL', 'ZINC FOLKART SLEIGH BELLS', 'HANGING HEART JAR T-LIGHT HOLDER', 'SET/4 WHITE RETRO STORAGE CUBES ', 'TEA TIME TEAPOT IN GIFT BOX', 'RED RETROSPOT SMALL MILK JUG', 'SET OF 6 SPICE TINS PANTRY DESIGN', 'SET OF 3 CAKE TINS PANTRY DESIGN ', '16 PIECE CUTLERY SET PANTRY DESIGN', 'DOORMAT VINTAGE LEAF', 'SET OF 10 LED DOLLY LIGHTS', 'PARISIENNE CURIO CABINET', 'SET OF 3 WOODEN HEART DECORATIONS', 'HEART T-LIGHT HOLDER WILLIE WINKIE', 'SET OF 4 KNICK KNACK TINS DOILY ', 'STORAGE TIN VINTAGE DOILY ', 'GLASS  SONGBIRD STORAGE JAR', 'PANTRY MAGNETIC  SHOPPING LIST', 'SET OF 6 TEA TIME BAKING CASES', 'SET OF 6 SNACK LOAF BAKING CASES', 'SET OF 12 FAIRY CAKE BAKING CASES', 'SET OF 12 MINI LOAF BAKING CASES', 'WRAP RED VINTAGE DOILY', 'HAND WARMER RED LOVE HEART', 'PANTRY CHOPPING BOARD', 'VINTAGE DOILY TRAVEL SEWING KIT', 'EMBROIDERED RIBBON REEL SALLY ', 'VINTAGE DOILY DELUXE SEWING KIT ', 'SWEETHEART WALL TIDY ', 'CLASSIC CHROME BICYCLE BELL ']\n",
      "----------\n",
      "['BOX OF VINTAGE JIGSAW BLOCKS ', 'HOME BUILDING BLOCK WORD', 'LOVE BUILDING BLOCK WORD', 'JAM MAKING SET WITH JARS', 'YELLOW COAT RACK PARIS FASHION', 'BLUE COAT RACK PARIS FASHION', 'BATH BUILDING BLOCK WORD', 'ALARM CLOCK BAKELIKE PINK', 'ALARM CLOCK BAKELIKE RED ', 'ALARM CLOCK BAKELIKE GREEN', 'LUNCH BOX I LOVE LONDON', ' SET 2 TEA TOWELS I LOVE LONDON ', 'JUMBO  BAG BAROQUE BLACK WHITE', 'JUMBO STORAGE BAG SUKI', 'JAM MAKING SET PRINTED', 'JUMBO SHOPPER VINTAGE RED PAISLEY', 'COOK WITH WINE METAL SIGN ', 'GLASS CLOCHE SMALL', 'DOORMAT FANCY FONT HOME SWEET HOME', 'VINTAGE SNAKES & LADDERS', 'IVORY GIANT GARDEN THERMOMETER', '3 TIER CAKE TIN GREEN AND CREAM', '3 TIER CAKE TIN RED AND CREAM', 'WOOD BLACK BOARD ANT WHITE FINISH', 'JUMBO BAG RED RETROSPOT', 'RED DINER WALL CLOCK', 'BLUE DINER WALL CLOCK', 'JAM JAR WITH PINK LID', 'JAM JAR WITH GREEN LID', 'RUSTIC  SEVENTEEN DRAWER SIDEBOARD', 'PICNIC BASKET WICKER SMALL', 'TRAVEL SEWING KIT', 'DOORMAT FAIRY CAKE', 'FULL ENGLISH BREAKFAST PLATE', 'OWL DOORSTOP', 'JUMBO BAG STRAWBERRY', 'VINTAGE SNAP CARDS', 'PACK OF 12 LONDON TISSUES ', 'SET 12 RETRO WHITE CHALK STICKS', 'TV DINNER TRAY DOLLY GIRL', 'RETROSPOT BABUSHKA DOORSTOP', 'SWEETHEART WIRE WALL TIDY', 'GREEN GIANT GARDEN THERMOMETER', 'BLUE GIANT GARDEN THERMOMETER', 'FIRST AID TIN', 'REGENCY CAKESTAND 3 TIER', 'HERB MARKER MINT', 'HERB MARKER ROSEMARY', 'HERB MARKER BASIL', 'HERB MARKER PARSLEY', 'HERB MARKER THYME', 'PICNIC BASKET WICKER LARGE', 'PACK OF 20 NAPKINS PANTRY DESIGN', 'SWEETHEART CAKESTAND 3 TIER', 'ROSES REGENCY TEACUP AND SAUCER ', 'GREEN REGENCY TEACUP AND SAUCER', 'BLACK KITCHEN SCALES', 'RED KITCHEN SCALES', 'IVORY KITCHEN SCALES', 'MINT KITCHEN SCALES', 'WHITE WOOD GARDEN PLANT LADDER', 'PLASTERS IN TIN CIRCUS PARADE ', 'PLASTERS IN TIN STRONGMAN', 'RECIPE BOX PANTRY YELLOW DESIGN', 'RECIPE BOX BLUE SKETCHBOOK DESIGN', '20 DOLLY PEGS RETROSPOT', 'NO SINGING METAL SIGN', 'EMERGENCY FIRST AID TIN ', 'CHEST OF DRAWERS GINGHAM HEART ', 'RED RETROSPOT CAKE STAND', \"DOCTOR'S BAG SOFT TOY\", 'SUKI  SHOULDER BAG', 'FRYING PAN UNION FLAG', 'TV DINNER TRAY AIR HOSTESS ', 'EMPIRE UNION JACK TV DINNER TRAY', 'WATERING CAN GARDEN MARKER', 'VINTAGE CREAM DOG FOOD CONTAINER', 'BREAD BIN DINER STYLE IVORY', '\"METAL SIGN,CUPCAKE SINGLE HOOK\"', '\"METAL SIGN,CUPCAKE SINGLE HOOK\"', 'METAL SIGN CUPCAKE SINGLE HOOK', 'VINTAGE CREAM CAT FOOD CONTAINER', 'SWEETHEART WIRE MAGAZINE RACK', 'SWEETHEART RECIPE BOOK STAND', 'BREAD BIN DINER STYLE RED ', 'MA CAMPAGNE CUTLERY BOX', 'ALARM CLOCK BAKELIKE CHOCOLATE', 'PAINTED METAL PEARS ASSORTED', 'GAOLERS KEYS DECORATIVE GARDEN ', 'PHARMACIE FIRST AID TIN', 'DOORMAT WELCOME TO OUR HOME', 'BROCANTE COAT RACK', 'ROUND CAKE TIN VINTAGE GREEN', 'PIN CUSHION BABUSHKA PINK', 'DOORMAT RESPECTABLE HOUSE', 'ROUND CAKE TIN VINTAGE RED', 'PEG BAG APPLES DESIGN', 'JUMBO BAG SPACEBOY DESIGN', 'BREAD BIN DINER STYLE MINT', 'SPACEBOY TV DINNER TRAY', 'MEASURING TAPE BABUSHKA PINK', 'FUNKY WASHING UP GLOVES ASSORTED', 'CHILDS BREAKFAST SET CIRCUS PARADE', 'VINTAGE RED KITCHEN CABINET', 'DAIRY MAID TRADITIONAL TEAPOT ', 'PARTY BUNTING', 'PACK OF 20 NAPKINS RED APPLES', 'FRENCH ENAMEL POT W LID', \"NURSE'S BAG SOFT TOY\", 'ENAMEL BLUE RIM BISCUIT BIN', 'CAT BOWL VINTAGE CREAM', 'SWEETHEART WIRE FRUIT BOWL', 'EASTER TIN CHICKS PINK DAISY', 'FRYING PAN RED RETROSPOT', 'FRENCH STYLE EMBOSSED HEART CABINET', 'DOORMAT HOME SWEET HOME BLUE ', 'SET/4 WHITE RETRO STORAGE CUBES ', 'GINGHAM BABUSHKA DOORSTOP', 'PINK REGENCY TEACUP AND SAUCER', 'LOVE SEAT ANTIQUE WHITE METAL', 'DOG BOWL VINTAGE CREAM', 'EASTER TIN KEEPSAKE', 'MR ROBOT SOFT TOY', 'SET OF 6 SPICE TINS PANTRY DESIGN', 'SET OF 3 CAKE TINS PANTRY DESIGN ', 'VINTAGE BLUE KITCHEN CABINET', 'SET OF 3 CAKE TINS SKETCHBOOK', 'MRS ROBOT SOFT TOY', 'WRAP WEDDING DAY', 'WRAP ALPHABET DESIGN', 'SET OF 4 PANTRY JELLY MOULDS', 'GIRAFFE WOODEN RULER', 'TOILET SIGN OCCUPIED OR VACANT', 'TREASURE ISLAND BOOK BOX', 'GYMKHANA TREASURE BOOK BOX', 'ABC TREASURE BOOK BOX ', 'FELTCRAFT GIRL AMELIE KIT', 'RECYCLED ACAPULCO MAT RED', 'RECYCLED ACAPULCO MAT PINK', 'RECYCLED ACAPULCO MAT LAVENDER', 'RECYCLED ACAPULCO MAT GREEN', 'RECYCLED ACAPULCO MAT TURQUOISE', 'RECYCLED ACAPULCO MAT BLUE', 'OPEN CLOSED METAL SIGN', 'JUMBO BAG ALPHABET', 'JUMBO BAG APPLES', 'LUNCH BAG APPLE DESIGN', 'LUNCH BAG VINTAGE LEAF DESIGN', 'DOORMAT KEEP CALM AND COME IN', 'DOORMAT VINTAGE LEAF', 'REGENCY TEA STRAINER', 'SPOTTY BUNTING', 'JUMBO BAG VINTAGE LEAF', 'JUMBO BAG PEARS', 'BUNDLE OF 3 RETRO NOTE BOOKS', 'REGENCY MILK JUG PINK ', 'REGENCY SUGAR BOWL GREEN', 'REGENCY TEAPOT ROSES ', 'REGENCY TEA PLATE PINK', 'REGENCY TEA PLATE GREEN ', 'REGENCY TEA PLATE ROSES ', 'LE GRAND TRAY CHIC SET', 'PARISIENNE KEY CABINET ', 'SILVER BELLS TABLE DECORATION', 'GARDENERS KNEELING PAD KEEP CALM ', 'KNEELING MAT HOUSEWORK  DESIGN', 'SET OF 4 KNICK KNACK TINS DOILY ', 'SET OF 4 KNICK KNACK TINS LONDON ', 'SET OF 3 REGENCY CAKE TINS', 'SET OF 4 KNICK KNACK TINS POPPIES', 'SET OF 4 KNICK KNACK TINS LEAF', 'VINTAGE  2 METER FOLDING RULER', 'GLASS APOTHECARY BOTTLE PERFUME', 'GLASS  SONGBIRD STORAGE JAR', 'GLASS APOTHECARY BOTTLE TONIC', 'GLASS BONNE JAM JAR', 'IVORY REFECTORY CLOCK', 'SPACEBOY BEAKER', ' DOLLY GIRL BEAKER', 'LOVE HOT WATER BOTTLE', 'HOT WATER BOTTLE KEEP CALM', 'FOOT STOOL HOME SWEET HOME ', 'ZINC BOX SIGN HOME', 'GINGHAM RECIPE BOOK BOX', 'HOME SWEET HOME BLACKBOARD', 'METAL SIGN DROP YOUR PANTS', 'VINTAGE COFFEE GRINDER BOX', 'PANTRY HOOK BALLOON WHISK ', 'PANTRY 3 HOOK ROLLING PIN HANGER', 'PANTRY HOOK SPATULA', ' I LOVE LONDON MINI BACKPACK', 'DOLLY GIRL MINI BACKPACK', 'PANTRY HOOK TEA STRAINER ', 'PLAYING CARDS KEEP CALM & CARRY ON', 'PLAYING CARDS JUBILEE UNION JACK', 'SET 36 COLOUR PENCILS SPACEBOY ', 'SET 36 COLOURING PENCILS DOILY', 'VINTAGE DOILY TRAVEL SEWING KIT', 'SET 36 COLOUR PENCILS DOLLY GIRL', 'VINTAGE DOILY DELUXE SEWING KIT ', 'VINTAGE LEAF CHOPPING BOARD  ', 'POPPY FIELDS CHOPPING BOARD', 'SIX DRAWER OFFICE TIDY', ' NINE DRAWER OFFICE TIDY', 'WALL ART BICYCLE SAFETY', 'WALL ART STOP FOR TEA ', 'WALL ART DOG LICENCE ', \"WALL ART 70'S ALPHABET \", 'WALL ART SPACEBOY', 'WALL ART ONLY ONE PERSON ', 'WALL ART BIG LOVE ', 'WALL ART DOLLY GIRL ', 'WALL ART VILLAGE SHOW ', 'WALL ART I LOVE LONDON ']\n",
      "----------\n",
      "**********\n",
      "4\n",
      "**********\n",
      "['POSTAGE', 'PACK OF 60 PINK PAISLEY CAKE CASES', '60 TEATIME FAIRY CAKE CASES', 'PACK OF 12 RED RETROSPOT TISSUES ', 'PACK OF 72 SKULL CAKE CASES', '72 SWEETHEART FAIRY CAKE CASES', '60 CAKE CASES VINTAGE CHRISTMAS', 'PACK OF 12 LONDON TISSUES ', '60 CAKE CASES DOLLY GIRL DESIGN', 'PACK OF 12 HEARTS DESIGN TISSUES ', 'PACK OF 12 SUKI TISSUES ', 'PACK OF 12 WOODLAND TISSUES ', 'PACK OF 12 SKULL TISSUES', 'PACK OF 12 BLUE PAISLEY TISSUES ', 'SET OF 9 BLACK SKULL BALLOONS', 'SET OF 72 PINK HEART PAPER DOILIES', 'SET OF 72 SKULL PAPER  DOILIES', 'SWEETIES  STICKERS', 'MULTI HEARTS  STICKERS', 'DOUGHNUT LIP GLOSS ', 'ICE CREAM SUNDAE LIP GLOSS', 'ICE CREAM PEN LIP GLOSS ']\n",
      "----------\n",
      "['BOX OF VINTAGE JIGSAW BLOCKS ', 'ROUND SNACK BOXES SET OF4 WOODLAND ', 'SPACEBOY LUNCH BOX ', 'CIRCUS PARADE LUNCH BOX ', 'CHARLOTTE BAG DOLLY GIRL DESIGN', 'RED TOADSTOOL LED NIGHT LIGHT', 'LUNCH BAG RED RETROSPOT', 'RETROSPOT LARGE MILK JUG', '3 TIER CAKE TIN GREEN AND CREAM', 'SET/20 RED RETROSPOT PAPER NAPKINS ', 'TRADITIONAL WOODEN SKIPPING ROPE', 'RETROSPOT LAMP', 'ASSORTED COLOUR MINI CASES', 'LUNCH BAG PINK POLKADOT', 'BREAD BIN DINER STYLE PINK', 'DOLLY GIRL LUNCH BOX', 'BLUE POLKADOT PLATE ', 'RED RETROSPOT PLATE ', 'PINK  POLKADOT PLATE ', 'RED RETROSPOT MINI CASES', \"CHILDREN'S APRON DOLLY GIRL \", 'S/6 WOODEN SKITTLES IN COTTON BAG', 'DOORSTOP RETROSPOT HEART', 'RETROSPOT CHILDRENS APRON', 'CARD BILLBOARD FONT', 'CHILDRENS CUTLERY POLKADOT PINK', 'CHILDS BREAKFAST SET DOLLY GIRL ', 'RED RETROSPOT CAKE STAND', 'UNION STRIPE WITH FRINGE  HAMMOCK', 'PAPER BUNTING RETROSPOT', 'SET OF 72 PINK HEART PAPER DOILIES', 'RED RETROSPOT BOWL', 'RED RETROSPOT ROUND CAKE TINS', 'RED RETROSPOT CUP', 'FIVE CATS HANGING DECORATION', 'PINK BABY BUNTING', 'WOODEN HAPPY BIRTHDAY GARLAND', 'CAKE STAND WHITE TWO TIER LACE', 'BLUE POLKADOT BOWL', 'PINK  POLKADOT CUP', 'PINK POLKADOT BOWL', 'PARTY PIZZA DISH RED RETROSPOT', 'BLUE POLKADOT CUP', 'NATURAL SLATE CHALKBOARD LARGE ', 'PICNIC BOXES SET OF 3 RETROSPOT ', 'PARTY PIZZA DISH PINK POLKADOT', 'RED RETROSPOT BIG BOWL', 'BAKING SET 9 PIECE RETROSPOT ', 'RECYCLED ACAPULCO MAT LAVENDER', 'RECYCLED ACAPULCO MAT TURQUOISE', 'CIRCUS PARADE BABY GIFT SET', 'DOLLY GIRL BABY GIFT SET', 'CHILDRENS CUTLERY DOLLY GIRL ', 'CHILDRENS CUTLERY SPACEBOY ', 'CHILDRENS CUTLERY CIRCUS PARADE', 'CHARLOTTE BAG VINTAGE ALPHABET ', 'JUMBO BAG ALPHABET', 'CHARLOTTE BAG APPLES DESIGN']\n",
      "----------\n"
     ]
    }
   ],
   "source": [
    "for i in range(5):\n",
    "    print('*'*10)\n",
    "    print(i)\n",
    "    print('*'*10)\n",
    "    for i, v in model_data.loc[model_data.Doc2vec_Cluster==i, ['Product_Code', 'static_user_profile_list']].head(2).iterrows():\n",
    "        print([product_code_2_description_map_dict[i] for i in v['static_user_profile_list']])\n",
    "        print('-'*10)"
   ]
  },
  {
   "cell_type": "markdown",
   "metadata": {},
   "source": [
    "#### Doc2vec with user top_10 Product_Code"
   ]
  },
  {
   "cell_type": "code",
   "execution_count": 39,
   "metadata": {},
   "outputs": [
    {
     "data": {
      "text/html": [
       "<div>\n",
       "<style scoped>\n",
       "    .dataframe tbody tr th:only-of-type {\n",
       "        vertical-align: middle;\n",
       "    }\n",
       "\n",
       "    .dataframe tbody tr th {\n",
       "        vertical-align: top;\n",
       "    }\n",
       "\n",
       "    .dataframe thead th {\n",
       "        text-align: right;\n",
       "    }\n",
       "</style>\n",
       "<table border=\"1\" class=\"dataframe\">\n",
       "  <thead>\n",
       "    <tr style=\"text-align: right;\">\n",
       "      <th></th>\n",
       "      <th>Invoice_Number</th>\n",
       "      <th>Product_Code</th>\n",
       "      <th>Quantity</th>\n",
       "      <th>Invoice_Date</th>\n",
       "      <th>Unit_Price</th>\n",
       "      <th>Customer_ID</th>\n",
       "      <th>Country</th>\n",
       "      <th>Cancellation</th>\n",
       "      <th>Description</th>\n",
       "    </tr>\n",
       "  </thead>\n",
       "  <tbody>\n",
       "    <tr>\n",
       "      <th>0</th>\n",
       "      <td>536365</td>\n",
       "      <td>85123A</td>\n",
       "      <td>6</td>\n",
       "      <td>2010-12-01 08:26:00</td>\n",
       "      <td>2.55</td>\n",
       "      <td>17850</td>\n",
       "      <td>United Kingdom</td>\n",
       "      <td>False</td>\n",
       "      <td>WHITE HANGING HEART T-LIGHT HOLDER</td>\n",
       "    </tr>\n",
       "    <tr>\n",
       "      <th>1</th>\n",
       "      <td>536373</td>\n",
       "      <td>85123A</td>\n",
       "      <td>6</td>\n",
       "      <td>2010-12-01 09:02:00</td>\n",
       "      <td>2.55</td>\n",
       "      <td>17850</td>\n",
       "      <td>United Kingdom</td>\n",
       "      <td>False</td>\n",
       "      <td>WHITE HANGING HEART T-LIGHT HOLDER</td>\n",
       "    </tr>\n",
       "    <tr>\n",
       "      <th>2</th>\n",
       "      <td>536375</td>\n",
       "      <td>85123A</td>\n",
       "      <td>6</td>\n",
       "      <td>2010-12-01 09:32:00</td>\n",
       "      <td>2.55</td>\n",
       "      <td>17850</td>\n",
       "      <td>United Kingdom</td>\n",
       "      <td>False</td>\n",
       "      <td>WHITE HANGING HEART T-LIGHT HOLDER</td>\n",
       "    </tr>\n",
       "    <tr>\n",
       "      <th>3</th>\n",
       "      <td>536390</td>\n",
       "      <td>85123A</td>\n",
       "      <td>64</td>\n",
       "      <td>2010-12-01 10:19:00</td>\n",
       "      <td>2.55</td>\n",
       "      <td>17511</td>\n",
       "      <td>United Kingdom</td>\n",
       "      <td>False</td>\n",
       "      <td>WHITE HANGING HEART T-LIGHT HOLDER</td>\n",
       "    </tr>\n",
       "    <tr>\n",
       "      <th>4</th>\n",
       "      <td>536394</td>\n",
       "      <td>85123A</td>\n",
       "      <td>32</td>\n",
       "      <td>2010-12-01 10:39:00</td>\n",
       "      <td>2.55</td>\n",
       "      <td>13408</td>\n",
       "      <td>United Kingdom</td>\n",
       "      <td>False</td>\n",
       "      <td>WHITE HANGING HEART T-LIGHT HOLDER</td>\n",
       "    </tr>\n",
       "  </tbody>\n",
       "</table>\n",
       "</div>"
      ],
      "text/plain": [
       "  Invoice_Number Product_Code  Quantity        Invoice_Date  Unit_Price  \\\n",
       "0         536365       85123A         6 2010-12-01 08:26:00        2.55   \n",
       "1         536373       85123A         6 2010-12-01 09:02:00        2.55   \n",
       "2         536375       85123A         6 2010-12-01 09:32:00        2.55   \n",
       "3         536390       85123A        64 2010-12-01 10:19:00        2.55   \n",
       "4         536394       85123A        32 2010-12-01 10:39:00        2.55   \n",
       "\n",
       "  Customer_ID         Country  Cancellation  \\\n",
       "0       17850  United Kingdom         False   \n",
       "1       17850  United Kingdom         False   \n",
       "2       17850  United Kingdom         False   \n",
       "3       17511  United Kingdom         False   \n",
       "4       13408  United Kingdom         False   \n",
       "\n",
       "                          Description  \n",
       "0  WHITE HANGING HEART T-LIGHT HOLDER  \n",
       "1  WHITE HANGING HEART T-LIGHT HOLDER  \n",
       "2  WHITE HANGING HEART T-LIGHT HOLDER  \n",
       "3  WHITE HANGING HEART T-LIGHT HOLDER  \n",
       "4  WHITE HANGING HEART T-LIGHT HOLDER  "
      ]
     },
     "metadata": {},
     "output_type": "display_data"
    }
   ],
   "source": [
    "temp_df = df.copy()\n",
    "display(temp_df.head())"
   ]
  },
  {
   "cell_type": "code",
   "execution_count": 40,
   "metadata": {},
   "outputs": [
    {
     "data": {
      "text/html": [
       "<div>\n",
       "<style scoped>\n",
       "    .dataframe tbody tr th:only-of-type {\n",
       "        vertical-align: middle;\n",
       "    }\n",
       "\n",
       "    .dataframe tbody tr th {\n",
       "        vertical-align: top;\n",
       "    }\n",
       "\n",
       "    .dataframe thead th {\n",
       "        text-align: right;\n",
       "    }\n",
       "</style>\n",
       "<table border=\"1\" class=\"dataframe\">\n",
       "  <thead>\n",
       "    <tr style=\"text-align: right;\">\n",
       "      <th></th>\n",
       "      <th>Customer_ID</th>\n",
       "      <th>Product_Code</th>\n",
       "      <th>static_user_profile_list</th>\n",
       "    </tr>\n",
       "  </thead>\n",
       "  <tbody>\n",
       "    <tr>\n",
       "      <th>0</th>\n",
       "      <td>12347</td>\n",
       "      <td>[22375, 21731, 22727, 84558A, 20719, 22196, 22...</td>\n",
       "      <td>[22375, 21731, 22727, 84558A, 20719, 22196, 22...</td>\n",
       "    </tr>\n",
       "    <tr>\n",
       "      <th>1</th>\n",
       "      <td>12348</td>\n",
       "      <td>[POST, 21213, 21977, 22952, 23077, 23078, 8499...</td>\n",
       "      <td>[POST, 21213, 21977, 22952, 23077, 23078, 8499...</td>\n",
       "    </tr>\n",
       "    <tr>\n",
       "      <th>2</th>\n",
       "      <td>12349</td>\n",
       "      <td>[20685, 20914, 21086, 21136, 21231, 21232, 214...</td>\n",
       "      <td>[20685, 20914, 21086, 21136, 21231, 21232, 214...</td>\n",
       "    </tr>\n",
       "    <tr>\n",
       "      <th>3</th>\n",
       "      <td>12350</td>\n",
       "      <td>[20615, 20652, 21171, 21832, 21864, 21866, 219...</td>\n",
       "      <td>[20615, 20652, 21171, 21832, 21864, 21866, 219...</td>\n",
       "    </tr>\n",
       "    <tr>\n",
       "      <th>4</th>\n",
       "      <td>12352</td>\n",
       "      <td>[POST, 22779, 22780, 84050, M, 21755, 21756, 2...</td>\n",
       "      <td>[POST, 22779, 22780, 84050, M, 21755, 21756, 2...</td>\n",
       "    </tr>\n",
       "  </tbody>\n",
       "</table>\n",
       "</div>"
      ],
      "text/plain": [
       "  Customer_ID                                       Product_Code  \\\n",
       "0       12347  [22375, 21731, 22727, 84558A, 20719, 22196, 22...   \n",
       "1       12348  [POST, 21213, 21977, 22952, 23077, 23078, 8499...   \n",
       "2       12349  [20685, 20914, 21086, 21136, 21231, 21232, 214...   \n",
       "3       12350  [20615, 20652, 21171, 21832, 21864, 21866, 219...   \n",
       "4       12352  [POST, 22779, 22780, 84050, M, 21755, 21756, 2...   \n",
       "\n",
       "                            static_user_profile_list  \n",
       "0  [22375, 21731, 22727, 84558A, 20719, 22196, 22...  \n",
       "1  [POST, 21213, 21977, 22952, 23077, 23078, 8499...  \n",
       "2  [20685, 20914, 21086, 21136, 21231, 21232, 214...  \n",
       "3  [20615, 20652, 21171, 21832, 21864, 21866, 219...  \n",
       "4  [POST, 22779, 22780, 84050, M, 21755, 21756, 2...  "
      ]
     },
     "execution_count": 40,
     "metadata": {},
     "output_type": "execute_result"
    }
   ],
   "source": [
    "temp_df = temp_df.loc[temp_df.Customer_ID.isin(selected_Customer_ID)]\n",
    "temp_df = pd.DataFrame(temp_df.groupby(['Customer_ID', 'Product_Code'])['Product_Code'].count()).rename({'Product_Code':'n_count'}, axis=1).reset_index().sort_values(['Customer_ID', 'n_count'], ascending=False).groupby(['Customer_ID']).head(10)# temp_df = pd.DataFrame(temp_df.groupby('Customer_ID')['Product_Code'].unique()).reset_index()\n",
    "temp_df = pd.DataFrame(temp_df.groupby('Customer_ID')['Product_Code'].unique()).reset_index()\n",
    "temp_df['static_user_profile_list'] = temp_df.Product_Code\n",
    "model_data = temp_df\n",
    "temp_df.head()"
   ]
  },
  {
   "cell_type": "code",
   "execution_count": 41,
   "metadata": {},
   "outputs": [
    {
     "name": "stdout",
     "output_type": "stream",
     "text": [
      "train_corpus[0]:TaggedDocument(['22375' '21731' '22727' '84558A' '20719' '22196' '22371' '22423' '22725'\n",
      " '21791'], ['12347'])\n",
      "epochs:30, window:4, vector_size:64, ns_exponent:0.254610887, min_count:4\n",
      "model training\n",
      "Model Saved at: model_pc/model_dm0_vector_size64_min_count4_epochs30_window4_ns_exponent0.254610887_alpha0.016691564_min_alpha0.000591644_hs1_seed1234.model\n",
      "n_correct_prediction: [0. 1. 1. 1. 0. 1. 0. 0. 0. 0. 1. 0. 0. 0. 0. 0. 0. 0. 0. 0. 1.]\n"
     ]
    }
   ],
   "source": [
    "model_dir = 'model_pc'\n",
    "model = trn.training(temp_df, True, model_dir, epochs=30)    \n",
    "\n",
    "if model_data.shape[0] != len(model.docvecs.vectors_docs):\n",
    "    print('error')"
   ]
  },
  {
   "cell_type": "code",
   "execution_count": 44,
   "metadata": {},
   "outputs": [
    {
     "data": {
      "image/png": "[encoded data removed]",
      "text/plain": [
       "<Figure size 432x288 with 1 Axes>"
      ]
     },
     "metadata": {
      "needs_background": "light"
     },
     "output_type": "display_data"
    }
   ],
   "source": [
    "d2v = model.docvecs.vectors_docs\n",
    "\n",
    "with_in_cluster_sum_squares_list = [] \n",
    "\n",
    "for i in range(1,11): #From 2-10 doing multiple random initializations can make a huge difference to find a better local optima\n",
    "    kmeans = KMeans(n_clusters = i, init ='k-means++',max_iter=300,n_init=10)\n",
    "    kmeans.fit(d2v)\n",
    "    with_in_cluster_sum_squares_list.append(kmeans.inertia_)\n",
    "\n",
    "sns.lineplot(x=range(1,11), y= with_in_cluster_sum_squares_list)\n",
    "plt.title('The Elbow Method')\n",
    "plt.xlabel('Revenue type customer clusters)')\n",
    "plt.ylabel('With in cluster sum of squers(WCSS)')\n",
    "plt.show()"
   ]
  },
  {
   "cell_type": "code",
   "execution_count": 45,
   "metadata": {},
   "outputs": [
    {
     "name": "stdout",
     "output_type": "stream",
     "text": [
      "5\n"
     ]
    },
    {
     "data": {
      "text/html": [
       "<div>\n",
       "<style scoped>\n",
       "    .dataframe tbody tr th:only-of-type {\n",
       "        vertical-align: middle;\n",
       "    }\n",
       "\n",
       "    .dataframe tbody tr th {\n",
       "        vertical-align: top;\n",
       "    }\n",
       "\n",
       "    .dataframe thead th {\n",
       "        text-align: right;\n",
       "    }\n",
       "</style>\n",
       "<table border=\"1\" class=\"dataframe\">\n",
       "  <thead>\n",
       "    <tr style=\"text-align: right;\">\n",
       "      <th></th>\n",
       "      <th>Customer_ID</th>\n",
       "      <th>Product_Code</th>\n",
       "      <th>static_user_profile_list</th>\n",
       "      <th>Doc2vec_Cluster</th>\n",
       "    </tr>\n",
       "  </thead>\n",
       "  <tbody>\n",
       "    <tr>\n",
       "      <th>0</th>\n",
       "      <td>12347</td>\n",
       "      <td>[22375, 21731, 22727, 84558A, 20719, 22196, 22...</td>\n",
       "      <td>[22375, 21731, 22727, 84558A, 20719, 22196, 22...</td>\n",
       "      <td>1</td>\n",
       "    </tr>\n",
       "    <tr>\n",
       "      <th>1</th>\n",
       "      <td>12348</td>\n",
       "      <td>[POST, 21213, 21977, 22952, 23077, 23078, 8499...</td>\n",
       "      <td>[POST, 21213, 21977, 22952, 23077, 23078, 8499...</td>\n",
       "      <td>2</td>\n",
       "    </tr>\n",
       "    <tr>\n",
       "      <th>2</th>\n",
       "      <td>12349</td>\n",
       "      <td>[20685, 20914, 21086, 21136, 21231, 21232, 214...</td>\n",
       "      <td>[20685, 20914, 21086, 21136, 21231, 21232, 214...</td>\n",
       "      <td>2</td>\n",
       "    </tr>\n",
       "    <tr>\n",
       "      <th>3</th>\n",
       "      <td>12350</td>\n",
       "      <td>[20615, 20652, 21171, 21832, 21864, 21866, 219...</td>\n",
       "      <td>[20615, 20652, 21171, 21832, 21864, 21866, 219...</td>\n",
       "      <td>2</td>\n",
       "    </tr>\n",
       "    <tr>\n",
       "      <th>4</th>\n",
       "      <td>12352</td>\n",
       "      <td>[POST, 22779, 22780, 84050, M, 21755, 21756, 2...</td>\n",
       "      <td>[POST, 22779, 22780, 84050, M, 21755, 21756, 2...</td>\n",
       "      <td>4</td>\n",
       "    </tr>\n",
       "  </tbody>\n",
       "</table>\n",
       "</div>"
      ],
      "text/plain": [
       "  Customer_ID                                       Product_Code  \\\n",
       "0       12347  [22375, 21731, 22727, 84558A, 20719, 22196, 22...   \n",
       "1       12348  [POST, 21213, 21977, 22952, 23077, 23078, 8499...   \n",
       "2       12349  [20685, 20914, 21086, 21136, 21231, 21232, 214...   \n",
       "3       12350  [20615, 20652, 21171, 21832, 21864, 21866, 219...   \n",
       "4       12352  [POST, 22779, 22780, 84050, M, 21755, 21756, 2...   \n",
       "\n",
       "                            static_user_profile_list  Doc2vec_Cluster  \n",
       "0  [22375, 21731, 22727, 84558A, 20719, 22196, 22...                1  \n",
       "1  [POST, 21213, 21977, 22952, 23077, 23078, 8499...                2  \n",
       "2  [20685, 20914, 21086, 21136, 21231, 21232, 214...                2  \n",
       "3  [20615, 20652, 21171, 21832, 21864, 21866, 219...                2  \n",
       "4  [POST, 22779, 22780, 84050, M, 21755, 21756, 2...                4  "
      ]
     },
     "execution_count": 45,
     "metadata": {},
     "output_type": "execute_result"
    }
   ],
   "source": [
    "kmeans = KMeans(n_clusters = 5, init = 'k-means++')\n",
    "kmeans.fit(d2v)\n",
    "model_data['Doc2vec_Cluster'] = kmeans.predict(d2v)\n",
    "\n",
    "print(model_data.Doc2vec_Cluster.nunique())\n",
    "\n",
    "model_data.head()"
   ]
  },
  {
   "cell_type": "code",
   "execution_count": 46,
   "metadata": {},
   "outputs": [
    {
     "name": "stdout",
     "output_type": "stream",
     "text": [
      "**********\n",
      "0\n",
      "**********\n",
      "['PORCELAIN ROSE LARGE ', 'PORCELAIN ROSE SMALL', 'PHARMACIE FIRST AID TIN', 'SET OF 2 ROUND TINS CAMEMBERT ', 'PLASTERS IN TIN STRONGMAN', 'PLASTERS IN TIN VINTAGE PAISLEY ', '20 DOLLY PEGS RETROSPOT', 'ASSORTED BOTTLE TOP  MAGNETS ', 'IVORY GIANT GARDEN THERMOMETER', 'BIRTHDAY PARTY CORDON BARRIER TAPE']\n",
      "----------\n",
      "['PARTY BUNTING', 'SET OF 3 CAKE TINS PANTRY DESIGN ', 'PINK HAPPY BIRTHDAY BUNTING', 'HANGING HEART JAR T-LIGHT HOLDER', \"PAPER CHAIN KIT 50'S CHRISTMAS \", 'FELT EGG COSY CHICKEN', 'IVORY KNITTED MUG COSY ', 'RED BABY BUNTING ', 'PAPER CHAIN KIT VINTAGE CHRISTMAS', 'SINGLE HEART ZINC T-LIGHT HOLDER']\n",
      "----------\n",
      "**********\n",
      "1\n",
      "**********\n",
      "['AIRLINE BAG VINTAGE JET SET BROWN', 'RED TOADSTOOL LED NIGHT LIGHT', 'ALARM CLOCK BAKELIKE RED ', '3D DOG PICTURE PLAYING CARDS', 'WOODLAND CHARLOTTE BAG', 'SMALL HEART MEASURING SPOONS', 'AIRLINE BAG VINTAGE TOKYO 78', 'REGENCY CAKESTAND 3 TIER', 'ALARM CLOCK BAKELIKE CHOCOLATE', 'VINTAGE HEADS AND TAILS CARD GAME ']\n",
      "----------\n",
      "['REGENCY CAKESTAND 3 TIER', 'STRAWBERRY FAIRY CAKE TEAPOT', 'GROW A FLYTRAP OR SUNFLOWER IN TIN', 'GREEN REGENCY TEACUP AND SAUCER', 'PINK REGENCY TEACUP AND SAUCER', 'ROSES REGENCY TEACUP AND SAUCER ', 'NOVELTY BISCUITS CAKE STAND 3 TIER', 'ICE CREAM SUNDAE LIP GLOSS', 'DOUGHNUT LIP GLOSS ', 'ROSE SCENT CANDLE IN JEWELLED BOX']\n",
      "----------\n",
      "**********\n",
      "2\n",
      "**********\n",
      "['POSTAGE', 'PACK OF 72 SKULL CAKE CASES', 'PACK OF 60 PINK PAISLEY CAKE CASES', '60 CAKE CASES VINTAGE CHRISTMAS', 'DOUGHNUT LIP GLOSS ', 'ICE CREAM PEN LIP GLOSS ', '60 TEATIME FAIRY CAKE CASES', 'SET OF 72 SKULL PAPER  DOILIES', 'SWEETIES  STICKERS', 'MULTI HEARTS  STICKERS']\n",
      "----------\n",
      "['DOORMAT RED RETROSPOT', 'SET/5 RED RETROSPOT LID GLASS BOWLS', 'SET/6 RED SPOTTY PAPER CUPS', 'PAINTED METAL PEARS ASSORTED', 'SWEETHEART CERAMIC TRINKET BOX', 'STRAWBERRY CERAMIC TRINKET BOX', 'GINGHAM HEART  DOORSTOP RED', 'RED RETROSPOT SUGAR JAM BOWL', 'RETROSPOT LARGE MILK JUG', 'RED RETROSPOT SMALL MILK JUG']\n",
      "----------\n",
      "**********\n",
      "3\n",
      "**********\n",
      "['LUNCH BAG RED RETROSPOT', 'LUNCH BAG WOODLAND', 'ROUND SNACK BOXES SET OF4 WOODLAND ', 'ROUND SNACK BOXES SET OF 4 FRUITS ', 'LUNCH BAG SPACEBOY DESIGN ', 'PLASTERS IN TIN STRONGMAN', 'SPACEBOY LUNCH BOX ', 'DOLLY GIRL LUNCH BOX', 'CIRCUS PARADE LUNCH BOX ', 'POSTAGE']\n",
      "----------\n",
      "['POSTAGE', 'SPACEBOY LUNCH BOX ', 'ROUND SNACK BOXES SET OF4 WOODLAND ', 'DOLLY GIRL LUNCH BOX', 'LUNCH BAG WOODLAND', 'RED RETROSPOT MINI CASES', 'DINOSAUR LUNCH BOX WITH CUTLERY', 'ROUND SNACK BOXES SET OF 4 FRUITS ', 'LUNCH BOX WITH CUTLERY RETROSPOT ', 'PLASTERS IN TIN WOODLAND ANIMALS']\n",
      "----------\n",
      "**********\n",
      "4\n",
      "**********\n",
      "['POSTAGE', 'WOODEN OWLS LIGHT GARLAND ', 'LIGHT GARLAND BUTTERFILES PINK', 'PINK HEART SHAPE EGG FRYING PAN', 'Manual', 'LOVE BUILDING BLOCK WORD', 'BATH BUILDING BLOCK WORD', 'BLUE HARMONICA IN BOX ', 'METAL SIGN TAKE IT OR LEAVE IT ', 'REGENCY CAKESTAND 3 TIER']\n",
      "----------\n",
      "['CREAM SLICE FLANNEL CHOCOLATE SPOT ', 'FAIRY CAKE FLANNEL ASSORTED COLOUR', 'RETROSPOT HEART HOT WATER BOTTLE', 'KIDS RAIN MAC BLUE', 'KIDS RAIN MAC PINK', 'CHOCOLATE HOT WATER BOTTLE', 'GREY HEART HOT WATER BOTTLE', 'HOT WATER BOTTLE TEA AND SYMPATHY', 'CHRISTMAS CRAFT LITTLE FRIENDS', 'MONEY BOX CONFECTIONERY DESIGN']\n",
      "----------\n"
     ]
    }
   ],
   "source": [
    "for i in range(5):\n",
    "    print('*'*10)\n",
    "    print(i)\n",
    "    print('*'*10)\n",
    "    for i, v in model_data.loc[model_data.Doc2vec_Cluster==i, ['Product_Code', 'static_user_profile_list']].head(2).iterrows():\n",
    "        print([product_code_2_description_map_dict[i] for i in v['static_user_profile_list']])\n",
    "        print('-'*10)"
   ]
  }
 ],
 "metadata": {
  "kernelspec": {
   "display_name": "Python 3",
   "language": "python",
   "name": "python3"
  },
  "language_info": {
   "codemirror_mode": {
    "name": "ipython",
    "version": 3
   },
   "file_extension": ".py",
   "mimetype": "text/x-python",
   "name": "python",
   "nbconvert_exporter": "python",
   "pygments_lexer": "ipython3",
   "version": "3.7.7"
  }
 },
 "nbformat": 4,
 "nbformat_minor": 4
}
