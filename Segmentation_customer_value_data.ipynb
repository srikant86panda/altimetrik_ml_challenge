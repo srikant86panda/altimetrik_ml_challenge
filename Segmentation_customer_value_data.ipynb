{
 "cells": [
  {
   "cell_type": "markdown",
   "metadata": {},
   "source": [
    "## Pre Processing;\n",
    "1. Pre process file to trim start and end '\"'\n",
    "2. Impute missing column Description and Customer_ID\n",
    "3. AmountSpent = Unit Price*Total Units\n",
    "\n",
    "## Segmentation modeling\n",
    "1. Customer segmentation with total units price and number of units purchased with K-means\n",
    "2. Using RMF Analysis\n",
    "3. doc2vec with product description & doc2vec with product description & country\n",
    "4. Use Fast text or Bert for embed product description"
   ]
  },
  {
   "cell_type": "code",
   "execution_count": 1,
   "metadata": {},
   "outputs": [],
   "source": [
    "import re\n",
    "import glob\n",
    "import pandas as pd\n",
    "import numpy as np\n",
    "import seaborn as sns\n",
    "import matplotlib.pyplot as plt\n",
    "\n",
    "from sklearn.preprocessing import StandardScaler\n",
    "from sklearn.cluster import KMeans\n",
    "\n",
    "%matplotlib inline"
   ]
  },
  {
   "cell_type": "code",
   "execution_count": 2,
   "metadata": {},
   "outputs": [
    {
     "data": {
      "text/plain": [
       "['data\\\\ML Data Sample.txt', 'data\\\\ML Data.txt', 'data\\\\ML Data_new.txt']"
      ]
     },
     "execution_count": 2,
     "metadata": {},
     "output_type": "execute_result"
    }
   ],
   "source": [
    "glob.glob('data/ML*.txt')"
   ]
  },
  {
   "cell_type": "code",
   "execution_count": 7,
   "metadata": {},
   "outputs": [
    {
     "name": "stdout",
     "output_type": "stream",
     "text": [
      "(541909, 9)\n",
      "Index(['Invoice_Number,Product_Code,Description,Quantity,Invoice_Date,Unit_Price,Customer_ID,Country',\n",
      "       'Invoice_Number', 'Product_Code', 'Description', 'Quantity',\n",
      "       'Invoice_Date', 'Unit_Price', 'Customer_ID', 'Country'],\n",
      "      dtype='object')\n"
     ]
    },
    {
     "data": {
      "text/html": [
       "<div>\n",
       "<style scoped>\n",
       "    .dataframe tbody tr th:only-of-type {\n",
       "        vertical-align: middle;\n",
       "    }\n",
       "\n",
       "    .dataframe tbody tr th {\n",
       "        vertical-align: top;\n",
       "    }\n",
       "\n",
       "    .dataframe thead th {\n",
       "        text-align: right;\n",
       "    }\n",
       "</style>\n",
       "<table border=\"1\" class=\"dataframe\">\n",
       "  <thead>\n",
       "    <tr style=\"text-align: right;\">\n",
       "      <th></th>\n",
       "      <th>Invoice_Number,Product_Code,Description,Quantity,Invoice_Date,Unit_Price,Customer_ID,Country</th>\n",
       "      <th>Invoice_Number</th>\n",
       "      <th>Product_Code</th>\n",
       "      <th>Description</th>\n",
       "      <th>Quantity</th>\n",
       "      <th>Invoice_Date</th>\n",
       "      <th>Unit_Price</th>\n",
       "      <th>Customer_ID</th>\n",
       "      <th>Country</th>\n",
       "    </tr>\n",
       "  </thead>\n",
       "  <tbody>\n",
       "    <tr>\n",
       "      <th>0</th>\n",
       "      <td>536365,85123A,WHITE HANGING HEART T-LIGHT HOLD...</td>\n",
       "      <td>536365</td>\n",
       "      <td>85123A</td>\n",
       "      <td>WHITE HANGING HEART T-LIGHT HOLDER</td>\n",
       "      <td>6</td>\n",
       "      <td>2010-12-01 08:26:00</td>\n",
       "      <td>2.55</td>\n",
       "      <td>17850</td>\n",
       "      <td>United Kingdom</td>\n",
       "    </tr>\n",
       "    <tr>\n",
       "      <th>1</th>\n",
       "      <td>536365,71053,WHITE METAL LANTERN,6,12-01-2010 ...</td>\n",
       "      <td>536365</td>\n",
       "      <td>71053</td>\n",
       "      <td>WHITE METAL LANTERN</td>\n",
       "      <td>6</td>\n",
       "      <td>2010-12-01 08:26:00</td>\n",
       "      <td>3.39</td>\n",
       "      <td>17850</td>\n",
       "      <td>United Kingdom</td>\n",
       "    </tr>\n",
       "    <tr>\n",
       "      <th>2</th>\n",
       "      <td>536365,84406B,CREAM CUPID HEARTS COAT HANGER,8...</td>\n",
       "      <td>536365</td>\n",
       "      <td>84406B</td>\n",
       "      <td>CREAM CUPID HEARTS COAT HANGER</td>\n",
       "      <td>8</td>\n",
       "      <td>2010-12-01 08:26:00</td>\n",
       "      <td>2.75</td>\n",
       "      <td>17850</td>\n",
       "      <td>United Kingdom</td>\n",
       "    </tr>\n",
       "    <tr>\n",
       "      <th>3</th>\n",
       "      <td>536365,84029G,KNITTED UNION FLAG HOT WATER BOT...</td>\n",
       "      <td>536365</td>\n",
       "      <td>84029G</td>\n",
       "      <td>KNITTED UNION FLAG HOT WATER BOTTLE</td>\n",
       "      <td>6</td>\n",
       "      <td>2010-12-01 08:26:00</td>\n",
       "      <td>3.39</td>\n",
       "      <td>17850</td>\n",
       "      <td>United Kingdom</td>\n",
       "    </tr>\n",
       "    <tr>\n",
       "      <th>4</th>\n",
       "      <td>536365,84029E,RED WOOLLY HOTTIE WHITE HEART.,6...</td>\n",
       "      <td>536365</td>\n",
       "      <td>84029E</td>\n",
       "      <td>RED WOOLLY HOTTIE WHITE HEART.</td>\n",
       "      <td>6</td>\n",
       "      <td>2010-12-01 08:26:00</td>\n",
       "      <td>3.39</td>\n",
       "      <td>17850</td>\n",
       "      <td>United Kingdom</td>\n",
       "    </tr>\n",
       "  </tbody>\n",
       "</table>\n",
       "</div>"
      ],
      "text/plain": [
       "  Invoice_Number,Product_Code,Description,Quantity,Invoice_Date,Unit_Price,Customer_ID,Country  \\\n",
       "0  536365,85123A,WHITE HANGING HEART T-LIGHT HOLD...                                             \n",
       "1  536365,71053,WHITE METAL LANTERN,6,12-01-2010 ...                                             \n",
       "2  536365,84406B,CREAM CUPID HEARTS COAT HANGER,8...                                             \n",
       "3  536365,84029G,KNITTED UNION FLAG HOT WATER BOT...                                             \n",
       "4  536365,84029E,RED WOOLLY HOTTIE WHITE HEART.,6...                                             \n",
       "\n",
       "  Invoice_Number Product_Code                          Description Quantity  \\\n",
       "0         536365       85123A   WHITE HANGING HEART T-LIGHT HOLDER        6   \n",
       "1         536365        71053                  WHITE METAL LANTERN        6   \n",
       "2         536365       84406B       CREAM CUPID HEARTS COAT HANGER        8   \n",
       "3         536365       84029G  KNITTED UNION FLAG HOT WATER BOTTLE        6   \n",
       "4         536365       84029E       RED WOOLLY HOTTIE WHITE HEART.        6   \n",
       "\n",
       "         Invoice_Date Unit_Price Customer_ID         Country  \n",
       "0 2010-12-01 08:26:00       2.55       17850  United Kingdom  \n",
       "1 2010-12-01 08:26:00       3.39       17850  United Kingdom  \n",
       "2 2010-12-01 08:26:00       2.75       17850  United Kingdom  \n",
       "3 2010-12-01 08:26:00       3.39       17850  United Kingdom  \n",
       "4 2010-12-01 08:26:00       3.39       17850  United Kingdom  "
      ]
     },
     "metadata": {},
     "output_type": "display_data"
    }
   ],
   "source": [
    "source_file = 'data\\\\ML Data.txt'\n",
    "PATTERN = re.compile(r'''((?:[^,\"]|\"[^\"]*\"|'[^']*')+|(?=,,)|(?=,$)|(?=^,))''')\n",
    "\n",
    "df = pd.read_csv(source_file, encoding='latin1')\n",
    "cols = PATTERN.split(df.columns[0])[1::2]\n",
    "\n",
    "df[cols] = pd.DataFrame(df.iloc[:,0].apply(lambda x: PATTERN.split(x)[1::2]).tolist(), index= df.index)\n",
    "df.Invoice_Date = pd.to_datetime(df.Invoice_Date)\n",
    "print(df.shape)\n",
    "print(df.columns)\n",
    "display(df.head())"
   ]
  },
  {
   "cell_type": "code",
   "execution_count": 42,
   "metadata": {},
   "outputs": [
    {
     "data": {
      "text/plain": [
       "Invoice_Number            string\n",
       "Product_Code              string\n",
       "Description               string\n",
       "Quantity                   int32\n",
       "Invoice_Date      datetime64[ns]\n",
       "Unit_Price               float64\n",
       "Customer_ID               string\n",
       "Country                   string\n",
       "dtype: object"
      ]
     },
     "execution_count": 42,
     "metadata": {},
     "output_type": "execute_result"
    }
   ],
   "source": [
    "df.dtypes"
   ]
  },
  {
   "cell_type": "code",
   "execution_count": 43,
   "metadata": {},
   "outputs": [
    {
     "data": {
      "text/html": [
       "<div>\n",
       "<style scoped>\n",
       "    .dataframe tbody tr th:only-of-type {\n",
       "        vertical-align: middle;\n",
       "    }\n",
       "\n",
       "    .dataframe tbody tr th {\n",
       "        vertical-align: top;\n",
       "    }\n",
       "\n",
       "    .dataframe thead th {\n",
       "        text-align: right;\n",
       "    }\n",
       "</style>\n",
       "<table border=\"1\" class=\"dataframe\">\n",
       "  <thead>\n",
       "    <tr style=\"text-align: right;\">\n",
       "      <th></th>\n",
       "      <th>Invoice_Number</th>\n",
       "      <th>Product_Code</th>\n",
       "      <th>Description</th>\n",
       "      <th>Invoice_Date</th>\n",
       "      <th>Customer_ID</th>\n",
       "      <th>Country</th>\n",
       "    </tr>\n",
       "  </thead>\n",
       "  <tbody>\n",
       "    <tr>\n",
       "      <th>count</th>\n",
       "      <td>541909</td>\n",
       "      <td>541909</td>\n",
       "      <td>540455</td>\n",
       "      <td>541909</td>\n",
       "      <td>406829</td>\n",
       "      <td>541909</td>\n",
       "    </tr>\n",
       "    <tr>\n",
       "      <th>unique</th>\n",
       "      <td>25900</td>\n",
       "      <td>4070</td>\n",
       "      <td>4223</td>\n",
       "      <td>23260</td>\n",
       "      <td>4372</td>\n",
       "      <td>38</td>\n",
       "    </tr>\n",
       "    <tr>\n",
       "      <th>top</th>\n",
       "      <td>573585</td>\n",
       "      <td>85123A</td>\n",
       "      <td>WHITE HANGING HEART T-LIGHT HOLDER</td>\n",
       "      <td>2011-10-31 14:41:00</td>\n",
       "      <td>17841</td>\n",
       "      <td>United Kingdom</td>\n",
       "    </tr>\n",
       "    <tr>\n",
       "      <th>freq</th>\n",
       "      <td>1114</td>\n",
       "      <td>2313</td>\n",
       "      <td>2369</td>\n",
       "      <td>1114</td>\n",
       "      <td>7983</td>\n",
       "      <td>495478</td>\n",
       "    </tr>\n",
       "    <tr>\n",
       "      <th>first</th>\n",
       "      <td>NaN</td>\n",
       "      <td>NaN</td>\n",
       "      <td>NaN</td>\n",
       "      <td>2010-12-01 08:26:00</td>\n",
       "      <td>NaN</td>\n",
       "      <td>NaN</td>\n",
       "    </tr>\n",
       "    <tr>\n",
       "      <th>last</th>\n",
       "      <td>NaN</td>\n",
       "      <td>NaN</td>\n",
       "      <td>NaN</td>\n",
       "      <td>2011-12-09 12:50:00</td>\n",
       "      <td>NaN</td>\n",
       "      <td>NaN</td>\n",
       "    </tr>\n",
       "  </tbody>\n",
       "</table>\n",
       "</div>"
      ],
      "text/plain": [
       "       Invoice_Number Product_Code                         Description  \\\n",
       "count          541909       541909                              540455   \n",
       "unique          25900         4070                                4223   \n",
       "top            573585       85123A  WHITE HANGING HEART T-LIGHT HOLDER   \n",
       "freq             1114         2313                                2369   \n",
       "first             NaN          NaN                                 NaN   \n",
       "last              NaN          NaN                                 NaN   \n",
       "\n",
       "               Invoice_Date Customer_ID         Country  \n",
       "count                541909      406829          541909  \n",
       "unique                23260        4372              38  \n",
       "top     2011-10-31 14:41:00       17841  United Kingdom  \n",
       "freq                   1114        7983          495478  \n",
       "first   2010-12-01 08:26:00         NaN             NaN  \n",
       "last    2011-12-09 12:50:00         NaN             NaN  "
      ]
     },
     "execution_count": 43,
     "metadata": {},
     "output_type": "execute_result"
    }
   ],
   "source": [
    "df.describe(exclude=[np.number])"
   ]
  },
  {
   "cell_type": "markdown",
   "metadata": {},
   "source": [
    "### Check for duplicate & remove"
   ]
  },
  {
   "cell_type": "code",
   "execution_count": 44,
   "metadata": {},
   "outputs": [
    {
     "name": "stdout",
     "output_type": "stream",
     "text": [
      "(536641, 8)\n"
     ]
    }
   ],
   "source": [
    "df.drop_duplicates(inplace=True)\n",
    "print(df.shape)"
   ]
  },
  {
   "cell_type": "markdown",
   "metadata": {},
   "source": [
    "### Check for occurance of None"
   ]
  },
  {
   "cell_type": "code",
   "execution_count": 45,
   "metadata": {},
   "outputs": [
    {
     "data": {
      "text/plain": [
       "Invoice_Number         0\n",
       "Product_Code           0\n",
       "Description         1454\n",
       "Quantity               0\n",
       "Invoice_Date           0\n",
       "Unit_Price             0\n",
       "Customer_ID       135037\n",
       "Country                0\n",
       "dtype: int64"
      ]
     },
     "execution_count": 45,
     "metadata": {},
     "output_type": "execute_result"
    }
   ],
   "source": [
    "df.isna().sum()"
   ]
  },
  {
   "cell_type": "markdown",
   "metadata": {},
   "source": [
    "### Univariate analysis of product quantity\n",
    "1. Number of transaction vs cancellation\n",
    "2. Number of transaction vs cancellation per country\n",
    "3. Remove cancellation transaction"
   ]
  },
  {
   "cell_type": "code",
   "execution_count": 46,
   "metadata": {},
   "outputs": [
    {
     "data": {
      "image/png": "[encoded data removed]",
      "text/plain": [
       "<Figure size 432x288 with 1 Axes>"
      ]
     },
     "metadata": {
      "needs_background": "light"
     },
     "output_type": "display_data"
    }
   ],
   "source": [
    "sns.distplot(df.Quantity)\n",
    "plt.xlim(-500, 1000)\n",
    "plt.show()"
   ]
  },
  {
   "cell_type": "code",
   "execution_count": 47,
   "metadata": {},
   "outputs": [
    {
     "data": {
      "text/html": [
       "<div>\n",
       "<style scoped>\n",
       "    .dataframe tbody tr th:only-of-type {\n",
       "        vertical-align: middle;\n",
       "    }\n",
       "\n",
       "    .dataframe tbody tr th {\n",
       "        vertical-align: top;\n",
       "    }\n",
       "\n",
       "    .dataframe thead th {\n",
       "        text-align: right;\n",
       "    }\n",
       "</style>\n",
       "<table border=\"1\" class=\"dataframe\">\n",
       "  <thead>\n",
       "    <tr style=\"text-align: right;\">\n",
       "      <th></th>\n",
       "      <th>Invoice_Number</th>\n",
       "      <th>Product_Code</th>\n",
       "      <th>Description</th>\n",
       "      <th>Quantity</th>\n",
       "      <th>Invoice_Date</th>\n",
       "      <th>Unit_Price</th>\n",
       "      <th>Customer_ID</th>\n",
       "      <th>Country</th>\n",
       "      <th>Cancellation</th>\n",
       "    </tr>\n",
       "  </thead>\n",
       "  <tbody>\n",
       "    <tr>\n",
       "      <th>141</th>\n",
       "      <td>C536379</td>\n",
       "      <td>D</td>\n",
       "      <td>Discount</td>\n",
       "      <td>-1</td>\n",
       "      <td>2010-12-01 09:41:00</td>\n",
       "      <td>27.50</td>\n",
       "      <td>14527</td>\n",
       "      <td>United Kingdom</td>\n",
       "      <td>True</td>\n",
       "    </tr>\n",
       "    <tr>\n",
       "      <th>154</th>\n",
       "      <td>C536383</td>\n",
       "      <td>35004C</td>\n",
       "      <td>SET OF 3 COLOURED  FLYING DUCKS</td>\n",
       "      <td>-1</td>\n",
       "      <td>2010-12-01 09:49:00</td>\n",
       "      <td>4.65</td>\n",
       "      <td>15311</td>\n",
       "      <td>United Kingdom</td>\n",
       "      <td>True</td>\n",
       "    </tr>\n",
       "    <tr>\n",
       "      <th>235</th>\n",
       "      <td>C536391</td>\n",
       "      <td>22556</td>\n",
       "      <td>PLASTERS IN TIN CIRCUS PARADE</td>\n",
       "      <td>-12</td>\n",
       "      <td>2010-12-01 10:24:00</td>\n",
       "      <td>1.65</td>\n",
       "      <td>17548</td>\n",
       "      <td>United Kingdom</td>\n",
       "      <td>True</td>\n",
       "    </tr>\n",
       "    <tr>\n",
       "      <th>236</th>\n",
       "      <td>C536391</td>\n",
       "      <td>21984</td>\n",
       "      <td>PACK OF 12 PINK PAISLEY TISSUES</td>\n",
       "      <td>-24</td>\n",
       "      <td>2010-12-01 10:24:00</td>\n",
       "      <td>0.29</td>\n",
       "      <td>17548</td>\n",
       "      <td>United Kingdom</td>\n",
       "      <td>True</td>\n",
       "    </tr>\n",
       "    <tr>\n",
       "      <th>237</th>\n",
       "      <td>C536391</td>\n",
       "      <td>21983</td>\n",
       "      <td>PACK OF 12 BLUE PAISLEY TISSUES</td>\n",
       "      <td>-24</td>\n",
       "      <td>2010-12-01 10:24:00</td>\n",
       "      <td>0.29</td>\n",
       "      <td>17548</td>\n",
       "      <td>United Kingdom</td>\n",
       "      <td>True</td>\n",
       "    </tr>\n",
       "  </tbody>\n",
       "</table>\n",
       "</div>"
      ],
      "text/plain": [
       "    Invoice_Number Product_Code                       Description  Quantity  \\\n",
       "141        C536379            D                          Discount        -1   \n",
       "154        C536383       35004C   SET OF 3 COLOURED  FLYING DUCKS        -1   \n",
       "235        C536391        22556    PLASTERS IN TIN CIRCUS PARADE        -12   \n",
       "236        C536391        21984  PACK OF 12 PINK PAISLEY TISSUES        -24   \n",
       "237        C536391        21983  PACK OF 12 BLUE PAISLEY TISSUES        -24   \n",
       "\n",
       "           Invoice_Date  Unit_Price Customer_ID         Country  Cancellation  \n",
       "141 2010-12-01 09:41:00       27.50       14527  United Kingdom          True  \n",
       "154 2010-12-01 09:49:00        4.65       15311  United Kingdom          True  \n",
       "235 2010-12-01 10:24:00        1.65       17548  United Kingdom          True  \n",
       "236 2010-12-01 10:24:00        0.29       17548  United Kingdom          True  \n",
       "237 2010-12-01 10:24:00        0.29       17548  United Kingdom          True  "
      ]
     },
     "execution_count": 47,
     "metadata": {},
     "output_type": "execute_result"
    }
   ],
   "source": [
    "df['Cancellation'] = df.Quantity<0\n",
    "df.loc[df.Cancellation==True].head()"
   ]
  },
  {
   "cell_type": "code",
   "execution_count": 48,
   "metadata": {},
   "outputs": [
    {
     "data": {
      "text/plain": [
       "<matplotlib.axes._subplots.AxesSubplot at 0x1d9df958d08>"
      ]
     },
     "execution_count": 48,
     "metadata": {},
     "output_type": "execute_result"
    },
    {
     "data": {
      "image/png": "[encoded data removed]",
      "text/plain": [
       "<Figure size 432x288 with 1 Axes>"
      ]
     },
     "metadata": {
      "needs_background": "light"
     },
     "output_type": "display_data"
    }
   ],
   "source": [
    "temp_df = df.groupby([df.Cancellation])['Invoice_Number'].nunique().reset_index()\n",
    "sns.barplot(x='Cancellation',y='Invoice_Number', data=temp_df)"
   ]
  },
  {
   "cell_type": "code",
   "execution_count": 49,
   "metadata": {},
   "outputs": [
    {
     "data": {
      "image/png": "[encoded data removed]",
      "text/plain": [
       "<Figure size 1152x576 with 1 Axes>"
      ]
     },
     "metadata": {
      "needs_background": "light"
     },
     "output_type": "display_data"
    }
   ],
   "source": [
    "temp_df = df.groupby([df.Cancellation, df.Country])['Invoice_Number'].nunique().reset_index()\n",
    "\n",
    "temp_df = temp_df.pivot(index='Country', columns='Cancellation', values='Invoice_Number')\n",
    "temp_df.columns = temp_df.columns.map(lambda x: f'Cancellation_{x}')\n",
    "temp_df = temp_df.reset_index()\n",
    "temp_df = temp_df.fillna(0)\n",
    "temp_df['Success_Transac_Rate'] = ((temp_df.Cancellation_False-temp_df.Cancellation_True)/temp_df.Cancellation_False)*100\n",
    "plt.figure(figsize=(16, 8))\n",
    "sns.barplot(x='Country',y='Success_Transac_Rate', data=temp_df, order=temp_df.sort_values('Success_Transac_Rate', ascending=False).Country)\n",
    "locs, labels = plt.xticks()\n",
    "plt.setp(labels, rotation=90)\n",
    "plt.show()"
   ]
  },
  {
   "cell_type": "code",
   "execution_count": 50,
   "metadata": {},
   "outputs": [
    {
     "name": "stdout",
     "output_type": "stream",
     "text": [
      "(10587, 9)\n"
     ]
    },
    {
     "data": {
      "text/html": [
       "<div>\n",
       "<style scoped>\n",
       "    .dataframe tbody tr th:only-of-type {\n",
       "        vertical-align: middle;\n",
       "    }\n",
       "\n",
       "    .dataframe tbody tr th {\n",
       "        vertical-align: top;\n",
       "    }\n",
       "\n",
       "    .dataframe thead th {\n",
       "        text-align: right;\n",
       "    }\n",
       "</style>\n",
       "<table border=\"1\" class=\"dataframe\">\n",
       "  <thead>\n",
       "    <tr style=\"text-align: right;\">\n",
       "      <th></th>\n",
       "      <th>Invoice_Number</th>\n",
       "      <th>Product_Code</th>\n",
       "      <th>Description</th>\n",
       "      <th>Quantity</th>\n",
       "      <th>Invoice_Date</th>\n",
       "      <th>Unit_Price</th>\n",
       "      <th>Customer_ID</th>\n",
       "      <th>Country</th>\n",
       "      <th>Cancellation</th>\n",
       "    </tr>\n",
       "  </thead>\n",
       "  <tbody>\n",
       "    <tr>\n",
       "      <th>141</th>\n",
       "      <td>C536379</td>\n",
       "      <td>D</td>\n",
       "      <td>Discount</td>\n",
       "      <td>-1</td>\n",
       "      <td>2010-12-01 09:41:00</td>\n",
       "      <td>27.50</td>\n",
       "      <td>14527</td>\n",
       "      <td>United Kingdom</td>\n",
       "      <td>True</td>\n",
       "    </tr>\n",
       "    <tr>\n",
       "      <th>154</th>\n",
       "      <td>C536383</td>\n",
       "      <td>35004C</td>\n",
       "      <td>SET OF 3 COLOURED  FLYING DUCKS</td>\n",
       "      <td>-1</td>\n",
       "      <td>2010-12-01 09:49:00</td>\n",
       "      <td>4.65</td>\n",
       "      <td>15311</td>\n",
       "      <td>United Kingdom</td>\n",
       "      <td>True</td>\n",
       "    </tr>\n",
       "    <tr>\n",
       "      <th>235</th>\n",
       "      <td>C536391</td>\n",
       "      <td>22556</td>\n",
       "      <td>PLASTERS IN TIN CIRCUS PARADE</td>\n",
       "      <td>-12</td>\n",
       "      <td>2010-12-01 10:24:00</td>\n",
       "      <td>1.65</td>\n",
       "      <td>17548</td>\n",
       "      <td>United Kingdom</td>\n",
       "      <td>True</td>\n",
       "    </tr>\n",
       "    <tr>\n",
       "      <th>236</th>\n",
       "      <td>C536391</td>\n",
       "      <td>21984</td>\n",
       "      <td>PACK OF 12 PINK PAISLEY TISSUES</td>\n",
       "      <td>-24</td>\n",
       "      <td>2010-12-01 10:24:00</td>\n",
       "      <td>0.29</td>\n",
       "      <td>17548</td>\n",
       "      <td>United Kingdom</td>\n",
       "      <td>True</td>\n",
       "    </tr>\n",
       "    <tr>\n",
       "      <th>237</th>\n",
       "      <td>C536391</td>\n",
       "      <td>21983</td>\n",
       "      <td>PACK OF 12 BLUE PAISLEY TISSUES</td>\n",
       "      <td>-24</td>\n",
       "      <td>2010-12-01 10:24:00</td>\n",
       "      <td>0.29</td>\n",
       "      <td>17548</td>\n",
       "      <td>United Kingdom</td>\n",
       "      <td>True</td>\n",
       "    </tr>\n",
       "  </tbody>\n",
       "</table>\n",
       "</div>"
      ],
      "text/plain": [
       "    Invoice_Number Product_Code                       Description  Quantity  \\\n",
       "141        C536379            D                          Discount        -1   \n",
       "154        C536383       35004C   SET OF 3 COLOURED  FLYING DUCKS        -1   \n",
       "235        C536391        22556    PLASTERS IN TIN CIRCUS PARADE        -12   \n",
       "236        C536391        21984  PACK OF 12 PINK PAISLEY TISSUES        -24   \n",
       "237        C536391        21983  PACK OF 12 BLUE PAISLEY TISSUES        -24   \n",
       "\n",
       "           Invoice_Date  Unit_Price Customer_ID         Country  Cancellation  \n",
       "141 2010-12-01 09:41:00       27.50       14527  United Kingdom          True  \n",
       "154 2010-12-01 09:49:00        4.65       15311  United Kingdom          True  \n",
       "235 2010-12-01 10:24:00        1.65       17548  United Kingdom          True  \n",
       "236 2010-12-01 10:24:00        0.29       17548  United Kingdom          True  \n",
       "237 2010-12-01 10:24:00        0.29       17548  United Kingdom          True  "
      ]
     },
     "execution_count": 50,
     "metadata": {},
     "output_type": "execute_result"
    }
   ],
   "source": [
    "print(df.loc[df.Cancellation==True].shape)\n",
    "df.loc[df.Cancellation==True].head()"
   ]
  },
  {
   "cell_type": "code",
   "execution_count": 51,
   "metadata": {},
   "outputs": [
    {
     "name": "stdout",
     "output_type": "stream",
     "text": [
      "(526054, 9)\n"
     ]
    }
   ],
   "source": [
    "df = df.loc[df.Cancellation==False]\n",
    "print(df.shape)"
   ]
  },
  {
   "cell_type": "code",
   "execution_count": 52,
   "metadata": {},
   "outputs": [
    {
     "name": "stdout",
     "output_type": "stream",
     "text": [
      "(0, 9)\n"
     ]
    },
    {
     "data": {
      "text/html": [
       "<div>\n",
       "<style scoped>\n",
       "    .dataframe tbody tr th:only-of-type {\n",
       "        vertical-align: middle;\n",
       "    }\n",
       "\n",
       "    .dataframe tbody tr th {\n",
       "        vertical-align: top;\n",
       "    }\n",
       "\n",
       "    .dataframe thead th {\n",
       "        text-align: right;\n",
       "    }\n",
       "</style>\n",
       "<table border=\"1\" class=\"dataframe\">\n",
       "  <thead>\n",
       "    <tr style=\"text-align: right;\">\n",
       "      <th></th>\n",
       "      <th>Invoice_Number</th>\n",
       "      <th>Product_Code</th>\n",
       "      <th>Description</th>\n",
       "      <th>Quantity</th>\n",
       "      <th>Invoice_Date</th>\n",
       "      <th>Unit_Price</th>\n",
       "      <th>Customer_ID</th>\n",
       "      <th>Country</th>\n",
       "      <th>Cancellation</th>\n",
       "    </tr>\n",
       "  </thead>\n",
       "  <tbody>\n",
       "  </tbody>\n",
       "</table>\n",
       "</div>"
      ],
      "text/plain": [
       "Empty DataFrame\n",
       "Columns: [Invoice_Number, Product_Code, Description, Quantity, Invoice_Date, Unit_Price, Customer_ID, Country, Cancellation]\n",
       "Index: []"
      ]
     },
     "execution_count": 52,
     "metadata": {},
     "output_type": "execute_result"
    }
   ],
   "source": [
    "print(df.loc[df.Cancellation==True].shape)\n",
    "df.loc[df.Cancellation==True].head()"
   ]
  },
  {
   "cell_type": "markdown",
   "metadata": {},
   "source": [
    "### Univariate analysis Unit_Price\n",
    "1. Filter rows with negative units price as it does not convey right purchase order"
   ]
  },
  {
   "cell_type": "code",
   "execution_count": 53,
   "metadata": {},
   "outputs": [
    {
     "data": {
      "text/plain": [
       "count    526054.000000\n",
       "mean          3.871747\n",
       "std          42.016560\n",
       "min      -11062.060000\n",
       "25%           1.250000\n",
       "50%           2.080000\n",
       "75%           4.130000\n",
       "max       13541.330000\n",
       "Name: Unit_Price, dtype: float64"
      ]
     },
     "execution_count": 53,
     "metadata": {},
     "output_type": "execute_result"
    }
   ],
   "source": [
    "df.Unit_Price.describe()"
   ]
  },
  {
   "cell_type": "code",
   "execution_count": 54,
   "metadata": {},
   "outputs": [
    {
     "name": "stdout",
     "output_type": "stream",
     "text": [
      "(524878, 9)\n"
     ]
    }
   ],
   "source": [
    "df =df.loc[df.Unit_Price>0]\n",
    "print(df.shape)"
   ]
  },
  {
   "cell_type": "markdown",
   "metadata": {},
   "source": [
    "### Imputing missing product description: \n",
    "1. With multi product description replace product description with the most the occurrence description\n",
    "2. Impute missing description for remaining blank product description"
   ]
  },
  {
   "cell_type": "code",
   "execution_count": 55,
   "metadata": {},
   "outputs": [
    {
     "data": {
      "text/plain": [
       "0"
      ]
     },
     "execution_count": 55,
     "metadata": {},
     "output_type": "execute_result"
    }
   ],
   "source": [
    "df.Description.isna().sum()"
   ]
  },
  {
   "cell_type": "code",
   "execution_count": 56,
   "metadata": {
    "scrolled": true
   },
   "outputs": [
    {
     "data": {
      "text/plain": [
       "Product_Code\n",
       "23236     4\n",
       "23196     4\n",
       "17107D    3\n",
       "22776     3\n",
       "23366     3\n",
       "         ..\n",
       "46776B    1\n",
       "46776A    1\n",
       "46775D    1\n",
       "46138B    1\n",
       "10002     1\n",
       "Name: Description, Length: 3922, dtype: int64"
      ]
     },
     "execution_count": 56,
     "metadata": {},
     "output_type": "execute_result"
    }
   ],
   "source": [
    "df.groupby(['Product_Code'])['Description'].nunique().sort_values(ascending=False)"
   ]
  },
  {
   "cell_type": "code",
   "execution_count": 57,
   "metadata": {},
   "outputs": [
    {
     "data": {
      "text/html": [
       "<div>\n",
       "<style scoped>\n",
       "    .dataframe tbody tr th:only-of-type {\n",
       "        vertical-align: middle;\n",
       "    }\n",
       "\n",
       "    .dataframe tbody tr th {\n",
       "        vertical-align: top;\n",
       "    }\n",
       "\n",
       "    .dataframe thead th {\n",
       "        text-align: right;\n",
       "    }\n",
       "</style>\n",
       "<table border=\"1\" class=\"dataframe\">\n",
       "  <thead>\n",
       "    <tr style=\"text-align: right;\">\n",
       "      <th></th>\n",
       "      <th>Product_Code</th>\n",
       "      <th>Description</th>\n",
       "    </tr>\n",
       "  </thead>\n",
       "  <tbody>\n",
       "    <tr>\n",
       "      <th>4160</th>\n",
       "      <td>m</td>\n",
       "      <td>Manual</td>\n",
       "    </tr>\n",
       "    <tr>\n",
       "      <th>4159</th>\n",
       "      <td>gift_0001_50</td>\n",
       "      <td>Dotcomgiftshop Gift Voucher £50.00</td>\n",
       "    </tr>\n",
       "    <tr>\n",
       "      <th>4158</th>\n",
       "      <td>gift_0001_40</td>\n",
       "      <td>Dotcomgiftshop Gift Voucher £40.00</td>\n",
       "    </tr>\n",
       "    <tr>\n",
       "      <th>4157</th>\n",
       "      <td>gift_0001_30</td>\n",
       "      <td>Dotcomgiftshop Gift Voucher £30.00</td>\n",
       "    </tr>\n",
       "    <tr>\n",
       "      <th>4156</th>\n",
       "      <td>gift_0001_20</td>\n",
       "      <td>Dotcomgiftshop Gift Voucher £20.00</td>\n",
       "    </tr>\n",
       "  </tbody>\n",
       "</table>\n",
       "</div>"
      ],
      "text/plain": [
       "      Product_Code                         Description\n",
       "4160             m                              Manual\n",
       "4159  gift_0001_50  Dotcomgiftshop Gift Voucher £50.00\n",
       "4158  gift_0001_40  Dotcomgiftshop Gift Voucher £40.00\n",
       "4157  gift_0001_30  Dotcomgiftshop Gift Voucher £30.00\n",
       "4156  gift_0001_20  Dotcomgiftshop Gift Voucher £20.00"
      ]
     },
     "execution_count": 57,
     "metadata": {},
     "output_type": "execute_result"
    }
   ],
   "source": [
    "product_desc_mapping_df = pd.DataFrame(df.groupby(['Product_Code', 'Description'])['Invoice_Number'].nunique().reset_index()).sort_values(['Product_Code', 'Invoice_Number'], ascending=False).groupby('Product_Code').head(1).drop('Invoice_Number', axis=1)\n",
    "product_desc_mapping_df.head()"
   ]
  },
  {
   "cell_type": "code",
   "execution_count": 58,
   "metadata": {},
   "outputs": [],
   "source": [
    "df = pd.merge(df.drop('Description', axis=1), product_desc_mapping_df, how='outer')\n",
    "df.loc[df.Description.isna(), 'Description'] = 'missing_description'"
   ]
  },
  {
   "cell_type": "code",
   "execution_count": 59,
   "metadata": {},
   "outputs": [
    {
     "data": {
      "text/plain": [
       "0"
      ]
     },
     "execution_count": 59,
     "metadata": {},
     "output_type": "execute_result"
    }
   ],
   "source": [
    "df.Description.isna().sum()"
   ]
  },
  {
   "cell_type": "code",
   "execution_count": 60,
   "metadata": {},
   "outputs": [
    {
     "data": {
      "text/plain": [
       "Product_Code\n",
       "m         1\n",
       "22429     1\n",
       "22427     1\n",
       "22426     1\n",
       "22425     1\n",
       "         ..\n",
       "44228     1\n",
       "44092C    1\n",
       "44092B    1\n",
       "44091A    1\n",
       "10002     1\n",
       "Name: Description, Length: 3922, dtype: int64"
      ]
     },
     "execution_count": 60,
     "metadata": {},
     "output_type": "execute_result"
    }
   ],
   "source": [
    "df.groupby(['Product_Code'])['Description'].nunique().sort_values(ascending=False)"
   ]
  },
  {
   "cell_type": "markdown",
   "metadata": {},
   "source": [
    "## Imputing missing Customer_ID:\n",
    "1. Checks to find if missing Customer_ID can be found with any matching invoice number.\n",
    "2. Check if any particular country exhibits missing Customer_ID.\n",
    "3. Impute missing customer id as unique customer as per their available transaction id"
   ]
  },
  {
   "cell_type": "code",
   "execution_count": 61,
   "metadata": {},
   "outputs": [
    {
     "data": {
      "text/plain": [
       "<StringArray>\n",
       "[<NA>]\n",
       "Length: 1, dtype: string"
      ]
     },
     "execution_count": 61,
     "metadata": {},
     "output_type": "execute_result"
    }
   ],
   "source": [
    "df.loc[df.Invoice_Number.isin(df.loc[df.Customer_ID.isna(), 'Invoice_Number'].unique())].Customer_ID.unique()"
   ]
  },
  {
   "cell_type": "code",
   "execution_count": 62,
   "metadata": {},
   "outputs": [
    {
     "data": {
      "text/plain": [
       "United Kingdom          0.914470\n",
       "Germany                 0.017194\n",
       "France                  0.015988\n",
       "EIRE                    0.015011\n",
       "Spain                   0.004723\n",
       "Netherlands             0.004494\n",
       "Belgium                 0.003869\n",
       "Switzerland             0.003730\n",
       "Portugal                0.002843\n",
       "Australia               0.002250\n",
       "Norway                  0.002040\n",
       "Italy                   0.001444\n",
       "Channel Islands         0.001423\n",
       "Finland                 0.001305\n",
       "Cyprus                  0.001149\n",
       "Sweden                  0.000857\n",
       "Unspecified             0.000842\n",
       "Austria                 0.000758\n",
       "Denmark                 0.000724\n",
       "Poland                  0.000629\n",
       "Japan                   0.000612\n",
       "Israel                  0.000556\n",
       "Hong Kong               0.000533\n",
       "Singapore               0.000423\n",
       "Iceland                 0.000347\n",
       "USA                     0.000341\n",
       "Canada                  0.000288\n",
       "Greece                  0.000276\n",
       "Malta                   0.000213\n",
       "United Arab Emirates    0.000130\n",
       "European Community      0.000114\n",
       "RSA                     0.000109\n",
       "Lebanon                 0.000086\n",
       "Lithuania               0.000067\n",
       "Brazil                  0.000061\n",
       "Czech Republic          0.000048\n",
       "Bahrain                 0.000034\n",
       "Saudi Arabia            0.000017\n",
       "Name: Country, dtype: float64"
      ]
     },
     "execution_count": 62,
     "metadata": {},
     "output_type": "execute_result"
    }
   ],
   "source": [
    "df.Country.value_counts()/len(df)"
   ]
  },
  {
   "cell_type": "code",
   "execution_count": 63,
   "metadata": {},
   "outputs": [
    {
     "data": {
      "text/plain": [
       "United Kingdom    0.249166\n",
       "EIRE              0.001244\n",
       "Hong Kong         0.000533\n",
       "Unspecified       0.000383\n",
       "Switzerland       0.000223\n",
       "France            0.000126\n",
       "Israel            0.000090\n",
       "Portugal          0.000074\n",
       "Bahrain           0.000002\n",
       "Name: Country, dtype: float64"
      ]
     },
     "execution_count": 63,
     "metadata": {},
     "output_type": "execute_result"
    }
   ],
   "source": [
    "df.loc[df.Customer_ID.isna(), 'Country'].value_counts()/len(df.Customer_ID.isna())"
   ]
  },
  {
   "cell_type": "code",
   "execution_count": 64,
   "metadata": {},
   "outputs": [
    {
     "data": {
      "text/html": [
       "<div>\n",
       "<style scoped>\n",
       "    .dataframe tbody tr th:only-of-type {\n",
       "        vertical-align: middle;\n",
       "    }\n",
       "\n",
       "    .dataframe tbody tr th {\n",
       "        vertical-align: top;\n",
       "    }\n",
       "\n",
       "    .dataframe thead th {\n",
       "        text-align: right;\n",
       "    }\n",
       "</style>\n",
       "<table border=\"1\" class=\"dataframe\">\n",
       "  <thead>\n",
       "    <tr style=\"text-align: right;\">\n",
       "      <th></th>\n",
       "      <th>Invoice_Number</th>\n",
       "      <th>Product_Code</th>\n",
       "      <th>Quantity</th>\n",
       "      <th>Invoice_Date</th>\n",
       "      <th>Unit_Price</th>\n",
       "      <th>Customer_ID</th>\n",
       "      <th>Country</th>\n",
       "      <th>Cancellation</th>\n",
       "      <th>Description</th>\n",
       "    </tr>\n",
       "  </thead>\n",
       "  <tbody>\n",
       "    <tr>\n",
       "      <th>142</th>\n",
       "      <td>538524</td>\n",
       "      <td>85123A</td>\n",
       "      <td>27</td>\n",
       "      <td>2010-12-13 09:35:00</td>\n",
       "      <td>5.91</td>\n",
       "      <td>&lt;NA&gt;</td>\n",
       "      <td>United Kingdom</td>\n",
       "      <td>False</td>\n",
       "      <td>WHITE HANGING HEART T-LIGHT HOLDER</td>\n",
       "    </tr>\n",
       "    <tr>\n",
       "      <th>146</th>\n",
       "      <td>538566</td>\n",
       "      <td>85123A</td>\n",
       "      <td>7</td>\n",
       "      <td>2010-12-13 11:21:00</td>\n",
       "      <td>5.91</td>\n",
       "      <td>&lt;NA&gt;</td>\n",
       "      <td>United Kingdom</td>\n",
       "      <td>False</td>\n",
       "      <td>WHITE HANGING HEART T-LIGHT HOLDER</td>\n",
       "    </tr>\n",
       "    <tr>\n",
       "      <th>199</th>\n",
       "      <td>539434</td>\n",
       "      <td>85123A</td>\n",
       "      <td>4</td>\n",
       "      <td>2010-12-17 14:41:00</td>\n",
       "      <td>5.91</td>\n",
       "      <td>&lt;NA&gt;</td>\n",
       "      <td>United Kingdom</td>\n",
       "      <td>False</td>\n",
       "      <td>WHITE HANGING HEART T-LIGHT HOLDER</td>\n",
       "    </tr>\n",
       "    <tr>\n",
       "      <th>200</th>\n",
       "      <td>539436</td>\n",
       "      <td>85123A</td>\n",
       "      <td>9</td>\n",
       "      <td>2010-12-17 14:49:00</td>\n",
       "      <td>5.91</td>\n",
       "      <td>&lt;NA&gt;</td>\n",
       "      <td>United Kingdom</td>\n",
       "      <td>False</td>\n",
       "      <td>WHITE HANGING HEART T-LIGHT HOLDER</td>\n",
       "    </tr>\n",
       "  </tbody>\n",
       "</table>\n",
       "</div>"
      ],
      "text/plain": [
       "    Invoice_Number Product_Code  Quantity        Invoice_Date  Unit_Price  \\\n",
       "142         538524       85123A        27 2010-12-13 09:35:00        5.91   \n",
       "146         538566       85123A         7 2010-12-13 11:21:00        5.91   \n",
       "199         539434       85123A         4 2010-12-17 14:41:00        5.91   \n",
       "200         539436       85123A         9 2010-12-17 14:49:00        5.91   \n",
       "\n",
       "    Customer_ID         Country  Cancellation  \\\n",
       "142        <NA>  United Kingdom         False   \n",
       "146        <NA>  United Kingdom         False   \n",
       "199        <NA>  United Kingdom         False   \n",
       "200        <NA>  United Kingdom         False   \n",
       "\n",
       "                            Description  \n",
       "142  WHITE HANGING HEART T-LIGHT HOLDER  \n",
       "146  WHITE HANGING HEART T-LIGHT HOLDER  \n",
       "199  WHITE HANGING HEART T-LIGHT HOLDER  \n",
       "200  WHITE HANGING HEART T-LIGHT HOLDER  "
      ]
     },
     "execution_count": 64,
     "metadata": {},
     "output_type": "execute_result"
    }
   ],
   "source": [
    "df.loc[df.Customer_ID.isna() & df.Country.isin(['United Kingdom']), :].iloc[12:16, :]"
   ]
  },
  {
   "cell_type": "code",
   "execution_count": 65,
   "metadata": {},
   "outputs": [
    {
     "data": {
      "text/html": [
       "<div>\n",
       "<style scoped>\n",
       "    .dataframe tbody tr th:only-of-type {\n",
       "        vertical-align: middle;\n",
       "    }\n",
       "\n",
       "    .dataframe tbody tr th {\n",
       "        vertical-align: top;\n",
       "    }\n",
       "\n",
       "    .dataframe thead th {\n",
       "        text-align: right;\n",
       "    }\n",
       "</style>\n",
       "<table border=\"1\" class=\"dataframe\">\n",
       "  <thead>\n",
       "    <tr style=\"text-align: right;\">\n",
       "      <th></th>\n",
       "      <th>Invoice_Number</th>\n",
       "      <th>Product_Code</th>\n",
       "      <th>Quantity</th>\n",
       "      <th>Invoice_Date</th>\n",
       "      <th>Unit_Price</th>\n",
       "      <th>Customer_ID</th>\n",
       "      <th>Country</th>\n",
       "      <th>Cancellation</th>\n",
       "      <th>Description</th>\n",
       "    </tr>\n",
       "  </thead>\n",
       "  <tbody>\n",
       "    <tr>\n",
       "      <th>12</th>\n",
       "      <td>536575</td>\n",
       "      <td>85123A</td>\n",
       "      <td>128</td>\n",
       "      <td>2010-12-01 16:01:00</td>\n",
       "      <td>2.55</td>\n",
       "      <td>13777</td>\n",
       "      <td>United Kingdom</td>\n",
       "      <td>False</td>\n",
       "      <td>WHITE HANGING HEART T-LIGHT HOLDER</td>\n",
       "    </tr>\n",
       "    <tr>\n",
       "      <th>13</th>\n",
       "      <td>536576</td>\n",
       "      <td>85123A</td>\n",
       "      <td>128</td>\n",
       "      <td>2010-12-01 16:11:00</td>\n",
       "      <td>2.55</td>\n",
       "      <td>13777</td>\n",
       "      <td>United Kingdom</td>\n",
       "      <td>False</td>\n",
       "      <td>WHITE HANGING HEART T-LIGHT HOLDER</td>\n",
       "    </tr>\n",
       "    <tr>\n",
       "      <th>14</th>\n",
       "      <td>536590</td>\n",
       "      <td>85123A</td>\n",
       "      <td>6</td>\n",
       "      <td>2010-12-01 16:52:00</td>\n",
       "      <td>2.95</td>\n",
       "      <td>13065</td>\n",
       "      <td>United Kingdom</td>\n",
       "      <td>False</td>\n",
       "      <td>WHITE HANGING HEART T-LIGHT HOLDER</td>\n",
       "    </tr>\n",
       "    <tr>\n",
       "      <th>15</th>\n",
       "      <td>536592</td>\n",
       "      <td>85123A</td>\n",
       "      <td>9</td>\n",
       "      <td>2010-12-01 17:06:00</td>\n",
       "      <td>5.91</td>\n",
       "      <td>missing_cust_id_536592</td>\n",
       "      <td>United Kingdom</td>\n",
       "      <td>False</td>\n",
       "      <td>WHITE HANGING HEART T-LIGHT HOLDER</td>\n",
       "    </tr>\n",
       "  </tbody>\n",
       "</table>\n",
       "</div>"
      ],
      "text/plain": [
       "   Invoice_Number Product_Code  Quantity        Invoice_Date  Unit_Price  \\\n",
       "12         536575       85123A       128 2010-12-01 16:01:00        2.55   \n",
       "13         536576       85123A       128 2010-12-01 16:11:00        2.55   \n",
       "14         536590       85123A         6 2010-12-01 16:52:00        2.95   \n",
       "15         536592       85123A         9 2010-12-01 17:06:00        5.91   \n",
       "\n",
       "               Customer_ID         Country  Cancellation  \\\n",
       "12                   13777  United Kingdom         False   \n",
       "13                   13777  United Kingdom         False   \n",
       "14                   13065  United Kingdom         False   \n",
       "15  missing_cust_id_536592  United Kingdom         False   \n",
       "\n",
       "                           Description  \n",
       "12  WHITE HANGING HEART T-LIGHT HOLDER  \n",
       "13  WHITE HANGING HEART T-LIGHT HOLDER  \n",
       "14  WHITE HANGING HEART T-LIGHT HOLDER  \n",
       "15  WHITE HANGING HEART T-LIGHT HOLDER  "
      ]
     },
     "execution_count": 65,
     "metadata": {},
     "output_type": "execute_result"
    }
   ],
   "source": [
    "df.loc[df.Customer_ID.isna(), 'Customer_ID'] = 'missing_cust_id_'+df.loc[df.Customer_ID.isna(), 'Invoice_Number']\n",
    "df.iloc[12:16, :]"
   ]
  },
  {
   "cell_type": "markdown",
   "metadata": {},
   "source": [
    "### Customer segmmentation with total units price and number of units purchased with K-means"
   ]
  },
  {
   "cell_type": "code",
   "execution_count": 66,
   "metadata": {},
   "outputs": [
    {
     "name": "stdout",
     "output_type": "stream",
     "text": [
      "(5766, 3)\n"
     ]
    },
    {
     "data": {
      "text/html": [
       "<div>\n",
       "<style scoped>\n",
       "    .dataframe tbody tr th:only-of-type {\n",
       "        vertical-align: middle;\n",
       "    }\n",
       "\n",
       "    .dataframe tbody tr th {\n",
       "        vertical-align: top;\n",
       "    }\n",
       "\n",
       "    .dataframe thead th {\n",
       "        text-align: right;\n",
       "    }\n",
       "</style>\n",
       "<table border=\"1\" class=\"dataframe\">\n",
       "  <thead>\n",
       "    <tr style=\"text-align: right;\">\n",
       "      <th></th>\n",
       "      <th>Customer_ID</th>\n",
       "      <th>Quantity</th>\n",
       "      <th>Unit_Price</th>\n",
       "    </tr>\n",
       "  </thead>\n",
       "  <tbody>\n",
       "    <tr>\n",
       "      <th>0</th>\n",
       "      <td>12346</td>\n",
       "      <td>74215</td>\n",
       "      <td>1.04</td>\n",
       "    </tr>\n",
       "    <tr>\n",
       "      <th>1</th>\n",
       "      <td>12347</td>\n",
       "      <td>2458</td>\n",
       "      <td>481.21</td>\n",
       "    </tr>\n",
       "    <tr>\n",
       "      <th>2</th>\n",
       "      <td>12348</td>\n",
       "      <td>2341</td>\n",
       "      <td>178.71</td>\n",
       "    </tr>\n",
       "    <tr>\n",
       "      <th>3</th>\n",
       "      <td>12349</td>\n",
       "      <td>631</td>\n",
       "      <td>605.10</td>\n",
       "    </tr>\n",
       "    <tr>\n",
       "      <th>4</th>\n",
       "      <td>12350</td>\n",
       "      <td>197</td>\n",
       "      <td>65.30</td>\n",
       "    </tr>\n",
       "  </tbody>\n",
       "</table>\n",
       "</div>"
      ],
      "text/plain": [
       "  Customer_ID  Quantity  Unit_Price\n",
       "0       12346     74215        1.04\n",
       "1       12347      2458      481.21\n",
       "2       12348      2341      178.71\n",
       "3       12349       631      605.10\n",
       "4       12350       197       65.30"
      ]
     },
     "metadata": {},
     "output_type": "display_data"
    }
   ],
   "source": [
    "df_cluster = df.groupby(['Customer_ID']).agg({'Quantity':sum, 'Unit_Price': sum}).reset_index()\n",
    "print(df_cluster.shape)\n",
    "display(df_cluster.head())"
   ]
  },
  {
   "cell_type": "code",
   "execution_count": 67,
   "metadata": {},
   "outputs": [
    {
     "data": {
      "image/png": "[encoded data removed]",
      "text/plain": [
       "<Figure size 432x288 with 1 Axes>"
      ]
     },
     "metadata": {
      "needs_background": "light"
     },
     "output_type": "display_data"
    }
   ],
   "source": [
    "X = df_cluster.loc[:, ['Quantity', 'Unit_Price']].values\n",
    "X = StandardScaler().fit_transform(X)\n",
    "with_in_cluster_sum_squares_list = [] \n",
    "\n",
    "for i in range(1,11): #From 2-10 doing multiple random initializations can make a huge difference to find a better local optima\n",
    "    kmeans = KMeans(n_clusters = i, init ='k-means++',max_iter=300,n_init=10)\n",
    "    kmeans.fit(X)\n",
    "    with_in_cluster_sum_squares_list.append(kmeans.inertia_)\n",
    "\n",
    "sns.lineplot(x=range(1,11), y= with_in_cluster_sum_squares_list)\n",
    "plt.title('The Elbow Method')\n",
    "plt.xlabel('Number Of Customer Clusters(customer type clusters)')\n",
    "plt.ylabel('With in cluster sum of squers(WCSS)')\n",
    "plt.show()"
   ]
  },
  {
   "cell_type": "code",
   "execution_count": 69,
   "metadata": {
    "scrolled": true
   },
   "outputs": [
    {
     "name": "stderr",
     "output_type": "stream",
     "text": [
      "c:\\users\\srikant panda\\appdata\\local\\programs\\python\\python37\\lib\\site-packages\\seaborn\\axisgrid.py:243: UserWarning: The `size` parameter has been renamed to `height`; please update your code.\n",
      "  warnings.warn(msg, UserWarning)\n"
     ]
    },
    {
     "data": {
      "image/png": "[encoded data removed]",
      "text/plain": [
       "<Figure size 513.875x432 with 1 Axes>"
      ]
     },
     "metadata": {
      "needs_background": "light"
     },
     "output_type": "display_data"
    }
   ],
   "source": [
    "kmeans = KMeans(n_clusters = 4, init = 'k-means++')\n",
    "\n",
    "df_cluster_pred = pd.DataFrame(X, columns=['Quantity', 'Unit_Price'])\n",
    "df_cluster_pred.loc[:, 'Cust_Seg_Type'] = kmeans.fit_predict(X)\n",
    "\n",
    "g = sns.FacetGrid(df_cluster_pred, hue=\"Cust_Seg_Type\",size=6, aspect=1)\n",
    "g.map(plt.scatter, \"Quantity\", \"Unit_Price\", alpha=.5)\n",
    "g.add_legend()\n",
    "plt.show()"
   ]
  },
  {
   "cell_type": "markdown",
   "metadata": {},
   "source": [
    "### Using RMF Analysis"
   ]
  },
  {
   "cell_type": "code",
   "execution_count": 73,
   "metadata": {},
   "outputs": [],
   "source": [
    "#function for ordering cluster numbers\n",
    "def order_cluster(cluster_field_name, target_field_name,df,ascending):\n",
    "    new_cluster_field_name = 'new_' + cluster_field_name\n",
    "    df_new = df.groupby(cluster_field_name)[target_field_name].mean().reset_index()\n",
    "    df_new = df_new.sort_values(by=target_field_name,ascending=ascending).reset_index(drop=True)\n",
    "    df_new['index'] = df_new.index\n",
    "    df_final = pd.merge(df,df_new[[cluster_field_name,'index']], on=cluster_field_name)\n",
    "    df_final = df_final.drop([cluster_field_name],axis=1)\n",
    "    df_final = df_final.rename(columns={\"index\":cluster_field_name})\n",
    "    return df_final"
   ]
  },
  {
   "cell_type": "code",
   "execution_count": 74,
   "metadata": {},
   "outputs": [
    {
     "data": {
      "text/html": [
       "<div>\n",
       "<style scoped>\n",
       "    .dataframe tbody tr th:only-of-type {\n",
       "        vertical-align: middle;\n",
       "    }\n",
       "\n",
       "    .dataframe tbody tr th {\n",
       "        vertical-align: top;\n",
       "    }\n",
       "\n",
       "    .dataframe thead th {\n",
       "        text-align: right;\n",
       "    }\n",
       "</style>\n",
       "<table border=\"1\" class=\"dataframe\">\n",
       "  <thead>\n",
       "    <tr style=\"text-align: right;\">\n",
       "      <th></th>\n",
       "      <th>Invoice_Number</th>\n",
       "      <th>Product_Code</th>\n",
       "      <th>Quantity</th>\n",
       "      <th>Invoice_Date</th>\n",
       "      <th>Unit_Price</th>\n",
       "      <th>Customer_ID</th>\n",
       "      <th>Country</th>\n",
       "      <th>Cancellation</th>\n",
       "      <th>Description</th>\n",
       "    </tr>\n",
       "  </thead>\n",
       "  <tbody>\n",
       "    <tr>\n",
       "      <th>0</th>\n",
       "      <td>536365</td>\n",
       "      <td>85123A</td>\n",
       "      <td>6</td>\n",
       "      <td>2010-12-01 08:26:00</td>\n",
       "      <td>2.55</td>\n",
       "      <td>17850</td>\n",
       "      <td>United Kingdom</td>\n",
       "      <td>False</td>\n",
       "      <td>WHITE HANGING HEART T-LIGHT HOLDER</td>\n",
       "    </tr>\n",
       "    <tr>\n",
       "      <th>1</th>\n",
       "      <td>536373</td>\n",
       "      <td>85123A</td>\n",
       "      <td>6</td>\n",
       "      <td>2010-12-01 09:02:00</td>\n",
       "      <td>2.55</td>\n",
       "      <td>17850</td>\n",
       "      <td>United Kingdom</td>\n",
       "      <td>False</td>\n",
       "      <td>WHITE HANGING HEART T-LIGHT HOLDER</td>\n",
       "    </tr>\n",
       "    <tr>\n",
       "      <th>2</th>\n",
       "      <td>536375</td>\n",
       "      <td>85123A</td>\n",
       "      <td>6</td>\n",
       "      <td>2010-12-01 09:32:00</td>\n",
       "      <td>2.55</td>\n",
       "      <td>17850</td>\n",
       "      <td>United Kingdom</td>\n",
       "      <td>False</td>\n",
       "      <td>WHITE HANGING HEART T-LIGHT HOLDER</td>\n",
       "    </tr>\n",
       "    <tr>\n",
       "      <th>3</th>\n",
       "      <td>536390</td>\n",
       "      <td>85123A</td>\n",
       "      <td>64</td>\n",
       "      <td>2010-12-01 10:19:00</td>\n",
       "      <td>2.55</td>\n",
       "      <td>17511</td>\n",
       "      <td>United Kingdom</td>\n",
       "      <td>False</td>\n",
       "      <td>WHITE HANGING HEART T-LIGHT HOLDER</td>\n",
       "    </tr>\n",
       "    <tr>\n",
       "      <th>4</th>\n",
       "      <td>536394</td>\n",
       "      <td>85123A</td>\n",
       "      <td>32</td>\n",
       "      <td>2010-12-01 10:39:00</td>\n",
       "      <td>2.55</td>\n",
       "      <td>13408</td>\n",
       "      <td>United Kingdom</td>\n",
       "      <td>False</td>\n",
       "      <td>WHITE HANGING HEART T-LIGHT HOLDER</td>\n",
       "    </tr>\n",
       "  </tbody>\n",
       "</table>\n",
       "</div>"
      ],
      "text/plain": [
       "  Invoice_Number Product_Code  Quantity        Invoice_Date  Unit_Price  \\\n",
       "0         536365       85123A         6 2010-12-01 08:26:00        2.55   \n",
       "1         536373       85123A         6 2010-12-01 09:02:00        2.55   \n",
       "2         536375       85123A         6 2010-12-01 09:32:00        2.55   \n",
       "3         536390       85123A        64 2010-12-01 10:19:00        2.55   \n",
       "4         536394       85123A        32 2010-12-01 10:39:00        2.55   \n",
       "\n",
       "  Customer_ID         Country  Cancellation  \\\n",
       "0       17850  United Kingdom         False   \n",
       "1       17850  United Kingdom         False   \n",
       "2       17850  United Kingdom         False   \n",
       "3       17511  United Kingdom         False   \n",
       "4       13408  United Kingdom         False   \n",
       "\n",
       "                          Description  \n",
       "0  WHITE HANGING HEART T-LIGHT HOLDER  \n",
       "1  WHITE HANGING HEART T-LIGHT HOLDER  \n",
       "2  WHITE HANGING HEART T-LIGHT HOLDER  \n",
       "3  WHITE HANGING HEART T-LIGHT HOLDER  \n",
       "4  WHITE HANGING HEART T-LIGHT HOLDER  "
      ]
     },
     "metadata": {},
     "output_type": "display_data"
    }
   ],
   "source": [
    "temp_df = df.copy()\n",
    "display(temp_df.head())"
   ]
  },
  {
   "cell_type": "markdown",
   "metadata": {},
   "source": [
    "#### Recency"
   ]
  },
  {
   "cell_type": "code",
   "execution_count": 97,
   "metadata": {},
   "outputs": [
    {
     "data": {
      "text/html": [
       "<div>\n",
       "<style scoped>\n",
       "    .dataframe tbody tr th:only-of-type {\n",
       "        vertical-align: middle;\n",
       "    }\n",
       "\n",
       "    .dataframe tbody tr th {\n",
       "        vertical-align: top;\n",
       "    }\n",
       "\n",
       "    .dataframe thead th {\n",
       "        text-align: right;\n",
       "    }\n",
       "</style>\n",
       "<table border=\"1\" class=\"dataframe\">\n",
       "  <thead>\n",
       "    <tr style=\"text-align: right;\">\n",
       "      <th></th>\n",
       "      <th>Customer_ID</th>\n",
       "      <th>Recency</th>\n",
       "    </tr>\n",
       "  </thead>\n",
       "  <tbody>\n",
       "    <tr>\n",
       "      <th>0</th>\n",
       "      <td>12346</td>\n",
       "      <td>325</td>\n",
       "    </tr>\n",
       "    <tr>\n",
       "      <th>1</th>\n",
       "      <td>12347</td>\n",
       "      <td>1</td>\n",
       "    </tr>\n",
       "    <tr>\n",
       "      <th>2</th>\n",
       "      <td>12348</td>\n",
       "      <td>74</td>\n",
       "    </tr>\n",
       "    <tr>\n",
       "      <th>3</th>\n",
       "      <td>12349</td>\n",
       "      <td>18</td>\n",
       "    </tr>\n",
       "    <tr>\n",
       "      <th>4</th>\n",
       "      <td>12350</td>\n",
       "      <td>309</td>\n",
       "    </tr>\n",
       "  </tbody>\n",
       "</table>\n",
       "</div>"
      ],
      "text/plain": [
       "  Customer_ID  Recency\n",
       "0       12346      325\n",
       "1       12347        1\n",
       "2       12348       74\n",
       "3       12349       18\n",
       "4       12350      309"
      ]
     },
     "execution_count": 97,
     "metadata": {},
     "output_type": "execute_result"
    }
   ],
   "source": [
    "df_recency = pd.DataFrame(temp_df.groupby(['Customer_ID'])['Invoice_Date'].max()).reset_index()\n",
    "df_recency['Recency'] = (temp_df.Invoice_Date.max()-df_recency['Invoice_Date']).dt.days\n",
    "df_recency = df_recency.drop('Invoice_Date', axis=1)\n",
    "df_recency.head()"
   ]
  },
  {
   "cell_type": "code",
   "execution_count": 98,
   "metadata": {},
   "outputs": [
    {
     "data": {
      "image/png": "[encoded data removed]",
      "text/plain": [
       "<Figure size 432x288 with 1 Axes>"
      ]
     },
     "metadata": {
      "needs_background": "light"
     },
     "output_type": "display_data"
    }
   ],
   "source": [
    "sns.distplot(df_recency.Recency)\n",
    "plt.show()"
   ]
  },
  {
   "cell_type": "code",
   "execution_count": 99,
   "metadata": {},
   "outputs": [
    {
     "data": {
      "image/png": "[encoded data removed]",
      "text/plain": [
       "<Figure size 432x288 with 1 Axes>"
      ]
     },
     "metadata": {
      "needs_background": "light"
     },
     "output_type": "display_data"
    }
   ],
   "source": [
    "with_in_cluster_sum_squares_list = [] \n",
    "\n",
    "for i in range(1,11): #From 2-10 doing multiple random initializations can make a huge difference to find a better local optima\n",
    "    kmeans = KMeans(n_clusters = i, init ='k-means++',max_iter=300,n_init=10)\n",
    "    kmeans.fit(StandardScaler().fit_transform(df_recency[['Recency']]))\n",
    "    with_in_cluster_sum_squares_list.append(kmeans.inertia_)\n",
    "\n",
    "sns.lineplot(x=range(1,11), y= with_in_cluster_sum_squares_list)\n",
    "plt.title('The Elbow Method')\n",
    "plt.xlabel('Recency type customer clusters)')\n",
    "plt.ylabel('With in cluster sum of squers(WCSS)')\n",
    "plt.show()"
   ]
  },
  {
   "cell_type": "code",
   "execution_count": 100,
   "metadata": {},
   "outputs": [
    {
     "name": "stdout",
     "output_type": "stream",
     "text": [
      "3\n"
     ]
    },
    {
     "data": {
      "text/html": [
       "<div>\n",
       "<style scoped>\n",
       "    .dataframe tbody tr th:only-of-type {\n",
       "        vertical-align: middle;\n",
       "    }\n",
       "\n",
       "    .dataframe tbody tr th {\n",
       "        vertical-align: top;\n",
       "    }\n",
       "\n",
       "    .dataframe thead th {\n",
       "        text-align: right;\n",
       "    }\n",
       "</style>\n",
       "<table border=\"1\" class=\"dataframe\">\n",
       "  <thead>\n",
       "    <tr style=\"text-align: right;\">\n",
       "      <th></th>\n",
       "      <th>Customer_ID</th>\n",
       "      <th>Recency</th>\n",
       "      <th>Recency_Cluster</th>\n",
       "    </tr>\n",
       "  </thead>\n",
       "  <tbody>\n",
       "    <tr>\n",
       "      <th>0</th>\n",
       "      <td>12346</td>\n",
       "      <td>325</td>\n",
       "      <td>0</td>\n",
       "    </tr>\n",
       "    <tr>\n",
       "      <th>1</th>\n",
       "      <td>12350</td>\n",
       "      <td>309</td>\n",
       "      <td>0</td>\n",
       "    </tr>\n",
       "    <tr>\n",
       "      <th>2</th>\n",
       "      <td>12361</td>\n",
       "      <td>286</td>\n",
       "      <td>0</td>\n",
       "    </tr>\n",
       "    <tr>\n",
       "      <th>3</th>\n",
       "      <td>12365</td>\n",
       "      <td>290</td>\n",
       "      <td>0</td>\n",
       "    </tr>\n",
       "    <tr>\n",
       "      <th>4</th>\n",
       "      <td>12373</td>\n",
       "      <td>310</td>\n",
       "      <td>0</td>\n",
       "    </tr>\n",
       "  </tbody>\n",
       "</table>\n",
       "</div>"
      ],
      "text/plain": [
       "  Customer_ID  Recency  Recency_Cluster\n",
       "0       12346      325                0\n",
       "1       12350      309                0\n",
       "2       12361      286                0\n",
       "3       12365      290                0\n",
       "4       12373      310                0"
      ]
     },
     "execution_count": 100,
     "metadata": {},
     "output_type": "execute_result"
    }
   ],
   "source": [
    "kmeans = KMeans(n_clusters = 3, init = 'k-means++')\n",
    "kmeans.fit(StandardScaler().fit_transform(df_recency[['Recency']]))\n",
    "df_recency['Recency_Cluster'] = kmeans.predict(StandardScaler().fit_transform(df_recency[['Recency']]))\n",
    "\n",
    "df_recency = order_cluster('Recency_Cluster', 'Recency', df_recency,False)\n",
    "print(df_recency.Recency_Cluster.nunique())\n",
    "df_recency.head()"
   ]
  },
  {
   "cell_type": "markdown",
   "metadata": {},
   "source": [
    "#### Frequency"
   ]
  },
  {
   "cell_type": "code",
   "execution_count": 101,
   "metadata": {},
   "outputs": [
    {
     "data": {
      "text/html": [
       "<div>\n",
       "<style scoped>\n",
       "    .dataframe tbody tr th:only-of-type {\n",
       "        vertical-align: middle;\n",
       "    }\n",
       "\n",
       "    .dataframe tbody tr th {\n",
       "        vertical-align: top;\n",
       "    }\n",
       "\n",
       "    .dataframe thead th {\n",
       "        text-align: right;\n",
       "    }\n",
       "</style>\n",
       "<table border=\"1\" class=\"dataframe\">\n",
       "  <thead>\n",
       "    <tr style=\"text-align: right;\">\n",
       "      <th></th>\n",
       "      <th>Customer_ID</th>\n",
       "      <th>Frequency</th>\n",
       "    </tr>\n",
       "  </thead>\n",
       "  <tbody>\n",
       "    <tr>\n",
       "      <th>0</th>\n",
       "      <td>12346</td>\n",
       "      <td>1</td>\n",
       "    </tr>\n",
       "    <tr>\n",
       "      <th>1</th>\n",
       "      <td>12347</td>\n",
       "      <td>7</td>\n",
       "    </tr>\n",
       "    <tr>\n",
       "      <th>2</th>\n",
       "      <td>12348</td>\n",
       "      <td>4</td>\n",
       "    </tr>\n",
       "    <tr>\n",
       "      <th>3</th>\n",
       "      <td>12349</td>\n",
       "      <td>1</td>\n",
       "    </tr>\n",
       "    <tr>\n",
       "      <th>4</th>\n",
       "      <td>12350</td>\n",
       "      <td>1</td>\n",
       "    </tr>\n",
       "  </tbody>\n",
       "</table>\n",
       "</div>"
      ],
      "text/plain": [
       "  Customer_ID  Frequency\n",
       "0       12346          1\n",
       "1       12347          7\n",
       "2       12348          4\n",
       "3       12349          1\n",
       "4       12350          1"
      ]
     },
     "execution_count": 101,
     "metadata": {},
     "output_type": "execute_result"
    }
   ],
   "source": [
    "df_frequency = pd.DataFrame(temp_df.groupby(['Customer_ID'])['Invoice_Number'].nunique()).reset_index().rename({'Invoice_Number':'Frequency'}, axis=1)\n",
    "df_frequency.head()"
   ]
  },
  {
   "cell_type": "code",
   "execution_count": 102,
   "metadata": {},
   "outputs": [
    {
     "data": {
      "image/png": "[encoded data removed]",
      "text/plain": [
       "<Figure size 432x288 with 1 Axes>"
      ]
     },
     "metadata": {
      "needs_background": "light"
     },
     "output_type": "display_data"
    }
   ],
   "source": [
    "sns.distplot(df_frequency.Frequency)\n",
    "plt.show()"
   ]
  },
  {
   "cell_type": "code",
   "execution_count": 103,
   "metadata": {},
   "outputs": [
    {
     "data": {
      "image/png": "[encoded data removed]",
      "text/plain": [
       "<Figure size 432x288 with 1 Axes>"
      ]
     },
     "metadata": {
      "needs_background": "light"
     },
     "output_type": "display_data"
    }
   ],
   "source": [
    "with_in_cluster_sum_squares_list = [] \n",
    "\n",
    "for i in range(1,11): #From 2-10 doing multiple random initializations can make a huge difference to find a better local optima\n",
    "    kmeans = KMeans(n_clusters = i, init ='k-means++',max_iter=300,n_init=10)\n",
    "    kmeans.fit(StandardScaler().fit_transform(df_frequency[['Frequency']]))\n",
    "    with_in_cluster_sum_squares_list.append(kmeans.inertia_)\n",
    "\n",
    "sns.lineplot(x=range(1,11), y= with_in_cluster_sum_squares_list)\n",
    "plt.title('The Elbow Method')\n",
    "plt.xlabel('Frequency type customer clusters)')\n",
    "plt.ylabel('With in cluster sum of squers(WCSS)')\n",
    "plt.show()"
   ]
  },
  {
   "cell_type": "code",
   "execution_count": 104,
   "metadata": {},
   "outputs": [
    {
     "name": "stdout",
     "output_type": "stream",
     "text": [
      "4\n"
     ]
    },
    {
     "data": {
      "text/html": [
       "<div>\n",
       "<style scoped>\n",
       "    .dataframe tbody tr th:only-of-type {\n",
       "        vertical-align: middle;\n",
       "    }\n",
       "\n",
       "    .dataframe tbody tr th {\n",
       "        vertical-align: top;\n",
       "    }\n",
       "\n",
       "    .dataframe thead th {\n",
       "        text-align: right;\n",
       "    }\n",
       "</style>\n",
       "<table border=\"1\" class=\"dataframe\">\n",
       "  <thead>\n",
       "    <tr style=\"text-align: right;\">\n",
       "      <th></th>\n",
       "      <th>Customer_ID</th>\n",
       "      <th>Frequency</th>\n",
       "      <th>Frequency_Cluster</th>\n",
       "    </tr>\n",
       "  </thead>\n",
       "  <tbody>\n",
       "    <tr>\n",
       "      <th>0</th>\n",
       "      <td>12346</td>\n",
       "      <td>1</td>\n",
       "      <td>3</td>\n",
       "    </tr>\n",
       "    <tr>\n",
       "      <th>1</th>\n",
       "      <td>12347</td>\n",
       "      <td>7</td>\n",
       "      <td>3</td>\n",
       "    </tr>\n",
       "    <tr>\n",
       "      <th>2</th>\n",
       "      <td>12348</td>\n",
       "      <td>4</td>\n",
       "      <td>3</td>\n",
       "    </tr>\n",
       "    <tr>\n",
       "      <th>3</th>\n",
       "      <td>12349</td>\n",
       "      <td>1</td>\n",
       "      <td>3</td>\n",
       "    </tr>\n",
       "    <tr>\n",
       "      <th>4</th>\n",
       "      <td>12350</td>\n",
       "      <td>1</td>\n",
       "      <td>3</td>\n",
       "    </tr>\n",
       "  </tbody>\n",
       "</table>\n",
       "</div>"
      ],
      "text/plain": [
       "  Customer_ID  Frequency  Frequency_Cluster\n",
       "0       12346          1                  3\n",
       "1       12347          7                  3\n",
       "2       12348          4                  3\n",
       "3       12349          1                  3\n",
       "4       12350          1                  3"
      ]
     },
     "execution_count": 104,
     "metadata": {},
     "output_type": "execute_result"
    }
   ],
   "source": [
    "kmeans = KMeans(n_clusters = 4, init = 'k-means++')\n",
    "kmeans.fit(StandardScaler().fit_transform(df_frequency[['Frequency']]))\n",
    "df_frequency['Frequency_Cluster'] = kmeans.predict(StandardScaler().fit_transform(df_frequency[['Frequency']]))\n",
    "\n",
    "df_frequency = order_cluster('Frequency_Cluster', 'Frequency', df_frequency,False)\n",
    "print(df_frequency.Frequency_Cluster.nunique())\n",
    "\n",
    "df_frequency.head()"
   ]
  },
  {
   "cell_type": "markdown",
   "metadata": {},
   "source": [
    "#### Revenue"
   ]
  },
  {
   "cell_type": "code",
   "execution_count": 105,
   "metadata": {},
   "outputs": [
    {
     "data": {
      "text/html": [
       "<div>\n",
       "<style scoped>\n",
       "    .dataframe tbody tr th:only-of-type {\n",
       "        vertical-align: middle;\n",
       "    }\n",
       "\n",
       "    .dataframe tbody tr th {\n",
       "        vertical-align: top;\n",
       "    }\n",
       "\n",
       "    .dataframe thead th {\n",
       "        text-align: right;\n",
       "    }\n",
       "</style>\n",
       "<table border=\"1\" class=\"dataframe\">\n",
       "  <thead>\n",
       "    <tr style=\"text-align: right;\">\n",
       "      <th></th>\n",
       "      <th>Customer_ID</th>\n",
       "      <th>Revenue</th>\n",
       "    </tr>\n",
       "  </thead>\n",
       "  <tbody>\n",
       "    <tr>\n",
       "      <th>0</th>\n",
       "      <td>12346</td>\n",
       "      <td>77183.60</td>\n",
       "    </tr>\n",
       "    <tr>\n",
       "      <th>1</th>\n",
       "      <td>12347</td>\n",
       "      <td>4310.00</td>\n",
       "    </tr>\n",
       "    <tr>\n",
       "      <th>2</th>\n",
       "      <td>12348</td>\n",
       "      <td>1797.24</td>\n",
       "    </tr>\n",
       "    <tr>\n",
       "      <th>3</th>\n",
       "      <td>12349</td>\n",
       "      <td>1757.55</td>\n",
       "    </tr>\n",
       "    <tr>\n",
       "      <th>4</th>\n",
       "      <td>12350</td>\n",
       "      <td>334.40</td>\n",
       "    </tr>\n",
       "  </tbody>\n",
       "</table>\n",
       "</div>"
      ],
      "text/plain": [
       "  Customer_ID   Revenue\n",
       "0       12346  77183.60\n",
       "1       12347   4310.00\n",
       "2       12348   1797.24\n",
       "3       12349   1757.55\n",
       "4       12350    334.40"
      ]
     },
     "execution_count": 105,
     "metadata": {},
     "output_type": "execute_result"
    }
   ],
   "source": [
    "temp_df['Total_Spent'] = temp_df.Quantity*temp_df.Unit_Price\n",
    "df_revenue = pd.DataFrame(temp_df.groupby(['Customer_ID'])['Total_Spent'].sum()).reset_index().rename({'Total_Spent':'Revenue'}, axis=1)\n",
    "df_revenue.head()"
   ]
  },
  {
   "cell_type": "code",
   "execution_count": 106,
   "metadata": {},
   "outputs": [
    {
     "data": {
      "image/png": "[encoded data removed]",
      "text/plain": [
       "<Figure size 432x288 with 1 Axes>"
      ]
     },
     "metadata": {
      "needs_background": "light"
     },
     "output_type": "display_data"
    }
   ],
   "source": [
    "sns.distplot(df_revenue.Revenue)\n",
    "plt.show()"
   ]
  },
  {
   "cell_type": "code",
   "execution_count": 107,
   "metadata": {},
   "outputs": [
    {
     "data": {
      "image/png": "[encoded data removed]",
      "text/plain": [
       "<Figure size 432x288 with 1 Axes>"
      ]
     },
     "metadata": {
      "needs_background": "light"
     },
     "output_type": "display_data"
    }
   ],
   "source": [
    "with_in_cluster_sum_squares_list = [] \n",
    "\n",
    "for i in range(1,11): #From 2-10 doing multiple random initializations can make a huge difference to find a better local optima\n",
    "    kmeans = KMeans(n_clusters = i, init ='k-means++',max_iter=300,n_init=10)\n",
    "    kmeans.fit(StandardScaler().fit_transform(df_revenue[['Revenue']]))\n",
    "    with_in_cluster_sum_squares_list.append(kmeans.inertia_)\n",
    "\n",
    "sns.lineplot(x=range(1,11), y= with_in_cluster_sum_squares_list)\n",
    "plt.title('The Elbow Method')\n",
    "plt.xlabel('Revenue type customer clusters)')\n",
    "plt.ylabel('With in cluster sum of squers(WCSS)')\n",
    "plt.show()"
   ]
  },
  {
   "cell_type": "code",
   "execution_count": 108,
   "metadata": {},
   "outputs": [
    {
     "name": "stdout",
     "output_type": "stream",
     "text": [
      "3\n"
     ]
    },
    {
     "data": {
      "text/html": [
       "<div>\n",
       "<style scoped>\n",
       "    .dataframe tbody tr th:only-of-type {\n",
       "        vertical-align: middle;\n",
       "    }\n",
       "\n",
       "    .dataframe tbody tr th {\n",
       "        vertical-align: top;\n",
       "    }\n",
       "\n",
       "    .dataframe thead th {\n",
       "        text-align: right;\n",
       "    }\n",
       "</style>\n",
       "<table border=\"1\" class=\"dataframe\">\n",
       "  <thead>\n",
       "    <tr style=\"text-align: right;\">\n",
       "      <th></th>\n",
       "      <th>Customer_ID</th>\n",
       "      <th>Revenue</th>\n",
       "      <th>Revenue_Cluster</th>\n",
       "    </tr>\n",
       "  </thead>\n",
       "  <tbody>\n",
       "    <tr>\n",
       "      <th>0</th>\n",
       "      <td>12346</td>\n",
       "      <td>77183.60</td>\n",
       "      <td>1</td>\n",
       "    </tr>\n",
       "    <tr>\n",
       "      <th>1</th>\n",
       "      <td>12415</td>\n",
       "      <td>124914.53</td>\n",
       "      <td>1</td>\n",
       "    </tr>\n",
       "    <tr>\n",
       "      <th>2</th>\n",
       "      <td>12748</td>\n",
       "      <td>33053.19</td>\n",
       "      <td>1</td>\n",
       "    </tr>\n",
       "    <tr>\n",
       "      <th>3</th>\n",
       "      <td>12931</td>\n",
       "      <td>42055.96</td>\n",
       "      <td>1</td>\n",
       "    </tr>\n",
       "    <tr>\n",
       "      <th>4</th>\n",
       "      <td>13081</td>\n",
       "      <td>28337.38</td>\n",
       "      <td>1</td>\n",
       "    </tr>\n",
       "  </tbody>\n",
       "</table>\n",
       "</div>"
      ],
      "text/plain": [
       "  Customer_ID    Revenue  Revenue_Cluster\n",
       "0       12346   77183.60                1\n",
       "1       12415  124914.53                1\n",
       "2       12748   33053.19                1\n",
       "3       12931   42055.96                1\n",
       "4       13081   28337.38                1"
      ]
     },
     "execution_count": 108,
     "metadata": {},
     "output_type": "execute_result"
    }
   ],
   "source": [
    "kmeans = KMeans(n_clusters = 3, init = 'k-means++')\n",
    "kmeans.fit(StandardScaler().fit_transform(df_revenue[['Revenue']]))\n",
    "df_revenue['Revenue_Cluster'] = kmeans.predict(StandardScaler().fit_transform(df_revenue[['Revenue']]))\n",
    "\n",
    "df_revenue = order_cluster('Revenue_Cluster', 'Revenue', df_revenue,False)\n",
    "print(df_revenue.Revenue_Cluster.nunique())\n",
    "\n",
    "df_revenue.head()"
   ]
  },
  {
   "cell_type": "code",
   "execution_count": 109,
   "metadata": {},
   "outputs": [
    {
     "data": {
      "text/html": [
       "<div>\n",
       "<style scoped>\n",
       "    .dataframe tbody tr th:only-of-type {\n",
       "        vertical-align: middle;\n",
       "    }\n",
       "\n",
       "    .dataframe tbody tr th {\n",
       "        vertical-align: top;\n",
       "    }\n",
       "\n",
       "    .dataframe thead th {\n",
       "        text-align: right;\n",
       "    }\n",
       "</style>\n",
       "<table border=\"1\" class=\"dataframe\">\n",
       "  <thead>\n",
       "    <tr style=\"text-align: right;\">\n",
       "      <th></th>\n",
       "      <th>Customer_ID</th>\n",
       "      <th>Recency</th>\n",
       "      <th>Recency_Cluster</th>\n",
       "      <th>Frequency</th>\n",
       "      <th>Frequency_Cluster</th>\n",
       "      <th>Revenue</th>\n",
       "      <th>Revenue_Cluster</th>\n",
       "    </tr>\n",
       "  </thead>\n",
       "  <tbody>\n",
       "    <tr>\n",
       "      <th>0</th>\n",
       "      <td>12346</td>\n",
       "      <td>325</td>\n",
       "      <td>0</td>\n",
       "      <td>1</td>\n",
       "      <td>3</td>\n",
       "      <td>77183.60</td>\n",
       "      <td>1</td>\n",
       "    </tr>\n",
       "    <tr>\n",
       "      <th>1</th>\n",
       "      <td>12350</td>\n",
       "      <td>309</td>\n",
       "      <td>0</td>\n",
       "      <td>1</td>\n",
       "      <td>3</td>\n",
       "      <td>334.40</td>\n",
       "      <td>2</td>\n",
       "    </tr>\n",
       "    <tr>\n",
       "      <th>2</th>\n",
       "      <td>12361</td>\n",
       "      <td>286</td>\n",
       "      <td>0</td>\n",
       "      <td>1</td>\n",
       "      <td>3</td>\n",
       "      <td>189.90</td>\n",
       "      <td>2</td>\n",
       "    </tr>\n",
       "    <tr>\n",
       "      <th>3</th>\n",
       "      <td>12365</td>\n",
       "      <td>290</td>\n",
       "      <td>0</td>\n",
       "      <td>2</td>\n",
       "      <td>3</td>\n",
       "      <td>641.38</td>\n",
       "      <td>2</td>\n",
       "    </tr>\n",
       "    <tr>\n",
       "      <th>4</th>\n",
       "      <td>12373</td>\n",
       "      <td>310</td>\n",
       "      <td>0</td>\n",
       "      <td>1</td>\n",
       "      <td>3</td>\n",
       "      <td>364.60</td>\n",
       "      <td>2</td>\n",
       "    </tr>\n",
       "  </tbody>\n",
       "</table>\n",
       "</div>"
      ],
      "text/plain": [
       "  Customer_ID  Recency  Recency_Cluster  Frequency  Frequency_Cluster  \\\n",
       "0       12346      325                0          1                  3   \n",
       "1       12350      309                0          1                  3   \n",
       "2       12361      286                0          1                  3   \n",
       "3       12365      290                0          2                  3   \n",
       "4       12373      310                0          1                  3   \n",
       "\n",
       "    Revenue  Revenue_Cluster  \n",
       "0  77183.60                1  \n",
       "1    334.40                2  \n",
       "2    189.90                2  \n",
       "3    641.38                2  \n",
       "4    364.60                2  "
      ]
     },
     "execution_count": 109,
     "metadata": {},
     "output_type": "execute_result"
    }
   ],
   "source": [
    "df_rfm = pd.DataFrame()\n",
    "for i in [df_recency, df_frequency, df_revenue]:\n",
    "    if df_rfm.shape[0]==0:\n",
    "        df_rfm = i\n",
    "    else:\n",
    "        df_rfm = pd.merge(df_rfm, i, on='Customer_ID')\n",
    "        \n",
    "df_rfm.head()"
   ]
  },
  {
   "cell_type": "code",
   "execution_count": 110,
   "metadata": {},
   "outputs": [
    {
     "name": "stderr",
     "output_type": "stream",
     "text": [
      "c:\\users\\srikant panda\\appdata\\local\\programs\\python\\python37\\lib\\site-packages\\ipykernel_launcher.py:2: FutureWarning: Indexing with multiple keys (implicitly converted to a tuple of keys) will be deprecated, use a list instead.\n",
      "  \n"
     ]
    },
    {
     "data": {
      "text/html": [
       "<div>\n",
       "<style scoped>\n",
       "    .dataframe tbody tr th:only-of-type {\n",
       "        vertical-align: middle;\n",
       "    }\n",
       "\n",
       "    .dataframe tbody tr th {\n",
       "        vertical-align: top;\n",
       "    }\n",
       "\n",
       "    .dataframe thead th {\n",
       "        text-align: right;\n",
       "    }\n",
       "</style>\n",
       "<table border=\"1\" class=\"dataframe\">\n",
       "  <thead>\n",
       "    <tr style=\"text-align: right;\">\n",
       "      <th></th>\n",
       "      <th>Recency</th>\n",
       "      <th>Frequency</th>\n",
       "      <th>Revenue</th>\n",
       "    </tr>\n",
       "    <tr>\n",
       "      <th>Overall_Score</th>\n",
       "      <th></th>\n",
       "      <th></th>\n",
       "      <th></th>\n",
       "    </tr>\n",
       "  </thead>\n",
       "  <tbody>\n",
       "    <tr>\n",
       "      <th>2</th>\n",
       "      <td>0.000000</td>\n",
       "      <td>201.000000</td>\n",
       "      <td>143711.170000</td>\n",
       "    </tr>\n",
       "    <tr>\n",
       "      <th>3</th>\n",
       "      <td>63.333333</td>\n",
       "      <td>91.000000</td>\n",
       "      <td>135536.391667</td>\n",
       "    </tr>\n",
       "    <tr>\n",
       "      <th>4</th>\n",
       "      <td>65.611111</td>\n",
       "      <td>44.166667</td>\n",
       "      <td>52235.445556</td>\n",
       "    </tr>\n",
       "    <tr>\n",
       "      <th>5</th>\n",
       "      <td>290.966415</td>\n",
       "      <td>2.215785</td>\n",
       "      <td>1642.458035</td>\n",
       "    </tr>\n",
       "    <tr>\n",
       "      <th>6</th>\n",
       "      <td>123.943375</td>\n",
       "      <td>4.652322</td>\n",
       "      <td>1945.309276</td>\n",
       "    </tr>\n",
       "    <tr>\n",
       "      <th>7</th>\n",
       "      <td>37.641164</td>\n",
       "      <td>2.716595</td>\n",
       "      <td>1204.511337</td>\n",
       "    </tr>\n",
       "  </tbody>\n",
       "</table>\n",
       "</div>"
      ],
      "text/plain": [
       "                  Recency   Frequency        Revenue\n",
       "Overall_Score                                       \n",
       "2                0.000000  201.000000  143711.170000\n",
       "3               63.333333   91.000000  135536.391667\n",
       "4               65.611111   44.166667   52235.445556\n",
       "5              290.966415    2.215785    1642.458035\n",
       "6              123.943375    4.652322    1945.309276\n",
       "7               37.641164    2.716595    1204.511337"
      ]
     },
     "execution_count": 110,
     "metadata": {},
     "output_type": "execute_result"
    }
   ],
   "source": [
    "df_rfm['Overall_Score'] = df_rfm['Recency_Cluster'] + df_rfm['Frequency_Cluster'] + df_rfm['Revenue_Cluster']\n",
    "df_rfm.groupby('Overall_Score')['Recency','Frequency','Revenue'].mean()"
   ]
  },
  {
   "cell_type": "code",
   "execution_count": 115,
   "metadata": {},
   "outputs": [],
   "source": [
    "df_rfm.loc[:,'Segment'] = 'High-Value'\n",
    "df_rfm.loc[df_rfm['Overall_Score']==4,'Segment'] = 'Mid-Value' \n",
    "df_rfm.loc[df_rfm['Overall_Score']>4,'Segment'] = 'Low-Value' "
   ]
  },
  {
   "cell_type": "code",
   "execution_count": 116,
   "metadata": {},
   "outputs": [
    {
     "data": {
      "image/png": "[encoded data removed]",
      "text/plain": [
       "<Figure size 720x432 with 1 Axes>"
      ]
     },
     "metadata": {
      "needs_background": "light"
     },
     "output_type": "display_data"
    }
   ],
   "source": [
    "plt.figure(figsize=(10,6))\n",
    "sns.scatterplot(x='Recency',y='Frequency',data=df_rfm,hue='Segment')\n",
    "plt.show()"
   ]
  },
  {
   "cell_type": "code",
   "execution_count": 119,
   "metadata": {},
   "outputs": [
    {
     "data": {
      "image/png": "[encoded data removed]",
      "text/plain": [
       "<Figure size 720x432 with 1 Axes>"
      ]
     },
     "metadata": {
      "needs_background": "light"
     },
     "output_type": "display_data"
    }
   ],
   "source": [
    "plt.figure(figsize=(10,6))\n",
    "sns.scatterplot(x='Recency',y='Revenue',data=df_rfm,hue='Segment')\n",
    "plt.show()"
   ]
  },
  {
   "cell_type": "code",
   "execution_count": 118,
   "metadata": {},
   "outputs": [
    {
     "data": {
      "image/png": "[encoded data removed]",
      "text/plain": [
       "<Figure size 720x432 with 1 Axes>"
      ]
     },
     "metadata": {
      "needs_background": "light"
     },
     "output_type": "display_data"
    }
   ],
   "source": [
    "plt.figure(figsize=(10,6))\n",
    "sns.scatterplot(x='Frequency',y='Revenue',data=df_rfm,hue='Segment')\n",
    "plt.show()"
   ]
  }
 ],
 "metadata": {
  "kernelspec": {
   "display_name": "Python 3",
   "language": "python",
   "name": "python3"
  },
  "language_info": {
   "codemirror_mode": {
    "name": "ipython",
    "version": 3
   },
   "file_extension": ".py",
   "mimetype": "text/x-python",
   "name": "python",
   "nbconvert_exporter": "python",
   "pygments_lexer": "ipython3",
   "version": "3.7.7"
  }
 },
 "nbformat": 4,
 "nbformat_minor": 4
}
